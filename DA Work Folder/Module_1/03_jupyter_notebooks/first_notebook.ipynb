{
 "cells": [
  {
   "cell_type": "markdown",
   "id": "98366df9-7e13-4ad5-87ea-5e28d077848d",
   "metadata": {},
   "source": [
    "# Header 1"
   ]
  },
  {
   "cell_type": "markdown",
   "id": "902c485f-efcb-48d8-a623-da9a7514c163",
   "metadata": {},
   "source": [
    "## Header 2"
   ]
  },
  {
   "cell_type": "markdown",
   "id": "5d4459a5-0d2d-4521-947c-c05f25f7b6f7",
   "metadata": {},
   "source": [
    "### This is our first notebook in Pepper Scatter.\n",
    "- We will cover the basics of Jupyter Notebook.\n",
    "- Later we will work on a ready Notebook."
   ]
  },
  {
   "cell_type": "code",
   "execution_count": 1,
   "id": "8d8becef-5074-484a-82fd-dce772ea464c",
   "metadata": {},
   "outputs": [
    {
     "name": "stdout",
     "output_type": "stream",
     "text": [
      "Hello World!\n"
     ]
    }
   ],
   "source": [
    "print(\"Hello World!\")"
   ]
  },
  {
   "cell_type": "code",
   "execution_count": 2,
   "id": "54408d9c-fac3-45af-81d8-c401b898a38c",
   "metadata": {},
   "outputs": [
    {
     "data": {
      "text/plain": [
       "3"
      ]
     },
     "execution_count": 2,
     "metadata": {},
     "output_type": "execute_result"
    }
   ],
   "source": [
    "1+2"
   ]
  },
  {
   "cell_type": "code",
   "execution_count": null,
   "id": "b37053c9-eaa4-4937-8acb-905300774189",
   "metadata": {},
   "outputs": [],
   "source": []
  }
 ],
 "metadata": {
  "kernelspec": {
   "display_name": "Python 3 (ipykernel)",
   "language": "python",
   "name": "python3"
  },
  "language_info": {
   "codemirror_mode": {
    "name": "ipython",
    "version": 3
   },
   "file_extension": ".py",
   "mimetype": "text/x-python",
   "name": "python",
   "nbconvert_exporter": "python",
   "pygments_lexer": "ipython3",
   "version": "3.12.4"
  }
 },
 "nbformat": 4,
 "nbformat_minor": 5
}
