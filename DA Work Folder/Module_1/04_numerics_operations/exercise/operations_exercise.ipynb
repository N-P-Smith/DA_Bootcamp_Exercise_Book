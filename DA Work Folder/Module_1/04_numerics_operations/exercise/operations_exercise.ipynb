{
 "cells": [
  {
   "cell_type": "markdown",
   "metadata": {},
   "source": [
    "## Check your understanding about types and operators! "
   ]
  },
  {
   "cell_type": "markdown",
   "metadata": {},
   "source": [
    "**Part 1**\n",
    "\n",
    "What do you think the results of the following computations will be?\n",
    "1. `19.0 - 11`\n",
    "2. `12 * 0.25`\n",
    "3. `12 ** 2`\n",
    "4. `(12 + 8) / 7`"
   ]
  },
  {
   "cell_type": "markdown",
   "metadata": {},
   "source": [
    "**Part 2**\n",
    "\n",
    "1. an addition that returns: 'hello all'\n",
    "2. a multiplication and addition that returns 'bye bye bye you all'\n",
    "3. a collection of operations that return: True\n",
    "4. a collection of operations that return: False\n",
    "5. a minimum of 3 operations that return: 8\n",
    "6. a minimum of 3 numeric operations that return: False\n",
    "7. a minimum of 3 string operations that return: True"
   ]
  }
 ],
 "metadata": {
  "kernelspec": {
   "display_name": "Python 3 (ipykernel)",
   "language": "python",
   "name": "python3"
  },
  "language_info": {
   "codemirror_mode": {
    "name": "ipython",
    "version": 3
   },
   "file_extension": ".py",
   "mimetype": "text/x-python",
   "name": "python",
   "nbconvert_exporter": "python",
   "pygments_lexer": "ipython3",
   "version": "3.11.5"
  }
 },
 "nbformat": 4,
 "nbformat_minor": 4
}
