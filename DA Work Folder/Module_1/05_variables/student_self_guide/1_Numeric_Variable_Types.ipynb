{
 "cells": [
  {
   "cell_type": "markdown",
   "metadata": {},
   "source": [
    "## Variables\n",
    "\n",
    "One of the most powerful constructs in programming is the ability to store arbitrary values in what we call variables. You can think of variable assignment as giving a name to something so that it can be accessed later by different parts of your program.\n",
    "\n",
    "As you may remember, variable assignment in Python occurs with the `=` operator. To assign a value to a variable name (i.e. declare it), you simply put the variable name on the left side of the `=` and the value you want to associate with that variable name on the right side. Once this has happened, you can access the value in the variable by using it's name somewhere later in your code or notebook."
   ]
  },
  {
   "cell_type": "code",
   "execution_count": null,
   "metadata": {
    "ExecuteTime": {
     "end_time": "2020-06-30T11:34:51.694614Z",
     "start_time": "2020-06-30T11:34:51.686456Z"
    }
   },
   "outputs": [],
   "source": [
    "a = 8\n",
    "b = \"Hello\""
   ]
  },
  {
   "cell_type": "code",
   "execution_count": null,
   "metadata": {
    "ExecuteTime": {
     "end_time": "2020-06-30T11:34:51.711513Z",
     "start_time": "2020-06-30T11:34:51.703416Z"
    }
   },
   "outputs": [],
   "source": [
    "b"
   ]
  },
  {
   "cell_type": "code",
   "execution_count": null,
   "metadata": {
    "ExecuteTime": {
     "end_time": "2020-06-30T11:34:51.723777Z",
     "start_time": "2020-06-30T11:34:51.714309Z"
    }
   },
   "outputs": [],
   "source": [
    "a - 4"
   ]
  },
  {
   "cell_type": "code",
   "execution_count": null,
   "metadata": {
    "ExecuteTime": {
     "end_time": "2020-06-30T11:34:51.736043Z",
     "start_time": "2020-06-30T11:34:51.726241Z"
    }
   },
   "outputs": [],
   "source": [
    "a * b"
   ]
  },
  {
   "cell_type": "markdown",
   "metadata": {},
   "source": [
    "The name you can give a variable can technically be any contiguous set of characters, but there are some conventions followed in Python and programming in general. Python follows a variable naming convention called snake case, which uses underscores `_` instead of spaces and only lower case letters (e.g. `my_first_variable`). Although `my_first_variable` would be in snake_case it is not a good variable name. In order to make your code more readable and maintainable you should always give your variables well-defined, succinct names. Calling something `height` is a lot more meaningful than only calling it `x`. \n",
    "\n",
    "There are of course cases where using less than descriptive variable names follows convention and are, therefore, just fine to use. A common example is the use of `i` to keep track of an index. Because of its prevalent usage for indexing, it is usually easy to understand what is happening in that context when all you see is the variable name `i`.\n",
    "\n",
    "In the cells above `a = 8` or `b = \"Hello\"` did not generate an output. This is because the return value that would have been printed as output was assigned to the variables `a` and `b`. To view the content of the variables we had to call them in the next lines.\n",
    "\n",
    "A large part of variables' power is the fact that they can change. This allows us to use a single variable name to keep track of a specific thing throughout the life of a program. \n",
    "Remember how we assigned the value `8` to `a` above? The exact same syntax can be used to change the value stored in the variable.\n",
    "Let's say we want to increase the value of a by 5:"
   ]
  },
  {
   "cell_type": "code",
   "execution_count": null,
   "metadata": {
    "ExecuteTime": {
     "end_time": "2020-06-30T11:34:51.753269Z",
     "start_time": "2020-06-30T11:34:51.738671Z"
    }
   },
   "outputs": [],
   "source": [
    "a = a + 5\n",
    "a"
   ]
  },
  {
   "cell_type": "markdown",
   "metadata": {},
   "source": [
    "Notice how the first line above is formatted. Python knows that the `=` means variable assignment, so when it sees the first line it evaluates the right side of the equals and then puts that value in `a`, even though `a` is part of the calculation on the right side. `a` is now connected with this new value and the old value is gone.\n",
    "\n",
    "Changing variables in this way occurs so commonly that there is built-in shorthand for it. The result of the first line could have been achieved with `a += 5`. This *syntactic sugar* is available for all the simple operations `+`, `-`, `*`, `/`, `**`, and `%` that we covered earlier."
   ]
  },
  {
   "cell_type": "code",
   "execution_count": 1,
   "metadata": {},
   "outputs": [
    {
     "name": "stdout",
     "output_type": "stream",
     "text": [
      "\n"
     ]
    }
   ],
   "source": [
    "val = input(\"Enter your value: \") \n",
    "print(val) "
   ]
  },
  {
   "cell_type": "code",
   "execution_count": null,
   "metadata": {},
   "outputs": [],
   "source": []
  }
 ],
 "metadata": {
  "interpreter": {
   "hash": "0e4771abb73651cc71498e03f3559c7e0f15f38d5124065b3832974a7bbffea7"
  },
  "kernelspec": {
   "display_name": "Python 3.10 (tensorflow)",
   "language": "python",
   "name": "tensorflow"
  },
  "language_info": {
   "codemirror_mode": {
    "name": "ipython",
    "version": 3
   },
   "file_extension": ".py",
   "mimetype": "text/x-python",
   "name": "python",
   "nbconvert_exporter": "python",
   "pygments_lexer": "ipython3",
   "version": "3.10.13"
  },
  "toc": {
   "base_numbering": 1,
   "nav_menu": {},
   "number_sections": true,
   "sideBar": true,
   "skip_h1_title": false,
   "title_cell": "Table of Contents",
   "title_sidebar": "Contents",
   "toc_cell": false,
   "toc_position": {},
   "toc_section_display": true,
   "toc_window_display": false
  },
  "varInspector": {
   "cols": {
    "lenName": 16,
    "lenType": 16,
    "lenVar": 40
   },
   "kernels_config": {
    "python": {
     "delete_cmd_postfix": "",
     "delete_cmd_prefix": "del ",
     "library": "var_list.py",
     "varRefreshCmd": "print(var_dic_list())"
    },
    "r": {
     "delete_cmd_postfix": ") ",
     "delete_cmd_prefix": "rm(",
     "library": "var_list.r",
     "varRefreshCmd": "cat(var_dic_list()) "
    }
   },
   "types_to_exclude": [
    "module",
    "function",
    "builtin_function_or_method",
    "instance",
    "_Feature"
   ],
   "window_display": false
  }
 },
 "nbformat": 4,
 "nbformat_minor": 4
}
