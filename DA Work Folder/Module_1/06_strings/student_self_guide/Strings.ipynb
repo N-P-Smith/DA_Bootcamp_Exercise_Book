{
 "cells": [
  {
   "cell_type": "markdown",
   "metadata": {},
   "source": [
    "# Introduction to Strings"
   ]
  },
  {
   "cell_type": "markdown",
   "metadata": {},
   "source": [
    "## Objectives\n"
   ]
  },
  {
   "cell_type": "markdown",
   "metadata": {},
   "source": [
    "At the end of this notebook you should be able to:\n",
    "\n",
    "- use string operations\n",
    "- address individual characters in strings\n",
    "- describe the different types of string formatting"
   ]
  },
  {
   "cell_type": "markdown",
   "metadata": {},
   "source": [
    "## Strings\n"
   ]
  },
  {
   "cell_type": "markdown",
   "metadata": {},
   "source": [
    "First, we are going to learn about another common data type, strings. From a high-level perspective, a string is just a bit of text. This could be text that you have read in from a file, html that you have pulled from the Internet, or any other text. From Python's perspective, a string (type `str`) is simply a collection of characters. \n",
    "\n",
    "In Python, strings are recognized as a collection of characters surrounded by a set of either single quotation marks (`'...'`) or double quotation marks (`\"...\"`). So long as you open and close your string with a **matching** set of single or double quotation marks, you are free to use either. The single caveat to that is that if you are writing an expression with a single quotation mark in it (such as \"Don't do that\"), you will **have to** use a matching set of **double** quotation marks. Let's experiment with some strings..."
   ]
  },
  {
   "cell_type": "markdown",
   "metadata": {},
   "source": [
    "### Side note"
   ]
  },
  {
   "cell_type": "markdown",
   "metadata": {},
   "source": [
    "Characters are processed in a specific encoding.\n",
    "An encoding is just a fancy way of us saying that the characters in our string follow a certain format, or structure. The reason this matters to us in terms of our Python programs, though, is that Python expects our strings to be in one of a couple of different encodings (either `ASCII`, `utf-8`, or `unicode`). This isn't something you will run into often, especially not when defining your own strings (it's probably most prevalent when pulling text from the Internet). However, it's worth noting because there is a good chance that sometime in your Python career, you will end up with Python telling you it doesn't recognize a certain character in one of your strings, and an unexpected encoding will most likely be at the heart of that error."
   ]
  },
  {
   "cell_type": "markdown",
   "metadata": {},
   "source": [
    "### First Introduction"
   ]
  },
  {
   "cell_type": "code",
   "execution_count": null,
   "metadata": {
    "ExecuteTime": {
     "end_time": "2020-02-03T15:12:14.390114Z",
     "start_time": "2020-02-03T15:12:14.376906Z"
    }
   },
   "outputs": [],
   "source": [
    "'This is a string.'"
   ]
  },
  {
   "cell_type": "code",
   "execution_count": null,
   "metadata": {
    "ExecuteTime": {
     "end_time": "2020-02-03T15:12:14.737607Z",
     "start_time": "2020-02-03T15:12:14.733065Z"
    }
   },
   "outputs": [],
   "source": [
    "\"This is another string, but this time with double quotation marks.\""
   ]
  },
  {
   "cell_type": "code",
   "execution_count": null,
   "metadata": {
    "ExecuteTime": {
     "end_time": "2020-02-03T15:12:15.047377Z",
     "start_time": "2020-02-03T15:12:15.036838Z"
    }
   },
   "outputs": [],
   "source": [
    "'They told me not to do this, but I didn't listen.' "
   ]
  },
  {
   "cell_type": "markdown",
   "metadata": {},
   "source": [
    "Just like we expected, we can use both single and double quotation marks. What happened in the 3rd case there? Well, we opened the string with a single quotation mark, and Python started looking for the next single quotation mark to close the string. When it found that quotation mark in the word `didn't`, it assumed the string was closed after `didn`. As a result, this left `t listen.'` just hanging out, and Python didn't know how to interpret that, resulting in our error. The solution to this, as mentioned above, is to use double quotation marks in any case where your text will have single quotation marks in it. For example..."
   ]
  },
  {
   "cell_type": "code",
   "execution_count": null,
   "metadata": {
    "ExecuteTime": {
     "end_time": "2020-02-03T15:12:15.488978Z",
     "start_time": "2020-02-03T15:12:15.484577Z"
    }
   },
   "outputs": [],
   "source": [
    "\"Now that I've got double quotes, I can use all the contractions!\""
   ]
  },
  {
   "cell_type": "code",
   "execution_count": null,
   "metadata": {
    "ExecuteTime": {
     "end_time": "2020-02-03T15:12:15.680975Z",
     "start_time": "2020-02-03T15:12:15.675870Z"
    }
   },
   "outputs": [],
   "source": [
    "\"Can't, won't, didn't, don't... all the contractions!\""
   ]
  },
  {
   "cell_type": "markdown",
   "metadata": {},
   "source": [
    "As a final note before we dive into string operations, we can store strings in variables in the exact same way that we can store an `int`, `float`, or `complex`."
   ]
  },
  {
   "cell_type": "code",
   "execution_count": null,
   "metadata": {
    "ExecuteTime": {
     "end_time": "2020-02-03T15:12:16.315983Z",
     "start_time": "2020-02-03T15:12:16.313822Z"
    }
   },
   "outputs": [],
   "source": [
    "my_str_variable = 'This is a string variable.' "
   ]
  },
  {
   "cell_type": "code",
   "execution_count": null,
   "metadata": {
    "ExecuteTime": {
     "end_time": "2020-02-03T15:12:16.520959Z",
     "start_time": "2020-02-03T15:12:16.516886Z"
    }
   },
   "outputs": [],
   "source": [
    "# my_str_variable holds the string that we put in it in the above cell. \n",
    "my_str_variable"
   ]
  },
  {
   "cell_type": "markdown",
   "metadata": {},
   "source": [
    "### Quick Reminder on Operations"
   ]
  },
  {
   "cell_type": "markdown",
   "metadata": {},
   "source": [
    "We can use the `+` operator to add two strings together (this is known as string **concatenation**).Let's use some of examples of the booking.com data for this. We saw how we can pull data from booking.com in the live showcase. We choose the hotel 'Park Lane Apartments, Harrowby street' in the suburb 'Westminster Borough, London'. "
   ]
  },
  {
   "cell_type": "code",
   "execution_count": null,
   "metadata": {
    "ExecuteTime": {
     "end_time": "2020-02-03T15:12:17.160652Z",
     "start_time": "2020-02-03T15:12:17.156894Z"
    }
   },
   "outputs": [],
   "source": [
    "'Park Lane Apartments, Harrowby street' + ' ' + 'is in' + ' ' + 'Westminster Borough, London' + '.'"
   ]
  },
  {
   "cell_type": "markdown",
   "metadata": {},
   "source": [
    "### String Methods"
   ]
  },
  {
   "cell_type": "markdown",
   "metadata": {},
   "source": [
    "**Definition:** A method is a name for a function that is attached to a particular object. In our case we look at methods that are used with strings! You will see soon that this is really helpful. Methods are something that we will cover in more depth later, but for now just note that we call them on our objects through **dot notation**. We simply place a `.` at the end of our object (`str`, `int`, `float`, any variable, etc.), and then call the method by name.\n",
    "\n",
    "To get a list of all string methods, please check the documentation page: [Link to docs](https://docs.python.org/3.3/library/stdtypes.html).\n",
    "\n",
    "Also, remember you can also use the doc-string to get the definition what a method does right into your notebook, the general formula for that is: `str.method?` (where you put the name of you method instead of `method`)"
   ]
  },
  {
   "cell_type": "markdown",
   "metadata": {},
   "source": [
    "#### Example 1: 'title' method"
   ]
  },
  {
   "cell_type": "markdown",
   "metadata": {},
   "source": [
    "Ok, now back to our hotel example... notice that all words start with capital letters besides 'street' at the end of our string: `'Park Lane Apartments, Harrowby street'`. Is there a way we can change this? It turns out there is! One of the methods that we can call on strings is the `title()` method. Here's how the use of this **dot notation** looks in practice."
   ]
  },
  {
   "cell_type": "code",
   "execution_count": null,
   "metadata": {},
   "outputs": [],
   "source": [
    "'Park Lane Apartments, Harrowby street'.title()"
   ]
  },
  {
   "cell_type": "code",
   "execution_count": null,
   "metadata": {},
   "outputs": [],
   "source": [
    "# as we want to keep using the catialised version, let's save this output in a variable\n",
    "hotel_capitalised = 'Park Lane Apartments, Harrowby street'.title()"
   ]
  },
  {
   "cell_type": "markdown",
   "metadata": {},
   "source": [
    "#### Example 2: 'split' method"
   ]
  },
  {
   "cell_type": "markdown",
   "metadata": {},
   "source": [
    "Ok, ... what about that 'Harrowby street' at the end of our hotel title: `'Park Lane Apartments, Harrowby street'`. It looks as if the actual name of the hotel is just `'Park Lane Aparments'`and  `'Harrowby street'` is the address. Both of the information is relevant but we would like to seperate the two from each other. What's the pythonic way to do that? There is actually a great solution! The method we can use is `split()`. "
   ]
  },
  {
   "cell_type": "code",
   "execution_count": null,
   "metadata": {
    "ExecuteTime": {
     "end_time": "2020-02-03T15:12:18.726966Z",
     "start_time": "2020-02-03T15:12:18.723621Z"
    }
   },
   "outputs": [],
   "source": [
    "'Park Lane Apartments, Harrowby street'.split(',')"
   ]
  },
  {
   "cell_type": "markdown",
   "metadata": {},
   "source": [
    "So, what did the `split()` method do? In the example, it splitted the string and returned two seperate strings. "
   ]
  },
  {
   "cell_type": "markdown",
   "metadata": {},
   "source": [
    "Let's try to print only 'Park Lane Apartments'. First, let's store the returned output of our cell in a variable called 'hotel_splitted'"
   ]
  },
  {
   "cell_type": "code",
   "execution_count": null,
   "metadata": {},
   "outputs": [],
   "source": [
    "hotel_splitted_temp = 'Park Lane Apartments, Harrowby street'.split(',')\n",
    "\n",
    "# Now actually, we want to re-use the capitalised version, so let's apply split to the capitalised string,\n",
    "# which we stored in 'hotel_capitalised'\n",
    "\n",
    "hotel_splitted = hotel_capitalised.split(',')"
   ]
  },
  {
   "cell_type": "code",
   "execution_count": null,
   "metadata": {},
   "outputs": [],
   "source": [
    "# print the output of hotel_splitted to double check\n",
    "hotel_splitted"
   ]
  },
  {
   "cell_type": "markdown",
   "metadata": {},
   "source": [
    "Now, if you look closer you see that the two string are returned with `[...]` around them. This is a pythonic way to store multiple elements, it's called a list. We can access the first element 'Park Lane Apartments' by writing `[0]`. For now just notice this, we will learn about lists in more depth later."
   ]
  },
  {
   "cell_type": "code",
   "execution_count": null,
   "metadata": {},
   "outputs": [],
   "source": [
    "hotel_splitted[0]"
   ]
  },
  {
   "cell_type": "code",
   "execution_count": null,
   "metadata": {},
   "outputs": [],
   "source": [
    "# and the second part of the list is retrieved by\n",
    "hotel_splitted[1]"
   ]
  },
  {
   "cell_type": "markdown",
   "metadata": {},
   "source": [
    "notice the white space before `' Harrowby'`. This will be fixed in the next example"
   ]
  },
  {
   "cell_type": "markdown",
   "metadata": {},
   "source": [
    "#### Example 3: 'strip' method"
   ]
  },
  {
   "cell_type": "markdown",
   "metadata": {},
   "source": [
    "As a last thing we would like to clean up, is to get rid of this white space before `' Harrowby'`. For removing white spaces there the function `'strip()'`, which removes white spaces from the beginning of the first word and the end of the last word of your string. If you only want to remove white spaces from the beginning, there is even an extra method `'lstrip()'` (and `'rstrip()'` respectively for the end)."
   ]
  },
  {
   "cell_type": "code",
   "execution_count": null,
   "metadata": {},
   "outputs": [],
   "source": [
    "hotel_splitted[1].strip()"
   ]
  },
  {
   "cell_type": "markdown",
   "metadata": {},
   "source": [
    "#### ...a few more short examples"
   ]
  },
  {
   "cell_type": "markdown",
   "metadata": {},
   "source": [
    "Are there other things that we can do with strings? There are tons! Let's store our string in a variable below, so we can get some exposure working with strings in variables."
   ]
  },
  {
   "cell_type": "code",
   "execution_count": null,
   "metadata": {
    "ExecuteTime": {
     "end_time": "2020-02-03T15:12:19.338107Z",
     "start_time": "2020-02-03T15:12:19.335995Z"
    }
   },
   "outputs": [],
   "source": [
    "my_str_variable = 'this IS my STRING to PLAY around WITH.'"
   ]
  },
  {
   "cell_type": "code",
   "execution_count": null,
   "metadata": {
    "ExecuteTime": {
     "end_time": "2020-02-03T15:12:19.524151Z",
     "start_time": "2020-02-03T15:12:19.520640Z"
    }
   },
   "outputs": [],
   "source": [
    "my_str_variable.capitalize()"
   ]
  },
  {
   "cell_type": "code",
   "execution_count": null,
   "metadata": {
    "ExecuteTime": {
     "end_time": "2020-02-03T15:12:19.719967Z",
     "start_time": "2020-02-03T15:12:19.716671Z"
    }
   },
   "outputs": [],
   "source": [
    "my_str_variable.upper()"
   ]
  },
  {
   "cell_type": "code",
   "execution_count": null,
   "metadata": {
    "ExecuteTime": {
     "end_time": "2020-02-03T15:12:19.959612Z",
     "start_time": "2020-02-03T15:12:19.956274Z"
    }
   },
   "outputs": [],
   "source": [
    "my_str_variable.lower()"
   ]
  },
  {
   "cell_type": "code",
   "execution_count": null,
   "metadata": {
    "ExecuteTime": {
     "end_time": "2020-02-03T15:12:20.275946Z",
     "start_time": "2020-02-03T15:12:20.272448Z"
    }
   },
   "outputs": [],
   "source": [
    "my_str_variable.replace('STR', 'fl')"
   ]
  },
  {
   "cell_type": "code",
   "execution_count": null,
   "metadata": {
    "ExecuteTime": {
     "end_time": "2020-02-03T15:12:20.525214Z",
     "start_time": "2020-02-03T15:12:20.521608Z"
    }
   },
   "outputs": [],
   "source": [
    "my_str_variable.split()"
   ]
  },
  {
   "cell_type": "markdown",
   "metadata": {},
   "source": [
    "These are some of the most commonly used string methods. You can see above what they do by default: `capitalize()` capitalizes the first letter of the string and lowercases the rest; `upper()` converts all the letters in the string to uppercase, and `lower()` to lowercase; `replace()` replaces all instances of a given substring in your string with another given substring; finally, `split()` splits the string by an inputted string (whitespace by default, just as with `strip()`). "
   ]
  },
  {
   "cell_type": "markdown",
   "metadata": {},
   "source": [
    "#### Overview of all string methods"
   ]
  },
  {
   "cell_type": "markdown",
   "metadata": {},
   "source": [
    "There are many more string methods available, and you can check them out in the [docs](https://docs.python.org/2/library/stdtypes.html#string-methods).\n",
    "\n",
    "Alternatively, you can find out what methods are available to call on strings from the IPython terminal itself (this is one of the really awesome features of IPython)! For display purposes, we're showing below what you would see if you tab completed in IPython.\n",
    "\n",
    "```python\n",
    "In [1]: my_str_variable.  # Hit tab now!\n",
    "\n",
    "my_str.capitalize  my_str.isalnum     my_str.lstrip      my_str.splitlines\n",
    "my_str.center      my_str.isalpha     my_str.partition   my_str.startswith\n",
    "my_str.count       my_str.isdigit     my_str.replace     my_str.strip\n",
    "my_str.decode      my_str.islower     my_str.rfind       my_str.swapcase\n",
    "my_str.encode      my_str.isspace     my_str.rindex      my_str.title\n",
    "my_str.endswith    my_str.istitle     my_str.rjust       my_str.translate\n",
    "my_str.expandtabs  my_str.isupper     my_str.rpartition  my_str.upper\n",
    "my_str.find        my_str.join        my_str.rsplit      my_str.zfill\n",
    "my_str.format      my_str.ljust       my_str.rstrip      \n",
    "my_str.index       my_str.lower       my_str.split\n",
    "```\n",
    "This also works in an IPython notebook like this one. If you have a string stored in a variable, you can type the variable name followed by a period, and then you will see all the methods available for strings automatically in a drop down menu!"
   ]
  },
  {
   "cell_type": "markdown",
   "metadata": {},
   "source": [
    "**Note**: This works for all of our variable types! Not only that, but we can also tab complete the names of the variables that IPython currently knows about (those in the **namespace**)."
   ]
  },
  {
   "cell_type": "markdown",
   "metadata": {},
   "source": [
    "### Working with individual characters in strings\n"
   ]
  },
  {
   "cell_type": "markdown",
   "metadata": {},
   "source": [
    "\n",
    "We know how to work with an entire string via some of the methods that we've discussed, but what if we wanted to work with the individual characters? There are a couple of ways to do this, but the first we'll focus on is through indexing. We know that to Python, a string is just a collection of characters. It turns out that we can access the individual characters simply by asking Python for a given numbered element in our collection (i.e. the string).  We do this by placing the element number that we want in square brackets, `[]`,  right after our string (or variable, if it's stored in one). This element number is referred to as the **index** of the character (or element, if it's not a string - more on this soon)."
   ]
  },
  {
   "cell_type": "code",
   "execution_count": null,
   "metadata": {
    "ExecuteTime": {
     "end_time": "2020-02-03T15:44:15.822311Z",
     "start_time": "2020-02-03T15:44:15.816404Z"
    }
   },
   "outputs": [],
   "source": [
    "my_str_variable = 'Test String'\n",
    "my_str_variable[1]"
   ]
  },
  {
   "cell_type": "code",
   "execution_count": null,
   "metadata": {
    "ExecuteTime": {
     "end_time": "2020-02-03T15:44:16.031105Z",
     "start_time": "2020-02-03T15:44:16.025334Z"
    }
   },
   "outputs": [],
   "source": [
    "my_str_variable[5]"
   ]
  },
  {
   "cell_type": "code",
   "execution_count": null,
   "metadata": {
    "ExecuteTime": {
     "end_time": "2020-02-03T15:44:16.223295Z",
     "start_time": "2020-02-03T15:44:16.218071Z"
    }
   },
   "outputs": [],
   "source": [
    "my_str_variable[-1]"
   ]
  },
  {
   "cell_type": "code",
   "execution_count": null,
   "metadata": {
    "ExecuteTime": {
     "end_time": "2020-02-03T15:44:16.412098Z",
     "start_time": "2020-02-03T15:44:16.408059Z"
    }
   },
   "outputs": [],
   "source": [
    "my_str_variable[-3]"
   ]
  },
  {
   "cell_type": "markdown",
   "metadata": {},
   "source": [
    "Using indices like this, we can access any element of a string. But why is the element at index 1 `e`, and not `T`? After all, `T` is the first element in the string. It turns out that Python (and many programming languages) starts indexing at 0, which means that the first element in our string (and any collection that supports indexing) is accessed via indexing at 0. We refer to languages that work this way as **zero indexed**.  \n",
    "As for the negative numbers, this is a way to access elements starting from the end of the string, rather than the beginning. Indexing from the end starts from -1 and continues downwards from there. So, we would use -2 to access the `n` in the string.\n",
    "\n",
    "Note that we can also access any given number of the characters (any **substring**) by combining multiple index numbers separated by a colon `:`. For example:"
   ]
  },
  {
   "cell_type": "code",
   "execution_count": null,
   "metadata": {
    "ExecuteTime": {
     "end_time": "2020-02-03T15:44:16.770139Z",
     "start_time": "2020-02-03T15:44:16.764956Z"
    }
   },
   "outputs": [],
   "source": [
    "my_str_variable[1:3]"
   ]
  },
  {
   "cell_type": "code",
   "execution_count": null,
   "metadata": {
    "ExecuteTime": {
     "end_time": "2020-02-03T15:44:16.957348Z",
     "start_time": "2020-02-03T15:44:16.951604Z"
    }
   },
   "outputs": [],
   "source": [
    "my_str_variable[5:9]"
   ]
  },
  {
   "cell_type": "code",
   "execution_count": null,
   "metadata": {
    "ExecuteTime": {
     "end_time": "2020-02-03T15:44:17.157518Z",
     "start_time": "2020-02-03T15:44:17.152361Z"
    }
   },
   "outputs": [],
   "source": [
    "my_str_variable[-6:-1]"
   ]
  },
  {
   "cell_type": "code",
   "execution_count": null,
   "metadata": {
    "ExecuteTime": {
     "end_time": "2020-02-03T15:44:17.357536Z",
     "start_time": "2020-02-03T15:44:17.352390Z"
    }
   },
   "outputs": [],
   "source": [
    "my_str_variable[1:]"
   ]
  },
  {
   "cell_type": "code",
   "execution_count": null,
   "metadata": {
    "ExecuteTime": {
     "end_time": "2020-02-03T15:44:17.655484Z",
     "start_time": "2020-02-03T15:44:17.650201Z"
    }
   },
   "outputs": [],
   "source": [
    "my_str_variable[:-1]"
   ]
  },
  {
   "cell_type": "markdown",
   "metadata": {},
   "source": [
    "This indexing turns out to be pretty useful. You might notice, though, that when indexing from `[1:3]`, only the letters at index 1 and 2 are returned; when indexing from `[5:9]`, we get the letters at indices 5, 6, 7, and 8. Note that indices that you pass in are inclusive on the left side, and exclusive on the right side.\n",
    "\n",
    "What about those last two examples, where there isn't an ending index or a starting one? If you don't give an ending index, then Python assumes that your ending index is the last index in the string. Similarly, if you don't give a starting index, Python assumes that your starting index is the first index in the string. Remember, this is the zeroth index in Python (don't worry if this feels confusing, you'll get used to it quickly).\n",
    "\n",
    "We also can grab elements in a string at regular intervals. For example, what if we wanted to grab every second letter? Python allows us to do this by passing in an optional third number while indexing. This optional third number, also separated by a colon (`:`), tells Python the step size by which to move through the string when indexing. So, if we wanted to grab every second letter from the beginning to end, we could index with `[::2]`. If we wanted to grab every 3rd letter from the letter at index 2 to the letter at index 10, we could use the indexing `[2:10:3]`."
   ]
  },
  {
   "cell_type": "code",
   "execution_count": null,
   "metadata": {
    "ExecuteTime": {
     "end_time": "2020-02-03T15:44:20.584891Z",
     "start_time": "2020-02-03T15:44:20.579449Z"
    }
   },
   "outputs": [],
   "source": [
    "my_str_variable[::2]"
   ]
  },
  {
   "cell_type": "code",
   "execution_count": null,
   "metadata": {
    "ExecuteTime": {
     "end_time": "2020-02-03T15:44:21.319490Z",
     "start_time": "2020-02-03T15:44:21.313733Z"
    }
   },
   "outputs": [],
   "source": [
    "my_str_variable[2:10:3]"
   ]
  },
  {
   "cell_type": "markdown",
   "metadata": {},
   "source": [
    "Got it, enough indexing already! Is there a way to cycle (or step through) each one of the letters one by one, and do something with the conditional logic we learned, rather than just grabbing a certain letter or group of letters? Of course! (Why would I ask a question for which the answer was no? That would be lame.)"
   ]
  },
  {
   "cell_type": "markdown",
   "metadata": {},
   "source": [
    "#### A Quick Aside on String Formatting \n"
   ]
  },
  {
   "cell_type": "markdown",
   "metadata": {},
   "source": [
    "\n",
    "There's one more thing that we should talk about before moving on from our discussion of strings - string formatting. String formatting is going to allow us to format strings in certain ways. Probably most usefully, it's going to allow us to insert variable contents into strings dynamically. We'll get an idea of how and when this is most useful as we work through this course. For now, let's just look at the syntax of it all.  \n",
    "\n",
    "```python\n",
    "In [1]: my_name = 'Sean'\n",
    "\n",
    "In [2]: print('Hello %s' % my_name)\n",
    "\n",
    "In [3]: print('Hello {}'.format(my_name))\n",
    "\n",
    "In [4]: print(f'Hello {my_name}')\n",
    "```"
   ]
  },
  {
   "cell_type": "markdown",
   "metadata": {},
   "source": [
    "How is this working? Well, in each case, it's filling in a given part of our string with the value of our variable. In the first case, we use a `%` sign to denote where the replacement should happen, followed by a letter to denote what type of variable will be passed in there (`s` is used for string, `d` is for a decimal, etc.). You can find what each letter denotes [here](https://docs.python.org/2/library/stdtypes.html#string-formatting). In the second case, we use brackets `{}` to denote where the replacement should take place. We can also place numbers, or even variable names themselves inside these brackets and referece them in the `format()` method or the f-string (`f\"{variable}\"`).\n",
    "\n",
    "```python\n",
    "In [1]: print('Hello {0}'.format(my_name))\n",
    "\n",
    "\n",
    "In [2]: print('Hello {name}'.format(name=my_name))\n",
    "\n",
    "```"
   ]
  },
  {
   "cell_type": "markdown",
   "metadata": {},
   "source": [
    "This is something that we don't use much past pretty simple cases, but there are many more things you can do with it - you can read about them [here](https://docs.python.org/2/library/string.html#format-specification-mini-language). In general, though, string formatting is much more readable and dynamic as compared to a bunch of concatenation."
   ]
  }
 ],
 "metadata": {
  "interpreter": {
   "hash": "f85c0ae1067a86ad6a96b144378883e79fd1516474b579ba33ee3a7084540002"
  },
  "kernelspec": {
   "display_name": "Python 3 (ipykernel)",
   "language": "python",
   "name": "python3"
  },
  "language_info": {
   "codemirror_mode": {
    "name": "ipython",
    "version": 3
   },
   "file_extension": ".py",
   "mimetype": "text/x-python",
   "name": "python",
   "nbconvert_exporter": "python",
   "pygments_lexer": "ipython3",
   "version": "3.12.4"
  },
  "toc": {
   "base_numbering": 1,
   "nav_menu": {},
   "number_sections": true,
   "sideBar": true,
   "skip_h1_title": false,
   "title_cell": "Table of Contents",
   "title_sidebar": "Contents",
   "toc_cell": false,
   "toc_position": {},
   "toc_section_display": true,
   "toc_window_display": false
  },
  "varInspector": {
   "cols": {
    "lenName": 16,
    "lenType": 16,
    "lenVar": 40
   },
   "kernels_config": {
    "python": {
     "delete_cmd_postfix": "",
     "delete_cmd_prefix": "del ",
     "library": "var_list.py",
     "varRefreshCmd": "print(var_dic_list())"
    },
    "r": {
     "delete_cmd_postfix": ") ",
     "delete_cmd_prefix": "rm(",
     "library": "var_list.r",
     "varRefreshCmd": "cat(var_dic_list()) "
    }
   },
   "types_to_exclude": [
    "module",
    "function",
    "builtin_function_or_method",
    "instance",
    "_Feature"
   ],
   "window_display": false
  }
 },
 "nbformat": 4,
 "nbformat_minor": 4
}
