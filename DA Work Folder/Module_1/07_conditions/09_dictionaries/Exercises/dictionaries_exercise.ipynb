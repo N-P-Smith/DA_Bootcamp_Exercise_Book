{
 "cells": [
  {
   "cell_type": "markdown",
   "metadata": {},
   "source": [
    "# Dictionaries"
   ]
  },
  {
   "cell_type": "markdown",
   "metadata": {},
   "source": [
    "## Check your understanding!\n",
    "\n",
    "**1 - Dictionary Basics**\n",
    "\n",
    "1. Make a dictionary called `restaurant_types` that has the following associated `key-value` pairs: `('Red Lobster', 'Seafood')`, `('Burger King', 'Fast Food')`, `('Safeway', 'Grocery Store')`.\n",
    "\n",
    "2. How do you find the restaurant type for `'Burger King'`?\n",
    "3. What if you don't know whether or not `'Outback Steakhouse'` is in the `restaurant_types` dictionary - how would you go about trying to get it's restaurant type and make sure that you won't get an error?"
   ]
  },
  {
   "cell_type": "markdown",
   "metadata": {},
   "source": [
    "**2 - Mutating Dictionaries**\n",
    "\n",
    "1. Using the same resturant type dictionary from the last question set, add to it the key-value pair, `('Outback Steakhouse', 'Delicious!')`.\n",
    "2. What if we want to change the restaurant type of `'Safeway'` to just `'Grocery'` - how would you make that change?\n",
    "3. Considering that we quite like `Outback Steakhouse`, it's reasonable to assume that we don't particularly like `'Burger King'`. Remove the `'Burger King'` entry from the dictionary. There are a couple of ways you can figure out how to do this:\n",
    "    1. Try tab completing on the dictionary and see if there are any methods that look like they could help.\n",
    "    2. Look at the docs for Python dictionaries.\n",
    "    3. Google it."
   ]
  },
  {
   "cell_type": "markdown",
   "metadata": {},
   "source": [
    "**3 - Nested Dictionaries**\n",
    "\n",
    "Given is the following dictionary `weather_data`.\n",
    "\n",
    "1. Look at this dictionary and describe in a few words what information is stored here.\n",
    "2. How many keys does it have?\n",
    "3. For each key, list the object-type of the value with `type()`.\n",
    "4. Print the value for the key `wind`. Assign the value to a new variables called `wind_data`.\n",
    "5. Print the following values by accessing data from the dictionary:\n",
    "    - the name of the city\n",
    "    - the lat and lon coordinates\n",
    "    - the weather description\n"
   ]
  },
  {
   "cell_type": "code",
   "execution_count": 4,
   "metadata": {},
   "outputs": [],
   "source": [
    "weather_dictionary = { \"coord\":{\"lon\":10,\n",
    "                                \"lat\":53.55},\n",
    "                        \"weather\":[{\"id\":800,\n",
    "                                    \"main\":\"Clear\",\n",
    "                                    \"description\":\"clear sky\",\n",
    "                                    \"icon\":\"01d\"}],\n",
    "                        \"base\":\"stations\",\n",
    "                        \"main\":{\"temp\":290.32,\n",
    "                                \"feels_like\":290.1,\n",
    "                                \"temp_min\":289.81,\n",
    "                                \"temp_max\":291.05,\n",
    "                                \"pressure\":1005,\n",
    "                                \"humidity\":77},\n",
    "                        \"visibility\":10000,\n",
    "                        \"wind\":{\"speed\":5.14,\n",
    "                                \"deg\":270},\n",
    "                        \"clouds\":{\"all\":0},\n",
    "                        \"dt\":1712655018,\n",
    "                        \"sys\":{\"type\":1,\n",
    "                                \"id\":1263,\n",
    "                                \"country\":\"DE\",\n",
    "                                \"sunrise\":1712637190,\n",
    "                                \"sunset\":1712686163},\n",
    "                        \"timezone\":7200,\n",
    "                        \"id\":2911298,\n",
    "                        \"name\":\"Hamburg\",\n",
    "                        \"cod\":200\n",
    "                    }\n"
   ]
  },
  {
   "cell_type": "code",
   "execution_count": null,
   "metadata": {},
   "outputs": [],
   "source": []
  },
  {
   "cell_type": "markdown",
   "metadata": {},
   "source": [
    "**4 - Dictionary for storing data and make efficient calculations**"
   ]
  },
  {
   "cell_type": "markdown",
   "metadata": {},
   "source": [
    "This is an expansion of the exercise nr. 3 of the list exercises. Same situation, we want to\n",
    "use this cool 'input'-function:\n",
    "```python\n",
    "user_name = input(\"Enter your name: \")\n",
    "greeting = \"Hello, \" + user_name + \"!\"\n",
    "print(greeting)\n",
    "```\n",
    "\n",
    "We'll take our ideas from exercise nr. 4 of the list exercises and expand on it the following way:\n",
    "- Write a program that asks the user 3 questions:\n",
    "    - their name,\n",
    "    - the date of today\n",
    "    - their daily hours of work of this day,\n",
    "    - their money spent on lunch at this day.\n",
    "- This time think about a dictionary structure to store all values that are entered. What makes sense to store as key and what as values? \n",
    "*hint:* name should be definetly a key.\n",
    "- Then, write a for-loop that loops through all keys and calculates the sum of all daily hours worked so far and the average lunch expenses.\n",
    "- Print out the result to us in a nicely formatted way. \n",
    "(If you want to be really pythonic, try to use string formatting with the format-method and f-strings.)\n",
    "\n",
    "Optional task:\n",
    "- add a feature that let's the user tell you to delete a certain element if it was wrong.\n",
    "- we will not describe possible steps for this in more detail, try to come up with a step-by-step solution yourself :-) "
   ]
  },
  {
   "cell_type": "markdown",
   "metadata": {},
   "source": [
    "\n",
    "<details><summary>\n",
    "Click here for a hint…\n",
    "</summary>\n",
    "you could design your dictionary the following way:\n",
    "user_dict = {'Alex': {'2023-10-12': 7.0,\n",
    "                      '2023-10-13': 10.0},\n",
    "            'Param': {'2023-10-11': 8.0}}\n",
    "</details>\n"
   ]
  }
 ],
 "metadata": {
  "interpreter": {
   "hash": "0e4771abb73651cc71498e03f3559c7e0f15f38d5124065b3832974a7bbffea7"
  },
  "kernelspec": {
   "display_name": "Python 3.8.5 64-bit ('nf_base': conda)",
   "name": "python3"
  },
  "language_info": {
   "codemirror_mode": {
    "name": "ipython",
    "version": 3
   },
   "file_extension": ".py",
   "mimetype": "text/x-python",
   "name": "python",
   "nbconvert_exporter": "python",
   "pygments_lexer": "ipython3",
   "version": "3.10.13"
  }
 },
 "nbformat": 4,
 "nbformat_minor": 4
}
