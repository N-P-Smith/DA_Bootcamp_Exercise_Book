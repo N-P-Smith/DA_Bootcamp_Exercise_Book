{
 "cells": [
  {
   "cell_type": "markdown",
   "metadata": {},
   "source": [
    "### --- FOR LOOP EXERCISES ---"
   ]
  },
  {
   "cell_type": "markdown",
   "metadata": {},
   "source": [
    "### A List of Fruits"
   ]
  },
  {
   "cell_type": "code",
   "execution_count": 10,
   "metadata": {},
   "outputs": [],
   "source": [
    "prices = {'apples': '3.0', 'oranges': '2.5', 'kiwis': '4.0'}"
   ]
  },
  {
   "cell_type": "markdown",
   "metadata": {},
   "source": [
    "Q1: Write a for loop over the key of 'prices' and print the key.\n"
   ]
  },
  {
   "cell_type": "code",
   "execution_count": 14,
   "metadata": {},
   "outputs": [],
   "source": [
    "# please write your solution here\n"
   ]
  },
  {
   "cell_type": "markdown",
   "metadata": {},
   "source": [
    "Q2: Write a for loop over the keys of 'prices' and prints both key and the value."
   ]
  },
  {
   "cell_type": "code",
   "execution_count": null,
   "metadata": {},
   "outputs": [],
   "source": [
    "# please write your solution here\n"
   ]
  },
  {
   "cell_type": "markdown",
   "metadata": {},
   "source": [
    "Q3: write a for loop that iterates over 'SPICED' and prints each letter."
   ]
  },
  {
   "cell_type": "code",
   "execution_count": null,
   "metadata": {},
   "outputs": [],
   "source": [
    "# please write your solution here\n"
   ]
  },
  {
   "cell_type": "markdown",
   "metadata": {},
   "source": [
    "Q4: Write a for loop to  print a triangle(4x4) with 'Hi' (See the pattern below)\n"
   ]
  },
  {
   "cell_type": "code",
   "execution_count": null,
   "metadata": {},
   "outputs": [],
   "source": [
    "# Hi \n",
    "# Hi Hi \n",
    "# Hi Hi Hi \n",
    "# Hi Hi Hi Hi\n",
    "\n",
    "\n",
    "# Hint= (start, stop, step)\n",
    "# Hint = default start is 0, default step is 1"
   ]
  },
  {
   "cell_type": "code",
   "execution_count": 2,
   "metadata": {},
   "outputs": [],
   "source": [
    "# please write your solution here"
   ]
  },
  {
   "cell_type": "markdown",
   "metadata": {},
   "source": [
    "Q5: Write a for loop which prints the numbers: 2,4,6,8. Use the range function to iterate over that number sequence."
   ]
  },
  {
   "cell_type": "code",
   "execution_count": 3,
   "metadata": {},
   "outputs": [],
   "source": [
    "# please write your solution here"
   ]
  },
  {
   "cell_type": "markdown",
   "metadata": {},
   "source": [
    "### Names of Employees"
   ]
  },
  {
   "cell_type": "code",
   "execution_count": 2,
   "metadata": {},
   "outputs": [],
   "source": [
    "names = ['Alice', 'Bob', 'Charlie', 'Delia']\n",
    "jobs = ['doctor', 'builder', 'cook', 'developer']"
   ]
  },
  {
   "cell_type": "markdown",
   "metadata": {},
   "source": [
    "Q5: Write a loop over two lists using zip() which prints 'name works as a job'"
   ]
  },
  {
   "cell_type": "code",
   "execution_count": null,
   "metadata": {},
   "outputs": [],
   "source": [
    "# please write your solution here"
   ]
  },
  {
   "cell_type": "markdown",
   "metadata": {},
   "source": [
    "Q6: write a for loop which prints all the names in the list except 'Charlie'"
   ]
  },
  {
   "cell_type": "code",
   "execution_count": null,
   "metadata": {},
   "outputs": [],
   "source": [
    "names = ['Alice', 'Bob', 'Charlie', 'Delia']\n",
    "\n",
    "# Hint: if statement and continue\n",
    "\n",
    "# please write your solution here"
   ]
  },
  {
   "cell_type": "markdown",
   "metadata": {},
   "source": [
    "### The List with 11 numbers"
   ]
  },
  {
   "cell_type": "markdown",
   "metadata": {},
   "source": [
    "Q7: Assume that we are working with the list [0, 1, 2, 3, 4, 5, 6, 7, 8, 9, 10]. \n",
    "\n",
    "1. Write a `for` loop to iterate over the list and print each number.\n",
    "2. Add a condition to that for loop which only prints a number if it is even. (**Hint**: use the `%` operator.)\n",
    "\n",
    "    a. Do not only print the even number but store them in the list `evens`.\n",
    "3. Can you modify the condition in question (2) so that the for loop only prints a number if it is odd?\n",
    "4. Now modify the `for` loop so that we print out the index of the elements along with the elements themselves."
   ]
  },
  {
   "cell_type": "code",
   "execution_count": 9,
   "metadata": {},
   "outputs": [],
   "source": [
    "# please write your solutions for Q7 1.-4. here\n"
   ]
  },
  {
   "cell_type": "markdown",
   "metadata": {},
   "source": [
    "### Clean customer names\n",
    "\n",
    "Q8: you have given a list of customer names. As a data analyst you want to work with these customers, but first you have to bring them into a consistent format. Please create a new list 'customer_names_clean' that holds all the customer names of 'customer_names' in lower case."
   ]
  },
  {
   "cell_type": "code",
   "execution_count": 1,
   "metadata": {},
   "outputs": [],
   "source": [
    "customer_names = ['KUBIKOM Company GmbH',\n",
    "'Company Hauser',\n",
    "'artofhome',\n",
    "'Atlas Companyservice GmbH',\n",
    "'McRae Company',\n",
    "'Companywerte24.de',\n",
    "'Picaflor Company GmbH',\n",
    "'Behrmann Company GmbH',\n",
    "'Blackert & Borchers Company GmbH & Co KG',\n",
    "'Company Martin Lang',\n",
    "'pleasanthome company GmbH']"
   ]
  },
  {
   "cell_type": "code",
   "execution_count": null,
   "metadata": {},
   "outputs": [],
   "source": [
    "# please write your solution here"
   ]
  },
  {
   "cell_type": "markdown",
   "metadata": {},
   "source": [
    "Q9: Now, we are only interested in the actual customers name. Please check if the company name ends with 'Company GmbH', 'GmbH' or 'Company GmbH & Co KG', if yes, then remove this part (which string method could you use for that?), otherwise just leave the customer_name untouched. In both cases assign the output of your if condition to a new list called 'customer_names_extracted'."
   ]
  },
  {
   "cell_type": "code",
   "execution_count": 4,
   "metadata": {},
   "outputs": [],
   "source": [
    "# please write your solution here"
   ]
  },
  {
   "cell_type": "markdown",
   "metadata": {},
   "source": [
    "### Clean email addresses"
   ]
  },
  {
   "cell_type": "markdown",
   "metadata": {},
   "source": [
    "Q10: For later analysis we would like to store the email provider in a seperate column.\n",
    "Please extract the email provider from all email addresses in 'email_address_list' and store it in a new list called 'email_provider_list'."
   ]
  },
  {
   "cell_type": "code",
   "execution_count": null,
   "metadata": {},
   "outputs": [],
   "source": [
    "email_address_list = [\n",
    "'nolan_mckinney3462@the-quickest.com',\n",
    "'brenk4987@bestmail.us',\n",
    "'hugh_mckay4695@postpro.net',\n",
    "'aline3529@emailplus.org',\n",
    "'vaneldik8972@internetemails.net',\n",
    "'efren1904@imap.cc',\n",
    "'oralia_amptman2077@hotmail.com',\n",
    "'edgar8593@fastmail.es',\n",
    "'roseanne7176@ownmail.net',\n",
    "'ramirez7701@123mail.org',\n",
    "'ardell3815@mailsent.net',\n",
    "'terry4639@allmail.net',\n",
    "'dale896@swift-mail.com',\n",
    "'erich_cowan3404@bestmail.us',\n",
    "'agueda4209@mm.st'\n",
    "]"
   ]
  },
  {
   "cell_type": "code",
   "execution_count": 5,
   "metadata": {},
   "outputs": [],
   "source": [
    "# please write your solution here"
   ]
  },
  {
   "cell_type": "markdown",
   "metadata": {},
   "source": [
    "### The list with customer data"
   ]
  },
  {
   "cell_type": "markdown",
   "metadata": {},
   "source": [
    "Q11: You have received a list with the personal data of new customers. For each customer, the first name, age and purchased product is stored in a list.\n",
    "1. Use the correct indices to write the following sentence for customer 3:\n",
    "\"{first name} is {age} years old and has bought {product}\".\n",
    "\n",
    "2. Use a for loop to iterate through all customers and print \n",
    "\"{first name} is {age} years old and has bought {product}\".\n",
    "for each of them\n",
    "\n",
    "3. Iterate through all customers and print \"Customer number {index}: {first name} is {age} years old and has bought {product}\"."
   ]
  },
  {
   "cell_type": "code",
   "execution_count": null,
   "metadata": {},
   "outputs": [],
   "source": [
    "# pay attention! this is a list of lists...\n",
    "\n",
    "customers = [['Paul', 33, 'Macbook Pro'],\n",
    "            ['Anna', 12, 'Looping Louie'],\n",
    "            ['Gina', 85, 'Photo Album'],\n",
    "            ['Kim', 59, 'Plants']]"
   ]
  },
  {
   "cell_type": "code",
   "execution_count": 8,
   "metadata": {},
   "outputs": [],
   "source": [
    "# please write your solutions for Q10 1.-3. here\n"
   ]
  },
  {
   "cell_type": "markdown",
   "metadata": {},
   "source": [
    "<details><summary>\n",
    "Click here for a hint.\n",
    "    </summary>\n",
    "    1. With customers[0] you access the first nested list ['Paul', 33, 'Macbook Pro']. You can index each of those elements again.\n",
    "    Try out: customers[0][0]\n",
    "    \n",
    "2. With a for loop you iterate through each customer in \"customers\", now each personal data from the customer can be accessed with: customer[0] (is first name) etc.\n",
    "    \n",
    "3. For the index, you will need to iterate through enumerate(customers).\n",
    "</details>"
   ]
  }
 ],
 "metadata": {
  "kernelspec": {
   "display_name": "nf_base",
   "language": "python",
   "name": "python3"
  },
  "language_info": {
   "codemirror_mode": {
    "name": "ipython",
    "version": 3
   },
   "file_extension": ".py",
   "mimetype": "text/x-python",
   "name": "python",
   "nbconvert_exporter": "python",
   "pygments_lexer": "ipython3",
   "version": "3.9.17"
  },
  "orig_nbformat": 4
 },
 "nbformat": 4,
 "nbformat_minor": 2
}
