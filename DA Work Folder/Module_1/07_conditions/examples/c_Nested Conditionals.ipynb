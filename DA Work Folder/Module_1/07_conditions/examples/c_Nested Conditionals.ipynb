{
 "cells": [
  {
   "cell_type": "markdown",
   "id": "38d8b6d6",
   "metadata": {},
   "source": [
    "# If Statement with Nested Conditionals"
   ]
  },
  {
   "cell_type": "code",
   "execution_count": null,
   "id": "cdc048ee",
   "metadata": {},
   "outputs": [],
   "source": [
    "name = input('What is your name? ')\n",
    "job = input('What is your profession?')\n",
    "\n",
    "if name == 'Bob':\n",
    "    if job == 'Chef':\n",
    "        print('Bob is a Chef!')\n",
    "        name = name.upper()\n",
    "    else:\n",
    "        print('Wrong Bob!')  \n",
    "    \n",
    "elif name == 'Alex':\n",
    "    print('The name is Alex. Reverse it...')\n",
    "    name = name[::-1]   \n",
    "    \n",
    "else:\n",
    "    print('The name is something else. Convert to lower case...')\n",
    "    name = name.lower()\n",
    "    \n",
    "print(name,'works as a',job )"
   ]
  }
 ],
 "metadata": {
  "hide_input": false,
  "kernelspec": {
   "display_name": "Python 3 (ipykernel)",
   "language": "python",
   "name": "python3"
  },
  "language_info": {
   "codemirror_mode": {
    "name": "ipython",
    "version": 3
   },
   "file_extension": ".py",
   "mimetype": "text/x-python",
   "name": "python",
   "nbconvert_exporter": "python",
   "pygments_lexer": "ipython3",
   "version": "3.9.7"
  }
 },
 "nbformat": 4,
 "nbformat_minor": 5
}
