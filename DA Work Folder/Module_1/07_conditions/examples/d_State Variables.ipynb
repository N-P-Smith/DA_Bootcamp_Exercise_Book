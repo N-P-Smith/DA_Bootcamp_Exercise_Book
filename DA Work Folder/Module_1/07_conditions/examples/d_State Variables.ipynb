{
 "cells": [
  {
   "cell_type": "markdown",
   "id": "ec198834",
   "metadata": {},
   "source": [
    "# State Variables"
   ]
  },
  {
   "cell_type": "code",
   "execution_count": null,
   "id": "f244d005",
   "metadata": {},
   "outputs": [],
   "source": [
    "weather = \"sunny\"\n",
    "temp_c = 14\n",
    "wind = False\n",
    "\n",
    "outside = (weather == \"sunny\" and temperature_c > 15)\n",
    "# outside = (weather == \"cloudy\" and temp_c > 15) or (weather == \"sunny\" and wind != True)\n",
    "\n",
    "if outside == True:\n",
    "    print('it is', weather, 'and', temp_c, 'degrees')\n",
    "    print('Go play outside!')\n",
    "else:\n",
    "    print('it is', weather, 'and', temp_c, 'degrees')\n",
    "    print('Stay home!')"
   ]
  }
 ],
 "metadata": {
  "hide_input": false,
  "kernelspec": {
   "display_name": "Python 3 (ipykernel)",
   "language": "python",
   "name": "python3"
  },
  "language_info": {
   "codemirror_mode": {
    "name": "ipython",
    "version": 3
   },
   "file_extension": ".py",
   "mimetype": "text/x-python",
   "name": "python",
   "nbconvert_exporter": "python",
   "pygments_lexer": "ipython3",
   "version": "3.9.7"
  }
 },
 "nbformat": 4,
 "nbformat_minor": 5
}
