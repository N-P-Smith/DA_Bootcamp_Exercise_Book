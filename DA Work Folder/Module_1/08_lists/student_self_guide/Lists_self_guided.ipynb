{
 "cells": [
  {
   "cell_type": "markdown",
   "metadata": {},
   "source": [
    "# Python Lists\n",
    "\n",
    "From a high level, lists are collections of ordered items. Lists are particularly useful for iterating through data.\n",
    "\n",
    "#### Why are lists important?\n",
    "To process larger amounts of data, we cannot invent a new variable  name for every entry (and write the code for it).  Instead, we need a way to store multiple data records in one variable. Lists allow us to do this efficiently.  \n",
    "\n",
    "Python can improve performance when operations like mean or sum are performed on lists. Data structures like lists make Python very fast. A list can store millions of entries, whereas Excel might freeze if you perform calculations on too many objects.\n",
    "\n",
    "List items are ordered, mutable, allow duplicate values and can hold items of any type.\n",
    "\n",
    "- **Ordered:** Items have a defined order that does not change. If you add new items to a list, the new items will be placed at the end of the list.\n",
    "  \n",
    "  \n",
    "- **Mutable:** It means, we can change, add, and remove items in a list after it has been created.\n",
    "  \n",
    "  \n",
    "- **Duplicates:** Lists can have items with the same value.\n",
    "  \n",
    "  \n",
    "- **Mixed Types:** Items in a list can be of the same type or a mix of different types."
   ]
  },
  {
   "cell_type": "markdown",
   "metadata": {},
   "source": [
    "## Objectives\n",
    "\n",
    "At the end of this notebook you should be able to:\n",
    "\n",
    "- create lists and access individual elements in lists\n",
    "- use list operations"
   ]
  },
  {
   "cell_type": "markdown",
   "metadata": {},
   "source": [
    "### Create New Lists\n",
    "\n",
    "You can construct a list in one of two ways. \n",
    "1. By passing an arbitrary number of items into square brackets, `[]`, separated by commas. \n",
    "2. By passing an iterable into the `list()` constructor \n",
    ">- A **constructor** is a special function used to create and initialize objects. \n",
    ">  \n",
    ">- An **iterable** in Python is like a collection of items that you can go through one by one. Think of it as a sequence of elements, such as a list of numbers, a string of characters, or a set of unique items. You can access each element in the sequence individually."
   ]
  },
  {
   "cell_type": "code",
   "execution_count": null,
   "metadata": {},
   "outputs": [],
   "source": [
    "namecounts = ['Hannah', 123, 'Emily', 234, 'Madison', 23]"
   ]
  },
  {
   "cell_type": "code",
   "execution_count": null,
   "metadata": {},
   "outputs": [],
   "source": [
    "# check out the list\n",
    "namecounts"
   ]
  },
  {
   "cell_type": "code",
   "execution_count": null,
   "metadata": {},
   "outputs": [],
   "source": [
    "my_second_lst = list('hello')"
   ]
  },
  {
   "cell_type": "code",
   "execution_count": null,
   "metadata": {},
   "outputs": [],
   "source": [
    "# check out the list\n",
    "my_second_lst"
   ]
  },
  {
   "cell_type": "markdown",
   "metadata": {},
   "source": [
    "> **Note** that when we pass an iterable to the `list()` function, it breaks up each individual element in the iterable into a separate element in the list. "
   ]
  },
  {
   "cell_type": "markdown",
   "metadata": {},
   "source": [
    "Because it is possible to place multiple different types, including data structures, into lists, we can even create lists of lists."
   ]
  },
  {
   "cell_type": "code",
   "execution_count": null,
   "metadata": {},
   "outputs": [],
   "source": [
    "my_list_of_lists = [[1, 2, 3], ['str1', 'str2', 'str3'], [1, 'mixed', 3]] "
   ]
  },
  {
   "cell_type": "code",
   "execution_count": null,
   "metadata": {},
   "outputs": [],
   "source": [
    "my_list_of_lists"
   ]
  },
  {
   "cell_type": "markdown",
   "metadata": {},
   "source": [
    "### Accessing individual elements of lists\n",
    "\n",
    "List items are indexed, the first item has index `[0]`, the second item has index `[1]` etc."
   ]
  },
  {
   "cell_type": "markdown",
   "metadata": {},
   "source": [
    "<p style=\"text-align:center;\"><img src='./list_index.png' width='50%'></p>"
   ]
  },
  {
   "cell_type": "code",
   "execution_count": null,
   "metadata": {},
   "outputs": [],
   "source": [
    "# create a list\n",
    "weekdays_list = ['MON','TUE','WED','THU','FRI','SAT','SUN']"
   ]
  },
  {
   "cell_type": "code",
   "execution_count": null,
   "metadata": {},
   "outputs": [],
   "source": [
    "# what are we passing to the square brackets?\n",
    "weekdays_list[6]"
   ]
  },
  {
   "cell_type": "code",
   "execution_count": null,
   "metadata": {},
   "outputs": [],
   "source": [
    "# what's the index of 'TUE' ?\n",
    "weekdays_list[1]"
   ]
  },
  {
   "cell_type": "code",
   "execution_count": null,
   "metadata": {},
   "outputs": [],
   "source": [
    "# create another list\n",
    "my_list_of_lists = [[1, 2, 3], ['str1', 'str2', 'str3'], [1, 'mixed', 3]] "
   ]
  },
  {
   "cell_type": "code",
   "execution_count": null,
   "metadata": {},
   "outputs": [],
   "source": [
    "my_list_of_lists"
   ]
  },
  {
   "cell_type": "code",
   "execution_count": null,
   "metadata": {},
   "outputs": [],
   "source": [
    "# What's the output of my_list_of_lists[0] ? Compare with the index positions pic above.\n",
    "my_list_of_lists[0]"
   ]
  },
  {
   "cell_type": "code",
   "execution_count": null,
   "metadata": {},
   "outputs": [],
   "source": [
    "# how to get the value 2 from it ? Compare with the index positions pic above.\n",
    "my_list_of_lists[0][1]"
   ]
  },
  {
   "cell_type": "code",
   "execution_count": null,
   "metadata": {},
   "outputs": [],
   "source": [
    "# the same with variables in 2 steps\n",
    "\n",
    "first_elem = my_list_of_lists[0] # step 1\n",
    "result = first_elem[1] # step 2\n",
    "print(result)"
   ]
  },
  {
   "cell_type": "markdown",
   "metadata": {},
   "source": [
    "### List Operations"
   ]
  },
  {
   "cell_type": "code",
   "execution_count": null,
   "metadata": {},
   "outputs": [],
   "source": [
    "# you can add lists\n",
    "new_list = weekdays_list + my_list_of_lists\n",
    "print(new_list)"
   ]
  },
  {
   "cell_type": "code",
   "execution_count": null,
   "metadata": {},
   "outputs": [],
   "source": [
    "# substracting items is not that straighforward\n",
    "new_list - my_list_of_lists"
   ]
  },
  {
   "cell_type": "markdown",
   "metadata": {},
   "source": [
    "### List Methods"
   ]
  },
  {
   "cell_type": "markdown",
   "metadata": {},
   "source": [
    "As with strings, there are also a lot of list methods, that let us perform certain actions on lists. If you want to see which operations you can use on lists, just use the tab complete in a Jupyter Notebook and you will get a drop down menu of the methods."
   ]
  },
  {
   "cell_type": "code",
   "execution_count": null,
   "metadata": {},
   "outputs": [],
   "source": [
    "new_list. # Place the cursor after the dot andd hit the TAB key!"
   ]
  },
  {
   "cell_type": "markdown",
   "metadata": {},
   "source": [
    "here are some methods we apply on our `new_list`\n",
    "```python\n",
    "new_list.append   new_list.index    new_list.remove   \n",
    "new_list.count    new_list.insert   new_list.reverse  \n",
    "new_list.extend   new_list.pop      new_list.sort\n",
    "```\n",
    "\n",
    "**Important:** in order to execute a method you need to add `()` at the end of the method (eg. `new_list.pop()`).  \n",
    "\n",
    "For a more detailed discussion and/or to see all of the methods available for lists, see the [docs](https://docs.python.org/2/tutorial/datastructures.html#more-on-lists).\n",
    "\n",
    "We will explore the most common methods below:"
   ]
  },
  {
   "cell_type": "markdown",
   "metadata": {},
   "source": [
    "### Adding and removing elements: append(), remove() and pop()"
   ]
  },
  {
   "cell_type": "code",
   "execution_count": null,
   "metadata": {},
   "outputs": [],
   "source": [
    "numbers = [1, 2, 4, 8, 16, 32]\n",
    "numbers"
   ]
  },
  {
   "cell_type": "markdown",
   "metadata": {},
   "source": [
    "**`append()`** : Add a **new element** to the end of the list:"
   ]
  },
  {
   "cell_type": "code",
   "execution_count": null,
   "metadata": {},
   "outputs": [],
   "source": [
    "# let's append number 45\n",
    "numbers.append(45)"
   ]
  },
  {
   "cell_type": "code",
   "execution_count": null,
   "metadata": {},
   "outputs": [],
   "source": [
    "numbers"
   ]
  },
  {
   "cell_type": "markdown",
   "metadata": {},
   "source": [
    "**`remove()`** : Remove a **defined** element:"
   ]
  },
  {
   "cell_type": "code",
   "execution_count": null,
   "metadata": {},
   "outputs": [],
   "source": [
    "# let's remove number 4\n",
    "numbers.remove(4)"
   ]
  },
  {
   "cell_type": "code",
   "execution_count": null,
   "metadata": {},
   "outputs": [],
   "source": [
    "numbers"
   ]
  },
  {
   "cell_type": "markdown",
   "metadata": {},
   "source": [
    "**`pop()`** : Remove an element **at a given index position**:"
   ]
  },
  {
   "cell_type": "code",
   "execution_count": null,
   "metadata": {},
   "outputs": [],
   "source": [
    "# let's remove the number at the index 3 position\n",
    "numbers.pop(3)"
   ]
  },
  {
   "cell_type": "code",
   "execution_count": null,
   "metadata": {},
   "outputs": [],
   "source": [
    "numbers"
   ]
  },
  {
   "cell_type": "markdown",
   "metadata": {},
   "source": [
    "Or remove the last element:"
   ]
  },
  {
   "cell_type": "code",
   "execution_count": null,
   "metadata": {},
   "outputs": [],
   "source": [
    "numbers.pop()"
   ]
  },
  {
   "cell_type": "code",
   "execution_count": null,
   "metadata": {},
   "outputs": [],
   "source": [
    "numbers"
   ]
  },
  {
   "cell_type": "markdown",
   "metadata": {},
   "source": [
    "#### Try it yourself"
   ]
  },
  {
   "cell_type": "code",
   "execution_count": null,
   "metadata": {},
   "outputs": [],
   "source": [
    "# remove 'Star Trek'\n",
    "movies = [\"Star Wars\", \"Star Trek\", \"Ratatouille\"]\n",
    "print(movies)"
   ]
  },
  {
   "cell_type": "code",
   "execution_count": null,
   "metadata": {},
   "outputs": [],
   "source": [
    "# add code instead of ___\n",
    "movies.___\n",
    "print(movies)"
   ]
  },
  {
   "cell_type": "markdown",
   "metadata": {},
   "source": [
    "### Checking the number of elements with 'len()'"
   ]
  },
  {
   "cell_type": "code",
   "execution_count": null,
   "metadata": {},
   "outputs": [],
   "source": [
    "# recreating the list\n",
    "numbers = [1, 2, 4, 8, 16, 32]"
   ]
  },
  {
   "cell_type": "code",
   "execution_count": null,
   "metadata": {},
   "outputs": [],
   "source": [
    "len(numbers)"
   ]
  },
  {
   "cell_type": "markdown",
   "metadata": {},
   "source": [
    "### Difference between `extend` and `append`\n",
    "\n",
    "Both methods let you add elements to a list. However, they slightly differ, which is illustrated in the example below. How would you describe this difference?"
   ]
  },
  {
   "cell_type": "code",
   "execution_count": null,
   "metadata": {},
   "outputs": [],
   "source": [
    "numbers.extend([2, 3])\n",
    "numbers"
   ]
  },
  {
   "cell_type": "code",
   "execution_count": null,
   "metadata": {},
   "outputs": [],
   "source": [
    "numbers.append([2, 3])\n",
    "numbers"
   ]
  },
  {
   "cell_type": "markdown",
   "metadata": {},
   "source": [
    "#### Try it yourself: "
   ]
  },
  {
   "cell_type": "code",
   "execution_count": null,
   "metadata": {},
   "outputs": [],
   "source": [
    "# defining two lists\n",
    "numbers = [1, 2, 4, 8, 16, 32]\n",
    "numbers_2 = [10, 11]"
   ]
  },
  {
   "cell_type": "code",
   "execution_count": null,
   "metadata": {},
   "outputs": [],
   "source": [
    "# 1. Task: the outcome should be [1, 2, 4, 8, 16, 32, [10, 11]]\n"
   ]
  },
  {
   "cell_type": "code",
   "execution_count": null,
   "metadata": {},
   "outputs": [],
   "source": [
    "# 2. Task: the outcome should be: [1, 2, 4, 8, 16, 32, 7]\n"
   ]
  },
  {
   "cell_type": "code",
   "execution_count": null,
   "metadata": {},
   "outputs": [],
   "source": [
    "# 3. Task: the outcome should be: [1, 2, 4, 8, 16, 32, 10, 11]\n"
   ]
  },
  {
   "cell_type": "code",
   "execution_count": null,
   "metadata": {},
   "outputs": [],
   "source": [
    "# 4. Task (in 2 steps): the outcome should be: [1, 2, 4, 8, 16, 32, 7, [7]]\n"
   ]
  },
  {
   "cell_type": "markdown",
   "metadata": {},
   "source": [
    "### Accessing value ranges in lists - Slicing\n",
    "\n",
    "Same as working with characters in strings."
   ]
  },
  {
   "cell_type": "code",
   "execution_count": null,
   "metadata": {},
   "outputs": [],
   "source": [
    "my_lst = [1, 2, 'hello', 'goodbye']"
   ]
  },
  {
   "cell_type": "code",
   "execution_count": null,
   "metadata": {},
   "outputs": [],
   "source": [
    "# indexing\n",
    "my_lst[1]"
   ]
  },
  {
   "cell_type": "code",
   "execution_count": null,
   "metadata": {},
   "outputs": [],
   "source": [
    "# slicing\n",
    "my_lst[2:3]"
   ]
  },
  {
   "cell_type": "markdown",
   "metadata": {},
   "source": [
    ">**Note**: Remember that the ending index is non-inclusive.\n",
    "\n"
   ]
  },
  {
   "cell_type": "code",
   "execution_count": null,
   "metadata": {},
   "outputs": [],
   "source": [
    "my_lst[:]"
   ]
  },
  {
   "cell_type": "code",
   "execution_count": null,
   "metadata": {},
   "outputs": [],
   "source": [
    "my_lst[-1]"
   ]
  },
  {
   "cell_type": "markdown",
   "metadata": {},
   "source": [
    "Just as with strings, we can also add a third argument, the **step argument**, to our list indexing. This specifies the interval between each element in the slice.\n",
    "\n",
    "By using the step argument, we can step through the list and only grab elements at regular intervals.\n",
    "\n"
   ]
  },
  {
   "cell_type": "code",
   "execution_count": null,
   "metadata": {},
   "outputs": [],
   "source": [
    "my_lst = [1, 2, 3, 4, 5, 6, 7, 8, 9, 10]"
   ]
  },
  {
   "cell_type": "code",
   "execution_count": null,
   "metadata": {},
   "outputs": [],
   "source": [
    "# grab every third element of whole list\n",
    "my_lst[::3]"
   ]
  },
  {
   "cell_type": "code",
   "execution_count": null,
   "metadata": {},
   "outputs": [],
   "source": [
    "# grab every third element ending with element #4\n",
    "my_lst[:4:3]"
   ]
  },
  {
   "cell_type": "markdown",
   "metadata": {},
   "source": [
    "### Checking whether an element exists"
   ]
  },
  {
   "cell_type": "markdown",
   "metadata": {},
   "source": [
    "In Python, you can easily check if a specific value is present in a list using the **`in`** keyword. This operation is straightforward and allows you to determine whether an item exists within a list, enabling you to make decisions based on that presence. The output of this check is a boolean value (**`True`** or **`False`**)."
   ]
  },
  {
   "cell_type": "code",
   "execution_count": null,
   "metadata": {},
   "outputs": [],
   "source": [
    "# what is the result of this membership test?\n",
    "34 in numbers"
   ]
  },
  {
   "cell_type": "markdown",
   "metadata": {},
   "source": [
    "#### Example how to use it in an `if statement`"
   ]
  },
  {
   "cell_type": "code",
   "execution_count": null,
   "metadata": {},
   "outputs": [],
   "source": [
    "a = int(input('what number?'))\n",
    "print(f'you picked the number: {a}')\n",
    "\n",
    "if a not in numbers:\n",
    "    print(f'the number {a} is not yet in the list.\\nadding...')\n",
    "    numbers.append(a)\n",
    "    print(f'new list is {numbers}')\n",
    "else:\n",
    "    print(f'the number {a} is in the list. at the index postion {numbers.index(a)}')\n",
    "    print(f'the current list is {numbers}')"
   ]
  },
  {
   "cell_type": "markdown",
   "metadata": {},
   "source": [
    "### Recap"
   ]
  },
  {
   "cell_type": "markdown",
   "metadata": {},
   "source": [
    "command  |  description\n",
    "---|---|\n",
    "`numbers = [1, 2, 3, 4, 4]`      |   list creation\n",
    "`numbers.append([2, 3])`      |   append the item to the end of the list\n",
    "`numbers.extend([2, 3])`      | append each element to the end of the list\n",
    "`numbers.remove(4)` | remove a defined element\n",
    "`numbers.pop(3)` | remove an element at a given index position\n",
    "`3 in numbers` | checking wether an element exists\n",
    "`numbers[3]`       |     indexing\n",
    "`numbers[2:4]`       |    slicing\n",
    "`len(numbers)`       |     returns the length of a list\n",
    "`numbers.count(4)`   | searches for and counts the number of an element in a list\n",
    "`numbers.index(32)`   | returns the index of the specified element in the list"
   ]
  }
 ],
 "metadata": {
  "kernelspec": {
   "display_name": "Python 3 (ipykernel)",
   "language": "python",
   "name": "python3"
  },
  "language_info": {
   "codemirror_mode": {
    "name": "ipython",
    "version": 3
   },
   "file_extension": ".py",
   "mimetype": "text/x-python",
   "name": "python",
   "nbconvert_exporter": "python",
   "pygments_lexer": "ipython3",
   "version": "3.9.12"
  }
 },
 "nbformat": 4,
 "nbformat_minor": 4
}
