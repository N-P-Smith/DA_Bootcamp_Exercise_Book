{
 "cells": [
  {
   "attachments": {},
   "cell_type": "markdown",
   "metadata": {},
   "source": [
    "# Dictionaries\n",
    "\n",
    "### Objectives\n",
    "\n",
    "At the end of this notebook you should be able to:\n",
    "\n",
    "- understand the dictionary data structure with key-value pairs\n",
    "- built dictionaries and access elements"
   ]
  },
  {
   "cell_type": "markdown",
   "metadata": {},
   "source": [
    "### Warmup"
   ]
  },
  {
   "cell_type": "markdown",
   "metadata": {},
   "source": [
    "So far, we worked with through lists. These are great containers and it's easy and quick to access the items individually via the index. However, what if we want to store different aspects of a customer for example? It's common to have for each data-point, e.g. customer, a collection of information. If we would store this in a list, we wouldn't know in the end which phone number belongs to which address and which customer name.\n",
    "\n",
    "Another example is the following:\n",
    "\n",
    "\n",
    "We want to store information about the frequency of names for newborn babies:\n",
    "\n",
    "name  |  frequency\n",
    "---|---|\n",
    "Alice      |   234\n",
    "Emily     |   387\n",
    "Madison      | 103\n",
    "\n",
    "...we can represent this information in a list:\n",
    "```python\n",
    "namecounts = ['Alice', 234, 'Emily', 387, 'Madison', 103]\n",
    "```\n",
    "\n",
    "Recap with your group partner: What issues do you see with this code? Can you come up with better data structure to represent this information?\n",
    "\n",
    "We will learn how a dictionary data structure is more suitable in this case!"
   ]
  },
  {
   "cell_type": "markdown",
   "metadata": {},
   "source": [
    "### Introduction Dictionaries"
   ]
  },
  {
   "cell_type": "markdown",
   "metadata": {},
   "source": [
    "Say we have a collection of state names given and we want to associate each state's name with its capital. How would we do this in a list? One way would be to have tuples that store pairs of states and their capitals."
   ]
  },
  {
   "cell_type": "code",
   "execution_count": null,
   "metadata": {},
   "outputs": [],
   "source": [
    "states_caps = [('Georgia', 'Atlanta'), \n",
    "               ('Colorado', 'Denver'), \n",
    "               ('Indiana', 'Indianapolis')]\n",
    "states_caps"
   ]
  },
  {
   "attachments": {},
   "cell_type": "markdown",
   "metadata": {},
   "source": [
    "There are limits to how intuitive this storage method is, though. Consider that if we wanted to find the capital of Indiana, we would have to search through the entire list, checking to see if Indiana is in the first position of each tuple. If/when we found it, we would then have to grab the second position of that tuple."
   ]
  },
  {
   "attachments": {},
   "cell_type": "markdown",
   "metadata": {},
   "source": [
    "While this isn't horrible, we can do better. Python to the rescue!!!\n",
    "\n",
    "The **dictionary data structure** in Python allows us to store data in a way that is more intuitive for this problem. Dictionaries allow us to store a value associated with a keyword. In the example above, we want to store the capital as the value, and the state as the keyword that the capital is associated with. There are many ways to instantiate a dictionary. Let's look at the simplest way first."
   ]
  },
  {
   "cell_type": "code",
   "execution_count": null,
   "metadata": {},
   "outputs": [],
   "source": [
    "states_caps_dict = {'Georgia': 'Atlanta', \n",
    "                    'Colorado': 'Denver', \n",
    "                    'Indiana': 'Indianapolis'}\n",
    "states_caps_dict"
   ]
  },
  {
   "attachments": {},
   "cell_type": "markdown",
   "metadata": {},
   "source": [
    "This looks very similar to the way that we made lists and tuples, except now we use curly braces, and there is this new use of colons (`:`). On the left side of each colon we have the keyword, and on the right the value associated with it. Each *key-value* pair, as we call them, is separated by a comma.\n",
    "\n",
    "> **Definition:**  \n",
    "A dictionary is defined as an ordered collection of key-value pairs, where each key is required to be **unique**.\n"
   ]
  },
  {
   "cell_type": "markdown",
   "metadata": {},
   "source": [
    "#### Live-Challenge\n",
    "try to define a dictionary for storing the name-frequency table that we introduced in the warmup. "
   ]
  },
  {
   "cell_type": "code",
   "execution_count": null,
   "metadata": {},
   "outputs": [],
   "source": [
    "# write your python code here\n",
    "babynames_frequency = {}"
   ]
  },
  {
   "cell_type": "markdown",
   "metadata": {},
   "source": [
    "### Accessing Elements in a dictionary"
   ]
  },
  {
   "cell_type": "markdown",
   "metadata": {},
   "source": [
    "\n",
    "How do we use dictionaries once we have them? Let's take the example from above and say we're trying to find the capital of Indiana. With a list of tuples, we had to search through the list of tuples from the beginning to find the one with 'Indiana' in the first position, and then grab the second entry in that tuple. With dictionaries it's much easier!"
   ]
  },
  {
   "cell_type": "code",
   "execution_count": null,
   "metadata": {},
   "outputs": [],
   "source": [
    "# accessing the value of the key 'Indiana'\n",
    "states_caps_dict['Indiana']"
   ]
  },
  {
   "cell_type": "code",
   "execution_count": null,
   "metadata": {},
   "outputs": [],
   "source": [
    "states_caps_dict['Washington']"
   ]
  },
  {
   "attachments": {},
   "cell_type": "markdown",
   "metadata": {},
   "source": [
    "All we had to do was index into the dictionary, like we did with lists, but this time with the key. The dictionary then returns the associated value. Notice that if we tried to find a key that wasn't already in the dictionary with `[]` indexing, we get a `KeyError` telling us that that key is not stored in the dictionary.\n",
    "\n",
    "This shouldn't happen too frequently, because we often know the keys in our dictionaries. For times where we don't know if the key is already in the dictionary, we luckily have the `get()` method. This method takes the key you're trying to find and a default return value to hand back if the key doesn't exist."
   ]
  },
  {
   "cell_type": "code",
   "execution_count": null,
   "metadata": {},
   "outputs": [],
   "source": [
    "states_caps_dict.get('Washington', 'State not found')"
   ]
  },
  {
   "attachments": {},
   "cell_type": "markdown",
   "metadata": {},
   "source": [
    "Above, we asked `states_caps_dict` for the value associated with the key `'Washington'`, and told it to return `'State not found'` if the keyword wasn't in the dictionary. And lo-and-behold, we get back `'State not found'`. This makese sense because we know that `'Washington'` is not in the dictionary.\n",
    "\n"
   ]
  },
  {
   "attachments": {},
   "cell_type": "markdown",
   "metadata": {},
   "source": [
    "### Mutability of Dictionaries: Adding, removing and changing elements \n",
    "\n",
    "Are dictionaries mutable, that means can we add, remove and change elements? That's a great question, and yes they are! Before we talk about how to mutate them, let's describe dictionaries in the language that we used for lists. \n",
    "Remember, \n",
    "a dictionary is defined as an ordered collection of key-value pairs, where each key is required to be **unique**.\n",
    "\n",
    "With that in mind, let's recall how we mutated a **list**. To change an element at an existing index, we just indexed into the list and did an assignment. To make them larger, we used the `append()` method. To change/add a key-value pair in/to a dictionary, all you have to do is index into it with the existing/new key and assign a value to it. Notice that assignment works just as before, with the `=`. Let's take a look."
   ]
  },
  {
   "cell_type": "code",
   "execution_count": null,
   "metadata": {},
   "outputs": [],
   "source": [
    "my_dict = {'thing': 1, 'other': 2}\n",
    "my_dict['thing']"
   ]
  },
  {
   "cell_type": "code",
   "execution_count": null,
   "metadata": {},
   "outputs": [],
   "source": [
    "my_dict['thing'] = 3\n",
    "my_dict"
   ]
  },
  {
   "cell_type": "code",
   "execution_count": null,
   "metadata": {},
   "outputs": [],
   "source": [
    "my_dict['thingy'] = 4\n",
    "my_dict"
   ]
  },
  {
   "cell_type": "markdown",
   "metadata": {},
   "source": [
    "So what happened? did we actually change the value in the dictionary? Did we add a new element? Try out more examples on your own.\n",
    "Discuss in your group."
   ]
  },
  {
   "attachments": {},
   "cell_type": "markdown",
   "metadata": {},
   "source": [
    "### Caveat to Dictionary Keys, More on Mutability\n",
    "\n",
    "We have learned that dictionaries make it easy to store key-value relationships in a single data structure. We have also learned that dictionaries are designed for easy value retrieval (thing about the capital retrieval with a list versus a dictionary). What are the restrictions on things you can put in a dictionary? As for the values, like in lists, there are none! But in terms of the keys those values are associated with, that's a different story.\n",
    "\n",
    "Keys in dictionaries **must** be an immutable type.\n",
    "Pythons immutable types are:\n",
    "- Numbers: Int, Float, Complex (for complex numbers), byte\n",
    "- String\n",
    "- Tuple\n",
    "\n",
    "Why is this the case? The answer lies in the way that dictionaries store values and associate them with a key.\n"
   ]
  },
  {
   "cell_type": "markdown",
   "metadata": {},
   "source": [
    "Python dictionaries are an implementation of what's known as a *hash map* or *hash table* ([here's](https://en.wikipedia.org/wiki/Hash_table) the wikipedia page for them if you want to learn more). This computer science idea is basically a function that relates any input, in our case the keys, to a location in memory. Thus, retrieval of a value from a dictionary is entirely dependent on the key. The consequence of this is that, if we were to use a mutable type as the key for a dictionary and later change what that key looked like, the dictionary wouldn't be able to find the value it was supposed to associate with that key. Let's take a gander at what this type of incorrect usage would look like, but know that the code below will **not** run.\n",
    "\n",
    "```python\n",
    "# Original key\n",
    "my_bad_key = ['key']\n",
    "\n",
    "# Dictionary declared with a list as a key (won't work)\n",
    "my_dict = {my_bad_key: 'This wont work'}\n",
    "\n",
    "# Let's append to our mutable 'key'\n",
    "my_bad_key.append('other_key')\n",
    "\n",
    "# How is the dictionary supposed to know what we're looking for???\n",
    "my_dict[my_bad_key]\n",
    "```"
   ]
  },
  {
   "cell_type": "code",
   "execution_count": 1,
   "metadata": {},
   "outputs": [
    {
     "ename": "TypeError",
     "evalue": "unhashable type: 'list'",
     "output_type": "error",
     "traceback": [
      "\u001b[0;31m---------------------------------------------------------------------------\u001b[0m",
      "\u001b[0;31mTypeError\u001b[0m                                 Traceback (most recent call last)",
      "Cell \u001b[0;32mIn[1], line 2\u001b[0m\n\u001b[1;32m      1\u001b[0m my_bad_key \u001b[38;5;241m=\u001b[39m [\u001b[38;5;124m'\u001b[39m\u001b[38;5;124mkey\u001b[39m\u001b[38;5;124m'\u001b[39m]\n\u001b[0;32m----> 2\u001b[0m my_dict \u001b[38;5;241m=\u001b[39m {my_bad_key: \u001b[38;5;124m'\u001b[39m\u001b[38;5;124mThis wont work\u001b[39m\u001b[38;5;124m'\u001b[39m}\n",
      "\u001b[0;31mTypeError\u001b[0m: unhashable type: 'list'"
     ]
    }
   ],
   "source": [
    "my_bad_key = ['key']\n",
    "my_dict = {my_bad_key: 'This wont work'}"
   ]
  },
  {
   "attachments": {},
   "cell_type": "markdown",
   "metadata": {},
   "source": [
    "The above code attempts to set a list as a key to a dictionary. Luckily, it throws an error as soon as we try, telling us that it can't hash a list (read: lists aren't immutable).\n",
    "\n"
   ]
  },
  {
   "cell_type": "markdown",
   "metadata": {},
   "source": [
    "### Dictionary Methods\n",
    "\n",
    "To get a list of all dictionary methods and built-in functions, please check the documentation page: [Link to docs](https://docs.python.org/3/library/stdtypes.html#typesmapping)."
   ]
  },
  {
   "cell_type": "markdown",
   "metadata": {},
   "source": [
    "#### List all keys"
   ]
  },
  {
   "cell_type": "code",
   "execution_count": null,
   "metadata": {},
   "outputs": [
    {
     "data": {
      "text/plain": [
       "['Alice', 'Emily', 'Madison', 'Peter']"
      ]
     },
     "metadata": {},
     "output_type": "display_data"
    }
   ],
   "source": [
    "list(states_caps_dict.keys())"
   ]
  },
  {
   "cell_type": "markdown",
   "metadata": {},
   "source": [
    "#### List all values"
   ]
  },
  {
   "cell_type": "code",
   "execution_count": null,
   "metadata": {},
   "outputs": [
    {
     "data": {
      "text/plain": [
       "[234, 387, 103, 300]"
      ]
     },
     "metadata": {},
     "output_type": "display_data"
    }
   ],
   "source": [
    "list(states_caps_dict.values())"
   ]
  },
  {
   "cell_type": "markdown",
   "metadata": {},
   "source": [
    "#### Number of elements in a dictionary"
   ]
  },
  {
   "cell_type": "code",
   "execution_count": null,
   "metadata": {},
   "outputs": [
    {
     "data": {
      "text/plain": [
       "4"
      ]
     },
     "metadata": {},
     "output_type": "display_data"
    }
   ],
   "source": [
    "len(states_caps_dict)"
   ]
  },
  {
   "cell_type": "markdown",
   "metadata": {},
   "source": [
    "#### Merging two dictionaries"
   ]
  },
  {
   "cell_type": "code",
   "execution_count": null,
   "metadata": {},
   "outputs": [],
   "source": [
    "# Sample dictionaries\n",
    "dict1 = {'x': 1, 'y': 2}\n",
    "dict2 = {'y': 3, 'z': 4}\n",
    "\n",
    "dict1.update(dict2)\n"
   ]
  },
  {
   "cell_type": "markdown",
   "metadata": {},
   "source": [
    "### Live - Challenge"
   ]
  },
  {
   "cell_type": "code",
   "execution_count": null,
   "metadata": {},
   "outputs": [],
   "source": [
    "# Sample data\n",
    "grades = {'Math': 95, 'Science': 85, 'English': 90}\n",
    "\n",
    "# Calculate the average grade"
   ]
  },
  {
   "cell_type": "markdown",
   "metadata": {},
   "source": [
    "### Nested Dictionaries"
   ]
  },
  {
   "cell_type": "markdown",
   "metadata": {},
   "source": [
    "Dictionaries are often used to store raw unprocessed data. For example data you received from a web-scraper. The structure of unprocessed data can be complex and typically you need nested dictionaries to reflect the raw data correclty. Here is one example:"
   ]
  },
  {
   "cell_type": "code",
   "execution_count": null,
   "metadata": {},
   "outputs": [],
   "source": [
    "user_info = {\n",
    "    \"John\": {\n",
    "        \"number\" : \"+61 2 3617 9451\",\n",
    "        \"age\" : 19,\n",
    "        \"address\" : [\n",
    "            \"10/365 Pacific Highway, Hornsby\",\n",
    "            \"Sydney, New South Wales\",\n",
    "            \"Australia – 2077.\"\n",
    "        ]\n",
    "    },\n",
    "    \"Ravi\" : {\n",
    "        \"number\" : \"+91 9972354015\",\n",
    "        \"age\" : 21,\n",
    "        \"address\" : [\n",
    "            \"110 New Vora House, Koramangala\",\n",
    "            \"Bengaluru, Karnataka\",\n",
    "            \"India – 560078.\"\n",
    "        ]\n",
    "    }\n",
    "}"
   ]
  },
  {
   "cell_type": "markdown",
   "metadata": {},
   "source": [
    "Discuss with your group partner:\n",
    "\n",
    "- How many elements does this dictionary have?\n",
    "- What are the keys and what are the values?\n",
    "- Try to access a few of the nested values."
   ]
  },
  {
   "cell_type": "markdown",
   "metadata": {},
   "source": [
    "### Recap"
   ]
  },
  {
   "cell_type": "markdown",
   "metadata": {},
   "source": [
    "command  |  description\n",
    "---|---\n",
    "`ratios = {'Alice': 0.75, 'Bob': 0.55}`      |   dict creation\n",
    "`ratios['Alice']`      |   accessing elements\n",
    "`ratios.get('Alice', 'does not exist')`      | accessing without error\n",
    "`ratios['Tim'] = 0.43`       |     adding entries\n",
    "`ratios.keys()`       |   get they keys of a dict\n",
    "`ratios.values()`       |     get the values of a dict\n",
    "`ratios.items()`   | get both keys and values \n",
    "`ratios.update()`  | merging two dictionaries"
   ]
  }
 ],
 "metadata": {
  "kernelspec": {
   "display_name": "Python 3",
   "language": "python",
   "name": "python3"
  },
  "language_info": {
   "codemirror_mode": {
    "name": "ipython",
    "version": 3
   },
   "file_extension": ".py",
   "mimetype": "text/x-python",
   "name": "python",
   "nbconvert_exporter": "python",
   "pygments_lexer": "ipython3",
   "version": "3.10.13"
  }
 },
 "nbformat": 4,
 "nbformat_minor": 4
}
