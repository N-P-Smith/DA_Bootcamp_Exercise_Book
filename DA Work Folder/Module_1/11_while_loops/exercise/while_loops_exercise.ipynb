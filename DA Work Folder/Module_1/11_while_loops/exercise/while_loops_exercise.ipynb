{
 "cells": [
  {
   "cell_type": "markdown",
   "metadata": {},
   "source": [
    "### --- WHILE LOOP EXERCISES ---"
   ]
  },
  {
   "cell_type": "markdown",
   "metadata": {},
   "source": [
    "### Infinte Loop Question"
   ]
  },
  {
   "cell_type": "markdown",
   "metadata": {},
   "source": [
    "**Q1:**  The following cell has code containing an infinte loop in it. Change it so that when run, it will stop.   \n",
    "\n",
    "If you try something and nothing is printed, then an infinite loop is probably still there.   \n",
    "To stop the notebook from calculating on forever, navigate to the top bar, click on the *Kernel* tab, and click on *Interrupt*.  \n",
    "This forcibly stops Python from executing.   \n",
    "<details><summary>\n",
    "Click <b>here</b> if you can't find it.\n",
    "</summary>\n",
    "<center><img src='./interrupt.png' width='40%' style='border:1px solid #FFFF00'></center>\n",
    "</details>\n"
   ]
  },
  {
   "cell_type": "code",
   "execution_count": null,
   "metadata": {},
   "outputs": [],
   "source": [
    "total, x = 0, 1\n",
    "while x >= 0:\n",
    "    total += x\n",
    "    x += 1\n",
    "print(total)"
   ]
  },
  {
   "cell_type": "markdown",
   "metadata": {},
   "source": [
    "### `while` loop to sum number from 1 to 10"
   ]
  },
  {
   "cell_type": "markdown",
   "metadata": {},
   "source": [
    "**Q2:** Wse a `while` loop to sum number from 1 to 10"
   ]
  },
  {
   "cell_type": "code",
   "execution_count": null,
   "metadata": {},
   "outputs": [],
   "source": [
    "i = 1\n",
    "num_sum = 0\n",
    "\n",
    "# Enter code below"
   ]
  },
  {
   "cell_type": "markdown",
   "metadata": {},
   "source": [
    "### While loop for searching a data structure"
   ]
  },
  {
   "cell_type": "markdown",
   "metadata": {},
   "source": [
    "**Q3:** Write a `while` loop that searches for 'Waldo' in the list of names and stops if it is found.\n"
   ]
  },
  {
   "cell_type": "code",
   "execution_count": null,
   "metadata": {},
   "outputs": [],
   "source": [
    "\n",
    "names  = ['Alice', 'Diane', 'Tom', 'Bob', 'Waldo', 'Ross', 'Sonia', 'Amy']\n",
    "\n",
    "found = False\n",
    "i = 0"
   ]
  },
  {
   "cell_type": "code",
   "execution_count": null,
   "metadata": {},
   "outputs": [],
   "source": [
    "# Enter code below\n"
   ]
  },
  {
   "cell_type": "markdown",
   "metadata": {},
   "source": [
    "**Q4:** but what if Waldo is not there ?? Take the loop from Q3 and add a condition to print 'We found Waldo!' if 'Waldo' was found."
   ]
  },
  {
   "cell_type": "code",
   "execution_count": null,
   "metadata": {},
   "outputs": [],
   "source": [
    "names = ['Alice', 'Diane', 'Tom', 'Bob', 'Harry', 'Ross', 'Sonia', 'Amy']\n",
    "\n",
    "found = False\n",
    "i = 0"
   ]
  },
  {
   "cell_type": "code",
   "execution_count": null,
   "metadata": {},
   "outputs": [],
   "source": [
    "# Enter code below\n"
   ]
  }
 ],
 "metadata": {
  "kernelspec": {
   "display_name": "nf_base",
   "language": "python",
   "name": "python3"
  },
  "language_info": {
   "codemirror_mode": {
    "name": "ipython",
    "version": 3
   },
   "file_extension": ".py",
   "mimetype": "text/x-python",
   "name": "python",
   "nbconvert_exporter": "python",
   "pygments_lexer": "ipython3",
   "version": "3.9.17"
  },
  "orig_nbformat": 4
 },
 "nbformat": 4,
 "nbformat_minor": 2
}
