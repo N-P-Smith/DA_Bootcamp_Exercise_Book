{
 "cells": [
  {
   "cell_type": "markdown",
   "metadata": {},
   "source": [
    "# Looping\n",
    "\n",
    "## Objectives\n",
    "\n",
    "At the end of this notebook you should be able to:\n",
    "\n",
    "- understand the logic/structure of while-loops and for-loops (flowcharts)\n",
    "- avoid the traps of the while-loop (unintentional infinite loops)\n",
    "- have more control over loops with continue, break and pass\n",
    "\n"
   ]
  },
  {
   "cell_type": "markdown",
   "metadata": {},
   "source": [
    "\n",
    "\n",
    "\n",
    "## While Loops\n",
    "\n",
    "The `while` loop is executed as long as the conditional expression at the beginning holds (=`True`). The conditional expressions work in exactly the same way as in `if` statements. It’s up to you to make sure that at some point the conditional expression returns `False`. Otherwise your program will run forever!\n",
    "\n",
    "```python\n",
    "while condition:\n",
    "    while_block_statement\n",
    "```\n",
    "\n",
    "A `while` loop is useful if the **number of repetitions is unknown** at the beginning.  \n",
    ">**Note:** In cases where you already know the number of iterations you should use a <a href='../../10_for_loops/'>`for-loop`</a>"
   ]
  },
  {
   "cell_type": "code",
   "execution_count": null,
   "metadata": {
    "ExecuteTime": {
     "end_time": "2020-02-03T13:50:55.348617Z",
     "start_time": "2020-02-03T13:50:55.343254Z"
    }
   },
   "outputs": [],
   "source": [
    "number = 0\n",
    "while number < 5:\n",
    "   number += 1\n",
    "   print(number)\n",
    "\n",
    "\n",
    "# btw i = i+ 1 is the same as i += 1"
   ]
  },
  {
   "cell_type": "markdown",
   "metadata": {},
   "source": [
    "### Counting until a certain value\n",
    "A simple usage of while is to count until an exit condition is met. The following loop calculates the sum of all numbers from 1 through 10:"
   ]
  },
  {
   "cell_type": "code",
   "execution_count": null,
   "metadata": {},
   "outputs": [],
   "source": [
    "i = 0\n",
    "total = 0\n",
    "while i < 10:\n",
    "    print(i)\n",
    "    i = i + 1\n",
    "    total = total + i"
   ]
  },
  {
   "cell_type": "markdown",
   "metadata": {},
   "source": [
    "### Waiting for user input\n",
    "\n",
    "With a `while` loop the code from the warmup gets much easier to read: "
   ]
  },
  {
   "cell_type": "code",
   "execution_count": null,
   "metadata": {},
   "outputs": [],
   "source": [
    "name = ''\n",
    "while name != 'Mastermind':\n",
    "   name = input('What is your name?' )\n",
    "   if name != 'Mastermind':\n",
    "      print('unauthorized name, please try again')\n",
    "   else: \n",
    "      print(\"well done! you entered the correct name 'Mastermind'\")"
   ]
  },
  {
   "cell_type": "markdown",
   "metadata": {},
   "source": [
    "### Endless loops\n",
    "With `while` it is possible to build loops that never stop. Most of the time this happens by accident. In the following loop, the instruction to decrease `a` is missing. It runs endlessly:"
   ]
  },
  {
   "cell_type": "code",
   "execution_count": null,
   "metadata": {},
   "outputs": [],
   "source": [
    "a = 10\n",
    "b = 1\n",
    "while a > 0:\n",
    "    b = 1 - b\n",
    "    print(b)"
   ]
  },
  {
   "cell_type": "markdown",
   "metadata": {},
   "source": [
    "\n",
    "How can you fix the loop?  \n",
    "\n",
    "`Interrupt Kernel` by clicking on the stop/play symbol on the left of your cell.\n",
    "\n",
    "Or find the \"Interrupt\" button in the top bar in the file's tab.  \n",
    "<details><summary>\n",
    "Click <b>here</b> if you can't find it.\n",
    "</summary>\n",
    "<center><img src='./interrupt.png' width='40%' style='border:1px solid #FFFF00'></center>\n",
    "</details>"
   ]
  },
  {
   "cell_type": "markdown",
   "metadata": {},
   "source": [
    "\n",
    "## Loop Control Statements\n",
    "\n",
    "Loop control statements change execution from its normal sequence. When  execution leaves a scope, all automatic objects that were created in  that scope are destroyed. Python supports the following control  statements."
   ]
  },
  {
   "cell_type": "markdown",
   "metadata": {},
   "source": [
    "#### `continue` Statement\n",
    "\n",
    "The python `continue` statement skips the rest of the code inside the loop **for the current iteration** and move to the next iteration."
   ]
  },
  {
   "cell_type": "code",
   "execution_count": null,
   "metadata": {},
   "outputs": [],
   "source": [
    "i = 0\n",
    "name = 'dataanalytics'"
   ]
  },
  {
   "cell_type": "code",
   "execution_count": null,
   "metadata": {},
   "outputs": [],
   "source": [
    "len(name)"
   ]
  },
  {
   "cell_type": "code",
   "execution_count": null,
   "metadata": {},
   "outputs": [],
   "source": [
    "# Prints all letters except 't' and 'a'\n",
    "i = 0\n",
    "word = 'dataanalytics'\n",
    " \n",
    "while i < len(word):\n",
    "    if word[i] == 't' or word[i] == 'a':\n",
    "        i += 1\n",
    "        continue\n",
    "         \n",
    "    print('Current Letter :', word[i])\n",
    "    i += 1"
   ]
  },
  {
   "cell_type": "markdown",
   "metadata": {},
   "source": [
    "#### `break` Statement\n",
    "\n",
    "The python `break` statement stops (breaks) **the whole loop**, and goes on to the code immediately following the loop. In tech slang it is transferring control out of the loop."
   ]
  },
  {
   "cell_type": "code",
   "execution_count": null,
   "metadata": {},
   "outputs": [],
   "source": [
    "# break the loop as soon it sees 'c' or 'n'\n",
    "i = 0\n",
    "name = 'dataanalytics'\n",
    " \n",
    "while i < len(name):\n",
    "    if name[i] == 'c' or name[i] == 'n':\n",
    "        i += 1\n",
    "        break\n",
    "         \n",
    "    print('Current Letter :', name[i])\n",
    "    i += 1"
   ]
  },
  {
   "cell_type": "markdown",
   "metadata": {},
   "source": [
    "#### `pass` statement\n",
    "\n",
    "Used for writing empty loops (usecase: placeholder for future development). `pass` can also be used for empty functions and classes."
   ]
  },
  {
   "cell_type": "code",
   "execution_count": null,
   "metadata": {},
   "outputs": [],
   "source": [
    "# An empty loop\n",
    "name = 'dataanalytics'\n",
    "i = 0\n",
    " \n",
    "while i < len(name):\n",
    "    if name[i] == 't':\n",
    "        pass # if statement works without block_code \n",
    "        # print(f\"found 't' at index position {i}\") # later update\n",
    "    i += 1\n",
    "   \n",
    "print('Value of i :', i)"
   ]
  },
  {
   "cell_type": "code",
   "execution_count": null,
   "metadata": {},
   "outputs": [],
   "source": [
    "# An empty loop\n",
    "name = 'strawberry'\n",
    "i = 0\n",
    "chars = {}\n",
    " \n",
    "while i < len(name):\n",
    "    # \n",
    "    if name[i] not in chars:\n",
    "        chars[name[i]] = 1\n",
    "    elif name[i] in chars:\n",
    "        pass\n",
    "        # chars[name[i]] += 1 # later update\n",
    "    i += 1\n",
    "\n",
    "for char in chars:\n",
    "    print(char, chars[char])"
   ]
  }
 ],
 "metadata": {
  "kernelspec": {
   "display_name": "Python 3 (ipykernel)",
   "language": "python",
   "name": "python3"
  },
  "language_info": {
   "codemirror_mode": {
    "name": "ipython",
    "version": 3
   },
   "file_extension": ".py",
   "mimetype": "text/x-python",
   "name": "python",
   "nbconvert_exporter": "python",
   "pygments_lexer": "ipython3",
   "version": "3.9.12"
  },
  "toc": {
   "base_numbering": 1,
   "nav_menu": {},
   "number_sections": true,
   "sideBar": true,
   "skip_h1_title": false,
   "title_cell": "Table of Contents",
   "title_sidebar": "Contents",
   "toc_cell": false,
   "toc_position": {},
   "toc_section_display": true,
   "toc_window_display": false
  },
  "varInspector": {
   "cols": {
    "lenName": 16,
    "lenType": 16,
    "lenVar": 40
   },
   "kernels_config": {
    "python": {
     "delete_cmd_postfix": "",
     "delete_cmd_prefix": "del ",
     "library": "var_list.py",
     "varRefreshCmd": "print(var_dic_list())"
    },
    "r": {
     "delete_cmd_postfix": ") ",
     "delete_cmd_prefix": "rm(",
     "library": "var_list.r",
     "varRefreshCmd": "cat(var_dic_list()) "
    }
   },
   "types_to_exclude": [
    "module",
    "function",
    "builtin_function_or_method",
    "instance",
    "_Feature"
   ],
   "window_display": false
  }
 },
 "nbformat": 4,
 "nbformat_minor": 4
}
