{
 "cells": [
  {
   "cell_type": "markdown",
   "id": "e9d66dbe-7b77-4bf3-9f7f-e2dba8ecccee",
   "metadata": {},
   "source": [
    "### Q1.\n",
    "Read the life expectancy clean dataset into your notebook \n",
    "- If you want to use country as the index you may use the `index_col` parameter while reading it from the file:\n",
    "\n",
    "```\n",
    "life_df = pd.read_csv('life_clean.csv', index_col=0)\n",
    "```\n"
   ]
  },
  {
   "cell_type": "code",
   "execution_count": 2,
   "id": "a1dde84c",
   "metadata": {},
   "outputs": [],
   "source": [
    "import pandas as pd"
   ]
  },
  {
   "cell_type": "code",
   "execution_count": 4,
   "id": "abacdc91-9a73-494b-9e90-648c99e2ff7c",
   "metadata": {},
   "outputs": [],
   "source": [
    "life_df = pd.read_csv(\"../data/life_clean.csv\", index_col=0)"
   ]
  },
  {
   "cell_type": "code",
   "execution_count": 5,
   "id": "aaffe6d4",
   "metadata": {},
   "outputs": [
    {
     "data": {
      "text/html": [
       "<div>\n",
       "<style scoped>\n",
       "    .dataframe tbody tr th:only-of-type {\n",
       "        vertical-align: middle;\n",
       "    }\n",
       "\n",
       "    .dataframe tbody tr th {\n",
       "        vertical-align: top;\n",
       "    }\n",
       "\n",
       "    .dataframe thead th {\n",
       "        text-align: right;\n",
       "    }\n",
       "</style>\n",
       "<table border=\"1\" class=\"dataframe\">\n",
       "  <thead>\n",
       "    <tr style=\"text-align: right;\">\n",
       "      <th></th>\n",
       "      <th>year</th>\n",
       "      <th>life_expectancy</th>\n",
       "    </tr>\n",
       "    <tr>\n",
       "      <th>country</th>\n",
       "      <th></th>\n",
       "      <th></th>\n",
       "    </tr>\n",
       "  </thead>\n",
       "  <tbody>\n",
       "    <tr>\n",
       "      <th>Afghanistan</th>\n",
       "      <td>1950</td>\n",
       "      <td>26.85</td>\n",
       "    </tr>\n",
       "    <tr>\n",
       "      <th>Albania</th>\n",
       "      <td>1950</td>\n",
       "      <td>54.48</td>\n",
       "    </tr>\n",
       "    <tr>\n",
       "      <th>Algeria</th>\n",
       "      <td>1950</td>\n",
       "      <td>42.77</td>\n",
       "    </tr>\n",
       "    <tr>\n",
       "      <th>Angola</th>\n",
       "      <td>1950</td>\n",
       "      <td>30.70</td>\n",
       "    </tr>\n",
       "    <tr>\n",
       "      <th>Antigua and Barbuda</th>\n",
       "      <td>1950</td>\n",
       "      <td>57.97</td>\n",
       "    </tr>\n",
       "    <tr>\n",
       "      <th>...</th>\n",
       "      <td>...</td>\n",
       "      <td>...</td>\n",
       "    </tr>\n",
       "    <tr>\n",
       "      <th>Virgin Islands (U.S.)</th>\n",
       "      <td>2016</td>\n",
       "      <td>80.82</td>\n",
       "    </tr>\n",
       "    <tr>\n",
       "      <th>Yemen</th>\n",
       "      <td>2016</td>\n",
       "      <td>64.92</td>\n",
       "    </tr>\n",
       "    <tr>\n",
       "      <th>Zambia</th>\n",
       "      <td>2016</td>\n",
       "      <td>57.10</td>\n",
       "    </tr>\n",
       "    <tr>\n",
       "      <th>Zimbabwe</th>\n",
       "      <td>2016</td>\n",
       "      <td>61.69</td>\n",
       "    </tr>\n",
       "    <tr>\n",
       "      <th>South Sudan</th>\n",
       "      <td>2016</td>\n",
       "      <td>56.10</td>\n",
       "    </tr>\n",
       "  </tbody>\n",
       "</table>\n",
       "<p>13707 rows × 2 columns</p>\n",
       "</div>"
      ],
      "text/plain": [
       "                       year  life_expectancy\n",
       "country                                     \n",
       "Afghanistan            1950            26.85\n",
       "Albania                1950            54.48\n",
       "Algeria                1950            42.77\n",
       "Angola                 1950            30.70\n",
       "Antigua and Barbuda    1950            57.97\n",
       "...                     ...              ...\n",
       "Virgin Islands (U.S.)  2016            80.82\n",
       "Yemen                  2016            64.92\n",
       "Zambia                 2016            57.10\n",
       "Zimbabwe               2016            61.69\n",
       "South Sudan            2016            56.10\n",
       "\n",
       "[13707 rows x 2 columns]"
      ]
     },
     "execution_count": 5,
     "metadata": {},
     "output_type": "execute_result"
    }
   ],
   "source": [
    "life_df"
   ]
  },
  {
   "cell_type": "markdown",
   "id": "38ff51a1-4759-4bfc-ba10-828bc68de8a5",
   "metadata": {},
   "source": [
    "### Q2. \n",
    "calculate the mean life expectancy\n"
   ]
  },
  {
   "cell_type": "code",
   "execution_count": 6,
   "id": "058201a0-e57d-4139-b44d-bffef81632fb",
   "metadata": {},
   "outputs": [
    {
     "data": {
      "text/plain": [
       "life_expectancy    62.988833\n",
       "dtype: float64"
      ]
     },
     "execution_count": 6,
     "metadata": {},
     "output_type": "execute_result"
    }
   ],
   "source": [
    "life_df[[\"life_expectancy\"]].mean()"
   ]
  },
  {
   "cell_type": "markdown",
   "id": "1bd1d141-0994-4910-9475-da7a42a20ca2",
   "metadata": {},
   "source": [
    "### Q3.\n",
    "calculate the mean life expectancy for the year 2000"
   ]
  },
  {
   "cell_type": "code",
   "execution_count": 19,
   "id": "ed5ad4af-6982-483f-ab79-2b2131321763",
   "metadata": {},
   "outputs": [],
   "source": [
    "life_2000 = life_df[life_df[\"year\"] == 2000]"
   ]
  },
  {
   "cell_type": "code",
   "execution_count": 21,
   "id": "40cfb8de-931b-4a9b-9656-266bbec3c419",
   "metadata": {},
   "outputs": [
    {
     "data": {
      "text/plain": [
       "life_expectancy    68.077703\n",
       "dtype: float64"
      ]
     },
     "execution_count": 21,
     "metadata": {},
     "output_type": "execute_result"
    }
   ],
   "source": [
    "life_2000[[\"life_expectancy\"]].mean()"
   ]
  },
  {
   "cell_type": "markdown",
   "id": "a5706ea7-d9e3-4051-a517-9c3884bc467d",
   "metadata": {},
   "source": [
    "### Q4. \n",
    "calculate the median for 1995"
   ]
  },
  {
   "cell_type": "code",
   "execution_count": 22,
   "id": "d5a90670",
   "metadata": {},
   "outputs": [],
   "source": [
    "life_1995 = life_df[life_df[\"year\"] == 1995]"
   ]
  },
  {
   "cell_type": "code",
   "execution_count": 23,
   "id": "dcbaeb3d-59ad-4c99-a001-8495a2183061",
   "metadata": {},
   "outputs": [
    {
     "data": {
      "text/plain": [
       "life_expectancy    70.0\n",
       "dtype: float64"
      ]
     },
     "execution_count": 23,
     "metadata": {},
     "output_type": "execute_result"
    }
   ],
   "source": [
    "life_1995[[\"life_expectancy\"]].median()"
   ]
  },
  {
   "cell_type": "markdown",
   "id": "ec71c611-a953-4160-a3b7-1f287ac05bf4",
   "metadata": {},
   "source": [
    "### Q5.\n",
    "calculate the standard deviation"
   ]
  },
  {
   "cell_type": "code",
   "execution_count": 13,
   "id": "c0b08615-75c0-4783-a90a-5339f50d0793",
   "metadata": {},
   "outputs": [
    {
     "data": {
      "text/plain": [
       "np.float64(11.89557179977113)"
      ]
     },
     "execution_count": 13,
     "metadata": {},
     "output_type": "execute_result"
    }
   ],
   "source": [
    "life_df[\"life_expectancy\"].std()"
   ]
  },
  {
   "cell_type": "markdown",
   "id": "83e72f3b-85e8-490d-b517-957f945e478f",
   "metadata": {},
   "source": [
    "### Q6.\n",
    "find the highest life expectancy"
   ]
  },
  {
   "cell_type": "code",
   "execution_count": 14,
   "id": "69673141-ca23-43d8-aed2-1ded94d68d1e",
   "metadata": {},
   "outputs": [
    {
     "data": {
      "text/plain": [
       "np.float64(84.8)"
      ]
     },
     "execution_count": 14,
     "metadata": {},
     "output_type": "execute_result"
    }
   ],
   "source": [
    "life_df[\"life_expectancy\"].max()"
   ]
  },
  {
   "cell_type": "markdown",
   "id": "d1fed7ba-b1f9-464f-b7bd-b7b9484f55cd",
   "metadata": {},
   "source": [
    "### Q7.\n",
    "find the country and year for the highest life expectancy"
   ]
  },
  {
   "cell_type": "code",
   "execution_count": 36,
   "id": "c49c9d68",
   "metadata": {},
   "outputs": [
    {
     "data": {
      "text/html": [
       "<div>\n",
       "<style scoped>\n",
       "    .dataframe tbody tr th:only-of-type {\n",
       "        vertical-align: middle;\n",
       "    }\n",
       "\n",
       "    .dataframe tbody tr th {\n",
       "        vertical-align: top;\n",
       "    }\n",
       "\n",
       "    .dataframe thead th {\n",
       "        text-align: right;\n",
       "    }\n",
       "</style>\n",
       "<table border=\"1\" class=\"dataframe\">\n",
       "  <thead>\n",
       "    <tr style=\"text-align: right;\">\n",
       "      <th></th>\n",
       "      <th>year</th>\n",
       "      <th>life_expectancy</th>\n",
       "    </tr>\n",
       "    <tr>\n",
       "      <th>country</th>\n",
       "      <th></th>\n",
       "      <th></th>\n",
       "    </tr>\n",
       "  </thead>\n",
       "  <tbody>\n",
       "    <tr>\n",
       "      <th>Andorra</th>\n",
       "      <td>2013</td>\n",
       "      <td>84.8</td>\n",
       "    </tr>\n",
       "    <tr>\n",
       "      <th>Andorra</th>\n",
       "      <td>2014</td>\n",
       "      <td>84.8</td>\n",
       "    </tr>\n",
       "    <tr>\n",
       "      <th>Andorra</th>\n",
       "      <td>2015</td>\n",
       "      <td>84.8</td>\n",
       "    </tr>\n",
       "    <tr>\n",
       "      <th>Andorra</th>\n",
       "      <td>2016</td>\n",
       "      <td>84.8</td>\n",
       "    </tr>\n",
       "  </tbody>\n",
       "</table>\n",
       "</div>"
      ],
      "text/plain": [
       "         year  life_expectancy\n",
       "country                       \n",
       "Andorra  2013             84.8\n",
       "Andorra  2014             84.8\n",
       "Andorra  2015             84.8\n",
       "Andorra  2016             84.8"
      ]
     },
     "execution_count": 36,
     "metadata": {},
     "output_type": "execute_result"
    }
   ],
   "source": [
    "life_df[life_df[\"life_expectancy\"] == life_df[\"life_expectancy\"].max()]"
   ]
  },
  {
   "cell_type": "markdown",
   "id": "3f5674e0-4b76-4fbc-89e8-dbca72e282e6",
   "metadata": {},
   "source": [
    "### Q8.\n",
    "find the lowest life expectancy"
   ]
  },
  {
   "cell_type": "code",
   "execution_count": 24,
   "id": "714366f7-1e27-4209-acaa-260afabc8175",
   "metadata": {},
   "outputs": [
    {
     "data": {
      "text/plain": [
       "np.float64(13.2)"
      ]
     },
     "execution_count": 24,
     "metadata": {},
     "output_type": "execute_result"
    }
   ],
   "source": [
    "life_df[\"life_expectancy\"].min()"
   ]
  },
  {
   "cell_type": "markdown",
   "id": "e659e9c1-28fd-4b23-9e28-86a196b43053",
   "metadata": {},
   "source": [
    "### Q9. \n",
    "find the country and year was the lowest life expectancy"
   ]
  },
  {
   "cell_type": "code",
   "execution_count": 37,
   "id": "1768a06e-88fb-4c9c-bb71-292103868539",
   "metadata": {},
   "outputs": [
    {
     "data": {
      "text/html": [
       "<div>\n",
       "<style scoped>\n",
       "    .dataframe tbody tr th:only-of-type {\n",
       "        vertical-align: middle;\n",
       "    }\n",
       "\n",
       "    .dataframe tbody tr th {\n",
       "        vertical-align: top;\n",
       "    }\n",
       "\n",
       "    .dataframe thead th {\n",
       "        text-align: right;\n",
       "    }\n",
       "</style>\n",
       "<table border=\"1\" class=\"dataframe\">\n",
       "  <thead>\n",
       "    <tr style=\"text-align: right;\">\n",
       "      <th></th>\n",
       "      <th>year</th>\n",
       "      <th>life_expectancy</th>\n",
       "    </tr>\n",
       "    <tr>\n",
       "      <th>country</th>\n",
       "      <th></th>\n",
       "      <th></th>\n",
       "    </tr>\n",
       "  </thead>\n",
       "  <tbody>\n",
       "    <tr>\n",
       "      <th>Rwanda</th>\n",
       "      <td>1994</td>\n",
       "      <td>13.2</td>\n",
       "    </tr>\n",
       "  </tbody>\n",
       "</table>\n",
       "</div>"
      ],
      "text/plain": [
       "         year  life_expectancy\n",
       "country                       \n",
       "Rwanda   1994             13.2"
      ]
     },
     "execution_count": 37,
     "metadata": {},
     "output_type": "execute_result"
    }
   ],
   "source": [
    "life_df[life_df[\"life_expectancy\"] == life_df[\"life_expectancy\"].min()]"
   ]
  },
  {
   "cell_type": "markdown",
   "id": "7452f62d-a0a4-4998-b9a9-1890279531f5",
   "metadata": {},
   "source": [
    "### Q10. \n",
    "find the 90% quantile of the life expectancy"
   ]
  },
  {
   "cell_type": "code",
   "execution_count": 26,
   "id": "0ab5ad51-d0d9-491c-86ae-8dc6f9dd8806",
   "metadata": {},
   "outputs": [
    {
     "data": {
      "text/plain": [
       "0.9    76.4\n",
       "Name: life_expectancy, dtype: float64"
      ]
     },
     "execution_count": 26,
     "metadata": {},
     "output_type": "execute_result"
    }
   ],
   "source": [
    "life_df[\"life_expectancy\"].quantile([0.9])"
   ]
  },
  {
   "cell_type": "markdown",
   "id": "2feda035-f310-47dd-a1d1-02738b5add84",
   "metadata": {},
   "source": [
    "### Q11.\n",
    "calculate min, max, mean and possibly other descriptors with a single line"
   ]
  },
  {
   "cell_type": "code",
   "execution_count": 25,
   "id": "13517268-9c30-459e-a837-430d26b19c6f",
   "metadata": {},
   "outputs": [
    {
     "data": {
      "text/html": [
       "<div>\n",
       "<style scoped>\n",
       "    .dataframe tbody tr th:only-of-type {\n",
       "        vertical-align: middle;\n",
       "    }\n",
       "\n",
       "    .dataframe tbody tr th {\n",
       "        vertical-align: top;\n",
       "    }\n",
       "\n",
       "    .dataframe thead th {\n",
       "        text-align: right;\n",
       "    }\n",
       "</style>\n",
       "<table border=\"1\" class=\"dataframe\">\n",
       "  <thead>\n",
       "    <tr style=\"text-align: right;\">\n",
       "      <th></th>\n",
       "      <th>year</th>\n",
       "      <th>life_expectancy</th>\n",
       "    </tr>\n",
       "  </thead>\n",
       "  <tbody>\n",
       "    <tr>\n",
       "      <th>count</th>\n",
       "      <td>13707.000000</td>\n",
       "      <td>13707.000000</td>\n",
       "    </tr>\n",
       "    <tr>\n",
       "      <th>mean</th>\n",
       "      <td>1983.251550</td>\n",
       "      <td>62.988833</td>\n",
       "    </tr>\n",
       "    <tr>\n",
       "      <th>std</th>\n",
       "      <td>19.364466</td>\n",
       "      <td>11.895572</td>\n",
       "    </tr>\n",
       "    <tr>\n",
       "      <th>min</th>\n",
       "      <td>1950.000000</td>\n",
       "      <td>13.200000</td>\n",
       "    </tr>\n",
       "    <tr>\n",
       "      <th>25%</th>\n",
       "      <td>1966.000000</td>\n",
       "      <td>54.815000</td>\n",
       "    </tr>\n",
       "    <tr>\n",
       "      <th>50%</th>\n",
       "      <td>1983.000000</td>\n",
       "      <td>65.570000</td>\n",
       "    </tr>\n",
       "    <tr>\n",
       "      <th>75%</th>\n",
       "      <td>2000.000000</td>\n",
       "      <td>72.230000</td>\n",
       "    </tr>\n",
       "    <tr>\n",
       "      <th>max</th>\n",
       "      <td>2016.000000</td>\n",
       "      <td>84.800000</td>\n",
       "    </tr>\n",
       "  </tbody>\n",
       "</table>\n",
       "</div>"
      ],
      "text/plain": [
       "               year  life_expectancy\n",
       "count  13707.000000     13707.000000\n",
       "mean    1983.251550        62.988833\n",
       "std       19.364466        11.895572\n",
       "min     1950.000000        13.200000\n",
       "25%     1966.000000        54.815000\n",
       "50%     1983.000000        65.570000\n",
       "75%     2000.000000        72.230000\n",
       "max     2016.000000        84.800000"
      ]
     },
     "execution_count": 25,
     "metadata": {},
     "output_type": "execute_result"
    }
   ],
   "source": [
    "life_df.describe()"
   ]
  },
  {
   "cell_type": "code",
   "execution_count": null,
   "id": "ba62012d",
   "metadata": {},
   "outputs": [],
   "source": []
  }
 ],
 "metadata": {
  "kernelspec": {
   "display_name": "Python 3 (ipykernel)",
   "language": "python",
   "name": "python3"
  },
  "language_info": {
   "codemirror_mode": {
    "name": "ipython",
    "version": 3
   },
   "file_extension": ".py",
   "mimetype": "text/x-python",
   "name": "python",
   "nbconvert_exporter": "python",
   "pygments_lexer": "ipython3",
   "version": "3.12.4"
  }
 },
 "nbformat": 4,
 "nbformat_minor": 5
}
