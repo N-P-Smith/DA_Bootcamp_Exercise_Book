{
 "cells": [
  {
   "cell_type": "markdown",
   "metadata": {},
   "source": [
    "Using the gapminder_total dataset solve the following tasks with pandas."
   ]
  },
  {
   "cell_type": "markdown",
   "metadata": {},
   "source": [
    "1. Read in data:\n",
    "df = pd.read_csv('../data/gapminder_total.csv')\n",
    "\n",
    "2. What is the median population in the data set?\n",
    "\n",
    "3. How often does each continent appear in the data set?\n",
    "\n",
    "4. Which continent has the lowest average fertility rate overall?\n",
    "\n",
    "5. What was the average life expectancy in Europe in 2015? \n",
    "Hint: first filter for 2015 then apply groupby.\n",
    "\n",
    "6. How many countries does each continent have in the dataset?\n",
    "Hint: filter for one year and count\n",
    "\n",
    "7. What is the average population of a European country in 1976 compare to 2015?\n",
    "Hint: once again filter for the year in question and do each year separately to compare\n",
    "\n",
    "BONUS\n",
    "\n",
    "8. What is the highest population a continent ever had?\n",
    "Hint: group by multiple columns\n",
    "\n",
    "9. Which continent had that population and in which year?\n",
    "Hint: group by multiple columns and filter for the result from #6"
   ]
  },
  {
   "cell_type": "code",
   "execution_count": 2,
   "metadata": {},
   "outputs": [],
   "source": [
    "import pandas as pd"
   ]
  },
  {
   "cell_type": "code",
   "execution_count": 3,
   "metadata": {},
   "outputs": [],
   "source": [
    "#1. Read in data: df = pd.read_csv('../data/gapminder_total.csv')\n",
    "\n",
    "df = pd.read_csv('../data/gapminder_total.csv')"
   ]
  },
  {
   "cell_type": "code",
   "execution_count": 21,
   "metadata": {},
   "outputs": [
    {
     "data": {
      "text/html": [
       "<div>\n",
       "<style scoped>\n",
       "    .dataframe tbody tr th:only-of-type {\n",
       "        vertical-align: middle;\n",
       "    }\n",
       "\n",
       "    .dataframe tbody tr th {\n",
       "        vertical-align: top;\n",
       "    }\n",
       "\n",
       "    .dataframe thead th {\n",
       "        text-align: right;\n",
       "    }\n",
       "</style>\n",
       "<table border=\"1\" class=\"dataframe\">\n",
       "  <thead>\n",
       "    <tr style=\"text-align: right;\">\n",
       "      <th></th>\n",
       "      <th>continent</th>\n",
       "      <th>country</th>\n",
       "      <th>year</th>\n",
       "      <th>life_expectancy</th>\n",
       "      <th>fertility</th>\n",
       "      <th>population</th>\n",
       "    </tr>\n",
       "  </thead>\n",
       "  <tbody>\n",
       "    <tr>\n",
       "      <th>0</th>\n",
       "      <td>Africa</td>\n",
       "      <td>Algeria</td>\n",
       "      <td>1950</td>\n",
       "      <td>42.77</td>\n",
       "      <td>7.65</td>\n",
       "      <td>8872247.0</td>\n",
       "    </tr>\n",
       "    <tr>\n",
       "      <th>1</th>\n",
       "      <td>Africa</td>\n",
       "      <td>Algeria</td>\n",
       "      <td>1951</td>\n",
       "      <td>43.03</td>\n",
       "      <td>7.65</td>\n",
       "      <td>9039913.0</td>\n",
       "    </tr>\n",
       "    <tr>\n",
       "      <th>2</th>\n",
       "      <td>Africa</td>\n",
       "      <td>Algeria</td>\n",
       "      <td>1952</td>\n",
       "      <td>43.50</td>\n",
       "      <td>7.65</td>\n",
       "      <td>9216395.0</td>\n",
       "    </tr>\n",
       "    <tr>\n",
       "      <th>3</th>\n",
       "      <td>Africa</td>\n",
       "      <td>Algeria</td>\n",
       "      <td>1953</td>\n",
       "      <td>43.96</td>\n",
       "      <td>7.65</td>\n",
       "      <td>9405445.0</td>\n",
       "    </tr>\n",
       "    <tr>\n",
       "      <th>4</th>\n",
       "      <td>Africa</td>\n",
       "      <td>Algeria</td>\n",
       "      <td>1954</td>\n",
       "      <td>44.44</td>\n",
       "      <td>7.65</td>\n",
       "      <td>9609507.0</td>\n",
       "    </tr>\n",
       "    <tr>\n",
       "      <th>...</th>\n",
       "      <td>...</td>\n",
       "      <td>...</td>\n",
       "      <td>...</td>\n",
       "      <td>...</td>\n",
       "      <td>...</td>\n",
       "      <td>...</td>\n",
       "    </tr>\n",
       "    <tr>\n",
       "      <th>11083</th>\n",
       "      <td>South America</td>\n",
       "      <td>Venezuela</td>\n",
       "      <td>2011</td>\n",
       "      <td>74.80</td>\n",
       "      <td>2.44</td>\n",
       "      <td>29427631.0</td>\n",
       "    </tr>\n",
       "    <tr>\n",
       "      <th>11084</th>\n",
       "      <td>South America</td>\n",
       "      <td>Venezuela</td>\n",
       "      <td>2012</td>\n",
       "      <td>74.60</td>\n",
       "      <td>2.42</td>\n",
       "      <td>29854238.0</td>\n",
       "    </tr>\n",
       "    <tr>\n",
       "      <th>11085</th>\n",
       "      <td>South America</td>\n",
       "      <td>Venezuela</td>\n",
       "      <td>2013</td>\n",
       "      <td>74.70</td>\n",
       "      <td>2.39</td>\n",
       "      <td>30276045.0</td>\n",
       "    </tr>\n",
       "    <tr>\n",
       "      <th>11086</th>\n",
       "      <td>South America</td>\n",
       "      <td>Venezuela</td>\n",
       "      <td>2014</td>\n",
       "      <td>74.80</td>\n",
       "      <td>2.36</td>\n",
       "      <td>30693827.0</td>\n",
       "    </tr>\n",
       "    <tr>\n",
       "      <th>11087</th>\n",
       "      <td>South America</td>\n",
       "      <td>Venezuela</td>\n",
       "      <td>2015</td>\n",
       "      <td>74.80</td>\n",
       "      <td>2.34</td>\n",
       "      <td>31108083.0</td>\n",
       "    </tr>\n",
       "  </tbody>\n",
       "</table>\n",
       "<p>11088 rows × 6 columns</p>\n",
       "</div>"
      ],
      "text/plain": [
       "           continent    country  year  life_expectancy  fertility  population\n",
       "0             Africa    Algeria  1950            42.77       7.65   8872247.0\n",
       "1             Africa    Algeria  1951            43.03       7.65   9039913.0\n",
       "2             Africa    Algeria  1952            43.50       7.65   9216395.0\n",
       "3             Africa    Algeria  1953            43.96       7.65   9405445.0\n",
       "4             Africa    Algeria  1954            44.44       7.65   9609507.0\n",
       "...              ...        ...   ...              ...        ...         ...\n",
       "11083  South America  Venezuela  2011            74.80       2.44  29427631.0\n",
       "11084  South America  Venezuela  2012            74.60       2.42  29854238.0\n",
       "11085  South America  Venezuela  2013            74.70       2.39  30276045.0\n",
       "11086  South America  Venezuela  2014            74.80       2.36  30693827.0\n",
       "11087  South America  Venezuela  2015            74.80       2.34  31108083.0\n",
       "\n",
       "[11088 rows x 6 columns]"
      ]
     },
     "execution_count": 21,
     "metadata": {},
     "output_type": "execute_result"
    }
   ],
   "source": [
    "df"
   ]
  },
  {
   "cell_type": "code",
   "execution_count": 22,
   "metadata": {},
   "outputs": [
    {
     "data": {
      "text/plain": [
       "np.float64(5190648.5)"
      ]
     },
     "execution_count": 22,
     "metadata": {},
     "output_type": "execute_result"
    }
   ],
   "source": [
    "#2. What is the median population in the data set?\n",
    "\n",
    "df[\"population\"].median()"
   ]
  },
  {
   "cell_type": "code",
   "execution_count": 9,
   "metadata": {},
   "outputs": [
    {
     "data": {
      "text/plain": [
       "continent\n",
       "Africa                   3234\n",
       "Europe                   2640\n",
       "Asia                     2574\n",
       "North America            1254\n",
       "South America             792\n",
       "Australia and Oceania     594\n",
       "Name: count, dtype: int64"
      ]
     },
     "execution_count": 9,
     "metadata": {},
     "output_type": "execute_result"
    }
   ],
   "source": [
    "#3. How often does each continent appear in the data set?\n",
    "\n",
    "df[\"continent\"].value_counts()"
   ]
  },
  {
   "cell_type": "code",
   "execution_count": 19,
   "metadata": {},
   "outputs": [
    {
     "data": {
      "text/plain": [
       "continent\n",
       "Africa                   5.931345\n",
       "Asia                     4.673862\n",
       "Australia and Oceania    4.682172\n",
       "Europe                   2.169754\n",
       "North America            4.002329\n",
       "South America            4.077235\n",
       "Name: fertility, dtype: float64"
      ]
     },
     "execution_count": 19,
     "metadata": {},
     "output_type": "execute_result"
    }
   ],
   "source": [
    "#4. Which continent has the lowest average fertility rate overall?\n",
    "\n",
    "df.groupby(\"continent\")[\"fertility\"].agg(\"mean\")"
   ]
  },
  {
   "cell_type": "code",
   "execution_count": 27,
   "metadata": {},
   "outputs": [],
   "source": [
    "#5. What was the average life expectancy in Europe in 2015? \n",
    "\n",
    "df_2015 = df[df[\"year\"] == 2015]"
   ]
  },
  {
   "cell_type": "code",
   "execution_count": 28,
   "metadata": {},
   "outputs": [
    {
     "data": {
      "text/plain": [
       "continent\n",
       "Africa                   63.410204\n",
       "Asia                     73.933333\n",
       "Australia and Oceania    69.666667\n",
       "Europe                   78.755000\n",
       "North America            75.152632\n",
       "South America            75.141667\n",
       "Name: life_expectancy, dtype: float64"
      ]
     },
     "execution_count": 28,
     "metadata": {},
     "output_type": "execute_result"
    }
   ],
   "source": [
    "df_2015.groupby(\"continent\")[\"life_expectancy\"].agg(\"mean\")"
   ]
  },
  {
   "cell_type": "code",
   "execution_count": 32,
   "metadata": {},
   "outputs": [
    {
     "data": {
      "text/plain": [
       "continent\n",
       "Africa                   49\n",
       "Europe                   40\n",
       "Asia                     39\n",
       "North America            19\n",
       "South America            12\n",
       "Australia and Oceania     9\n",
       "Name: count, dtype: int64"
      ]
     },
     "execution_count": 32,
     "metadata": {},
     "output_type": "execute_result"
    }
   ],
   "source": [
    "#6. How many countries does each continent have in the dataset?\n",
    "\n",
    "df_2015[\"continent\"].value_counts()"
   ]
  },
  {
   "cell_type": "code",
   "execution_count": 33,
   "metadata": {},
   "outputs": [],
   "source": [
    "#7. What is the average population of a European country in 1976 compare to 2015?\n",
    "\n",
    "df_1976 = df[df[\"year\"] == 1976]"
   ]
  },
  {
   "cell_type": "code",
   "execution_count": 36,
   "metadata": {},
   "outputs": [
    {
     "data": {
      "text/plain": [
       "continent\n",
       "Africa                    7850933.0\n",
       "Asia                     60323406.0\n",
       "Australia and Oceania     2360114.0\n",
       "Europe                   13840494.0\n",
       "North America            18505322.0\n",
       "South America            18496211.0\n",
       "Name: population, dtype: float64"
      ]
     },
     "execution_count": 36,
     "metadata": {},
     "output_type": "execute_result"
    }
   ],
   "source": [
    "df_1976.groupby(\"continent\")[\"population\"].agg(\"mean\").round()"
   ]
  },
  {
   "cell_type": "code",
   "execution_count": 37,
   "metadata": {},
   "outputs": [
    {
     "data": {
      "text/plain": [
       "continent\n",
       "Africa                    21417684.0\n",
       "Asia                     109528467.0\n",
       "Australia and Oceania      4252114.0\n",
       "Europe                    15122676.0\n",
       "North America             29900366.0\n",
       "South America             34847974.0\n",
       "Name: population, dtype: float64"
      ]
     },
     "execution_count": 37,
     "metadata": {},
     "output_type": "execute_result"
    }
   ],
   "source": [
    "df_2015.groupby(\"continent\")[\"population\"].agg(\"mean\").round()"
   ]
  },
  {
   "cell_type": "code",
   "execution_count": 42,
   "metadata": {},
   "outputs": [
    {
     "data": {
      "text/plain": [
       "year\n",
       "1976    23129315.36\n",
       "2015    15122675.72\n",
       "Name: population, dtype: float64"
      ]
     },
     "execution_count": 42,
     "metadata": {},
     "output_type": "execute_result"
    }
   ],
   "source": [
    "# Teacher solution.\n",
    "\n",
    "df[(df['year']==1976) | (df['year']==2015) & (df['continent']=='Europe')].groupby('year')['population'].mean().round(2)"
   ]
  },
  {
   "cell_type": "code",
   "execution_count": 38,
   "metadata": {},
   "outputs": [
    {
     "data": {
      "text/plain": [
       "continent      country  \n",
       "Africa         Algeria      39666519.0\n",
       "               Angola       25021974.0\n",
       "               Benin        10879829.0\n",
       "               Botswana      2262485.0\n",
       "               Burundi      11178921.0\n",
       "                               ...    \n",
       "South America  Paraguay      6639123.0\n",
       "               Peru         31376670.0\n",
       "               Suriname       542975.0\n",
       "               Uruguay       3431555.0\n",
       "               Venezuela    31108083.0\n",
       "Name: population, Length: 168, dtype: float64"
      ]
     },
     "execution_count": 38,
     "metadata": {},
     "output_type": "execute_result"
    }
   ],
   "source": [
    "#8. What is the highest population a continent ever had?\n",
    "\n",
    "df.groupby([\"continent\",\"country\"])[\"population\"].max()"
   ]
  },
  {
   "cell_type": "code",
   "execution_count": 43,
   "metadata": {},
   "outputs": [
    {
     "data": {
      "text/plain": [
       "np.float64(1376048943.0)"
      ]
     },
     "execution_count": 43,
     "metadata": {},
     "output_type": "execute_result"
    }
   ],
   "source": [
    "# Teacher solution.\n",
    "\n",
    "max_pop_continent= df.groupby(['continent'])['population'].max()\n",
    "max_pop_continent.max()"
   ]
  },
  {
   "cell_type": "code",
   "execution_count": 39,
   "metadata": {},
   "outputs": [
    {
     "data": {
      "text/plain": [
       "country      year\n",
       "Afghanistan  1950     7752118.0\n",
       "             1951     7839426.0\n",
       "             1952     7934798.0\n",
       "             1953     8038312.0\n",
       "             1954     8150037.0\n",
       "                        ...    \n",
       "Zimbabwe     2011    14255592.0\n",
       "             2012    14565482.0\n",
       "             2013    14898092.0\n",
       "             2014    15245855.0\n",
       "             2015    15602751.0\n",
       "Name: population, Length: 11088, dtype: float64"
      ]
     },
     "execution_count": 39,
     "metadata": {},
     "output_type": "execute_result"
    }
   ],
   "source": [
    "#9. Which continent had that population and in which year?\n",
    "\n",
    "df.groupby([\"country\",\"year\"])[\"population\"].max()"
   ]
  },
  {
   "cell_type": "code",
   "execution_count": 44,
   "metadata": {},
   "outputs": [
    {
     "data": {
      "text/plain": [
       "max    (Asia, 2015)\n",
       "dtype: object"
      ]
     },
     "execution_count": 44,
     "metadata": {},
     "output_type": "execute_result"
    }
   ],
   "source": [
    "# Teacher solution.\n",
    "\n",
    "max_pop_continent= df.groupby(['continent', 'year'])['population'].agg(['max'])\n",
    "max_pop_continent.idxmax()"
   ]
  },
  {
   "cell_type": "code",
   "execution_count": null,
   "metadata": {},
   "outputs": [],
   "source": []
  }
 ],
 "metadata": {
  "kernelspec": {
   "display_name": "Python 3 (ipykernel)",
   "language": "python",
   "name": "python3"
  },
  "language_info": {
   "codemirror_mode": {
    "name": "ipython",
    "version": 3
   },
   "file_extension": ".py",
   "mimetype": "text/x-python",
   "name": "python",
   "nbconvert_exporter": "python",
   "pygments_lexer": "ipython3",
   "version": "3.12.4"
  }
 },
 "nbformat": 4,
 "nbformat_minor": 4
}
