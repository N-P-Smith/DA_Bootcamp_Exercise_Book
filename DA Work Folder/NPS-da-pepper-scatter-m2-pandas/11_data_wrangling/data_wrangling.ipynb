{
 "cells": [
  {
   "cell_type": "markdown",
   "id": "d8d929c5",
   "metadata": {},
   "source": [
    "# Data Wrangling\n",
    "\n"
   ]
  },
  {
   "cell_type": "markdown",
   "id": "8230c275",
   "metadata": {},
   "source": [
    "-----------------------"
   ]
  },
  {
   "cell_type": "markdown",
   "id": "300a59a9",
   "metadata": {},
   "source": [
    "# The idea behind Data Wrangling\n",
    "\n",
    "Data wrangling, also known as data munging, is a crucial step in the data analysis process that involves cleaning, structuring, and enriching raw data into a desired format for better decision making in less time. It is essentially the process of transforming and mapping data from one \"raw\" data form into another format with the intent of making it more appropriate and valuable for a variety of downstream purposes, such as analytics and reporting. Let's delve into the idea behind data wrangling and why it's so important."
   ]
  },
  {
   "cell_type": "markdown",
   "id": "bca97d44",
   "metadata": {},
   "source": [
    "## Why is Data Wrangling Important?\n",
    "\n",
    "Data wrangling is essential for several reasons:\n",
    "\n",
    "1. **Facilitates Easier Analysis:** Data in its raw form is often complex and unwieldy. Wrangling simplifies this data, making it easier to work with in analysis tools.\n",
    "\n",
    "2. **Improves Data Quality:** The process helps identify and correct errors or inconsistencies in data, leading to more accurate analysis results.\n",
    "\n",
    "3. **Saves Time:** Although data wrangling can be time-consuming, it ultimately saves time during the analysis phase by ensuring that data is in a consistent format that can be easily manipulated and explored.\n"
   ]
  },
  {
   "cell_type": "markdown",
   "id": "14ec55dc",
   "metadata": {},
   "source": [
    "### Concept of Tidy Data (Long Format)\n",
    "\n",
    "\n",
    "\n",
    "\n",
    "\n",
    "Tidy datasets are easy to manipulate, model and visualize, and have a specific structure:\n",
    "- each variable is a column\n",
    "- each observation is a row\n",
    "- and each type of observational unit is a table\n",
    "Tidy data makes it easy for an analyst or a computer to extract needed variables because it provides a standard way of structuring a dataset. It is also very pleasant to work with in the data exploration and plotting phases of a data project."
   ]
  },
  {
   "cell_type": "markdown",
   "id": "76c18d81",
   "metadata": {},
   "source": [
    "![Tidy data](https://d33wubrfki0l68.cloudfront.net/6f1ddb544fc5c69a2478e444ab8112fb0eea23f8/91adc/images/tidy-1.png)"
   ]
  },
  {
   "cell_type": "code",
   "execution_count": 1,
   "id": "dab871b1",
   "metadata": {},
   "outputs": [],
   "source": [
    "# example of a tidy dataset --> Pinguins dataset\n",
    "\n",
    "import pandas as pd\n",
    "import seaborn as sns\n",
    "import matplotlib.pyplot as plt"
   ]
  },
  {
   "cell_type": "code",
   "execution_count": 2,
   "id": "32151631",
   "metadata": {},
   "outputs": [],
   "source": [
    "penguins = sns.load_dataset(\"penguins\")"
   ]
  },
  {
   "cell_type": "code",
   "execution_count": 3,
   "id": "865cc492",
   "metadata": {},
   "outputs": [
    {
     "data": {
      "text/html": [
       "<div>\n",
       "<style scoped>\n",
       "    .dataframe tbody tr th:only-of-type {\n",
       "        vertical-align: middle;\n",
       "    }\n",
       "\n",
       "    .dataframe tbody tr th {\n",
       "        vertical-align: top;\n",
       "    }\n",
       "\n",
       "    .dataframe thead th {\n",
       "        text-align: right;\n",
       "    }\n",
       "</style>\n",
       "<table border=\"1\" class=\"dataframe\">\n",
       "  <thead>\n",
       "    <tr style=\"text-align: right;\">\n",
       "      <th></th>\n",
       "      <th>species</th>\n",
       "      <th>island</th>\n",
       "      <th>bill_length_mm</th>\n",
       "      <th>bill_depth_mm</th>\n",
       "      <th>flipper_length_mm</th>\n",
       "      <th>body_mass_g</th>\n",
       "      <th>sex</th>\n",
       "    </tr>\n",
       "  </thead>\n",
       "  <tbody>\n",
       "    <tr>\n",
       "      <th>0</th>\n",
       "      <td>Adelie</td>\n",
       "      <td>Torgersen</td>\n",
       "      <td>39.1</td>\n",
       "      <td>18.7</td>\n",
       "      <td>181.0</td>\n",
       "      <td>3750.0</td>\n",
       "      <td>Male</td>\n",
       "    </tr>\n",
       "    <tr>\n",
       "      <th>1</th>\n",
       "      <td>Adelie</td>\n",
       "      <td>Torgersen</td>\n",
       "      <td>39.5</td>\n",
       "      <td>17.4</td>\n",
       "      <td>186.0</td>\n",
       "      <td>3800.0</td>\n",
       "      <td>Female</td>\n",
       "    </tr>\n",
       "    <tr>\n",
       "      <th>2</th>\n",
       "      <td>Adelie</td>\n",
       "      <td>Torgersen</td>\n",
       "      <td>40.3</td>\n",
       "      <td>18.0</td>\n",
       "      <td>195.0</td>\n",
       "      <td>3250.0</td>\n",
       "      <td>Female</td>\n",
       "    </tr>\n",
       "    <tr>\n",
       "      <th>3</th>\n",
       "      <td>Adelie</td>\n",
       "      <td>Torgersen</td>\n",
       "      <td>NaN</td>\n",
       "      <td>NaN</td>\n",
       "      <td>NaN</td>\n",
       "      <td>NaN</td>\n",
       "      <td>NaN</td>\n",
       "    </tr>\n",
       "    <tr>\n",
       "      <th>4</th>\n",
       "      <td>Adelie</td>\n",
       "      <td>Torgersen</td>\n",
       "      <td>36.7</td>\n",
       "      <td>19.3</td>\n",
       "      <td>193.0</td>\n",
       "      <td>3450.0</td>\n",
       "      <td>Female</td>\n",
       "    </tr>\n",
       "  </tbody>\n",
       "</table>\n",
       "</div>"
      ],
      "text/plain": [
       "  species     island  bill_length_mm  bill_depth_mm  flipper_length_mm  \\\n",
       "0  Adelie  Torgersen            39.1           18.7              181.0   \n",
       "1  Adelie  Torgersen            39.5           17.4              186.0   \n",
       "2  Adelie  Torgersen            40.3           18.0              195.0   \n",
       "3  Adelie  Torgersen             NaN            NaN                NaN   \n",
       "4  Adelie  Torgersen            36.7           19.3              193.0   \n",
       "\n",
       "   body_mass_g     sex  \n",
       "0       3750.0    Male  \n",
       "1       3800.0  Female  \n",
       "2       3250.0  Female  \n",
       "3          NaN     NaN  \n",
       "4       3450.0  Female  "
      ]
     },
     "execution_count": 3,
     "metadata": {},
     "output_type": "execute_result"
    }
   ],
   "source": [
    "penguins.head()"
   ]
  },
  {
   "cell_type": "markdown",
   "id": "951d64a6",
   "metadata": {},
   "source": [
    "### Penguins is a tidy dataset. Why is this data tidy ?\n",
    "\n",
    "Characteristics of tidy datasets:\n",
    "- observational unit ==: one penguin\n",
    "- each variable is a column\n",
    "- the table is all about penguins\n"
   ]
  },
  {
   "cell_type": "markdown",
   "id": "c4efaf9d",
   "metadata": {},
   "source": [
    "#### Untidy datasets can violate the Tidy data structure rules above in different ways. For example:\n",
    "- Column headers are values, not variable names.\n",
    "- Multiple variables are stored in one column.\n",
    "- Variables are stored in both rows and columns.\n",
    "- Multiple types of observational units are stored in the same table.\n",
    "- A single observational unit is stored in multiple tables."
   ]
  },
  {
   "cell_type": "code",
   "execution_count": 4,
   "id": "a0e84c19",
   "metadata": {},
   "outputs": [
    {
     "data": {
      "text/html": [
       "<div>\n",
       "<style scoped>\n",
       "    .dataframe tbody tr th:only-of-type {\n",
       "        vertical-align: middle;\n",
       "    }\n",
       "\n",
       "    .dataframe tbody tr th {\n",
       "        vertical-align: top;\n",
       "    }\n",
       "\n",
       "    .dataframe thead th {\n",
       "        text-align: right;\n",
       "    }\n",
       "</style>\n",
       "<table border=\"1\" class=\"dataframe\">\n",
       "  <thead>\n",
       "    <tr style=\"text-align: right;\">\n",
       "      <th></th>\n",
       "      <th>bill_length_mm</th>\n",
       "      <th>bill_depth_mm</th>\n",
       "      <th>flipper_length_mm</th>\n",
       "      <th>body_mass_g</th>\n",
       "    </tr>\n",
       "  </thead>\n",
       "  <tbody>\n",
       "    <tr>\n",
       "      <th>count</th>\n",
       "      <td>342.000000</td>\n",
       "      <td>342.000000</td>\n",
       "      <td>342.000000</td>\n",
       "      <td>342.000000</td>\n",
       "    </tr>\n",
       "    <tr>\n",
       "      <th>mean</th>\n",
       "      <td>43.921930</td>\n",
       "      <td>17.151170</td>\n",
       "      <td>200.915205</td>\n",
       "      <td>4201.754386</td>\n",
       "    </tr>\n",
       "    <tr>\n",
       "      <th>std</th>\n",
       "      <td>5.459584</td>\n",
       "      <td>1.974793</td>\n",
       "      <td>14.061714</td>\n",
       "      <td>801.954536</td>\n",
       "    </tr>\n",
       "    <tr>\n",
       "      <th>min</th>\n",
       "      <td>32.100000</td>\n",
       "      <td>13.100000</td>\n",
       "      <td>172.000000</td>\n",
       "      <td>2700.000000</td>\n",
       "    </tr>\n",
       "    <tr>\n",
       "      <th>25%</th>\n",
       "      <td>39.225000</td>\n",
       "      <td>15.600000</td>\n",
       "      <td>190.000000</td>\n",
       "      <td>3550.000000</td>\n",
       "    </tr>\n",
       "    <tr>\n",
       "      <th>50%</th>\n",
       "      <td>44.450000</td>\n",
       "      <td>17.300000</td>\n",
       "      <td>197.000000</td>\n",
       "      <td>4050.000000</td>\n",
       "    </tr>\n",
       "    <tr>\n",
       "      <th>75%</th>\n",
       "      <td>48.500000</td>\n",
       "      <td>18.700000</td>\n",
       "      <td>213.000000</td>\n",
       "      <td>4750.000000</td>\n",
       "    </tr>\n",
       "    <tr>\n",
       "      <th>max</th>\n",
       "      <td>59.600000</td>\n",
       "      <td>21.500000</td>\n",
       "      <td>231.000000</td>\n",
       "      <td>6300.000000</td>\n",
       "    </tr>\n",
       "  </tbody>\n",
       "</table>\n",
       "</div>"
      ],
      "text/plain": [
       "       bill_length_mm  bill_depth_mm  flipper_length_mm  body_mass_g\n",
       "count      342.000000     342.000000         342.000000   342.000000\n",
       "mean        43.921930      17.151170         200.915205  4201.754386\n",
       "std          5.459584       1.974793          14.061714   801.954536\n",
       "min         32.100000      13.100000         172.000000  2700.000000\n",
       "25%         39.225000      15.600000         190.000000  3550.000000\n",
       "50%         44.450000      17.300000         197.000000  4050.000000\n",
       "75%         48.500000      18.700000         213.000000  4750.000000\n",
       "max         59.600000      21.500000         231.000000  6300.000000"
      ]
     },
     "execution_count": 4,
     "metadata": {},
     "output_type": "execute_result"
    }
   ],
   "source": [
    "penguins.describe()"
   ]
  },
  {
   "cell_type": "code",
   "execution_count": 5,
   "id": "79afb442",
   "metadata": {},
   "outputs": [
    {
     "name": "stdout",
     "output_type": "stream",
     "text": [
      "<class 'pandas.core.frame.DataFrame'>\n",
      "RangeIndex: 344 entries, 0 to 343\n",
      "Data columns (total 7 columns):\n",
      " #   Column             Non-Null Count  Dtype  \n",
      "---  ------             --------------  -----  \n",
      " 0   species            344 non-null    object \n",
      " 1   island             344 non-null    object \n",
      " 2   bill_length_mm     342 non-null    float64\n",
      " 3   bill_depth_mm      342 non-null    float64\n",
      " 4   flipper_length_mm  342 non-null    float64\n",
      " 5   body_mass_g        342 non-null    float64\n",
      " 6   sex                333 non-null    object \n",
      "dtypes: float64(4), object(3)\n",
      "memory usage: 18.9+ KB\n"
     ]
    }
   ],
   "source": [
    "penguins.info()"
   ]
  },
  {
   "cell_type": "code",
   "execution_count": 6,
   "id": "848c6468",
   "metadata": {},
   "outputs": [
    {
     "data": {
      "text/plain": [
       "(344, 7)"
      ]
     },
     "execution_count": 6,
     "metadata": {},
     "output_type": "execute_result"
    }
   ],
   "source": [
    "penguins.shape"
   ]
  },
  {
   "cell_type": "markdown",
   "id": "2e2cebaf",
   "metadata": {},
   "source": [
    "#### Let's visualize how many penguins are living on different islands, including the information about gender."
   ]
  },
  {
   "cell_type": "code",
   "execution_count": 7,
   "id": "602feb67",
   "metadata": {},
   "outputs": [
    {
     "data": {
      "text/plain": [
       "<Axes: xlabel='island', ylabel='count'>"
      ]
     },
     "execution_count": 7,
     "metadata": {},
     "output_type": "execute_result"
    },
    {
     "data": {
      "image/png": "[encoded data removed]",
      "text/plain": [
       "<Figure size 640x480 with 1 Axes>"
      ]
     },
     "metadata": {},
     "output_type": "display_data"
    }
   ],
   "source": [
    "sns.countplot(data=penguins, hue='sex', x='island')"
   ]
  },
  {
   "cell_type": "markdown",
   "id": "9dd847d2",
   "metadata": {},
   "source": [
    "#### Let's imagine we want now to compare penguins from different islands, but now we want to use the type of the bill measurement as the hue."
   ]
  },
  {
   "cell_type": "code",
   "execution_count": 8,
   "id": "0f64332c",
   "metadata": {
    "scrolled": true
   },
   "outputs": [
    {
     "data": {
      "text/plain": [
       "<Axes: xlabel='island', ylabel='bill_length_mm'>"
      ]
     },
     "execution_count": 8,
     "metadata": {},
     "output_type": "execute_result"
    },
    {
     "data": {
      "image/png": "[encoded data removed]",
      "text/plain": [
       "<Figure size 640x480 with 1 Axes>"
      ]
     },
     "metadata": {},
     "output_type": "display_data"
    }
   ],
   "source": [
    "# let's experiment with the possible options: barplot instead of countplot\n",
    "\n",
    "sns.barplot(data=penguins, x='island', y='bill_length_mm')"
   ]
  },
  {
   "cell_type": "code",
   "execution_count": 10,
   "id": "c0c342bf",
   "metadata": {
    "scrolled": true
   },
   "outputs": [
    {
     "data": {
      "text/plain": [
       "<Axes: xlabel='bill_depth_mm', ylabel='island'>"
      ]
     },
     "execution_count": 10,
     "metadata": {},
     "output_type": "execute_result"
    },
    {
     "data": {
      "image/png": "[encoded data removed]",
      "text/plain": [
       "<Figure size 640x480 with 1 Axes>"
      ]
     },
     "metadata": {},
     "output_type": "display_data"
    }
   ],
   "source": [
    "# let's experiment with the possible options: boxplot instead of barplot\n",
    "\n",
    "sns.boxplot(hue='sex', y='island', x='bill_depth_mm', data=penguins)"
   ]
  },
  {
   "cell_type": "markdown",
   "id": "868b163e",
   "metadata": {},
   "source": [
    "There is no easy option to bring both of the bill measurements to a single visual besides changing the format of the data. To bring both of the bill measurements it would be helpful to have the distinction between the measurements in a column (the same way as we have it for e.g. island)"
   ]
  },
  {
   "cell_type": "markdown",
   "id": "27afdeef",
   "metadata": {},
   "source": [
    "### Wide versus Long Data Format\n",
    "Data in pandas and tabular data in general can exist in two forms: long and wide format.\n",
    "\n",
    "- In the long format, for each type of variable, there is a single value column and another column that contains the variable name for each of the values. This format is great for plotting with seaborn.\n",
    "\n",
    "- In the wide format, each variable has its own column. This format is great for calculating descriptive statistics or for applying machine learning with sklearn.\n",
    "\n",
    "The conversion between long and wide format helps you to bring data into the right format for merging, concatenation or plotting.\n",
    "\n",
    "Before applying the transformations, make sure that your data is Tidy Data. Once your data is tidy, transformations from one format to the other will become simple.\n"
   ]
  },
  {
   "cell_type": "markdown",
   "id": "5c1786f1",
   "metadata": {},
   "source": [
    "We can melt bill measurements and have a single bill column, this will give us a long format dataframe"
   ]
  },
  {
   "cell_type": "code",
   "execution_count": 11,
   "id": "f62a2f46",
   "metadata": {},
   "outputs": [],
   "source": [
    "# before we do that, it would be helpful to have an additional penguin id column\n",
    "penguins['id'] = penguins.index"
   ]
  },
  {
   "cell_type": "code",
   "execution_count": 12,
   "id": "eae8bda3",
   "metadata": {},
   "outputs": [
    {
     "data": {
      "text/html": [
       "<div>\n",
       "<style scoped>\n",
       "    .dataframe tbody tr th:only-of-type {\n",
       "        vertical-align: middle;\n",
       "    }\n",
       "\n",
       "    .dataframe tbody tr th {\n",
       "        vertical-align: top;\n",
       "    }\n",
       "\n",
       "    .dataframe thead th {\n",
       "        text-align: right;\n",
       "    }\n",
       "</style>\n",
       "<table border=\"1\" class=\"dataframe\">\n",
       "  <thead>\n",
       "    <tr style=\"text-align: right;\">\n",
       "      <th></th>\n",
       "      <th>species</th>\n",
       "      <th>island</th>\n",
       "      <th>bill_length_mm</th>\n",
       "      <th>bill_depth_mm</th>\n",
       "      <th>flipper_length_mm</th>\n",
       "      <th>body_mass_g</th>\n",
       "      <th>sex</th>\n",
       "      <th>id</th>\n",
       "    </tr>\n",
       "  </thead>\n",
       "  <tbody>\n",
       "    <tr>\n",
       "      <th>0</th>\n",
       "      <td>Adelie</td>\n",
       "      <td>Torgersen</td>\n",
       "      <td>39.1</td>\n",
       "      <td>18.7</td>\n",
       "      <td>181.0</td>\n",
       "      <td>3750.0</td>\n",
       "      <td>Male</td>\n",
       "      <td>0</td>\n",
       "    </tr>\n",
       "    <tr>\n",
       "      <th>1</th>\n",
       "      <td>Adelie</td>\n",
       "      <td>Torgersen</td>\n",
       "      <td>39.5</td>\n",
       "      <td>17.4</td>\n",
       "      <td>186.0</td>\n",
       "      <td>3800.0</td>\n",
       "      <td>Female</td>\n",
       "      <td>1</td>\n",
       "    </tr>\n",
       "    <tr>\n",
       "      <th>2</th>\n",
       "      <td>Adelie</td>\n",
       "      <td>Torgersen</td>\n",
       "      <td>40.3</td>\n",
       "      <td>18.0</td>\n",
       "      <td>195.0</td>\n",
       "      <td>3250.0</td>\n",
       "      <td>Female</td>\n",
       "      <td>2</td>\n",
       "    </tr>\n",
       "    <tr>\n",
       "      <th>3</th>\n",
       "      <td>Adelie</td>\n",
       "      <td>Torgersen</td>\n",
       "      <td>NaN</td>\n",
       "      <td>NaN</td>\n",
       "      <td>NaN</td>\n",
       "      <td>NaN</td>\n",
       "      <td>NaN</td>\n",
       "      <td>3</td>\n",
       "    </tr>\n",
       "    <tr>\n",
       "      <th>4</th>\n",
       "      <td>Adelie</td>\n",
       "      <td>Torgersen</td>\n",
       "      <td>36.7</td>\n",
       "      <td>19.3</td>\n",
       "      <td>193.0</td>\n",
       "      <td>3450.0</td>\n",
       "      <td>Female</td>\n",
       "      <td>4</td>\n",
       "    </tr>\n",
       "  </tbody>\n",
       "</table>\n",
       "</div>"
      ],
      "text/plain": [
       "  species     island  bill_length_mm  bill_depth_mm  flipper_length_mm  \\\n",
       "0  Adelie  Torgersen            39.1           18.7              181.0   \n",
       "1  Adelie  Torgersen            39.5           17.4              186.0   \n",
       "2  Adelie  Torgersen            40.3           18.0              195.0   \n",
       "3  Adelie  Torgersen             NaN            NaN                NaN   \n",
       "4  Adelie  Torgersen            36.7           19.3              193.0   \n",
       "\n",
       "   body_mass_g     sex  id  \n",
       "0       3750.0    Male   0  \n",
       "1       3800.0  Female   1  \n",
       "2       3250.0  Female   2  \n",
       "3          NaN     NaN   3  \n",
       "4       3450.0  Female   4  "
      ]
     },
     "execution_count": 12,
     "metadata": {},
     "output_type": "execute_result"
    }
   ],
   "source": [
    "penguins.head()"
   ]
  },
  {
   "cell_type": "markdown",
   "id": "2e1721a4",
   "metadata": {},
   "source": [
    "Melt is used to transform the data from wide to long format.\n",
    "\n",
    "- id_vars:                 <=== Column(s) to use as identifier variables\n",
    "- value_vars:              <=== Column(s) to unpivot. If not specified, uses all columns that are not set as id_vars.\n",
    "- var_name:                <=== Name to use for the ‘variable’ column.\n",
    "- value_name:              <=== Name to use for the ‘value’ column."
   ]
  },
  {
   "cell_type": "code",
   "execution_count": 13,
   "id": "891c3d33",
   "metadata": {},
   "outputs": [],
   "source": [
    "penguins_long = pd.melt(penguins,                                        # dataset\n",
    "                        id_vars=['id', 'sex', 'species', 'island'],      # Column(s) to use as identifier variables\n",
    "                        value_vars=['bill_length_mm', 'bill_depth_mm'],  # Column(s) to unpivot\n",
    "                        var_name='bill_measurement',                     # Name to use for the ‘variable’ column\n",
    "                        value_name='value')                              # Name to use for the ‘value’ column"
   ]
  },
  {
   "cell_type": "code",
   "execution_count": 14,
   "id": "1de51e27",
   "metadata": {},
   "outputs": [
    {
     "data": {
      "text/html": [
       "<div>\n",
       "<style scoped>\n",
       "    .dataframe tbody tr th:only-of-type {\n",
       "        vertical-align: middle;\n",
       "    }\n",
       "\n",
       "    .dataframe tbody tr th {\n",
       "        vertical-align: top;\n",
       "    }\n",
       "\n",
       "    .dataframe thead th {\n",
       "        text-align: right;\n",
       "    }\n",
       "</style>\n",
       "<table border=\"1\" class=\"dataframe\">\n",
       "  <thead>\n",
       "    <tr style=\"text-align: right;\">\n",
       "      <th></th>\n",
       "      <th>id</th>\n",
       "      <th>sex</th>\n",
       "      <th>species</th>\n",
       "      <th>island</th>\n",
       "      <th>bill_measurement</th>\n",
       "      <th>value</th>\n",
       "    </tr>\n",
       "  </thead>\n",
       "  <tbody>\n",
       "    <tr>\n",
       "      <th>0</th>\n",
       "      <td>0</td>\n",
       "      <td>Male</td>\n",
       "      <td>Adelie</td>\n",
       "      <td>Torgersen</td>\n",
       "      <td>bill_length_mm</td>\n",
       "      <td>39.1</td>\n",
       "    </tr>\n",
       "    <tr>\n",
       "      <th>1</th>\n",
       "      <td>1</td>\n",
       "      <td>Female</td>\n",
       "      <td>Adelie</td>\n",
       "      <td>Torgersen</td>\n",
       "      <td>bill_length_mm</td>\n",
       "      <td>39.5</td>\n",
       "    </tr>\n",
       "    <tr>\n",
       "      <th>2</th>\n",
       "      <td>2</td>\n",
       "      <td>Female</td>\n",
       "      <td>Adelie</td>\n",
       "      <td>Torgersen</td>\n",
       "      <td>bill_length_mm</td>\n",
       "      <td>40.3</td>\n",
       "    </tr>\n",
       "    <tr>\n",
       "      <th>3</th>\n",
       "      <td>3</td>\n",
       "      <td>NaN</td>\n",
       "      <td>Adelie</td>\n",
       "      <td>Torgersen</td>\n",
       "      <td>bill_length_mm</td>\n",
       "      <td>NaN</td>\n",
       "    </tr>\n",
       "    <tr>\n",
       "      <th>4</th>\n",
       "      <td>4</td>\n",
       "      <td>Female</td>\n",
       "      <td>Adelie</td>\n",
       "      <td>Torgersen</td>\n",
       "      <td>bill_length_mm</td>\n",
       "      <td>36.7</td>\n",
       "    </tr>\n",
       "  </tbody>\n",
       "</table>\n",
       "</div>"
      ],
      "text/plain": [
       "   id     sex species     island bill_measurement  value\n",
       "0   0    Male  Adelie  Torgersen   bill_length_mm   39.1\n",
       "1   1  Female  Adelie  Torgersen   bill_length_mm   39.5\n",
       "2   2  Female  Adelie  Torgersen   bill_length_mm   40.3\n",
       "3   3     NaN  Adelie  Torgersen   bill_length_mm    NaN\n",
       "4   4  Female  Adelie  Torgersen   bill_length_mm   36.7"
      ]
     },
     "execution_count": 14,
     "metadata": {},
     "output_type": "execute_result"
    }
   ],
   "source": [
    "penguins_long.head()"
   ]
  },
  {
   "cell_type": "code",
   "execution_count": 15,
   "id": "0527fe07",
   "metadata": {},
   "outputs": [
    {
     "data": {
      "text/html": [
       "<div>\n",
       "<style scoped>\n",
       "    .dataframe tbody tr th:only-of-type {\n",
       "        vertical-align: middle;\n",
       "    }\n",
       "\n",
       "    .dataframe tbody tr th {\n",
       "        vertical-align: top;\n",
       "    }\n",
       "\n",
       "    .dataframe thead th {\n",
       "        text-align: right;\n",
       "    }\n",
       "</style>\n",
       "<table border=\"1\" class=\"dataframe\">\n",
       "  <thead>\n",
       "    <tr style=\"text-align: right;\">\n",
       "      <th></th>\n",
       "      <th>id</th>\n",
       "      <th>sex</th>\n",
       "      <th>species</th>\n",
       "      <th>island</th>\n",
       "      <th>bill_measurement</th>\n",
       "      <th>value</th>\n",
       "    </tr>\n",
       "  </thead>\n",
       "  <tbody>\n",
       "    <tr>\n",
       "      <th>683</th>\n",
       "      <td>339</td>\n",
       "      <td>NaN</td>\n",
       "      <td>Gentoo</td>\n",
       "      <td>Biscoe</td>\n",
       "      <td>bill_depth_mm</td>\n",
       "      <td>NaN</td>\n",
       "    </tr>\n",
       "    <tr>\n",
       "      <th>684</th>\n",
       "      <td>340</td>\n",
       "      <td>Female</td>\n",
       "      <td>Gentoo</td>\n",
       "      <td>Biscoe</td>\n",
       "      <td>bill_depth_mm</td>\n",
       "      <td>14.3</td>\n",
       "    </tr>\n",
       "    <tr>\n",
       "      <th>685</th>\n",
       "      <td>341</td>\n",
       "      <td>Male</td>\n",
       "      <td>Gentoo</td>\n",
       "      <td>Biscoe</td>\n",
       "      <td>bill_depth_mm</td>\n",
       "      <td>15.7</td>\n",
       "    </tr>\n",
       "    <tr>\n",
       "      <th>686</th>\n",
       "      <td>342</td>\n",
       "      <td>Female</td>\n",
       "      <td>Gentoo</td>\n",
       "      <td>Biscoe</td>\n",
       "      <td>bill_depth_mm</td>\n",
       "      <td>14.8</td>\n",
       "    </tr>\n",
       "    <tr>\n",
       "      <th>687</th>\n",
       "      <td>343</td>\n",
       "      <td>Male</td>\n",
       "      <td>Gentoo</td>\n",
       "      <td>Biscoe</td>\n",
       "      <td>bill_depth_mm</td>\n",
       "      <td>16.1</td>\n",
       "    </tr>\n",
       "  </tbody>\n",
       "</table>\n",
       "</div>"
      ],
      "text/plain": [
       "      id     sex species  island bill_measurement  value\n",
       "683  339     NaN  Gentoo  Biscoe    bill_depth_mm    NaN\n",
       "684  340  Female  Gentoo  Biscoe    bill_depth_mm   14.3\n",
       "685  341    Male  Gentoo  Biscoe    bill_depth_mm   15.7\n",
       "686  342  Female  Gentoo  Biscoe    bill_depth_mm   14.8\n",
       "687  343    Male  Gentoo  Biscoe    bill_depth_mm   16.1"
      ]
     },
     "execution_count": 15,
     "metadata": {},
     "output_type": "execute_result"
    }
   ],
   "source": [
    "penguins_long.tail()"
   ]
  },
  {
   "cell_type": "markdown",
   "id": "c5aec6ba",
   "metadata": {},
   "source": [
    "How are the dimensions different from the original dataframe? How to interpret it?"
   ]
  },
  {
   "cell_type": "code",
   "execution_count": 16,
   "id": "8cbed3e9",
   "metadata": {},
   "outputs": [
    {
     "data": {
      "text/plain": [
       "(688, 6)"
      ]
     },
     "execution_count": 16,
     "metadata": {},
     "output_type": "execute_result"
    }
   ],
   "source": [
    "penguins_long.shape"
   ]
  },
  {
   "cell_type": "markdown",
   "id": "613c7abd",
   "metadata": {},
   "source": [
    "A: For every penguin we have 2 rows right now (double number of rows). Numerical columns were reduced to only one."
   ]
  },
  {
   "cell_type": "code",
   "execution_count": 17,
   "id": "45ab2a3c",
   "metadata": {},
   "outputs": [
    {
     "data": {
      "text/html": [
       "<div>\n",
       "<style scoped>\n",
       "    .dataframe tbody tr th:only-of-type {\n",
       "        vertical-align: middle;\n",
       "    }\n",
       "\n",
       "    .dataframe tbody tr th {\n",
       "        vertical-align: top;\n",
       "    }\n",
       "\n",
       "    .dataframe thead th {\n",
       "        text-align: right;\n",
       "    }\n",
       "</style>\n",
       "<table border=\"1\" class=\"dataframe\">\n",
       "  <thead>\n",
       "    <tr style=\"text-align: right;\">\n",
       "      <th></th>\n",
       "      <th>id</th>\n",
       "      <th>sex</th>\n",
       "      <th>species</th>\n",
       "      <th>island</th>\n",
       "      <th>bill_measurement</th>\n",
       "      <th>value</th>\n",
       "    </tr>\n",
       "  </thead>\n",
       "  <tbody>\n",
       "    <tr>\n",
       "      <th>0</th>\n",
       "      <td>0</td>\n",
       "      <td>Male</td>\n",
       "      <td>Adelie</td>\n",
       "      <td>Torgersen</td>\n",
       "      <td>bill_length_mm</td>\n",
       "      <td>39.1</td>\n",
       "    </tr>\n",
       "    <tr>\n",
       "      <th>344</th>\n",
       "      <td>0</td>\n",
       "      <td>Male</td>\n",
       "      <td>Adelie</td>\n",
       "      <td>Torgersen</td>\n",
       "      <td>bill_depth_mm</td>\n",
       "      <td>18.7</td>\n",
       "    </tr>\n",
       "    <tr>\n",
       "      <th>345</th>\n",
       "      <td>1</td>\n",
       "      <td>Female</td>\n",
       "      <td>Adelie</td>\n",
       "      <td>Torgersen</td>\n",
       "      <td>bill_depth_mm</td>\n",
       "      <td>17.4</td>\n",
       "    </tr>\n",
       "    <tr>\n",
       "      <th>1</th>\n",
       "      <td>1</td>\n",
       "      <td>Female</td>\n",
       "      <td>Adelie</td>\n",
       "      <td>Torgersen</td>\n",
       "      <td>bill_length_mm</td>\n",
       "      <td>39.5</td>\n",
       "    </tr>\n",
       "    <tr>\n",
       "      <th>346</th>\n",
       "      <td>2</td>\n",
       "      <td>Female</td>\n",
       "      <td>Adelie</td>\n",
       "      <td>Torgersen</td>\n",
       "      <td>bill_depth_mm</td>\n",
       "      <td>18.0</td>\n",
       "    </tr>\n",
       "    <tr>\n",
       "      <th>...</th>\n",
       "      <td>...</td>\n",
       "      <td>...</td>\n",
       "      <td>...</td>\n",
       "      <td>...</td>\n",
       "      <td>...</td>\n",
       "      <td>...</td>\n",
       "    </tr>\n",
       "    <tr>\n",
       "      <th>685</th>\n",
       "      <td>341</td>\n",
       "      <td>Male</td>\n",
       "      <td>Gentoo</td>\n",
       "      <td>Biscoe</td>\n",
       "      <td>bill_depth_mm</td>\n",
       "      <td>15.7</td>\n",
       "    </tr>\n",
       "    <tr>\n",
       "      <th>342</th>\n",
       "      <td>342</td>\n",
       "      <td>Female</td>\n",
       "      <td>Gentoo</td>\n",
       "      <td>Biscoe</td>\n",
       "      <td>bill_length_mm</td>\n",
       "      <td>45.2</td>\n",
       "    </tr>\n",
       "    <tr>\n",
       "      <th>686</th>\n",
       "      <td>342</td>\n",
       "      <td>Female</td>\n",
       "      <td>Gentoo</td>\n",
       "      <td>Biscoe</td>\n",
       "      <td>bill_depth_mm</td>\n",
       "      <td>14.8</td>\n",
       "    </tr>\n",
       "    <tr>\n",
       "      <th>687</th>\n",
       "      <td>343</td>\n",
       "      <td>Male</td>\n",
       "      <td>Gentoo</td>\n",
       "      <td>Biscoe</td>\n",
       "      <td>bill_depth_mm</td>\n",
       "      <td>16.1</td>\n",
       "    </tr>\n",
       "    <tr>\n",
       "      <th>343</th>\n",
       "      <td>343</td>\n",
       "      <td>Male</td>\n",
       "      <td>Gentoo</td>\n",
       "      <td>Biscoe</td>\n",
       "      <td>bill_length_mm</td>\n",
       "      <td>49.9</td>\n",
       "    </tr>\n",
       "  </tbody>\n",
       "</table>\n",
       "<p>688 rows × 6 columns</p>\n",
       "</div>"
      ],
      "text/plain": [
       "      id     sex species     island bill_measurement  value\n",
       "0      0    Male  Adelie  Torgersen   bill_length_mm   39.1\n",
       "344    0    Male  Adelie  Torgersen    bill_depth_mm   18.7\n",
       "345    1  Female  Adelie  Torgersen    bill_depth_mm   17.4\n",
       "1      1  Female  Adelie  Torgersen   bill_length_mm   39.5\n",
       "346    2  Female  Adelie  Torgersen    bill_depth_mm   18.0\n",
       "..   ...     ...     ...        ...              ...    ...\n",
       "685  341    Male  Gentoo     Biscoe    bill_depth_mm   15.7\n",
       "342  342  Female  Gentoo     Biscoe   bill_length_mm   45.2\n",
       "686  342  Female  Gentoo     Biscoe    bill_depth_mm   14.8\n",
       "687  343    Male  Gentoo     Biscoe    bill_depth_mm   16.1\n",
       "343  343    Male  Gentoo     Biscoe   bill_length_mm   49.9\n",
       "\n",
       "[688 rows x 6 columns]"
      ]
     },
     "execution_count": 17,
     "metadata": {},
     "output_type": "execute_result"
    }
   ],
   "source": [
    "penguins_long.sort_values(by='id')"
   ]
  },
  {
   "cell_type": "code",
   "execution_count": 16,
   "id": "9e527237",
   "metadata": {
    "scrolled": true
   },
   "outputs": [
    {
     "data": {
      "text/plain": [
       "<Axes: xlabel='island', ylabel='value'>"
      ]
     },
     "execution_count": 16,
     "metadata": {},
     "output_type": "execute_result"
    },
    {
     "data": {
      "image/png": "[encoded data removed]",
      "text/plain": [
       "<Figure size 640x480 with 1 Axes>"
      ]
     },
     "metadata": {},
     "output_type": "display_data"
    }
   ],
   "source": [
    "sns.boxplot(hue='bill_measurement', y='value', x='island', data=penguins_long)"
   ]
  },
  {
   "cell_type": "markdown",
   "id": "d14a04f9",
   "metadata": {},
   "source": [
    "Come back to the previous format using pivot function"
   ]
  },
  {
   "cell_type": "code",
   "execution_count": 18,
   "id": "f4d6c6eb",
   "metadata": {},
   "outputs": [],
   "source": [
    "wide_penguins = pd.pivot(penguins_long,             # <===  tidy/long format df\n",
    "                     columns='bill_measurement',    # <=== column(s) whose values we want as our new columns\n",
    "                     index=['id', 'island', 'sex'], # <=== column(s) that will be used as a new index\n",
    "                     values='value')                # <=== column whose values we want to populate our new wide dataframe"
   ]
  },
  {
   "cell_type": "code",
   "execution_count": 20,
   "id": "895b5b0f",
   "metadata": {},
   "outputs": [
    {
     "data": {
      "text/html": [
       "<div>\n",
       "<style scoped>\n",
       "    .dataframe tbody tr th:only-of-type {\n",
       "        vertical-align: middle;\n",
       "    }\n",
       "\n",
       "    .dataframe tbody tr th {\n",
       "        vertical-align: top;\n",
       "    }\n",
       "\n",
       "    .dataframe thead th {\n",
       "        text-align: right;\n",
       "    }\n",
       "</style>\n",
       "<table border=\"1\" class=\"dataframe\">\n",
       "  <thead>\n",
       "    <tr style=\"text-align: right;\">\n",
       "      <th></th>\n",
       "      <th></th>\n",
       "      <th>bill_measurement</th>\n",
       "      <th>bill_depth_mm</th>\n",
       "      <th>bill_length_mm</th>\n",
       "    </tr>\n",
       "    <tr>\n",
       "      <th>id</th>\n",
       "      <th>island</th>\n",
       "      <th>sex</th>\n",
       "      <th></th>\n",
       "      <th></th>\n",
       "    </tr>\n",
       "  </thead>\n",
       "  <tbody>\n",
       "    <tr>\n",
       "      <th>0</th>\n",
       "      <th>Torgersen</th>\n",
       "      <th>Male</th>\n",
       "      <td>18.7</td>\n",
       "      <td>39.1</td>\n",
       "    </tr>\n",
       "    <tr>\n",
       "      <th>1</th>\n",
       "      <th>Torgersen</th>\n",
       "      <th>Female</th>\n",
       "      <td>17.4</td>\n",
       "      <td>39.5</td>\n",
       "    </tr>\n",
       "    <tr>\n",
       "      <th>2</th>\n",
       "      <th>Torgersen</th>\n",
       "      <th>Female</th>\n",
       "      <td>18.0</td>\n",
       "      <td>40.3</td>\n",
       "    </tr>\n",
       "    <tr>\n",
       "      <th>3</th>\n",
       "      <th>Torgersen</th>\n",
       "      <th>NaN</th>\n",
       "      <td>NaN</td>\n",
       "      <td>NaN</td>\n",
       "    </tr>\n",
       "    <tr>\n",
       "      <th>4</th>\n",
       "      <th>Torgersen</th>\n",
       "      <th>Female</th>\n",
       "      <td>19.3</td>\n",
       "      <td>36.7</td>\n",
       "    </tr>\n",
       "    <tr>\n",
       "      <th>...</th>\n",
       "      <th>...</th>\n",
       "      <th>...</th>\n",
       "      <td>...</td>\n",
       "      <td>...</td>\n",
       "    </tr>\n",
       "    <tr>\n",
       "      <th>339</th>\n",
       "      <th>Biscoe</th>\n",
       "      <th>NaN</th>\n",
       "      <td>NaN</td>\n",
       "      <td>NaN</td>\n",
       "    </tr>\n",
       "    <tr>\n",
       "      <th>340</th>\n",
       "      <th>Biscoe</th>\n",
       "      <th>Female</th>\n",
       "      <td>14.3</td>\n",
       "      <td>46.8</td>\n",
       "    </tr>\n",
       "    <tr>\n",
       "      <th>341</th>\n",
       "      <th>Biscoe</th>\n",
       "      <th>Male</th>\n",
       "      <td>15.7</td>\n",
       "      <td>50.4</td>\n",
       "    </tr>\n",
       "    <tr>\n",
       "      <th>342</th>\n",
       "      <th>Biscoe</th>\n",
       "      <th>Female</th>\n",
       "      <td>14.8</td>\n",
       "      <td>45.2</td>\n",
       "    </tr>\n",
       "    <tr>\n",
       "      <th>343</th>\n",
       "      <th>Biscoe</th>\n",
       "      <th>Male</th>\n",
       "      <td>16.1</td>\n",
       "      <td>49.9</td>\n",
       "    </tr>\n",
       "  </tbody>\n",
       "</table>\n",
       "<p>344 rows × 2 columns</p>\n",
       "</div>"
      ],
      "text/plain": [
       "bill_measurement      bill_depth_mm  bill_length_mm\n",
       "id  island    sex                                  \n",
       "0   Torgersen Male             18.7            39.1\n",
       "1   Torgersen Female           17.4            39.5\n",
       "2   Torgersen Female           18.0            40.3\n",
       "3   Torgersen NaN               NaN             NaN\n",
       "4   Torgersen Female           19.3            36.7\n",
       "...                             ...             ...\n",
       "339 Biscoe    NaN               NaN             NaN\n",
       "340 Biscoe    Female           14.3            46.8\n",
       "341 Biscoe    Male             15.7            50.4\n",
       "342 Biscoe    Female           14.8            45.2\n",
       "343 Biscoe    Male             16.1            49.9\n",
       "\n",
       "[344 rows x 2 columns]"
      ]
     },
     "execution_count": 20,
     "metadata": {},
     "output_type": "execute_result"
    }
   ],
   "source": [
    "wide_penguins"
   ]
  },
  {
   "cell_type": "code",
   "execution_count": 21,
   "id": "decb0c22",
   "metadata": {},
   "outputs": [
    {
     "data": {
      "text/html": [
       "<div>\n",
       "<style scoped>\n",
       "    .dataframe tbody tr th:only-of-type {\n",
       "        vertical-align: middle;\n",
       "    }\n",
       "\n",
       "    .dataframe tbody tr th {\n",
       "        vertical-align: top;\n",
       "    }\n",
       "\n",
       "    .dataframe thead th {\n",
       "        text-align: right;\n",
       "    }\n",
       "</style>\n",
       "<table border=\"1\" class=\"dataframe\">\n",
       "  <thead>\n",
       "    <tr style=\"text-align: right;\">\n",
       "      <th>bill_measurement</th>\n",
       "      <th>id</th>\n",
       "      <th>island</th>\n",
       "      <th>sex</th>\n",
       "      <th>bill_depth_mm</th>\n",
       "      <th>bill_length_mm</th>\n",
       "    </tr>\n",
       "  </thead>\n",
       "  <tbody>\n",
       "    <tr>\n",
       "      <th>0</th>\n",
       "      <td>0</td>\n",
       "      <td>Torgersen</td>\n",
       "      <td>Male</td>\n",
       "      <td>18.7</td>\n",
       "      <td>39.1</td>\n",
       "    </tr>\n",
       "    <tr>\n",
       "      <th>1</th>\n",
       "      <td>1</td>\n",
       "      <td>Torgersen</td>\n",
       "      <td>Female</td>\n",
       "      <td>17.4</td>\n",
       "      <td>39.5</td>\n",
       "    </tr>\n",
       "    <tr>\n",
       "      <th>2</th>\n",
       "      <td>2</td>\n",
       "      <td>Torgersen</td>\n",
       "      <td>Female</td>\n",
       "      <td>18.0</td>\n",
       "      <td>40.3</td>\n",
       "    </tr>\n",
       "    <tr>\n",
       "      <th>3</th>\n",
       "      <td>3</td>\n",
       "      <td>Torgersen</td>\n",
       "      <td>NaN</td>\n",
       "      <td>NaN</td>\n",
       "      <td>NaN</td>\n",
       "    </tr>\n",
       "    <tr>\n",
       "      <th>4</th>\n",
       "      <td>4</td>\n",
       "      <td>Torgersen</td>\n",
       "      <td>Female</td>\n",
       "      <td>19.3</td>\n",
       "      <td>36.7</td>\n",
       "    </tr>\n",
       "    <tr>\n",
       "      <th>...</th>\n",
       "      <td>...</td>\n",
       "      <td>...</td>\n",
       "      <td>...</td>\n",
       "      <td>...</td>\n",
       "      <td>...</td>\n",
       "    </tr>\n",
       "    <tr>\n",
       "      <th>339</th>\n",
       "      <td>339</td>\n",
       "      <td>Biscoe</td>\n",
       "      <td>NaN</td>\n",
       "      <td>NaN</td>\n",
       "      <td>NaN</td>\n",
       "    </tr>\n",
       "    <tr>\n",
       "      <th>340</th>\n",
       "      <td>340</td>\n",
       "      <td>Biscoe</td>\n",
       "      <td>Female</td>\n",
       "      <td>14.3</td>\n",
       "      <td>46.8</td>\n",
       "    </tr>\n",
       "    <tr>\n",
       "      <th>341</th>\n",
       "      <td>341</td>\n",
       "      <td>Biscoe</td>\n",
       "      <td>Male</td>\n",
       "      <td>15.7</td>\n",
       "      <td>50.4</td>\n",
       "    </tr>\n",
       "    <tr>\n",
       "      <th>342</th>\n",
       "      <td>342</td>\n",
       "      <td>Biscoe</td>\n",
       "      <td>Female</td>\n",
       "      <td>14.8</td>\n",
       "      <td>45.2</td>\n",
       "    </tr>\n",
       "    <tr>\n",
       "      <th>343</th>\n",
       "      <td>343</td>\n",
       "      <td>Biscoe</td>\n",
       "      <td>Male</td>\n",
       "      <td>16.1</td>\n",
       "      <td>49.9</td>\n",
       "    </tr>\n",
       "  </tbody>\n",
       "</table>\n",
       "<p>344 rows × 5 columns</p>\n",
       "</div>"
      ],
      "text/plain": [
       "bill_measurement   id     island     sex  bill_depth_mm  bill_length_mm\n",
       "0                   0  Torgersen    Male           18.7            39.1\n",
       "1                   1  Torgersen  Female           17.4            39.5\n",
       "2                   2  Torgersen  Female           18.0            40.3\n",
       "3                   3  Torgersen     NaN            NaN             NaN\n",
       "4                   4  Torgersen  Female           19.3            36.7\n",
       "..                ...        ...     ...            ...             ...\n",
       "339               339     Biscoe     NaN            NaN             NaN\n",
       "340               340     Biscoe  Female           14.3            46.8\n",
       "341               341     Biscoe    Male           15.7            50.4\n",
       "342               342     Biscoe  Female           14.8            45.2\n",
       "343               343     Biscoe    Male           16.1            49.9\n",
       "\n",
       "[344 rows x 5 columns]"
      ]
     },
     "execution_count": 21,
     "metadata": {},
     "output_type": "execute_result"
    }
   ],
   "source": [
    "wide_penguins.reset_index()"
   ]
  },
  {
   "cell_type": "markdown",
   "id": "8ce156c5",
   "metadata": {},
   "source": [
    "#### Is the data the same as before? If not, why do you think so?\n",
    "\n",
    "We dropped some of the columns while performing melting at the beginning and we can't retrieve them"
   ]
  },
  {
   "cell_type": "markdown",
   "id": "865b71a4",
   "metadata": {},
   "source": [
    "### What are the average bill measurements? More about penguins statistics\n",
    "\n",
    "There are a few ways how to get some descriptive statistics about the data:\n",
    "- run `.describe` method\n",
    "- perform groupby\n",
    "- pivot table the data"
   ]
  },
  {
   "cell_type": "markdown",
   "id": "8f1b3494",
   "metadata": {},
   "source": [
    "### Pivot Table\n",
    "- pivots table with aggregation\n",
    "- default aggregation function is mean\n",
    "- do not use unless you want to have aggregation\n",
    "- if you have duplicates in the table pivot will return an error\n",
    "- if you have duplicates in the table pivot_table will take the mean of the two observations\n",
    "- please be careful which function you use and ensure the result you want is not aggregation without that being you goal"
   ]
  },
  {
   "cell_type": "code",
   "execution_count": 22,
   "id": "f012a7be",
   "metadata": {},
   "outputs": [],
   "source": [
    "penguins_wide = penguins_long.pivot_table(values='value', \n",
    "                                            columns='bill_measurement',\n",
    "                                            index=['island', 'sex'],\n",
    "                                         aggfunc=\"mean\")"
   ]
  },
  {
   "cell_type": "code",
   "execution_count": 23,
   "id": "1bb7a118",
   "metadata": {},
   "outputs": [
    {
     "data": {
      "text/html": [
       "<div>\n",
       "<style scoped>\n",
       "    .dataframe tbody tr th:only-of-type {\n",
       "        vertical-align: middle;\n",
       "    }\n",
       "\n",
       "    .dataframe tbody tr th {\n",
       "        vertical-align: top;\n",
       "    }\n",
       "\n",
       "    .dataframe thead th {\n",
       "        text-align: right;\n",
       "    }\n",
       "</style>\n",
       "<table border=\"1\" class=\"dataframe\">\n",
       "  <thead>\n",
       "    <tr style=\"text-align: right;\">\n",
       "      <th></th>\n",
       "      <th>bill_measurement</th>\n",
       "      <th>bill_depth_mm</th>\n",
       "      <th>bill_length_mm</th>\n",
       "    </tr>\n",
       "    <tr>\n",
       "      <th>island</th>\n",
       "      <th>sex</th>\n",
       "      <th></th>\n",
       "      <th></th>\n",
       "    </tr>\n",
       "  </thead>\n",
       "  <tbody>\n",
       "    <tr>\n",
       "      <th rowspan=\"2\" valign=\"top\">Biscoe</th>\n",
       "      <th>Female</th>\n",
       "      <td>15.191250</td>\n",
       "      <td>43.307500</td>\n",
       "    </tr>\n",
       "    <tr>\n",
       "      <th>Male</th>\n",
       "      <td>16.597590</td>\n",
       "      <td>47.119277</td>\n",
       "    </tr>\n",
       "    <tr>\n",
       "      <th rowspan=\"2\" valign=\"top\">Dream</th>\n",
       "      <th>Female</th>\n",
       "      <td>17.601639</td>\n",
       "      <td>42.296721</td>\n",
       "    </tr>\n",
       "    <tr>\n",
       "      <th>Male</th>\n",
       "      <td>19.066129</td>\n",
       "      <td>46.116129</td>\n",
       "    </tr>\n",
       "    <tr>\n",
       "      <th rowspan=\"2\" valign=\"top\">Torgersen</th>\n",
       "      <th>Female</th>\n",
       "      <td>17.550000</td>\n",
       "      <td>37.554167</td>\n",
       "    </tr>\n",
       "    <tr>\n",
       "      <th>Male</th>\n",
       "      <td>19.391304</td>\n",
       "      <td>40.586957</td>\n",
       "    </tr>\n",
       "  </tbody>\n",
       "</table>\n",
       "</div>"
      ],
      "text/plain": [
       "bill_measurement  bill_depth_mm  bill_length_mm\n",
       "island    sex                                  \n",
       "Biscoe    Female      15.191250       43.307500\n",
       "          Male        16.597590       47.119277\n",
       "Dream     Female      17.601639       42.296721\n",
       "          Male        19.066129       46.116129\n",
       "Torgersen Female      17.550000       37.554167\n",
       "          Male        19.391304       40.586957"
      ]
     },
     "execution_count": 23,
     "metadata": {},
     "output_type": "execute_result"
    }
   ],
   "source": [
    "penguins_wide"
   ]
  },
  {
   "cell_type": "code",
   "execution_count": 24,
   "id": "c94b9842",
   "metadata": {},
   "outputs": [
    {
     "data": {
      "text/html": [
       "<div>\n",
       "<style scoped>\n",
       "    .dataframe tbody tr th:only-of-type {\n",
       "        vertical-align: middle;\n",
       "    }\n",
       "\n",
       "    .dataframe tbody tr th {\n",
       "        vertical-align: top;\n",
       "    }\n",
       "\n",
       "    .dataframe thead th {\n",
       "        text-align: right;\n",
       "    }\n",
       "</style>\n",
       "<table border=\"1\" class=\"dataframe\">\n",
       "  <thead>\n",
       "    <tr style=\"text-align: right;\">\n",
       "      <th>bill_measurement</th>\n",
       "      <th>island</th>\n",
       "      <th>sex</th>\n",
       "      <th>bill_depth_mm</th>\n",
       "      <th>bill_length_mm</th>\n",
       "    </tr>\n",
       "  </thead>\n",
       "  <tbody>\n",
       "    <tr>\n",
       "      <th>0</th>\n",
       "      <td>Biscoe</td>\n",
       "      <td>Female</td>\n",
       "      <td>15.191250</td>\n",
       "      <td>43.307500</td>\n",
       "    </tr>\n",
       "    <tr>\n",
       "      <th>1</th>\n",
       "      <td>Biscoe</td>\n",
       "      <td>Male</td>\n",
       "      <td>16.597590</td>\n",
       "      <td>47.119277</td>\n",
       "    </tr>\n",
       "    <tr>\n",
       "      <th>2</th>\n",
       "      <td>Dream</td>\n",
       "      <td>Female</td>\n",
       "      <td>17.601639</td>\n",
       "      <td>42.296721</td>\n",
       "    </tr>\n",
       "    <tr>\n",
       "      <th>3</th>\n",
       "      <td>Dream</td>\n",
       "      <td>Male</td>\n",
       "      <td>19.066129</td>\n",
       "      <td>46.116129</td>\n",
       "    </tr>\n",
       "    <tr>\n",
       "      <th>4</th>\n",
       "      <td>Torgersen</td>\n",
       "      <td>Female</td>\n",
       "      <td>17.550000</td>\n",
       "      <td>37.554167</td>\n",
       "    </tr>\n",
       "    <tr>\n",
       "      <th>5</th>\n",
       "      <td>Torgersen</td>\n",
       "      <td>Male</td>\n",
       "      <td>19.391304</td>\n",
       "      <td>40.586957</td>\n",
       "    </tr>\n",
       "  </tbody>\n",
       "</table>\n",
       "</div>"
      ],
      "text/plain": [
       "bill_measurement     island     sex  bill_depth_mm  bill_length_mm\n",
       "0                    Biscoe  Female      15.191250       43.307500\n",
       "1                    Biscoe    Male      16.597590       47.119277\n",
       "2                     Dream  Female      17.601639       42.296721\n",
       "3                     Dream    Male      19.066129       46.116129\n",
       "4                 Torgersen  Female      17.550000       37.554167\n",
       "5                 Torgersen    Male      19.391304       40.586957"
      ]
     },
     "execution_count": 24,
     "metadata": {},
     "output_type": "execute_result"
    }
   ],
   "source": [
    "penguins_wide.reset_index()"
   ]
  },
  {
   "cell_type": "code",
   "execution_count": null,
   "id": "2ca9cf3e",
   "metadata": {},
   "outputs": [],
   "source": []
  }
 ],
 "metadata": {
  "kernelspec": {
   "display_name": "Python 3 (ipykernel)",
   "language": "python",
   "name": "python3"
  },
  "language_info": {
   "codemirror_mode": {
    "name": "ipython",
    "version": 3
   },
   "file_extension": ".py",
   "mimetype": "text/x-python",
   "name": "python",
   "nbconvert_exporter": "python",
   "pygments_lexer": "ipython3",
   "version": "3.12.4"
  }
 },
 "nbformat": 4,
 "nbformat_minor": 5
}
