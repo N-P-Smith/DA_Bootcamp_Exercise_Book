{
 "cells": [
  {
   "cell_type": "markdown",
   "metadata": {},
   "source": [
    "# Data Distribution Analysis Guide\n"
   ]
  },
  {
   "cell_type": "markdown",
   "metadata": {},
   "source": [
    "--------------------------"
   ]
  },
  {
   "cell_type": "markdown",
   "metadata": {},
   "source": [
    "## Overview\n",
    "In this notebook, we will explore how to analyze data distributions by following a structured approach. \n",
    "\n",
    "The guide will cover understanding the data type, identifying the analytical question, calculating descriptive statistics, interpreting graphs and statistics.\n",
    "\n",
    "The notebook has a toggle markdown cell `\"Compare Answer\"`\n",
    "You can click to toggle to validate if your answer is close. It does not have to be exact. \n",
    "\n",
    "Recommended to use the markdown files in the repo as they have summarised steps overview with the relevant calculations.\n",
    "\n",
    "\n"
   ]
  },
  {
   "cell_type": "markdown",
   "metadata": {},
   "source": [
    "1. Understand the Data Type: Continuous or discrete.\n",
    "\n",
    "2. Identify the Analytical Question: Determine which distribution fits your question.\n",
    "\n",
    "3. Calculate Descriptive Statistics: Compute and visualize summary statistics.\n",
    "\n",
    "4. Interpret the Graph and Descriptive Statistics: Analyze the data’s distribution and patterns.\n",
    "\n"
   ]
  },
  {
   "cell_type": "markdown",
   "metadata": {},
   "source": [
    "---\n",
    "\n",
    "\n",
    "\n",
    "# Case Study- Time Between Customer Purchases:\n",
    "You will be guided step-by-step:\n",
    "\n",
    "\n",
    "\n",
    "Scenario: An e-commerce company wants to analyze the time between customer purchases to optimize marketing strategies. \n",
    "\n",
    "They suspect the time between purchases follows an Exponential distribution.\n"
   ]
  },
  {
   "cell_type": "markdown",
   "metadata": {},
   "source": [
    "---\n",
    "\n",
    "## 1. Understand the Data Type\n",
    "\n",
    "### Step: Determine Whether Your Data is Continuous or Discrete\n",
    "\n",
    "- **Discrete Data**: Takes on distinct, separate values. Examples include the number of emails received in an hour or the number of customer complaints. Common distributions for discrete data include:\n",
    "  - **Binomial Distribution**: Used when counting the number of successes in a fixed number of trials.\n",
    "  - **Poisson Distribution**: Used for modeling the number of events in a fixed interval of time or space.\n",
    "\n",
    "- **Continuous Data**: Takes on any value within a range. Examples include height, temperature, or time. Common distributions for continuous data include:\n",
    "  - **Normal Distribution**: Used for data that is symmetrically distributed around the mean.\n",
    "  - **Exponential Distribution**: Used for modeling the time between events.\n",
    "  - **Log-Normal Distribution**: Used for data that is normally distributed when logged.\n",
    "\n",
    "- **Why It Matters**: The type of data determines which probability distribution and statistical methods are appropriate for analysis.\n",
    "\n"
   ]
  },
  {
   "cell_type": "markdown",
   "metadata": {},
   "source": [
    "### Question: What type of data are we working with in the case study?\n",
    "\n"
   ]
  },
  {
   "cell_type": "markdown",
   "metadata": {},
   "source": [
    "#### Your answer here:\n",
    "\n",
    "Continuous Data (Exponential Distribution.)"
   ]
  },
  {
   "cell_type": "markdown",
   "metadata": {},
   "source": [
    "<details>\n",
    "  <summary>Compare Answer</summary>\n",
    "  <h3>Answer:</h3>\n",
    "  <p>The data is continuous because it represents the time between customer purchases, which can take any positive value.</p>\n",
    "  \n",
    "</details>"
   ]
  },
  {
   "cell_type": "markdown",
   "metadata": {},
   "source": [
    "---\n",
    "\n",
    "\n",
    "## 2. Identify the Analytical Question\n",
    "\n",
    "### Step: Define the Problem or Question You Need to Address\n",
    "\n",
    "- **Questions to Consider**:\n",
    "  - Are you predicting an outcome?\n",
    "  - Are you testing for differences?\n",
    "  - Are you estimating probabilities?\n",
    "\n",
    "- **Distribution Choice**:\n",
    "  - **Binomial Distribution**: Appropriate for counting successes in a fixed number of trials (e.g., the number of heads in coin flips).\n",
    "  - **Exponential Distribution**: Suitable for modeling time between events (e.g., the time between bus arrivals).\n",
    "  - **Normal Distribution**: Often used for continuous data that follows a bell-shaped curve.\n",
    "\n",
    "- **Why It Matters**: Different questions and data types require different distributions and statistical methods to accurately address the problem.\n",
    "\n"
   ]
  },
  {
   "cell_type": "markdown",
   "metadata": {},
   "source": [
    "### Question: What is the main question or goal for this analysis?"
   ]
  },
  {
   "cell_type": "markdown",
   "metadata": {},
   "source": [
    "#### Your Answer here:\n",
    "\n",
    "Exponential Distribution."
   ]
  },
  {
   "cell_type": "markdown",
   "metadata": {},
   "source": [
    "<details>\n",
    "  <summary>Compare Answer</summary>\n",
    "  <h3>Answer:</h3>\n",
    "  <p>The goal is to determine whether the time between customer purchases follows an Exponential distribution and to visualize this distribution.</p>\n",
    "  \n",
    "</details>"
   ]
  },
  {
   "cell_type": "markdown",
   "metadata": {},
   "source": [
    "---\n",
    "\n",
    "## 3. Calculate Descriptive Statistics\n",
    "\n",
    "### Step: Compute Summary Statistics to Describe the Data\n",
    "\n",
    "- **Descriptive Statistics**:\n",
    "  - **For Discrete Data**: Mean, median, mode, variance, and standard deviation.\n",
    "  - **For Continuous Data**: Mean, median, variance, standard deviation, skewness, and kurtosis.\n",
    "\n",
    "- **Visualizations**:\n",
    "  - **Histograms**: To visualize the distribution of data.\n",
    "  - **Bar Charts**: For discrete data counts.\n",
    "  - **Box Plots**: To assess the spread and central tendency.\n",
    "\n",
    "- **Why It Matters**: Descriptive statistics provide a summary of the data’s main features, which helps in understanding its distribution and characteristics.\n",
    "\n"
   ]
  },
  {
   "cell_type": "markdown",
   "metadata": {},
   "source": [
    "### Question: What descriptive statistics should we calculate for this data?\n"
   ]
  },
  {
   "cell_type": "markdown",
   "metadata": {
    "vscode": {
     "languageId": "plaintext"
    }
   },
   "source": [
    "#### Your Answer here:\n",
    "\n",
    "Variance, Standard Deviation."
   ]
  },
  {
   "cell_type": "markdown",
   "metadata": {},
   "source": [
    "\n",
    "<details>\n",
    "  <summary>Compare Answer</summary>\n",
    "  <h3>Answer:</h3>\n",
    "  <p>Calculate the mean and standard deviation of the time between purchases. For an Exponential distribution,\n",
    "  \n",
    "   the mean should be equal to  1/𝜆\n",
    "\n",
    "​and the standard deviation should also be 1/𝜆\n",
    "\n",
    "​, where \n",
    "𝜆 is the rate parameter.</p>\n",
    "  \n",
    "</details>"
   ]
  },
  {
   "cell_type": "markdown",
   "metadata": {},
   "source": [
    "---\n",
    "\n",
    "## 4. Interpret the Graph and Descriptive Statistics\n",
    "\n",
    "### Step: Analyze the Graphical Representation and Descriptive Statistics\n",
    "\n",
    "- **Graphs**:\n",
    "  - Examine the shape, center, and spread of the data.\n",
    "  - Identify patterns, outliers, and whether the data fits the expected distribution shape.\n",
    "\n",
    "- **Descriptive Statistics**:\n",
    "  - Assess the mean, median, variance, and other statistics to understand the data’s distribution and central tendencies.\n",
    "\n",
    "- **Why It Matters**: Interpretation helps in understanding how well the data fits the assumed distribution and in identifying any anomalies or patterns.\n",
    "\n",
    "[Scipy stats docs](https://docs.scipy.org/doc/scipy/reference/stats.html)"
   ]
  },
  {
   "cell_type": "markdown",
   "metadata": {
    "vscode": {
     "languageId": "plaintext"
    }
   },
   "source": [
    "### Question: How can we interpret the histogram and the descriptive statistics?"
   ]
  },
  {
   "cell_type": "code",
   "execution_count": 2,
   "metadata": {},
   "outputs": [],
   "source": [
    "# We will import the necessary package\n",
    "\n",
    "import numpy as np\n",
    "import seaborn as sns\n",
    "import matplotlib.pyplot as plt\n",
    "from scipy.stats import expon  # our stats package that contains the functions, here we import expon specifically"
   ]
  },
  {
   "cell_type": "code",
   "execution_count": 3,
   "metadata": {},
   "outputs": [],
   "source": [
    "# You need not worry about the generation of the data specifically.\n",
    "\n",
    "# Generating synthetic data for time between purchases\n",
    "\n",
    "np.random.seed(3)  # this allows us to make the results reproducable\n",
    "\n",
    "data = np.random.exponential(scale=10, size=365)  # Mean time of 10 units"
   ]
  },
  {
   "cell_type": "code",
   "execution_count": 4,
   "metadata": {},
   "outputs": [],
   "source": [
    "# Next we must calculate the descriptive stats. We will utilize np again for this, its just convenient. If the data was stored in a DF you can use\n",
    "# pandas methods\n",
    "\n",
    "# Descriptive statistics\n",
    "mean_time = np.mean(data)\n",
    "std_dev_time = np.std(data)"
   ]
  },
  {
   "cell_type": "code",
   "execution_count": 5,
   "metadata": {},
   "outputs": [
    {
     "name": "stdout",
     "output_type": "stream",
     "text": [
      " the mean number of time are 9.561474322984747\n",
      " the standard deviation of time are 9.464251581018065\n"
     ]
    }
   ],
   "source": [
    "# check the output\n",
    "print(f\" the mean number of time are {mean_time}\")\n",
    "print(f\" the standard deviation of time are {std_dev_time}\")\n"
   ]
  },
  {
   "cell_type": "code",
   "execution_count": 6,
   "metadata": {},
   "outputs": [
    {
     "data": {
      "image/png": "[encoded data removed]",
      "text/plain": [
       "<Figure size 640x480 with 1 Axes>"
      ]
     },
     "metadata": {},
     "output_type": "display_data"
    }
   ],
   "source": [
    "\"\"\" Histogram of Time Between Purchases:\n",
    "\n",
    "Interpretation:\n",
    "The histogram represents the frequency distribution of the time intervals between customer purchases.\n",
    "For an exponential distribution, the histogram typically shows a rapid decline,\n",
    " with most of the data concentrated near the lower values. \n",
    " This pattern indicates that shorter intervals between purchases are more common, and longer intervals are less frequent.\n",
    "The shape of the histogram, with a high frequency of small time intervals and a long tail towards the right, \n",
    "aligns with the characteristics of an exponential distribution.\n",
    "\n",
    "\"\"\"\n",
    "\n",
    "sns.histplot(data, kde=False, color='#4800FF')\n",
    "plt.title('Histogram of Time Between Purchases')\n",
    "plt.xlabel('Time')\n",
    "plt.ylabel('Frequency')\n",
    "sns.despine()"
   ]
  },
  {
   "cell_type": "code",
   "execution_count": 7,
   "metadata": {},
   "outputs": [
    {
     "data": {
      "image/png": "[encoded data removed]",
      "text/plain": [
       "<Figure size 640x480 with 1 Axes>"
      ]
     },
     "metadata": {},
     "output_type": "display_data"
    }
   ],
   "source": [
    "\"\"\"Exponential Distribution PDF (Probability Density Function) Plot:\n",
    "\n",
    "Interpretation:\n",
    "The PDF plot represents the theoretical exponential distribution curve based on the mean of the data.\n",
    "The curve starts high and decays rapidly as time increases,\n",
    " indicating that the likelihood of longer intervals between purchases decreases exponentially.\n",
    "The alignment between the histogram and the PDF plot suggests that the observed data follows an exponential distribution, \n",
    "with the majority of intervals being short and fewer longer intervals.\n",
    "\"\"\"\n",
    "\n",
    "# Exponential Distribution Plot\n",
    "x = np.linspace(0, max(data), 100)\n",
    "pdf = expon.pdf(x, scale=mean_time)\n",
    "\n",
    "plt.plot(x, pdf, color='#4800FF')\n",
    "plt.title('Exponential Distribution PDF')\n",
    "plt.xlabel('Time')\n",
    "plt.ylabel('Probability Density')\n",
    "sns.despine()"
   ]
  },
  {
   "cell_type": "markdown",
   "metadata": {},
   "source": [
    "---\n",
    "\n",
    "# CASE STUDY- Delivery Times\n",
    "\n",
    "\n",
    "We will now look at another scenario following a different type of distribution\n",
    "\n",
    "\n",
    "Scenario: A logistics company tracks the delivery times for packages and wants to analyze if these times follow a Normal distribution to improve delivery estimates.\n",
    "\n",
    "\n",
    "Hint: You can refer to the detailed overview steps from previous case study and also use the markdown file(it contains a summary of the steps and metrics to be calculated for the respective distributions). I will list the overview steps in order to not make it longer.\n",
    "\n",
    "There is a section where you have to calculate the descriptive stats. \n",
    "\n",
    "1. Understand the Data Type: Continuous or discrete.\n",
    "\n",
    "2. Identify the Analytical Question: Determine which distribution fits your question.\n",
    "\n",
    "3. Calculate Descriptive Statistics: Compute and visualize summary statistics.\n",
    "\n",
    "4. Interpret the Graph and Descriptive Statistics: Analyze the data’s distribution and patterns.\n"
   ]
  },
  {
   "cell_type": "markdown",
   "metadata": {},
   "source": [
    "---\n",
    "\n",
    "## Step 1: Understand the Data Type \n",
    "\n"
   ]
  },
  {
   "cell_type": "markdown",
   "metadata": {},
   "source": [
    "### Question: What type of data are we working with?"
   ]
  },
  {
   "cell_type": "markdown",
   "metadata": {},
   "source": [
    "#### Your Answer here:\n",
    "\n",
    "Continuous Data."
   ]
  },
  {
   "cell_type": "markdown",
   "metadata": {},
   "source": [
    "\n",
    "<details>\n",
    "  <summary>Compare Answer</summary>\n",
    "  <h3>Answer:</h3>\n",
    "  <p>The data is continuous because it represents delivery times, which can take any positive value.</p>\n",
    "  \n",
    "</details>"
   ]
  },
  {
   "cell_type": "markdown",
   "metadata": {},
   "source": [
    "---\n",
    "\n",
    "## Step 2:  Identify the Analytical Question"
   ]
  },
  {
   "cell_type": "markdown",
   "metadata": {},
   "source": [
    "### Question: What is the main question or goal for this analysis?"
   ]
  },
  {
   "cell_type": "markdown",
   "metadata": {},
   "source": [
    "#### Your Answer here\n",
    "\n",
    "What is the Mean and Distribution of delivery times."
   ]
  },
  {
   "cell_type": "markdown",
   "metadata": {},
   "source": [
    "\n",
    "<details>\n",
    "  <summary>Compare Answer</summary>\n",
    "  <h3>Answer:</h3>\n",
    "  <p>The goal is to determine if the delivery times follow a Normal distribution and to visualize this distribution.\n",
    "</p>\n",
    "  \n",
    "</details>"
   ]
  },
  {
   "cell_type": "markdown",
   "metadata": {},
   "source": [
    "--- \n",
    "\n",
    "## Step 3:  Calculate Descriptive Statistics"
   ]
  },
  {
   "cell_type": "markdown",
   "metadata": {},
   "source": [
    "### Question: What descriptive statistics should we calculate for this data?\n",
    "hint:  Refer to step 3 in the markdown file for distribution_functions\n"
   ]
  },
  {
   "cell_type": "markdown",
   "metadata": {},
   "source": [
    "#### Your answer here: \n",
    "\n",
    "Box Plots."
   ]
  },
  {
   "cell_type": "markdown",
   "metadata": {},
   "source": [
    "\n",
    "<details>\n",
    "  <summary>Compare Answer</summary>\n",
    "  <h3>Answer:</h3>\n",
    "  <p>Calculate the mean and standard deviation of the delivery times. For a Normal distribution, these values describe the center and spread of the distribution.\n",
    "</p>\n",
    "  \n",
    "</details>"
   ]
  },
  {
   "cell_type": "markdown",
   "metadata": {},
   "source": [
    "--- \n",
    "\n",
    "## Step 4: Interpret the Graph and Descriptive Statistics"
   ]
  },
  {
   "cell_type": "markdown",
   "metadata": {},
   "source": [
    "### Question: How can we interpret the histogram and the descriptive statistics?"
   ]
  },
  {
   "cell_type": "markdown",
   "metadata": {},
   "source": [
    "#### Your Answer here\n",
    "\n",
    "The data is slightly skewed toward longer delivery times."
   ]
  },
  {
   "cell_type": "markdown",
   "metadata": {},
   "source": [
    "<details>\n",
    "  <summary>Compare Answer</summary>\n",
    "  <h3>Answer:</h3>\n",
    "  <p>The histogram should show the distribution of delivery times. If the data fits a Normal distribution, the mean and standard deviation should reflect the shape of the Normal curve.\n",
    "\n",
    "</p>\n",
    "  \n",
    "</details>"
   ]
  },
  {
   "cell_type": "code",
   "execution_count": 8,
   "metadata": {},
   "outputs": [],
   "source": [
    "# Generating the data, once again this is for the example you are not expected to know this.\n",
    "\n",
    "from scipy.stats import norm # importing norm function \n",
    "\n",
    "# Generating synthetic data for delivery times\n",
    "np.random.seed(5)\n",
    "data = np.random.normal(loc=50, scale=10, size=365)  # Mean of 50 units, std deviation of 10 units"
   ]
  },
  {
   "cell_type": "code",
   "execution_count": 9,
   "metadata": {},
   "outputs": [],
   "source": [
    "# calculate the descriptive stats\n",
    "mean_time = np.mean(data)\n",
    "std_dev_time = np.std(data)"
   ]
  },
  {
   "cell_type": "code",
   "execution_count": 10,
   "metadata": {},
   "outputs": [
    {
     "name": "stdout",
     "output_type": "stream",
     "text": [
      " the mean: 50.16432690561987\n",
      " the standard_deviation: 9.7276202089247\n"
     ]
    }
   ],
   "source": [
    "# check the output\n",
    "print(f\" the mean: {mean_time}\")\n",
    "print(f\" the standard_deviation: {std_dev_time}\")"
   ]
  },
  {
   "cell_type": "markdown",
   "metadata": {},
   "source": [
    "<details>\n",
    "  <summary>Compare Answer</summary>\n",
    "  <h3>Answer:</h3>\n",
    "  <p> \n",
    " the mean number of defects are 2.02\n",
    " \n",
    " the variance of defects are 1.8796000000000002\n",
    "</p>\n",
    "  \n",
    "</details>"
   ]
  },
  {
   "cell_type": "code",
   "execution_count": 11,
   "metadata": {},
   "outputs": [
    {
     "data": {
      "image/png": "[encoded data removed]",
      "text/plain": [
       "<Figure size 1200x600 with 1 Axes>"
      ]
     },
     "metadata": {},
     "output_type": "display_data"
    }
   ],
   "source": [
    "# Plotting\n",
    "plt.figure(figsize=(12, 6))\n",
    "\"\"\"\n",
    "Histogram of Delivery Times:\n",
    "\n",
    "Interpretation:\n",
    "The histogram represents the frequency distribution of the delivery times.\n",
    "If the data is normally distributed, the histogram should have a bell-shaped curve,\n",
    " with most data points concentrated around the mean (50 units) and tapering off symmetrically towards the tails.\n",
    "The histogram shows that most delivery times are clustered around 50 units, \n",
    "with fewer occurrences as you move further away from the mean.\n",
    " This bell-shaped pattern confirms that the data follows a normal distribution.\n",
    "\n",
    "\n",
    "\n",
    "\"\"\"\n",
    "\n",
    "\n",
    "# Histogram\n",
    "plt.subplot(1, 2, 1)\n",
    "sns.histplot(data, kde=False, color='#4800FF')\n",
    "plt.title('Histogram of Delivery Times')\n",
    "plt.xlabel('Time')\n",
    "plt.ylabel('Frequency')\n",
    "sns.despine();"
   ]
  },
  {
   "cell_type": "code",
   "execution_count": 12,
   "metadata": {},
   "outputs": [
    {
     "data": {
      "image/png": "[encoded data removed]",
      "text/plain": [
       "<Figure size 640x480 with 1 Axes>"
      ]
     },
     "metadata": {},
     "output_type": "display_data"
    }
   ],
   "source": [
    "\"\"\" \n",
    "\n",
    "Normal Distribution PDF (Probability Density Function) Plot:\n",
    "\n",
    "Interpretation:\n",
    "The PDF plot represents the theoretical normal distribution curve based on the mean and standard deviation of the data.\n",
    "The curve peaks at the mean (50 units) and decreases symmetrically as you move away from the mean.\n",
    "The PDF plot should align well with the shape of the histogram. \n",
    "This alignment indicates that the observed delivery times follow a normal distribution.\n",
    "The area under the curve represents the probability of different delivery times occurring.\n",
    "\"\"\"\n",
    "\n",
    "\n",
    "# Normal Distribution Plot\n",
    "x = np.linspace(min(data), max(data), 100)\n",
    "pdf = norm.pdf(x, mean_time, std_dev_time)\n",
    "\n",
    "plt.plot(x, pdf, color='#4800FF')\n",
    "plt.title('Normal Distribution PDF')\n",
    "plt.xlabel('Time')\n",
    "plt.ylabel('Probability Density')\n",
    "sns.despine()"
   ]
  },
  {
   "cell_type": "markdown",
   "metadata": {},
   "source": [
    "## Summary\n",
    "\n",
    "You should have a good overview of the steps involved when dealing with Poisson and Binomial Distribution. You have access to the markdown file which acts as a cheat sheet of sorts.\n",
    "\n",
    "We will cover the remaining steps i.e. 5 to 7 when we explore Hypothesis testing.\n",
    "\n",
    "Now its time to apply your new-found knowledge on a case study from scratch\n"
   ]
  }
 ],
 "metadata": {
  "kernelspec": {
   "display_name": "Python 3 (ipykernel)",
   "language": "python",
   "name": "python3"
  },
  "language_info": {
   "codemirror_mode": {
    "name": "ipython",
    "version": 3
   },
   "file_extension": ".py",
   "mimetype": "text/x-python",
   "name": "python",
   "nbconvert_exporter": "python",
   "pygments_lexer": "ipython3",
   "version": "3.12.4"
  }
 },
 "nbformat": 4,
 "nbformat_minor": 4
}
