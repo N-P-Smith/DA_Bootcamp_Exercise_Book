{
 "cells": [
  {
   "cell_type": "markdown",
   "metadata": {},
   "source": [
    "# Data Distribution Analysis Guide\n"
   ]
  },
  {
   "cell_type": "markdown",
   "metadata": {},
   "source": [
    "## Overview\n",
    "In this notebook, we will explore how to analyze data distributions by following a structured approach. \n",
    "\n",
    "The guide will cover understanding the data type, identifying the analytical question, calculating descriptive statistics, interpreting graphs and statistics.\n",
    "\n",
    "The notebook has a toggle markdown cell `\"Compare Answer\"`\n",
    "You can click to toggle to validate if your answer is close. It does not have to be exact. \n",
    "\n",
    "Recommended to use the markdown files in the repo as they have summarised steps overview with the relevant calculations.\n",
    "\n",
    "\n",
    "\n",
    "\n"
   ]
  },
  {
   "cell_type": "markdown",
   "metadata": {},
   "source": [
    "1. Understand the Data Type: Continuous or discrete.\n",
    "\n",
    "2. Identify the Analytical Question: Determine which distribution fits your question.\n",
    "\n",
    "3. Calculate Descriptive Statistics: Compute and visualize summary statistics.\n",
    "\n",
    "4. Interpret the Graph and Descriptive Statistics: Analyze the data’s distribution and patterns.\n",
    "\n"
   ]
  },
  {
   "cell_type": "markdown",
   "metadata": {},
   "source": [
    "---\n",
    "\n",
    "# Case Study-Customer Complaints:\n",
    "You will be guided step-by-step:\n",
    "\n",
    "\n",
    "Scenario: A retail company wants to understand the number of customer complaints received per day over the past year. \n",
    "\n",
    "They suspect that the number of complaints per day follows a Poisson distribution."
   ]
  },
  {
   "cell_type": "markdown",
   "metadata": {},
   "source": [
    "---\n",
    "\n",
    "## 1. Understand the Data Type\n",
    "\n",
    "### Step: Determine Whether Your Data is Continuous or Discrete\n",
    "\n",
    "- **Discrete Data**: Takes on distinct, separate values. Examples include the number of emails received in an hour or the number of customer complaints. Common distributions for discrete data include:\n",
    "  - **Binomial Distribution**: Used when counting the number of successes in a fixed number of trials.\n",
    "  - **Poisson Distribution**: Used for modeling the number of events in a fixed interval of time or space.\n",
    "\n",
    "- **Continuous Data**: Takes on any value within a range. Examples include height, temperature, or time. Common distributions for continuous data include:\n",
    "  - **Normal Distribution**: Used for data that is symmetrically distributed around the mean.\n",
    "  - **Exponential Distribution**: Used for modeling the time between events.\n",
    "  - **Log-Normal Distribution**: Used for data that is normally distributed when logged.\n",
    "\n",
    "- **Why It Matters**: The type of data determines which probability distribution and statistical methods are appropriate for analysis.\n",
    "\n"
   ]
  },
  {
   "cell_type": "markdown",
   "metadata": {},
   "source": [
    "### Question: What type of data are we working with in the case study?\n",
    "\n"
   ]
  },
  {
   "cell_type": "markdown",
   "metadata": {},
   "source": [
    "#### Your answer here:\n",
    "\n",
    "Discrete Data (Poisson Distribution.)\n"
   ]
  },
  {
   "cell_type": "markdown",
   "metadata": {},
   "source": [
    "<details>\n",
    "  <summary>Compare Answer</summary>\n",
    "  <h3>Answer:</h3>\n",
    "  <p>The data is discrete because it represents the count of customer complaints per day.</p>\n",
    "  \n",
    "</details>"
   ]
  },
  {
   "cell_type": "markdown",
   "metadata": {},
   "source": [
    "---\n",
    "\n",
    "\n",
    "## 2. Identify the Analytical Question\n",
    "\n",
    "### Step: Define the Problem or Question You Need to Address\n",
    "\n",
    "- **Questions to Consider**:\n",
    "  - Are you predicting an outcome?\n",
    "  - Are you testing for differences?\n",
    "  - Are you estimating probabilities?\n",
    "\n",
    "- **Distribution Choice**:\n",
    "  - **Binomial Distribution**: Appropriate for counting successes in a fixed number of trials (e.g., the number of heads in coin flips).\n",
    "  - **Exponential Distribution**: Suitable for modeling time between events (e.g., the time between bus arrivals).\n",
    "  - **Normal Distribution**: Often used for continuous data that follows a bell-shaped curve.\n",
    "\n",
    "- **Why It Matters**: Different questions and data types require different distributions and statistical methods to accurately address the problem.\n",
    "\n"
   ]
  },
  {
   "cell_type": "markdown",
   "metadata": {},
   "source": [
    "### Question: What is the main question or goal for this analysis?"
   ]
  },
  {
   "cell_type": "markdown",
   "metadata": {},
   "source": [
    "#### Your Answer here:\n",
    "\n",
    "To track the number of tickets and determine the distribution.\n"
   ]
  },
  {
   "cell_type": "markdown",
   "metadata": {},
   "source": [
    "<details>\n",
    "  <summary>Compare Answer</summary>\n",
    "  <h3>Answer:</h3>\n",
    "  <p>The goal is to determine whether the number of customer complaints per day follows a Poisson distribution and to visualize this distribution.</p>\n",
    "  \n",
    "</details>"
   ]
  },
  {
   "cell_type": "markdown",
   "metadata": {},
   "source": [
    "---\n",
    "\n",
    "## 3. Calculate Descriptive Statistics\n",
    "\n",
    "### Step: Compute Summary Statistics to Describe the Data\n",
    "\n",
    "- **Descriptive Statistics**:\n",
    "  - **For Discrete Data**: Mean, median, mode, variance, and standard deviation.\n",
    "  - **For Continuous Data**: Mean, median, variance, standard deviation, skewness, and kurtosis.\n",
    "\n",
    "- **Visualizations**:\n",
    "  - **Histograms**: To visualize the distribution of data.\n",
    "  - **Bar Charts**: For discrete data counts.\n",
    "  - **Box Plots**: To assess the spread and central tendency.\n",
    "\n",
    "- **Why It Matters**: Descriptive statistics provide a summary of the data’s main features, which helps in understanding its distribution and characteristics.\n",
    "\n"
   ]
  },
  {
   "cell_type": "markdown",
   "metadata": {},
   "source": [
    "### Question: What descriptive statistics should we calculate for this data?\n"
   ]
  },
  {
   "cell_type": "markdown",
   "metadata": {
    "vscode": {
     "languageId": "plaintext"
    }
   },
   "source": [
    "#### Your Answer here:"
   ]
  },
  {
   "cell_type": "markdown",
   "metadata": {},
   "source": [
    "\n",
    "<details>\n",
    "  <summary>Compare Answer</summary>\n",
    "  <h3>Answer:</h3>\n",
    "  <p>Answer: Calculate the mean and variance of the number of complaints per day. For Poisson distribution, the mean should be approximately equal to the variance.</p>\n",
    "  \n",
    "</details>"
   ]
  },
  {
   "cell_type": "markdown",
   "metadata": {},
   "source": [
    "---\n",
    "\n",
    "## 4. Interpret the Graph and Descriptive Statistics\n",
    "\n",
    "### Step: Analyze the Graphical Representation and Descriptive Statistics\n",
    "\n",
    "- **Graphs**:\n",
    "  - Examine the shape, center, and spread of the data.\n",
    "  - Identify patterns, outliers, and whether the data fits the expected distribution shape.\n",
    "\n",
    "- **Descriptive Statistics**:\n",
    "  - Assess the mean, median, variance, and other statistics to understand the data’s distribution and central tendencies.\n",
    "\n",
    "- **Why It Matters**: Interpretation helps in understanding how well the data fits the assumed distribution and in identifying any anomalies or patterns.\n",
    "\n",
    "[Scipy stats docs](https://docs.scipy.org/doc/scipy/reference/stats.html)"
   ]
  },
  {
   "cell_type": "markdown",
   "metadata": {
    "vscode": {
     "languageId": "plaintext"
    }
   },
   "source": [
    "### Question: How can we interpret the histogram and the descriptive statistics?"
   ]
  },
  {
   "cell_type": "code",
   "execution_count": 1,
   "metadata": {},
   "outputs": [],
   "source": [
    "# We will import the necessary package\n",
    "\n",
    "import numpy as np  # this will allows us to generate random data \n",
    "import pandas as pd \n",
    "import seaborn as sns # for plotting\n",
    "import matplotlib.pyplot as plt # for plotting\n",
    "from scipy.stats import poisson # our stats package that contains the functions, here we import poisson specifically"
   ]
  },
  {
   "cell_type": "code",
   "execution_count": 2,
   "metadata": {},
   "outputs": [],
   "source": [
    "# You need not worry about the generation of the data specifically.\n",
    "# Generating synthetic data for the number of complaints\n",
    "np.random.seed(0) # allows for reproducability of the results\n",
    "\n",
    "# Using np we can specify the type of distribution and random data centered around lambda ~average of the data\n",
    "data = np.random.poisson(lam=5, size=365)  # Average of 5 complaints per day"
   ]
  },
  {
   "cell_type": "code",
   "execution_count": 3,
   "metadata": {},
   "outputs": [],
   "source": [
    "# Next we must calculate the descriptive stats. We will utilize np again for this, its just convenient. If the data was stored in a DF you can use\n",
    "# pandas methods\n",
    "\n",
    "mean_complaints = np.mean(data)\n",
    "variance_complaints = np.var(data)"
   ]
  },
  {
   "cell_type": "code",
   "execution_count": 4,
   "metadata": {},
   "outputs": [
    {
     "name": "stdout",
     "output_type": "stream",
     "text": [
      " the mean number of complaints are 5.024657534246575\n",
      " the variance of complaints are 5.492542690936386\n"
     ]
    }
   ],
   "source": [
    "# check the output\n",
    "print(f\" the mean number of complaints are {mean_complaints}\")\n",
    "print(f\" the variance of complaints are {variance_complaints}\")\n"
   ]
  },
  {
   "cell_type": "code",
   "execution_count": 5,
   "metadata": {},
   "outputs": [
    {
     "data": {
      "image/png": "[encoded data removed]",
      "text/plain": [
       "<Figure size 640x480 with 1 Axes>"
      ]
     },
     "metadata": {},
     "output_type": "display_data"
    }
   ],
   "source": [
    "\"\"\" Histogram of Daily Complaints\n",
    "Purpose:\n",
    "The histogram provides a visual representation of the distribution of the number of customer complaints received each day over the past year.\n",
    "\n",
    "Interpretation:\n",
    "\n",
    "Shape of the Histogram:\n",
    "\n",
    "The histogram should show the frequency of each count of complaints per day.\n",
    "You should look for a pattern where most days have a similar number of complaints, with fewer days showing very high or very low counts.\n",
    "Comparison to Poisson Distribution:\n",
    "\n",
    "In a Poisson distribution, most of the data should cluster around the average number of complaints (λ). For this case, the average is set at 5 complaints per day.\n",
    "The histogram should show a peak around this average and taper off as the number of complaints increases or decreases from this average.\n",
    "\"\"\"\n",
    "\n",
    "sns.histplot(data, discrete=True, color='#4800FF')\n",
    "plt.title('Histogram of Daily Complaints')\n",
    "plt.xlabel('Number of Complaints')\n",
    "plt.ylabel('Frequency')\n",
    "sns.despine()"
   ]
  },
  {
   "cell_type": "code",
   "execution_count": 6,
   "metadata": {},
   "outputs": [
    {
     "data": {
      "image/png": "[encoded data removed]",
      "text/plain": [
       "<Figure size 640x480 with 1 Axes>"
      ]
     },
     "metadata": {},
     "output_type": "display_data"
    }
   ],
   "source": [
    "\"\"\"Poisson Distribution PMF Plot\n",
    "Purpose:\n",
    "\n",
    "This plot shows the Probability Mass Function (PMF) of the Poisson distribution with a mean equal to the average number of \n",
    "complaints calculated from the data.\n",
    "\n",
    "\n",
    "Interpretation:\n",
    "\n",
    "Shape of the PMF Plot:\n",
    "\n",
    "The PMF plot displays the probability of each possible number of complaints occurring, assuming a Poisson distribution with the calculated mean.\n",
    "It should show probabilities decreasing as the number of complaints increases, with the highest probability at the average number of complaints.\n",
    "\n",
    "\n",
    "Comparison to Histogram:\n",
    "\n",
    "Compare the histogram of the data with the PMF plot.\n",
    "If the histogram's shape closely matches the PMF plot, it suggests that the data follows a Poisson distribution well.\n",
    "If there are significant deviations, it may indicate that the data does not perfectly follow a Poisson distribution. \n",
    "For example, if the variance is much different from the mean, or if the histogram does not align with the shape of the PMF plot, \n",
    "this would suggest that the Poisson model might not be a good fit.\n",
    "\"\"\"\n",
    "\n",
    "# Poisson Distribution Plot\n",
    "x = np.arange(0, max(data)+1)\n",
    "pmf = poisson.pmf(x, mean_complaints)\n",
    "\n",
    "plt.stem(x, pmf,)\n",
    "plt.title('Poisson Distribution PMF')\n",
    "plt.xlabel('Number of Complaints')\n",
    "plt.ylabel('Probability')\n",
    "\n",
    "sns.despine()"
   ]
  },
  {
   "cell_type": "markdown",
   "metadata": {},
   "source": [
    "---\n",
    "\n",
    "\n",
    "## Summary\n",
    "This guide provides a structured approach to working with different types of data distributions. By following these steps, you can choose the right distribution, calculate relevant statistics, interpret data effectively, to ensure accurate analysis and conclusions."
   ]
  },
  {
   "cell_type": "markdown",
   "metadata": {},
   "source": [
    "---\n",
    "\n",
    "# CASE STUDY- Quality Control in Manufacturing\n",
    "We will now look at another scenario following a different type of distribution\n",
    "\n",
    "\n",
    "Scenario: A manufacturing plant tracks the number of defective products in each batch. They want to determine if the number of defects follows a Binomial distribution, given a fixed number of products in each batch.\n",
    "\n",
    "\n",
    "Hint: You can refer to the detailed overview steps from previous case study and also use the markdown file(it contains a summary of the steps and metrics to be calculated for the respective distributions). I will list the overview steps in order to not make it longer.\n",
    "\n",
    "There is a section where you have to calculate the descriptive stats. \n",
    "\n",
    "1. Understand the Data Type: Continuous or discrete.\n",
    "\n",
    "2. Identify the Analytical Question: Determine which distribution fits your question.\n",
    "\n",
    "3. Calculate Descriptive Statistics: Compute and visualize summary statistics.\n",
    "\n",
    "4. Interpret the Graph and Descriptive Statistics: Analyze the data’s distribution and patterns.\n"
   ]
  },
  {
   "cell_type": "markdown",
   "metadata": {},
   "source": [
    "---\n",
    "\n",
    "## Step 1: Understand the Data Type \n",
    "\n"
   ]
  },
  {
   "cell_type": "markdown",
   "metadata": {},
   "source": [
    "### Question: What type of data are we working with?"
   ]
  },
  {
   "cell_type": "markdown",
   "metadata": {},
   "source": [
    "#### Your Answer here:"
   ]
  },
  {
   "cell_type": "markdown",
   "metadata": {},
   "source": [
    "\n",
    "<details>\n",
    "  <summary>Compare Answer</summary>\n",
    "  <h3>Answer:</h3>\n",
    "  <p>The data is discrete because it represents the count of defective products in each batch.</p>\n",
    "  \n",
    "</details>"
   ]
  },
  {
   "cell_type": "markdown",
   "metadata": {},
   "source": [
    "---\n",
    "\n",
    "## Step 2:  Identify the Analytical Question"
   ]
  },
  {
   "cell_type": "markdown",
   "metadata": {},
   "source": [
    "### Question: What is the main question or goal for this analysis?"
   ]
  },
  {
   "cell_type": "markdown",
   "metadata": {},
   "source": [
    "#### Your Answer here"
   ]
  },
  {
   "cell_type": "markdown",
   "metadata": {},
   "source": [
    "\n",
    "<details>\n",
    "  <summary>Compare Answer</summary>\n",
    "  <h3>Answer:</h3>\n",
    "  <p>The goal is to determine if the number of defects per batch follows a Binomial distribution and to visualize this distribution.\n",
    "</p>\n",
    "  \n",
    "</details>"
   ]
  },
  {
   "cell_type": "markdown",
   "metadata": {},
   "source": [
    "--- \n",
    "\n",
    "## Step 3:  Calculate Descriptive Statistics"
   ]
  },
  {
   "cell_type": "markdown",
   "metadata": {},
   "source": [
    "### Question: What descriptive statistics should we calculate for this data?\n",
    "hint:  Refer to step 3 in the markdown file for distribution_functions\n"
   ]
  },
  {
   "cell_type": "markdown",
   "metadata": {},
   "source": [
    "#### Your answer here: "
   ]
  },
  {
   "cell_type": "markdown",
   "metadata": {},
   "source": [
    "\n",
    "<details>\n",
    "  <summary>Compare Answer</summary>\n",
    "  <h3>Answer:</h3>\n",
    "  <p>Calculate the mean and variance of the number of defects per batch. For a Binomial distribution,\n",
    "   the mean should be:\n",
    "\n",
    "𝑛×𝑝\n",
    "\n",
    "and the variance should be \n",
    "\n",
    "𝑛×𝑝×(1−𝑝)\n",
    "\n",
    ", where \n",
    "𝑛 is the number of trials and \n",
    "𝑝 is the probability of defect.\n",
    "</p>\n",
    "  \n",
    "</details>"
   ]
  },
  {
   "cell_type": "markdown",
   "metadata": {},
   "source": [
    "--- \n",
    "\n",
    "## Step 4: Interpret the Graph and Descriptive Statistics"
   ]
  },
  {
   "cell_type": "markdown",
   "metadata": {},
   "source": [
    "### Question: How can we interpret the histogram and the descriptive statistics?"
   ]
  },
  {
   "cell_type": "markdown",
   "metadata": {},
   "source": [
    "#### Your Answer here"
   ]
  },
  {
   "cell_type": "markdown",
   "metadata": {},
   "source": [
    "<details>\n",
    "  <summary>Compare Answer</summary>\n",
    "  <h3>Answer:</h3>\n",
    "  <p>The histogram should show the count of defects per batch. If the data follows a Binomial distribution, the mean and variance should match the expected values from the distribution parameters.\n",
    "</p>\n",
    "  \n",
    "</details>"
   ]
  },
  {
   "cell_type": "code",
   "execution_count": 7,
   "metadata": {},
   "outputs": [],
   "source": [
    "# Generating the data, once again this is for the example you are not expected to know this.\n",
    "\n",
    "from scipy.stats import binom # importing binom function since we are dealing with a success/failure scenario\n",
    "\n",
    "# Generating synthetic data for defective products\n",
    "np.random.seed(1)\n",
    "n = 20  # Number of products per batch\n",
    "p = 0.1  # Probability of a product being defective\n",
    "data = np.random.binomial(n, p, size=100)"
   ]
  },
  {
   "cell_type": "code",
   "execution_count": 8,
   "metadata": {},
   "outputs": [
    {
     "ename": "SyntaxError",
     "evalue": "invalid syntax (2679389208.py, line 2)",
     "output_type": "error",
     "traceback": [
      "\u001b[0;36m  Cell \u001b[0;32mIn[8], line 2\u001b[0;36m\u001b[0m\n\u001b[0;31m    mean_defects =\u001b[0m\n\u001b[0m                   ^\u001b[0m\n\u001b[0;31mSyntaxError\u001b[0m\u001b[0;31m:\u001b[0m invalid syntax\n"
     ]
    }
   ],
   "source": [
    "# calculate the descriptive stats\n",
    "mean_defects = \n",
    "variance_defects = "
   ]
  },
  {
   "cell_type": "code",
   "execution_count": null,
   "metadata": {},
   "outputs": [],
   "source": [
    "# check the output\n",
    "print(f\" the mean number of defects are {mean_defects}\")\n",
    "print(f\" the variance of defects are {variance_defects}\")"
   ]
  },
  {
   "cell_type": "code",
   "execution_count": null,
   "metadata": {},
   "outputs": [],
   "source": [
    "\"\"\"\n",
    "Mean:\n",
    "The mean of the data should be close to \n",
    "𝑛×𝑝\n",
    "\n",
    "For this case, \n",
    "𝑛=20 and 𝑝=0.1,\n",
    "so the mean should be around  2(i.e., 20×0.1).\n",
    "The calculated mean of the data from the sample should be compared to this expected value.\n",
    "\n",
    "Variance:\n",
    "The variance of the data should be close to \n",
    "𝑛×𝑝×(1−𝑝)\n",
    "For this case, it should be around  1.8 (i.e., 20×0.1×0.9).\n",
    "The calculated variance of the data should align with this expected variance.\n",
    "\n",
    "\"\"\""
   ]
  },
  {
   "cell_type": "markdown",
   "metadata": {},
   "source": [
    "<details>\n",
    "  <summary>Compare Answer</summary>\n",
    "  <h3>Answer:</h3>\n",
    "  <p> \n",
    " the mean number of defects are 2.02\n",
    " \n",
    " the variance of defects are 1.8796000000000002\n",
    "</p>\n",
    "  \n",
    "</details>"
   ]
  },
  {
   "cell_type": "code",
   "execution_count": null,
   "metadata": {},
   "outputs": [],
   "source": [
    "# Plotting\n",
    "plt.figure(figsize=(12, 6))\n",
    "\"\"\"\n",
    "Histogram of Defective Products\n",
    "Purpose:\n",
    "\n",
    "The histogram visualizes the distribution of the number of defective products in the batches.\n",
    "Interpretation:\n",
    "\n",
    "Shape of the Histogram:\n",
    "\n",
    "The histogram should show the frequency of batches with a certain number of defective products. \n",
    "For example, it might show that most batches have a small number of defects, with fewer batches having higher numbers.\n",
    "Since the data is generated using a binomial distribution with \n",
    "n=20 and p=0.1, \n",
    "you should expect to see a distribution where most values are concentrated around the lower end of the scale, \n",
    "with fewer batches showing higher defect counts.\n",
    "\n",
    "\n",
    "Distribution Characteristics:\n",
    "\n",
    "\n",
    "The histogram should reflect the properties of the Binomial distribution, \n",
    "where the number of defects typically falls within a limited range (0 to 20 in this case).\n",
    "The shape should show a peak near the expected number of defects, \n",
    "with the frequency tapering off as the number of defects increases or decreases significantly from the mean.\n",
    "\n",
    "\"\"\"\n",
    "\n",
    "# Histogram\n",
    "plt.subplot(1, 2, 1)\n",
    "sns.histplot(data, discrete=True, color='#ff4a11ff')\n",
    "plt.title('Histogram of Defective Products')\n",
    "plt.xlabel('Number of Defects')\n",
    "plt.ylabel('Frequency')\n",
    "\n",
    "sns.despine()"
   ]
  },
  {
   "cell_type": "code",
   "execution_count": null,
   "metadata": {},
   "outputs": [],
   "source": [
    "\"\"\" \n",
    "Binomial Distribution PMF Plot\n",
    "Purpose:\n",
    "\n",
    "This plot shows the Probability Mass Function (PMF) of the Binomial distribution with parameters \n",
    "\n",
    "n=20 and p=0.1.\n",
    "\n",
    "\n",
    "Interpretation:\n",
    "\n",
    "Shape of the PMF Plot:\n",
    "\n",
    "The PMF plot displays the probability of each possible number of defects occurring in a batch.\n",
    "You should see probabilities concentrated around a lower number of defects, \n",
    "consistent with a binomial distribution where the probability of defects is relatively low.\n",
    "Comparison to Histogram:\n",
    "\n",
    "Compare the histogram to the PMF plot to determine if the histogram’s shape matches the expected Binomial distribution.\n",
    "If the histogram aligns well with the PMF plot, it suggests that the number of defects follows a Binomial distribution with the given parameters.\n",
    "If there are significant discrepancies, such as a histogram showing a different shape or distribution than the PMF, \n",
    "this might indicate that the data does not follow a Binomial distribution as expected.\n",
    "\n",
    "\"\"\"\n",
    "# Binomial Distribution Plot\n",
    "x = np.arange(0, n+1)\n",
    "pmf = binom.pmf(x, n, p)\n",
    "\n",
    "plt.stem(x, pmf, basefmt=\" \", linefmt='--', markerfmt='o')\n",
    "plt.title('Binomial Distribution PMF')\n",
    "plt.xlabel('Number of Defects')\n",
    "plt.ylabel('Probability')\n",
    "\n",
    "sns.despine()\n"
   ]
  },
  {
   "cell_type": "markdown",
   "metadata": {},
   "source": [
    "## Summary\n",
    "\n",
    "You should have a good overview of the steps involved when dealing with Poisson and Binomial Distribution. You have access to the markdown file which acts as a cheat sheet of sorts.\n",
    "\n",
    "We will cover the remaining steps i.e. 5 to 7 when we explore Hypothesis testing.\n",
    "\n",
    "Now its time to apply your new-found knowledge on a case study from scratch\n"
   ]
  },
  {
   "cell_type": "code",
   "execution_count": null,
   "metadata": {},
   "outputs": [],
   "source": []
  },
  {
   "cell_type": "code",
   "execution_count": null,
   "metadata": {},
   "outputs": [],
   "source": []
  }
 ],
 "metadata": {
  "kernelspec": {
   "display_name": "Python 3 (ipykernel)",
   "language": "python",
   "name": "python3"
  },
  "language_info": {
   "codemirror_mode": {
    "name": "ipython",
    "version": 3
   },
   "file_extension": ".py",
   "mimetype": "text/x-python",
   "name": "python",
   "nbconvert_exporter": "python",
   "pygments_lexer": "ipython3",
   "version": "3.12.4"
  }
 },
 "nbformat": 4,
 "nbformat_minor": 2
}
