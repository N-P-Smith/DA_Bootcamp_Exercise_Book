{
 "cells": [
  {
   "cell_type": "markdown",
   "metadata": {},
   "source": [
    "# Introduction to Confidence Intervals in Data Analytics\n",
    "\n",
    "## Objective:\n",
    "\n",
    "- Introduce the concept of Confidence Intervals (CI) in simple terms.\n",
    "- Explain how CI helps in data analytics and decision-making.\n",
    "\n",
    "The notebook has a toggle markdown cell `\"Compare Answer\"`\n",
    "You can click to toggle to validate if your answer is close. It does not have to be exact. "
   ]
  },
  {
   "cell_type": "markdown",
   "metadata": {},
   "source": [
    "## What is this \"Confidence Interval\" we see in many public reports?\n",
    " - [Trump Approval Rate](https://www.economist.com/sites/default/files/images/print-edition/20200222_USC189.png) ([source](https://www.economist.com/united-states/2020/02/22/why-donald-trumps-high-approval-ratings-may-be-misleading))\n",
    " - [Germany Election 2021 Polls](https://blog.datawrapper.de/data-visualizations-german-election-2021-with-datawrapper/)\n",
    " - [Income Germany](https://www.gut-leben-in-deutschland.de/report/income/)\n",
    " - [Montana senator voting polls](https://www.strategies360.com/strategies-360-releases-exclusive-poll-with-nbc-montana/) "
   ]
  },
  {
   "cell_type": "markdown",
   "metadata": {},
   "source": [
    "# Confidence Intervals in Data Analytics: A Beginner's Guide\n",
    "\n",
    "### What is a Confidence Interval (CI)?\n",
    "\n",
    "A Confidence Interval is a range of values that is likely to contain a population parameter (like a mean or proportion) with a certain level of confidence. It gives us an idea of how uncertain we are about our estimate.\n",
    "\n",
    "### Why are Confidence Intervals important in Data Analytics?\n",
    "\n",
    "In data analytics, we often deal with samples rather than entire populations. Confidence intervals help us understand the uncertainty in our estimates and make better decisions based on our data.\n"
   ]
  },
  {
   "cell_type": "markdown",
   "metadata": {},
   "source": [
    "---\n",
    "\n",
    "## Populations? Samples? Populations, Samples and CI????\n"
   ]
  },
  {
   "cell_type": "markdown",
   "metadata": {},
   "source": [
    "### Population\n",
    "Definition:\n",
    "\n",
    "Population refers to the entire set of individuals, items, or data points of interest. \n",
    "\n",
    "It includes every possible observation or measurement you could potentially collect.\n",
    "\n",
    "In statistics, a population could be finite (e.g., all the students in a school) or infinite (e.g., all possible flips of a fair coin).\n",
    "Example:\n",
    "\n",
    "If you’re analyzing customer satisfaction, your population might be all customers who have ever purchased from your company."
   ]
  },
  {
   "cell_type": "markdown",
   "metadata": {},
   "source": [
    "### Sample\n",
    "Definition:\n",
    "\n",
    "A sample is a subset of the population that is selected for analysis. Instead of collecting data from the entire population, which is often impractical or impossible, you collect data from a smaller group (the sample).\n",
    "The goal is to use the sample to make inferences about the entire population.\n",
    "Example:\n",
    "\n",
    "If your population is all customers, a sample might be 500 customers who responded to a recent survey."
   ]
  },
  {
   "cell_type": "markdown",
   "metadata": {},
   "source": [
    "![sample_population](./images/sample_population.jpg)"
   ]
  },
  {
   "cell_type": "markdown",
   "metadata": {},
   "source": [
    "### How Samples and Populations Are Related to Confidence Intervals\n",
    "Why Use a Sample?\n",
    "\n",
    "**Time and Cost Constraints:** Collecting data from an entire population can be time-consuming and expensive.\n",
    "\n",
    "**Feasibility:** In some cases, it's simply impossible to collect data from the entire population (e.g., testing every product off an assembly line).\n",
    "\n",
    "Since you’re using a sample rather than the whole population, there’s uncertainty about how well the sample represents the population. This is where confidence intervals come into play.\n",
    "\n"
   ]
  },
  {
   "cell_type": "markdown",
   "metadata": {},
   "source": [
    "### Confidence Intervals and Their Relation to Population and Sample:\n",
    "\n",
    "Sample Mean vs. Population Mean:\n",
    "\n",
    "The sample mean is the average of your sample data. It's an estimate of the population mean (the true average of the entire population).\n",
    "Since different samples can give different sample means, you need a way to express the uncertainty in your estimate.\n",
    "\n",
    "Confidence Interval (CI):\n",
    "\n",
    "A confidence interval provides a range of values within which you expect the true population parameter (e.g., the population mean) to lie, based on your sample data.\n",
    "\n",
    "The width of the CI reflects the uncertainty in your estimate. A narrower CI indicates more precise estimates, while a wider CI suggests more uncertainty.\n",
    "\n",
    "The confidence level (e.g., 95%) tells you how sure you can be that the interval contains the true population mean. For example, a 95% CI means that if you were to take 100 different samples and compute a CI for each, about 95 of those intervals would contain the true population mean.\n"
   ]
  },
  {
   "cell_type": "markdown",
   "metadata": {},
   "source": [
    "### Example in Context:\n",
    "\n",
    "Suppose you’re studying the average height of students in a university. The population is all students in the university, but you can only measure the height of a sample of 100 students.\n",
    "\n",
    "Sample Mean: You calculate the average height of these 100 students (e.g., 170 cm).\n",
    "\n",
    "Confidence Interval: Using statistical methods, you calculate a 95% confidence interval of (168 cm, 172 cm) for the population mean height. This means you are 95% confident that the true average height of all students in the university lies between 168 cm and 172 cm."
   ]
  },
  {
   "cell_type": "markdown",
   "metadata": {},
   "source": [
    "### Key Takeaways\n",
    "Population: The entire group you're interested in studying.\n",
    "\n",
    "Sample: A smaller group selected from the population, used to make inferences about the population.\n",
    "\n",
    "\n",
    "Confidence Interval (CI): A range of values, derived from the sample, that is likely to contain the population parameter (e.g., mean), along with a confidence level (e.g., 95%) indicating the certainty of that range.\n"
   ]
  },
  {
   "cell_type": "markdown",
   "metadata": {},
   "source": [
    "---\n",
    "# Working with a Generated Dataset that is Normally Distributed\n"
   ]
  },
  {
   "cell_type": "markdown",
   "metadata": {},
   "source": [
    "Normal Distribution with Known Population Parameters\n",
    "\n",
    "Scenario:\n",
    "\n",
    "You work for a pharmaceutical company that produces a medication with a known population mean dosage strength of 50 mg and a standard deviation of 5 mg. \n",
    "\n",
    "Your task is to calculate the 95% confidence interval for the mean dosage strength of a new batch of 100 tablets."
   ]
  },
  {
   "cell_type": "markdown",
   "metadata": {},
   "source": [
    "## What Data type are you working with?\n"
   ]
  },
  {
   "cell_type": "markdown",
   "metadata": {},
   "source": [
    "Your answer here:\n"
   ]
  },
  {
   "cell_type": "markdown",
   "metadata": {},
   "source": [
    "\n",
    "<details>\n",
    "  <summary>Compare Answer</summary>\n",
    "  <h3>Answer:</h3>\n",
    "  <p>Data Type: Continuous (Dosage strength is measured in milligrams, which can take any value within a range)</p>\n",
    "  \n",
    "</details>"
   ]
  },
  {
   "cell_type": "markdown",
   "metadata": {},
   "source": [
    "## Identify the Analytical Question:"
   ]
  },
  {
   "cell_type": "markdown",
   "metadata": {},
   "source": [
    "Your answer here:\n"
   ]
  },
  {
   "cell_type": "markdown",
   "metadata": {},
   "source": [
    "\n",
    "<details>\n",
    "  <summary>Compare Answer</summary>\n",
    "  <h3>Answer:</h3>\n",
    "  <p> Is the new batch consistent with the historical data? Specifically, what is the 95% confidence interval for the mean dosage strength of the new batch?</p>\n",
    "  \n",
    "</details>"
   ]
  },
  {
   "cell_type": "code",
   "execution_count": 1,
   "metadata": {},
   "outputs": [],
   "source": [
    "# Import necessary libraries\n",
    "import numpy as np\n",
    "import pandas as pd\n",
    "import matplotlib.pyplot as plt\n",
    "import seaborn as sns\n",
    "from scipy import stats\n"
   ]
  },
  {
   "cell_type": "code",
   "execution_count": 2,
   "metadata": {},
   "outputs": [],
   "source": [
    "df = pd.read_csv(\"data/dosage_strength.csv\")"
   ]
  },
  {
   "cell_type": "markdown",
   "metadata": {},
   "source": [
    "## Calculate the Descriptive Stats"
   ]
  },
  {
   "cell_type": "code",
   "execution_count": 3,
   "metadata": {},
   "outputs": [
    {
     "name": "stdout",
     "output_type": "stream",
     "text": [
      "Sample Mean: 49.48\n",
      "Sample Standard Deviation: 4.54\n",
      "Sample Median: 49.37\n"
     ]
    }
   ],
   "source": [
    "sample_mean = df['DosageStrength'].mean()\n",
    "sample_std = df['DosageStrength'].std()\n",
    "sample_median = df['DosageStrength'].median()\n",
    "n = len(df)\n",
    "\n",
    "print(f\"Sample Mean: {sample_mean:.2f}\")\n",
    "print(f\"Sample Standard Deviation: {sample_std:.2f}\")\n",
    "print(f\"Sample Median: {sample_median:.2f}\")"
   ]
  },
  {
   "cell_type": "markdown",
   "metadata": {},
   "source": [
    "## Visualize the Data to check the Distribution"
   ]
  },
  {
   "cell_type": "code",
   "execution_count": 6,
   "metadata": {},
   "outputs": [
    {
     "data": {
      "image/png": "[encoded data removed]",
      "text/plain": [
       "<Figure size 640x480 with 1 Axes>"
      ]
     },
     "metadata": {},
     "output_type": "display_data"
    }
   ],
   "source": [
    "# Visualize the distribution\n",
    "sns.histplot(df['DosageStrength'], kde=True)\n",
    "plt.title(\"Distribution of Dosage Strength\")\n",
    "plt.xlabel(\"Dosage Strength (mg)\")\n",
    "plt.ylabel(\"Frequency\")\n",
    "plt.show()"
   ]
  },
  {
   "cell_type": "markdown",
   "metadata": {},
   "source": [
    "## Interpret the Graph and Descriptive Statistics:"
   ]
  },
  {
   "cell_type": "markdown",
   "metadata": {},
   "source": [
    "Your answer here:"
   ]
  },
  {
   "cell_type": "code",
   "execution_count": null,
   "metadata": {},
   "outputs": [],
   "source": []
  },
  {
   "cell_type": "code",
   "execution_count": null,
   "metadata": {},
   "outputs": [],
   "source": []
  },
  {
   "cell_type": "markdown",
   "metadata": {},
   "source": [
    "\n",
    "<details>\n",
    "  <summary>Compare Answer</summary>\n",
    "  <h3>Answer:</h3>\n",
    "  <p> Graph: The histogram should show a bell-shaped curve, confirming the normal distribution of the data.\n",
    "  \n",
    "Descriptive Statistics: The mean and median should be close to each other, further confirming the normality of the data.</p>\n",
    "  \n",
    "</details>"
   ]
  },
  {
   "cell_type": "markdown",
   "metadata": {},
   "source": [
    "## Check if Population Parameters are Known"
   ]
  },
  {
   "cell_type": "markdown",
   "metadata": {},
   "source": [
    "Your answer here:"
   ]
  },
  {
   "cell_type": "markdown",
   "metadata": {},
   "source": [
    "\n",
    "<details>\n",
    "  <summary>Compare Answer</summary>\n",
    "  <h3>Answer:</h3>\n",
    "  <p> Population Mean (μ): Known (50 mg)\n",
    "  \n",
    "Population Standard Deviation (σ): Known (5 mg)</p>\n",
    "  \n",
    "</details>"
   ]
  },
  {
   "cell_type": "markdown",
   "metadata": {},
   "source": [
    "## Calculate the Confidence Interval"
   ]
  },
  {
   "cell_type": "markdown",
   "metadata": {},
   "source": [
    "![CI](./images/CI.jpg)"
   ]
  },
  {
   "cell_type": "code",
   "execution_count": null,
   "metadata": {},
   "outputs": [],
   "source": []
  },
  {
   "cell_type": "code",
   "execution_count": 7,
   "metadata": {},
   "outputs": [
    {
     "name": "stdout",
     "output_type": "stream",
     "text": [
      "95% Confidence Interval for the Mean Dosage Strength: (48.50, 50.46) mg\n"
     ]
    }
   ],
   "source": [
    "from scipy.stats import norm\n",
    "\n",
    "\n",
    "# 95% CI meaning we want to capture the middle 95% of the data. This leaves 5% of the data i.e. 2.5% on either tail\n",
    "# Hence why we use .975 to establish upper bound of the CI and lower bound\n",
    "\n",
    "z_score = norm.ppf(0.975) # Z-score since the data is normal and population params are known\n",
    "margin_of_error = z_score * (5 / np.sqrt(n))  # 5 is the standard error \n",
    "ci_lower = sample_mean - margin_of_error\n",
    "ci_upper = sample_mean + margin_of_error\n",
    "\n",
    "print(f\"95% Confidence Interval for the Mean Dosage Strength: ({ci_lower:.2f}, {ci_upper:.2f}) mg\")\n"
   ]
  },
  {
   "cell_type": "markdown",
   "metadata": {},
   "source": [
    "## Understanding Confidence Intervals\n",
    "\n",
    "\n",
    "### What is a 95% Confidence Interval?\n",
    "\n",
    "A 95% confidence interval is a range of values that you can be 95% certain contains the true population mean. It is calculated using the following formula:\n"
   ]
  },
  {
   "cell_type": "code",
   "execution_count": 19,
   "metadata": {},
   "outputs": [
    {
     "data": {
      "text/latex": [
       "$\\displaystyle \\text{CI} = \\left(\\bar{x} - Z \\times \\frac{\\sigma}{\\sqrt{n}}, \\bar{x} + Z \\times \\frac{\\sigma}{\\sqrt{n}}\\right)$"
      ],
      "text/plain": [
       "<IPython.core.display.Math object>"
      ]
     },
     "metadata": {},
     "output_type": "display_data"
    },
    {
     "data": {
      "text/latex": [
       "$\\displaystyle \\text{Where:} \\newline \\bar{x} \\text{ is the sample mean} \\newline Z \\text{ is the Z-score corresponding to the desired confidence level (e.g., 1.96 for 95\\%)} \\newline \\sigma \\text{ is the population standard deviation} \\newline n \\text{ is the sample size}$"
      ],
      "text/plain": [
       "<IPython.core.display.Math object>"
      ]
     },
     "metadata": {},
     "output_type": "display_data"
    }
   ],
   "source": [
    "from IPython.display import display, Math\n",
    "\n",
    "# Display LaTeX formula for confidence interval\n",
    "display(Math(r'\\text{CI} = \\left(\\bar{x} - Z \\times \\frac{\\sigma}{\\sqrt{n}}, \\bar{x} + Z \\times \\frac{\\sigma}{\\sqrt{n}}\\right)'))\n",
    "\n",
    "# Display additional text for definitions with explicit newline characters\n",
    "display(Math(r'\\text{Where:} \\newline \\bar{x} \\text{ is the sample mean} \\newline Z \\text{ is the Z-score corresponding to the desired confidence level (e.g., 1.96 for 95\\%)} \\newline \\sigma \\text{ is the population standard deviation} \\newline n \\text{ is the sample size}'))\n"
   ]
  },
  {
   "cell_type": "markdown",
   "metadata": {},
   "source": [
    "### Interpretation of the Confidence Interval\n",
    "\n",
    "The 95% confidence interval for the mean of our sample is (48.50, 50.46) mg. This means that we are 95% confident that the true population mean lies within this interval.\n",
    "\n",
    "### What Does This Mean for Data Analytics?\n",
    "\n",
    "In data analytics, confidence intervals help us make informed decisions. For example, if you're estimating the average customer satisfaction score, a confidence interval gives you a range where the true average score is likely to fall. This helps in making more accurate predictions and reducing uncertainty.\n"
   ]
  },
  {
   "cell_type": "markdown",
   "metadata": {},
   "source": [
    "----"
   ]
  },
  {
   "cell_type": "markdown",
   "metadata": {},
   "source": [
    "## CI Interpretation "
   ]
  },
  {
   "cell_type": "markdown",
   "metadata": {},
   "source": [
    "### Case Study: Average Monthly Sales\n",
    "\n",
    "Imagine you are a data analyst at a retail company.  You've taken a sample of monthly sales data and calculated the mean sales to be 50.000 dollars with a standard deviation of 10.000 dollars. You want to estimate the true average monthly sales for the entire company.\n",
    "\n",
    "Using the confidence interval, you calculate that the 95% CI for the average monthly sales is between 47.000 and 53.000.\n",
    "\n",
    "### Decision Making:\n",
    "\n",
    "- **Scenario 1**: The company plans to launch a new product if the average monthly sales exceed 48.000. Since the lower bound of our CI is above 48.000, you can confidently recommend proceeding with the launch.\n",
    "  \n",
    "- **Scenario 2**: If the company had required an average monthly sales of 52.000 for the product launch, you might recommend further investigation, as the upper bound of the CI barely exceeds this threshold.\n"
   ]
  },
  {
   "cell_type": "markdown",
   "metadata": {},
   "source": [
    "---"
   ]
  },
  {
   "cell_type": "markdown",
   "metadata": {},
   "source": [
    "### Case Study: Interpreting a Confidence Interval (CI)\n",
    "**Scenario:**\n",
    "You are a data analyst working for a public health organization.\n",
    "\n",
    "Recently, your team conducted a study to assess the average daily intake of sodium among adults in your city. \n",
    " \n",
    "The goal was to understand whether the average sodium intake is within the recommended limit of 2,300 mg per day.\n",
    "\n",
    "After collecting data from a random sample of 200 adults, your team calculated a 95% confidence interval (CI) for the mean daily sodium intake, which turned out to be (2,100 mg, 2,500 mg).\n",
    "\n",
    "**Task:**\n",
    "Your task is to interpret this confidence interval in the context of the study. Specifically, address the following questions:\n",
    "\n",
    "What does the confidence interval tell you about the average daily sodium intake in the city?\n",
    "\n",
    "Can you confidently say that the average daily sodium intake is within the recommended limit of 2,300 mg per day? Why or why not?\n",
    "\n",
    "How would you communicate the results to a non-technical audience, such as public health officials or the general public?\n"
   ]
  },
  {
   "cell_type": "markdown",
   "metadata": {},
   "source": [
    "Your answers here:\n"
   ]
  },
  {
   "cell_type": "code",
   "execution_count": null,
   "metadata": {},
   "outputs": [],
   "source": []
  },
  {
   "cell_type": "markdown",
   "metadata": {},
   "source": [
    "\n",
    "<details>\n",
    "  <summary>Compare Answer</summary>\n",
    "  <h3>Answer:</h3>\n",
    "  <p> \n",
    "  \n",
    "#### Interpretation and Answers:\n",
    "\n",
    "- What does the confidence interval tell you about the average daily sodium intake in the city?\n",
    "\n",
    "        The confidence interval (2,100 mg, 2,500 mg) provides a range in which we are 95% confident that the true average daily sodium intake of all adults in the city lies. \n",
    "\n",
    "        This means that, based on the sample data, the actual average sodium intake could be as low as 2,100 mg or as high as 2,500 mg.\n",
    "\n",
    "\n",
    "- Can you confidently say that the average daily sodium intake is within the recommended limit of 2,300 mg per day? Why or why not?\n",
    "\n",
    "        No, you cannot confidently say that the average sodium intake is within the recommended limit. While the lower bound of the confidence interval (2,100 mg) is below the limit, the upper bound (2,500 mg) exceeds the recommended intake. This suggests that it is possible, based on your data, that the average sodium intake in the population could be above the recommended level.\n",
    "\n",
    "- How would you communicate the results to a non-technical audience, such as public health officials or the general public?\n",
    "\n",
    "        \"Our study shows that the average sodium intake for adults in our city likely falls between 2,100 mg and 2,500 mg per day. While some people may be consuming sodium levels below the recommended limit of 2,300 mg, it is also possible that many are exceeding this limit. Therefore, it is important to consider public health strategies that encourage people to reduce their sodium intake to stay within safe levels.\"\n",
    "\n",
    "\n",
    "#### Key Points for Interpretation:\n",
    "\n",
    "- A confidence interval gives a range of values that likely contains the true population parameter.\n",
    "\n",
    "- If the confidence interval includes values both above and below a threshold of interest (like the recommended sodium limit), you cannot definitively conclude whether the population meets that threshold.\n",
    "\n",
    "- When communicating to non-technical audiences, it's important to explain the implications of the confidence interval in practical terms, focusing on potential actions or concerns.</p>\n",
    "  \n",
    "</details>"
   ]
  },
  {
   "cell_type": "markdown",
   "metadata": {},
   "source": [
    "---"
   ]
  },
  {
   "cell_type": "markdown",
   "metadata": {},
   "source": [
    "# Case Study: Estimating the Median Income of a City\n",
    "\n",
    "Scenario:\n",
    "You are a data analyst at a consulting firm, and your client is interested in estimating the median household income of a city. \n",
    "\n",
    "The distribution of incomes is often skewed, with a few very high incomes pulling the mean upward. \n",
    "\n",
    "Therefore, using the median as a measure of central tendency is more appropriate than using the mean.\n",
    "\n",
    "Because the data is skewed, we cannot assume a normal distribution, so we need to approach the problem differently when calculating confidence intervals."
   ]
  },
  {
   "cell_type": "markdown",
   "metadata": {},
   "source": [
    "## What Data type are you working with?\n",
    "\n",
    "\n"
   ]
  },
  {
   "cell_type": "markdown",
   "metadata": {},
   "source": [
    "Your answer here:"
   ]
  },
  {
   "cell_type": "markdown",
   "metadata": {},
   "source": [
    "<details>\n",
    "  <summary>Compare Answer</summary>\n",
    "  <h3>Answer:</h3>\n",
    "  <p>Data Type: Continuous (Annual income is measured in dollars, which can take any value within a range)</p>\n",
    "  \n",
    "</details>"
   ]
  },
  {
   "cell_type": "markdown",
   "metadata": {},
   "source": [
    "## Identify the Analytical Question:"
   ]
  },
  {
   "cell_type": "markdown",
   "metadata": {},
   "source": [
    "Your answer here:\n",
    "\n"
   ]
  },
  {
   "cell_type": "markdown",
   "metadata": {},
   "source": [
    "<details>\n",
    "  <summary>Compare Answer</summary>\n",
    "  <h3>Answer:</h3>\n",
    "  <p>What is the 95% confidence interval for the median income of the residents?</p>\n",
    "  \n",
    "</details>"
   ]
  },
  {
   "cell_type": "markdown",
   "metadata": {},
   "source": [
    "## Calculate the Descriptive stats"
   ]
  },
  {
   "cell_type": "code",
   "execution_count": 9,
   "metadata": {},
   "outputs": [
    {
     "name": "stdout",
     "output_type": "stream",
     "text": [
      "Sample Mean: $48625.30\n",
      "Sample Standard Deviation: $48625.49\n",
      "Sample Median: $34339.13\n"
     ]
    }
   ],
   "source": [
    "# Load the dataset\n",
    "df = pd.read_csv('data/income_data.csv')\n",
    "\n",
    "# Calculate Descriptive Statistics\n",
    "sample_mean = df['AnnualIncome'].mean()\n",
    "sample_std = df['AnnualIncome'].std()\n",
    "sample_median = df['AnnualIncome'].median()\n",
    "n = len(df)\n",
    "\n",
    "print(f\"Sample Mean: ${sample_mean:.2f}\")\n",
    "print(f\"Sample Standard Deviation: ${sample_std:.2f}\")\n",
    "print(f\"Sample Median: ${sample_median:.2f}\")\n"
   ]
  },
  {
   "cell_type": "code",
   "execution_count": 10,
   "metadata": {},
   "outputs": [
    {
     "data": {
      "image/png": "[encoded data removed]",
      "text/plain": [
       "<Figure size 640x480 with 1 Axes>"
      ]
     },
     "metadata": {},
     "output_type": "display_data"
    }
   ],
   "source": [
    "# Visualize the data\n",
    "sns.histplot(df['AnnualIncome'], kde=True)\n",
    "plt.title(\"Distribution of Annual Income\")\n",
    "plt.xlabel(\"Annual Income ($)\")\n",
    "plt.ylabel(\"Frequency\")\n",
    "plt.show()\n"
   ]
  },
  {
   "cell_type": "markdown",
   "metadata": {},
   "source": [
    "## Interpret the Graph and Descriptive Statistics:\n",
    "\n"
   ]
  },
  {
   "cell_type": "markdown",
   "metadata": {},
   "source": [
    "Your answer here:\n"
   ]
  },
  {
   "cell_type": "markdown",
   "metadata": {},
   "source": [
    "<details>\n",
    "  <summary>Compare Answer</summary>\n",
    "  <h3>Answer:</h3>\n",
    "  <p>Graph: The histogram is likely to be right-skewed, indicating that a few individuals have very high incomes compared to the majority.\n",
    "  \n",
    "Descriptive Statistics: The mean is likely higher than the median due to the skewness. This suggests that the median is a better measure of central tendency for this data.</p>\n",
    "  \n",
    "</details>"
   ]
  },
  {
   "cell_type": "markdown",
   "metadata": {},
   "source": [
    "## Check if Population Parameters are Known\n"
   ]
  },
  {
   "cell_type": "markdown",
   "metadata": {},
   "source": [
    "Your answer here:"
   ]
  },
  {
   "cell_type": "markdown",
   "metadata": {},
   "source": [
    "\n",
    "<details>\n",
    "  <summary>Compare Answer</summary>\n",
    "  <h3>Answer:</h3>\n",
    "  <p>Population Mean (μ): Unknown\n",
    "\n",
    "Population Standard Deviation (σ): Unknown</p>\n",
    "  \n",
    "</details>"
   ]
  },
  {
   "cell_type": "markdown",
   "metadata": {},
   "source": [
    "### About the Dataset\n",
    "\n",
    "This dataset contains 1000 household incomes that follow a **right-skewed distribution**. \n",
    "\n",
    "Most incomes are clustered towards the lower end, but there are some very high incomes that create a long tail on the right.\n",
    "\n",
    "This type of distribution is common for income data.\n",
    "\n",
    "Since the data is not normally distributed, we will focus on estimating the **median** income rather than the mean. \n",
    "\n",
    "Additionally, we will use **bootstrapping** to calculate the confidence interval for the median.\n"
   ]
  },
  {
   "cell_type": "markdown",
   "metadata": {},
   "source": [
    "### Why Bootstrapping?\n",
    "\n",
    "Since the income data is not normally distributed, traditional methods like the Z-distribution aren't appropriate. \n",
    "\n",
    "Bootstrapping allows us to estimate the confidence interval without assuming normality, making it a versatile tool in non-parametric settings.\n",
    "\n",
    "Bootstrapping is a resampling technique that involves repeatedly drawing samples (with replacement) from a dataset to estimate a population parameter (like the mean, median, standard deviation, etc.) and its confidence interval.\n",
    "\n",
    "The key idea behind bootstrapping is to treat the sample you have as if it were a representation of the population. By resampling from this sample, you can simulate what it would be like to draw new samples from the population without having access to the full population."
   ]
  },
  {
   "cell_type": "markdown",
   "metadata": {},
   "source": [
    "How Does Bootstrapping Work?\n",
    "Bootstrapping involves three main steps:\n",
    "\n",
    "1. Resample with Replacement\n",
    "Resampling with Replacement: This means that when you draw a sample from the data, you put the sampled observation back into the data so that it can be selected again in subsequent draws. This allows each resampled dataset to be different from the others.\n",
    "\n",
    "You create multiple new \"bootstrap samples\" from the original dataset. The size of each bootstrap sample is usually the same as the original sample.\n",
    "\n",
    "2. Calculate the Statistic of Interest\n",
    "For each bootstrap sample, you calculate the statistic you are interested in (e.g., the median, mean, or variance). This gives you a distribution of the statistic based on the resampled data.\n",
    "\n",
    "3. Estimate the Confidence Interval\n",
    "Once you have the distribution of your statistic from all the bootstrap samples, you can estimate the confidence interval by finding the appropriate percentiles of this distribution (e.g., the 2.5th and 97.5th percentiles for a 95% confidence interval)."
   ]
  },
  {
   "cell_type": "code",
   "execution_count": 12,
   "metadata": {},
   "outputs": [
    {
     "name": "stdout",
     "output_type": "stream",
     "text": [
      "Sample Median Income: $34339.13\n",
      "95% Confidence Interval for the Median Income: ($30645.29, $37090.04)\n"
     ]
    }
   ],
   "source": [
    "# Step 1: Calculate the sample median\n",
    "sample_median = df['AnnualIncome'].median()\n",
    "print(f\"Sample Median Income: ${sample_median:.2f}\")\n",
    "\n",
    "# Step 2: Define a bootstrapping function to calculate the CI\n",
    "def bootstrap_ci(data, num_bootstrap=1000, confidence_level=0.95):\n",
    "    # Create bootstrap samples and calculate the median for each sample\n",
    "    bootstrapped_medians = []\n",
    "    n = len(data)\n",
    "    for _ in range(num_bootstrap):\n",
    "        sample = np.random.choice(data, size=n, replace=True)\n",
    "        bootstrapped_medians.append(np.median(sample))\n",
    "    \n",
    "    # Calculate the lower and upper bounds of the confidence interval\n",
    "    lower_bound = np.percentile(bootstrapped_medians, (1 - confidence_level) / 2 * 100)\n",
    "    upper_bound = np.percentile(bootstrapped_medians, (1 + confidence_level) / 2 * 100)\n",
    "    return lower_bound, upper_bound\n",
    "\n",
    "# Step 3: Calculate the 95% confidence interval using bootstrapping\n",
    "ci_lower, ci_upper = bootstrap_ci(df['AnnualIncome'], num_bootstrap=1000, confidence_level=0.95)\n",
    "print(f\"95% Confidence Interval for the Median Income: (${ci_lower:.2f}, ${ci_upper:.2f})\")\n"
   ]
  },
  {
   "cell_type": "markdown",
   "metadata": {},
   "source": [
    "### Interpretation of Results\n",
    "\n",
    "The sample median income is approximately $34339.13. Based on the bootstrapping method, the 95% confidence interval for the median income is ($30645.29, $37090.04). This means that we are 95% confident that the true median household income in the city lies within this range.\n",
    "\n",
    "### Application to Decision-Making\n",
    "\n",
    "- **Scenario 1:** If the city government is planning financial aid programs for households earning below the median income, this confidence interval gives them a range to target. \n",
    "- **Scenario 2:** If a new policy aims to increase the median income, understanding the current range helps assess the policy's impact over time.\n",
    "\n",
    "\n"
   ]
  },
  {
   "cell_type": "code",
   "execution_count": 13,
   "metadata": {},
   "outputs": [
    {
     "name": "stdout",
     "output_type": "stream",
     "text": [
      "95% CI for Median Income with sample size 100: ($20945.81, $42466.71)\n",
      "95% CI for Median Income with sample size 500: ($28831.08, $39812.63)\n",
      "95% CI for Median Income with sample size 1000: ($30407.96, $36958.95)\n"
     ]
    }
   ],
   "source": [
    "# Experiment with different sample sizes or bootstrap iterations\n",
    "sample_sizes = [100, 500, 1000]\n",
    "for size in sample_sizes:\n",
    "    ci_lower, ci_upper = bootstrap_ci(df['AnnualIncome'].sample(size), num_bootstrap=1000, confidence_level=0.95)\n",
    "    print(f\"95% CI for Median Income with sample size {size}: (${ci_lower:.2f}, ${ci_upper:.2f})\")\n"
   ]
  },
  {
   "cell_type": "code",
   "execution_count": null,
   "metadata": {},
   "outputs": [],
   "source": []
  },
  {
   "cell_type": "markdown",
   "metadata": {},
   "source": [
    "Key Points:\n",
    "\n",
    "- Non-normal data often arises in real-world scenarios (e.g., income, wait times, or any data with skewness).\n",
    "\n",
    "- Median is a better measure of central tendency for skewed data.\n",
    "\n",
    "- Bootstrapping is a flexible, non-parametric method that can be used to calculate confidence intervals without assuming normality.\n",
    "\n",
    "- This approach is particularly useful when the sample size is small, or the distribution is heavily skewed."
   ]
  },
  {
   "cell_type": "markdown",
   "metadata": {},
   "source": [
    "# Selecting CI Calculation Methods"
   ]
  },
  {
   "cell_type": "markdown",
   "metadata": {},
   "source": [
    "### Confidence Interval Calculation Methods\n",
    "\n",
    "| **Criteria**                           | **Scenario**                                 | **CI Calculation Method**                     | **When to Use**                                                                                                 | **Example Code** |\n",
    "|----------------------------------------|----------------------------------------------|-----------------------------------------------|-----------------------------------------------------------------------------------------------------------------|------------------|\n",
    "| **Distribution Type: Normal**           | **1. Known Population Std Dev (σ)**           | Z-Distribution (Z-Score)                      | Use when data is normally distributed and the population standard deviation is known.                           | `stats.norm.interval()` in Python’s SciPy |\n",
    "|                                        | **2. Unknown Population Std Dev**             | T-Distribution (Student's t-test)             | Use when data is normally distributed but the population standard deviation is unknown, typically with smaller sample sizes. | `stats.t.interval()` in Python’s SciPy |\n",
    "| **Sample Size: Large (n > 30)**         | **3. Large Sample Size, Unknown Distribution** | Central Limit Theorem (CLT) + Z-Distribution  | Use when sample size is large, allowing the use of the Z-distribution even if the underlying distribution is unknown. | `stats.norm.interval()` in Python’s SciPy |\n",
    "| **Sample Size: Small (n < 30)**         | **4. Small Sample Size, Non-Normal Distribution**| T-Distribution or Non-Parametric Methods      | Use the t-distribution for approximately normal data or bootstrapping if data is significantly non-normal. | `stats.t.interval()` or bootstrapping |\n",
    "| **Distribution Type: Non-Normal**       | **5. Non-Normal Distribution, Focus on Median** | Bootstrapping                                 | Use when data is non-normal (e.g., skewed) and you need to estimate the median or other non-mean statistics. | Custom bootstrapping function in Python |\n",
    "| **Data Type: Proportion**                | **6. Proportion Data (Binary Outcomes)**      | Wilson Score Interval / Normal Approximation  | Use for proportion data (e.g., success/failure). Normal approximation for large samples; Wilson Score for more accuracy. | `stats.proportion_confint()` in Python’s StatsModels |\n",
    "| **Variance Estimation**                 | **7. Confidence Interval for Variance**       | Chi-Square Distribution                       | Use when estimating confidence intervals for population variance or standard deviation from normally distributed data. | `stats.chi2.interval()` in Python’s SciPy |\n",
    "| **Correlated Data**                     | **8. Time-Series or Correlated Data**         | Block Bootstrapping / Moving Block CI         | Use for time series or data with correlations where traditional bootstrapping isn't appropriate. | Custom block bootstrapping code |\n",
    "| **Proportion Data: Small Sample**        | **9. Confidence Interval for Proportions, Small Sample** | Exact Binomial CI (Clopper-Pearson Interval)  | Use for binary outcomes and small sample sizes where normal approximation isn't accurate.        | `statsmodels.stats.proportion.proportion_confint(method='exact')` |\n",
    "| **Bayesian Approach**                   | **10. Bayesian Methods for CI**               | Bayesian Credible Intervals                  | Use when a probabilistic interpretation of the interval is desired (e.g., 95% probability that the true parameter lies within the interval). | `pymc3` or `scipy.stats.bayes_mvs()` |\n",
    "\n",
    "### Key Points:\n",
    "\n",
    "1. **Z-Distribution (Z-Score):**\n",
    "   - **When to Use:** For normal distributions where the population standard deviation is known or when sample size is large (n > 30).\n",
    "   - **Example Use:** Large samples where CLT applies or known standard deviation.\n",
    "\n",
    "2. **T-Distribution:**\n",
    "   - **When to Use:** For normal distributions with unknown population standard deviation, particularly with small sample sizes (n < 30).\n",
    "   - **Example Use:** Small samples or unknown standard deviation in normal distributions.\n",
    "\n",
    "3. **Bootstrapping:**\n",
    "   - **When to Use:** For non-normal distributions or when estimating confidence intervals for statistics like the median. It’s a non-parametric method that doesn’t assume any specific distribution.\n",
    "   - **Example Use:** Skewed data or non-parametric statistics.\n",
    "\n",
    "4. **Proportion Data:**\n",
    "   - **When to Use:** Wilson Score or exact methods for small samples, while normal approximation is suitable for large samples.\n",
    "   - **Example Use:** Proportion data in surveys or experiments.\n",
    "\n",
    "5. **Chi-Square Distribution:**\n",
    "   - **When to Use:** For confidence intervals of variance or standard deviation in normally distributed data.\n",
    "   - **Example Use:** Variance estimation in quality control.\n",
    "\n",
    "6. **Bayesian Methods:**\n",
    "   - **When to Use:** For a probabilistic interpretation of confidence intervals.\n",
    "   - **Example Use:** Bayesian analysis providing a probability-based interval estimate.\n"
   ]
  },
  {
   "cell_type": "code",
   "execution_count": null,
   "metadata": {},
   "outputs": [],
   "source": []
  }
 ],
 "metadata": {
  "kernelspec": {
   "display_name": "Python 3 (ipykernel)",
   "language": "python",
   "name": "python3"
  },
  "language_info": {
   "codemirror_mode": {
    "name": "ipython",
    "version": 3
   },
   "file_extension": ".py",
   "mimetype": "text/x-python",
   "name": "python",
   "nbconvert_exporter": "python",
   "pygments_lexer": "ipython3",
   "version": "3.11.5"
  }
 },
 "nbformat": 4,
 "nbformat_minor": 4
}
