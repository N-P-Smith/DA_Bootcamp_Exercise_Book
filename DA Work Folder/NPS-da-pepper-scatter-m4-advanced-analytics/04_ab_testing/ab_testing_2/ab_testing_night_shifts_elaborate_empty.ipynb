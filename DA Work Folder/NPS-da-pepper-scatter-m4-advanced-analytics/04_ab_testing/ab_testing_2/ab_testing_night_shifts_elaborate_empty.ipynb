{
 "cells": [
  {
   "cell_type": "markdown",
   "metadata": {},
   "source": [
    "## A/B testing with python\n",
    "\n"
   ]
  },
  {
   "cell_type": "markdown",
   "metadata": {},
   "source": [
    ">### Use Case Scenario \n",
    ">\n",
    ">Imagine you are working as a waitress in a restaurant. It's only a summer job, but you’ve realized that your basic salary is nothing and that you need to make good tips to earn enough money for your winter ski trip with your high school friends. You’re not happy with your tips either, and you’re wondering if there is anything that could help you increase your salary.\n",
    ">\n",
    ">You've decided to take a scientific approach and perform an A/B testing experiment. To be sure about what causes any potential difference, you decided to change only one thing at work and test its effect: the time of the shift (day shift or night shift). You’ve always worked during the day, but maybe evening shifts would be more profitable in terms of tips. Now you want to learn how to apply A/B testing methods to help you with your experiment."
   ]
  },
  {
   "cell_type": "markdown",
   "metadata": {},
   "source": [
    "## Let's break it down:\n",
    "\n",
    "**Goal:** Will switching from day shifts to night shifts in a waitressing job increase tips, to fund the ski trip?\n",
    "\n",
    "#### Defining A/B test:\n",
    "\n",
    "1. **Initial goal:** \n",
    "   - The night shift should bring a higher number or amount of tips.\n",
    "   \n",
    "2. **Define test metrics:**\n",
    "   - **Option A:** Conversion Rate: tips per shift.\n",
    "   - **Option B:** Average Shift-Tips Amount.\n",
    "\n",
    "3. **Define Minimum Effect of Interest (MEI):** \n",
    "   - +5% Conversion Rate (CR) or +15% Average Shift-Tips Amount.\n",
    "\n",
    "4. **Decide on the direction of change:** \n",
    "   - One-sided -> larger.\n",
    "\n",
    "5. **Formulate the Null Hypothesis:** \n",
    "   - $H_{0}$: The type of shift doesn't influence the tips conversion rate or average shift-tips amount.\n",
    "   - $H_{1}$: The type of shift will improve the tips conversion rate or average shift-tips amount by 5%.\n",
    "\n",
    "6. **Consider the significance level $\\alpha$, Type I error (wrongly finding a difference):** \n",
    "   - Confidence level $(1-\\alpha)$ at 95% is acceptable. (p-value must be below 0.05 to reject $H_{0}$).\n",
    "\n",
    "7. **Choose the appropriate test based on the distribution and sample size.**"
   ]
  },
  {
   "cell_type": "markdown",
   "metadata": {},
   "source": [
    "#### Objectives:"
   ]
  },
  {
   "cell_type": "markdown",
   "metadata": {},
   "source": [
    "The second part of the AB testing topic is more hands on.\n",
    "\n",
    "1. Selecting a test statistic \n",
    "\n",
    "2. Example of comparing conversion rates with **z-test and statsmodels**\n",
    "\n",
    "3. Example of comparing means with **t-test and scipy**\n",
    "\n",
    "4. Exercise: **t-test online calculator** \n",
    "\n",
    "5. Bonus: sample size with an online calculator and exercises"
   ]
  },
  {
   "cell_type": "markdown",
   "metadata": {},
   "source": [
    ">As we are not gonna perform any calculations by ourselves we check out two options how to calculate p-value\n",
    ">- with python libraries (like `statsmodels` or `scipy`) \n",
    ">- and online calculators \n",
    "  \n",
    "\n"
   ]
  },
  {
   "cell_type": "markdown",
   "metadata": {},
   "source": [
    "# 1. Selecting a test statistic (Statistical Tests)"
   ]
  },
  {
   "cell_type": "markdown",
   "metadata": {},
   "source": [
    "*In hypothesis testing we always work with the same concept but depending on the metric we're testing and the population characteristics we might be using different test statistics.*\n",
    "\n",
    "*Test statistics refer to different distribution functions and will have different assumptions about the data. Know what kind of data you're dealing with and then pick the best method for your A/B test.*"
   ]
  },
  {
   "cell_type": "markdown",
   "metadata": {},
   "source": [
    "### t-test"
   ]
  },
  {
   "cell_type": "markdown",
   "metadata": {},
   "source": [
    "also named Student's test, and it's used when:\n",
    "\n",
    "- the observations are normally distributed\n",
    "- *the sampling distributions have similar variances*\n",
    "- appropriate for comparing means of two groups\n",
    "- used when sample sizes are small and variances are unknown"
   ]
  },
  {
   "cell_type": "markdown",
   "metadata": {},
   "source": [
    "###  z-test"
   ]
  },
  {
   "cell_type": "markdown",
   "metadata": {},
   "source": [
    "- the sample is normally distributed\n",
    "- we know the true characteristics of the populations (mean & standard deviation)\n",
    "- sample size/s is/are higher than 30\n",
    "- appropriate for comparing means\n",
    "\n",
    "*Note: if the samples are large enough, even if not all the conditions are met, we go for z-test instead of t-test statistics*"
   ]
  },
  {
   "cell_type": "markdown",
   "metadata": {},
   "source": [
    "<details><summary><b><font color=\"yellow\">And many more...</font></b></summary>\n",
    "\n",
    "- **Chi-square test:**   \n",
    "  <sup>examines relationships between categorical variables. Used to test if distributions of categorical variables differ.</sup>  \n",
    "- **Welch's t-test:**  \n",
    "  <sup>similar to regular t-test but doesn't hold the requirement on the similar variances.</sup>  \n",
    "- **Fisher's exact test:**  \n",
    "  <sup>used when comparing two binomial distributions such as a click-through rate.</sup> \n",
    "- **ANOVA (Analysis of Variance):**  \n",
    "  <sup>Compares means among three or more groups. Useful for examining more than two groups.</sup>\n",
    "- **Bayesian Methods:**  \n",
    "  <sup>Offers a probability of a hypothesis being true given the data, rather than a p-value.</sup>\n",
    "- **F-test:**  \n",
    "  <sup>Compares variances of two populations. Often used in the context of ANOVA.</sup>\n",
    "- **Mann-Whitney U Test:**  \n",
    "  <sup>Non-parametric test for assessing whether two independent samples come from the same distribution.</sup>  \n",
    "- **Wilcoxon Signed-Rank Test:**  \n",
    "  <sup>Non-parametric test for comparing two related samples, matched samples, or repeated measurements on a single sample.</sup>  \n",
    "- **Kruskal-Wallis H Test:**  \n",
    "  <sup>Non-parametric method for testing whether samples originate from the same distribution. Used for more than two groups.</sup>  \n",
    "</details>"
   ]
  },
  {
   "cell_type": "markdown",
   "metadata": {},
   "source": [
    "> ### Python packages in hypothesis testing\n",
    ">*Besides the online calculators and other dedicated software we can also find supporting libraries in python. The two main libraries that share different hypothesis testing tools are: **statsmodels** and **scipy**.*"
   ]
  },
  {
   "cell_type": "markdown",
   "metadata": {},
   "source": [
    "# 2. `statsmodels` - Z-Test showcase"
   ]
  },
  {
   "cell_type": "markdown",
   "metadata": {},
   "source": [
    "*Statsmodels is heavily statistic oriented python module including an implementation of different statistical models, statistical testing tools and others.*"
   ]
  },
  {
   "cell_type": "markdown",
   "metadata": {},
   "source": [
    "### Z-Test Example - comparing conversion rates"
   ]
  },
  {
   "cell_type": "markdown",
   "metadata": {},
   "source": [
    "Using the **`proportions_ztest`** function from the **`statsmodels.stats.proportions`** we can compare two conversion rates. The code below presents how to perform such a test for a dataset where you have two variants and a conversion column. Note that in order to perform this kind of a test we have to make sure that we meet the z-test conditions (see above)."
   ]
  },
  {
   "cell_type": "markdown",
   "metadata": {},
   "source": [
    "In the 'data' folder you can find two datasets with conversion rates - that we can use for testing the hypothesis. \n",
    "\n",
    "- `tips_success.csv`: will give you a p-value that is small and the difference between the conversion rates will be bigger than 5 %. \n",
    "- `tips_too_small_diff.csv` will give a p-value bigger than 5% and a smaller diff in the conversion rates."
   ]
  },
  {
   "cell_type": "markdown",
   "metadata": {},
   "source": [
    "### Let's run a z-test the a dataset `tips_success.csv`:"
   ]
  },
  {
   "cell_type": "code",
   "execution_count": 16,
   "metadata": {},
   "outputs": [],
   "source": [
    "import pandas as pd\n",
    "from statsmodels.stats.proportion import proportions_ztest"
   ]
  },
  {
   "cell_type": "code",
   "execution_count": 17,
   "metadata": {},
   "outputs": [
    {
     "data": {
      "text/html": [
       "<div>\n",
       "<style scoped>\n",
       "    .dataframe tbody tr th:only-of-type {\n",
       "        vertical-align: middle;\n",
       "    }\n",
       "\n",
       "    .dataframe tbody tr th {\n",
       "        vertical-align: top;\n",
       "    }\n",
       "\n",
       "    .dataframe thead th {\n",
       "        text-align: right;\n",
       "    }\n",
       "</style>\n",
       "<table border=\"1\" class=\"dataframe\">\n",
       "  <thead>\n",
       "    <tr style=\"text-align: right;\">\n",
       "      <th></th>\n",
       "      <th>date</th>\n",
       "      <th>version</th>\n",
       "      <th>conversion</th>\n",
       "    </tr>\n",
       "  </thead>\n",
       "  <tbody>\n",
       "    <tr>\n",
       "      <th>0</th>\n",
       "      <td>2023-04-12</td>\n",
       "      <td>night</td>\n",
       "      <td>0</td>\n",
       "    </tr>\n",
       "    <tr>\n",
       "      <th>1</th>\n",
       "      <td>2023-03-30</td>\n",
       "      <td>night</td>\n",
       "      <td>0</td>\n",
       "    </tr>\n",
       "    <tr>\n",
       "      <th>2</th>\n",
       "      <td>2023-04-12</td>\n",
       "      <td>day</td>\n",
       "      <td>0</td>\n",
       "    </tr>\n",
       "    <tr>\n",
       "      <th>3</th>\n",
       "      <td>2023-03-28</td>\n",
       "      <td>day</td>\n",
       "      <td>0</td>\n",
       "    </tr>\n",
       "    <tr>\n",
       "      <th>4</th>\n",
       "      <td>2023-04-13</td>\n",
       "      <td>night</td>\n",
       "      <td>0</td>\n",
       "    </tr>\n",
       "    <tr>\n",
       "      <th>...</th>\n",
       "      <td>...</td>\n",
       "      <td>...</td>\n",
       "      <td>...</td>\n",
       "    </tr>\n",
       "    <tr>\n",
       "      <th>663</th>\n",
       "      <td>2023-04-04</td>\n",
       "      <td>day</td>\n",
       "      <td>0</td>\n",
       "    </tr>\n",
       "    <tr>\n",
       "      <th>664</th>\n",
       "      <td>2023-03-30</td>\n",
       "      <td>night</td>\n",
       "      <td>0</td>\n",
       "    </tr>\n",
       "    <tr>\n",
       "      <th>665</th>\n",
       "      <td>2023-03-30</td>\n",
       "      <td>day</td>\n",
       "      <td>0</td>\n",
       "    </tr>\n",
       "    <tr>\n",
       "      <th>666</th>\n",
       "      <td>2023-04-01</td>\n",
       "      <td>day</td>\n",
       "      <td>0</td>\n",
       "    </tr>\n",
       "    <tr>\n",
       "      <th>667</th>\n",
       "      <td>2023-04-12</td>\n",
       "      <td>night</td>\n",
       "      <td>0</td>\n",
       "    </tr>\n",
       "  </tbody>\n",
       "</table>\n",
       "<p>668 rows × 3 columns</p>\n",
       "</div>"
      ],
      "text/plain": [
       "           date version  conversion\n",
       "0    2023-04-12   night           0\n",
       "1    2023-03-30   night           0\n",
       "2    2023-04-12     day           0\n",
       "3    2023-03-28     day           0\n",
       "4    2023-04-13   night           0\n",
       "..          ...     ...         ...\n",
       "663  2023-04-04     day           0\n",
       "664  2023-03-30   night           0\n",
       "665  2023-03-30     day           0\n",
       "666  2023-04-01     day           0\n",
       "667  2023-04-12   night           0\n",
       "\n",
       "[668 rows x 3 columns]"
      ]
     },
     "execution_count": 17,
     "metadata": {},
     "output_type": "execute_result"
    }
   ],
   "source": [
    "# getting data\n",
    "\n",
    "tips = pd.read_csv('data/tips_success.csv')\n",
    "tips\n",
    "\n",
    "# tips.groupby(['date', 'version']).agg(['count', 'sum'])"
   ]
  },
  {
   "cell_type": "code",
   "execution_count": 18,
   "metadata": {},
   "outputs": [],
   "source": [
    "# separating in subsets of dataframe\n",
    "\n",
    "tips_night = tips[tips[\"version\"] == \"night\"]\n",
    "tips_day = tips[tips[\"version\"] == \"day\"]"
   ]
  },
  {
   "cell_type": "code",
   "execution_count": 19,
   "metadata": {},
   "outputs": [
    {
     "data": {
      "text/plain": [
       "(333, 335)"
      ]
     },
     "execution_count": 19,
     "metadata": {},
     "output_type": "execute_result"
    }
   ],
   "source": [
    "# calculating the sizes of the samples (number of observations)\n",
    "\n",
    "n_night = len(tips_night)\n",
    "n_day = len(tips_day)\n",
    "\n",
    "n_night, n_day"
   ]
  },
  {
   "cell_type": "code",
   "execution_count": 20,
   "metadata": {},
   "outputs": [],
   "source": [
    "# defining a list of total conversions per sample\n",
    "# defining a list of sample sizes (nobs -> number of observatuions)\n",
    "\n",
    "successes = [tips_night['conversion'].sum(), tips_day['conversion'].sum()]\n",
    "nobs = [n_night, n_day]"
   ]
  },
  {
   "cell_type": "code",
   "execution_count": 21,
   "metadata": {
    "scrolled": true
   },
   "outputs": [
    {
     "name": "stdout",
     "output_type": "stream",
     "text": [
      "conversion rate for day shift: 0.0955223880597015\n",
      "conversion rate for night shift: 0.15915915915915915\n",
      "z statistic: 2.47\n",
      "p-value: 0.007\n"
     ]
    }
   ],
   "source": [
    "# plugging in the values into proportions_ztest function\n",
    "\n",
    "z_stat, pval = proportions_ztest(successes, nobs=nobs, alternative = \"larger\") # it's a one-tailed test, so...\n",
    "\n",
    "\n",
    "print(f'conversion rate for day shift: {tips_day[\"conversion\"].sum()/n_day}') \n",
    "print(f'conversion rate for night shift: {tips_night[\"conversion\"].sum()/n_night}')\n",
    "print(f'z statistic: {z_stat:.2f}')\n",
    "print(f'p-value: {pval:.3f}')"
   ]
  },
  {
   "cell_type": "markdown",
   "metadata": {},
   "source": [
    "> **Conclusions:**  \n",
    ">- The p value is ??? we can ??? reject the $H{_0}$  \n",
    ">- The difference between the Variants is ??? than 5% points. The MEI is ???.\n",
    ">- Based on the results of the calculations we could tell that it makes ??? sense to switch to the night shift.  "
   ]
  },
  {
   "cell_type": "markdown",
   "metadata": {},
   "source": [
    "**In summary:**  \n",
    "the `proportions_ztest` uses the provided counts and sample sizes to calculate sample proportions, pooled proportions, and the z-statistic. It then compares this statistic to the standard normal distribution to assess statistical significance. Remember that this test assumes normality and requires large sample sizes (>30) for accurate results"
   ]
  },
  {
   "cell_type": "markdown",
   "metadata": {},
   "source": [
    "### Let's check it now for the dataset called `tips_too_small_diff.csv`:"
   ]
  },
  {
   "cell_type": "code",
   "execution_count": 22,
   "metadata": {
    "scrolled": false
   },
   "outputs": [
    {
     "name": "stdout",
     "output_type": "stream",
     "text": [
      "conversion rate for day shift: 0.12312312312312312\n",
      "conversion rate for night shift: 0.0955223880597015\n",
      "z statistic: -1.14\n",
      "p-value: 0.874\n"
     ]
    }
   ],
   "source": [
    "# reading data\n",
    "tips = pd.read_csv('data/tips_too_small_diff.csv')\n",
    "\n",
    "# separating in subsets of dataframe\n",
    "tips_night = tips[tips['version'] == 'night']\n",
    "tips_day = tips[tips['version'] == 'day']\n",
    "\n",
    "# calculating the sizes of the samples (number of observations)\n",
    "n_night = len(tips_night)\n",
    "n_day = len(tips_day)\n",
    "\n",
    "# defining a list of total conversions per sample\n",
    "# defining a list of sample sizes (nobs -> number of observatuions)\n",
    "successes = [tips_night['conversion'].sum(), tips_day['conversion'].sum()]\n",
    "nobs = [n_night, n_day]\n",
    "\n",
    "# plugging in the values into proportions_ztest function\n",
    "z_stat, pval = proportions_ztest(successes, nobs=nobs, alternative='larger')\n",
    "                                 \n",
    "print(f'conversion rate for day shift: {tips_day[\"conversion\"].sum()/n_day}')\n",
    "print(f'conversion rate for night shift: {tips_night[\"conversion\"].sum()/n_night}')\n",
    "print(f'z statistic: {z_stat:.2f}')\n",
    "print(f'p-value: {pval:.3f}')"
   ]
  },
  {
   "cell_type": "markdown",
   "metadata": {},
   "source": [
    "> **Conclusions:**  \n",
    ">- The p value is ??? than the 5% significance level, hence the test ??? reject the $H{_0}$  \n",
    ">- The MEI is ???\n",
    ">- Based on the results of the calculations we ??? switch to the night shift.  "
   ]
  },
  {
   "cell_type": "markdown",
   "metadata": {},
   "source": [
    "------------------------"
   ]
  },
  {
   "cell_type": "markdown",
   "metadata": {},
   "source": [
    "                            >>> This is probably a good time for a break ;) <<<"
   ]
  },
  {
   "cell_type": "markdown",
   "metadata": {},
   "source": [
    "----------------------"
   ]
  },
  {
   "cell_type": "markdown",
   "metadata": {},
   "source": [
    "# 3. `scipy` - t-Test showcase"
   ]
  },
  {
   "cell_type": "markdown",
   "metadata": {},
   "source": [
    "*This is gonna be a short python presentation of the t-Test that is comparing means.*"
   ]
  },
  {
   "cell_type": "markdown",
   "metadata": {},
   "source": [
    "SciPy (stands for Scientific Python) is a Python library used for scientific computing and technical computing.  SciPy uses [NumPy](https://www.w3schools.com/python/numpy/default.asp) underneath.\n",
    "  \n",
    "  \n",
    "  \n",
    ">  **We are going to use the `ttest_ind` function from the `stats` module in the [scipy python package](https://scipy.org/)**"
   ]
  },
  {
   "cell_type": "markdown",
   "metadata": {},
   "source": [
    "## Example - Comparing means \n",
    "\n",
    "\n",
    "Instead of conversion rates for tips we could also measure how much tips on average in euros we are getting per day. In this case a t-test will be a perfect choice for statistics."
   ]
  },
  {
   "cell_type": "markdown",
   "metadata": {},
   "source": [
    "*If p-value > 0.05 we can not reject the null hypothesis that e.g. different shifts have same tip averages.*\n",
    "\n",
    "*But if it is less, we can reject the null hypothesis and conclude that the two samples of data have different true means.*"
   ]
  },
  {
   "cell_type": "markdown",
   "metadata": {},
   "source": [
    "#### Option 1:\n",
    "In this scenario we imagine that in several days we worked both shifts and every day we computed how many tips we got **on average per bill each day**. Below you can see how to compare the results of the test: "
   ]
  },
  {
   "cell_type": "code",
   "execution_count": 23,
   "metadata": {},
   "outputs": [
    {
     "data": {
      "text/html": [
       "<div>\n",
       "<style scoped>\n",
       "    .dataframe tbody tr th:only-of-type {\n",
       "        vertical-align: middle;\n",
       "    }\n",
       "\n",
       "    .dataframe tbody tr th {\n",
       "        vertical-align: top;\n",
       "    }\n",
       "\n",
       "    .dataframe thead th {\n",
       "        text-align: right;\n",
       "    }\n",
       "</style>\n",
       "<table border=\"1\" class=\"dataframe\">\n",
       "  <thead>\n",
       "    <tr style=\"text-align: right;\">\n",
       "      <th></th>\n",
       "      <th>day</th>\n",
       "      <th>night</th>\n",
       "    </tr>\n",
       "  </thead>\n",
       "  <tbody>\n",
       "    <tr>\n",
       "      <th>0</th>\n",
       "      <td>3.926400</td>\n",
       "      <td>4.983045</td>\n",
       "    </tr>\n",
       "    <tr>\n",
       "      <th>1</th>\n",
       "      <td>4.780400</td>\n",
       "      <td>5.064333</td>\n",
       "    </tr>\n",
       "    <tr>\n",
       "      <th>2</th>\n",
       "      <td>3.958600</td>\n",
       "      <td>4.638667</td>\n",
       "    </tr>\n",
       "    <tr>\n",
       "      <th>3</th>\n",
       "      <td>4.872700</td>\n",
       "      <td>5.148778</td>\n",
       "    </tr>\n",
       "    <tr>\n",
       "      <th>4</th>\n",
       "      <td>6.425889</td>\n",
       "      <td>5.630667</td>\n",
       "    </tr>\n",
       "  </tbody>\n",
       "</table>\n",
       "</div>"
      ],
      "text/plain": [
       "        day     night\n",
       "0  3.926400  4.983045\n",
       "1  4.780400  5.064333\n",
       "2  3.958600  4.638667\n",
       "3  4.872700  5.148778\n",
       "4  6.425889  5.630667"
      ]
     },
     "execution_count": 23,
     "metadata": {},
     "output_type": "execute_result"
    }
   ],
   "source": [
    "import scipy.stats as sps\n",
    "\n",
    "# reading data\n",
    "tips = pd.read_csv('data/tips_means_2.csv')\n",
    "tips.head()"
   ]
  },
  {
   "cell_type": "code",
   "execution_count": 24,
   "metadata": {
    "scrolled": false
   },
   "outputs": [
    {
     "data": {
      "text/plain": [
       "(np.float64(5.775934560532062), np.float64(5.221549213656715))"
      ]
     },
     "execution_count": 24,
     "metadata": {},
     "output_type": "execute_result"
    }
   ],
   "source": [
    "tips['night'].mean(), tips['day'].mean()"
   ]
  },
  {
   "cell_type": "code",
   "execution_count": 25,
   "metadata": {},
   "outputs": [
    {
     "name": "stdout",
     "output_type": "stream",
     "text": [
      "average tips for day shift: 5.221549213656715\n",
      "average tips for night shift 5.775934560532062\n",
      "z statistic: 1.47\n",
      "p-value: 0.073847\n",
      "tips change in percent: 10.62 %\n"
     ]
    }
   ],
   "source": [
    "# separating in subsets of dataframe\n",
    "tips_day = tips['day']\n",
    "tips_night = tips['night']\n",
    "\n",
    "# plugging in the values into ttest_ind function\n",
    "test_statistic, pvalue = sps.ttest_ind(tips_night, tips_day, alternative='greater')\n",
    "\n",
    "print(f'average tips for day shift: {tips_day.mean()}')\n",
    "print(f'average tips for night shift {tips_night.mean()}')\n",
    "\n",
    "print(f'z statistic: {test_statistic:.2f}')\n",
    "print(f'p-value: {pvalue:.6f}')\n",
    "\n",
    "print(f'tips change in percent: {(tips_night.mean()/tips_day.mean()-1)*100:.2f} %')"
   ]
  },
  {
   "cell_type": "markdown",
   "metadata": {},
   "source": [
    ">**Conclusion:**  \n",
    "> there is ??? statistically significant difference between the two sample means because the **p-value ??? 0.05**"
   ]
  },
  {
   "cell_type": "markdown",
   "metadata": {},
   "source": [
    "#### Option 2:\n",
    "We also measured **daily total tips** in euros per shift. We could use the t-test to compare averages of these samples."
   ]
  },
  {
   "cell_type": "code",
   "execution_count": 26,
   "metadata": {
    "scrolled": false
   },
   "outputs": [
    {
     "name": "stdout",
     "output_type": "stream",
     "text": [
      "average daily total tips for day shift: 51.393350000000005\n",
      "average daily total tips for night shift 61.25133333333333\n",
      "z statistic: 1.78\n",
      "p-value: 0.040\n",
      "tips change in percent: 19.18 %\n"
     ]
    }
   ],
   "source": [
    "# reading data\n",
    "tips = pd.read_csv('data/tips_daily.csv')\n",
    "\n",
    "# separating in subsets of dataframe\n",
    "tips_day = tips['day']\n",
    "tips_night = tips['night']\n",
    "\n",
    "# plugging in the values into ttest_ind function\n",
    "test_statistic, pvalue = sps.ttest_ind(tips_night, tips_day, alternative='greater')\n",
    "\n",
    "print(f'average daily total tips for day shift: {tips_day.mean()}')\n",
    "print(f'average daily total tips for night shift {tips_night.mean()}')\n",
    "\n",
    "print(f'z statistic: {test_statistic:.2f}')\n",
    "print(f'p-value: {pvalue:.3f}')\n",
    "\n",
    "print(f'tips change in percent: {(tips_night.mean()/tips_day.mean()-1)*100:.2f} %')"
   ]
  },
  {
   "cell_type": "markdown",
   "metadata": {},
   "source": [
    "**Conclusion:** \n",
    "- there is ??? statistically significant difference between the two sampple means (p-value ??? 0.05)\n",
    "- The difference between the Variants is ??? than 15% . The MEI is ??."
   ]
  },
  {
   "cell_type": "markdown",
   "metadata": {},
   "source": [
    "# 4. Online calculators"
   ]
  },
  {
   "cell_type": "markdown",
   "metadata": {},
   "source": [
    "For this encounter we will use the **t-test calculator** as an example.  \n",
    "\n",
    "While searching for online calculators and formulas for performing hypothesis testing you might require different inputs. That is related to the statistic that is used for the calculation. However all the concepts still follow the same thinking process with the hypotheses and the p value.\n",
    "\n",
    "\n",
    "*This is an example of an online calculator that uses t statistics:*\n",
    "*- [t-test online calculator](https://www.medcalc.org/calc/comparison_of_means.php)*\n",
    "\n"
   ]
  },
  {
   "cell_type": "markdown",
   "metadata": {},
   "source": [
    "## Exercise: Parameter changes in a statistical test"
   ]
  },
  {
   "cell_type": "markdown",
   "metadata": {},
   "source": [
    "#### **Question:** How is the **p-value** in a t-test affected by... ?\n",
    "\n",
    "(hint: use this [online calculator](https://www.medcalc.org/calc/comparison_of_means.php) to help you)"
   ]
  },
  {
   "cell_type": "code",
   "execution_count": 27,
   "metadata": {},
   "outputs": [
    {
     "data": {
      "text/html": [
       "<div>\n",
       "<style scoped>\n",
       "    .dataframe tbody tr th:only-of-type {\n",
       "        vertical-align: middle;\n",
       "    }\n",
       "\n",
       "    .dataframe tbody tr th {\n",
       "        vertical-align: top;\n",
       "    }\n",
       "\n",
       "    .dataframe thead th {\n",
       "        text-align: right;\n",
       "    }\n",
       "</style>\n",
       "<table border=\"1\" class=\"dataframe\">\n",
       "  <thead>\n",
       "    <tr style=\"text-align: right;\">\n",
       "      <th></th>\n",
       "      <th>sample_1</th>\n",
       "      <th>sample_2</th>\n",
       "    </tr>\n",
       "  </thead>\n",
       "  <tbody>\n",
       "    <tr>\n",
       "      <th>mean</th>\n",
       "      <td>61.251333</td>\n",
       "      <td>51.393350</td>\n",
       "    </tr>\n",
       "    <tr>\n",
       "      <th>standard deviation</th>\n",
       "      <td>19.589261</td>\n",
       "      <td>23.168388</td>\n",
       "    </tr>\n",
       "    <tr>\n",
       "      <th>sample size</th>\n",
       "      <td>30.000000</td>\n",
       "      <td>30.000000</td>\n",
       "    </tr>\n",
       "  </tbody>\n",
       "</table>\n",
       "</div>"
      ],
      "text/plain": [
       "                     sample_1   sample_2\n",
       "mean                61.251333  51.393350\n",
       "standard deviation  19.589261  23.168388\n",
       "sample size         30.000000  30.000000"
      ]
     },
     "execution_count": 27,
     "metadata": {},
     "output_type": "execute_result"
    }
   ],
   "source": [
    "sample_stats = {'sample_1' : [tips['night'].mean(), tips['night'].std(), tips['night'].count()],\n",
    "'sample_2' : [tips['day'].mean(), tips['day'].std(), tips['day'].count()]\n",
    "}\n",
    "pd.DataFrame(sample_stats, index=['mean', 'standard deviation', 'sample size'])"
   ]
  },
  {
   "cell_type": "markdown",
   "metadata": {},
   "source": [
    "#####   *1. the difference between the means of the two groups*\n",
    "\n",
    " \t `Answer: ...`\n",
    "\n",
    "#####  *2. the variance (or the standard deviation) of the two samples*\n",
    "\n",
    " \t `Answer: ...`\n",
    "\n",
    "#####   *3. the size of the samples*\n",
    "\n",
    "  \t`Answer: ...`"
   ]
  },
  {
   "cell_type": "markdown",
   "metadata": {},
   "source": [
    "# Collection of Samples"
   ]
  },
  {
   "cell_type": "markdown",
   "metadata": {},
   "source": [
    "### Online calculators for sample size"
   ]
  },
  {
   "cell_type": "markdown",
   "metadata": {},
   "source": [
    "*Similarly to the test statistics, there are also online calculators for computing sample size of data points that you should gather:*\n",
    "*- [abtestguide sample size online calculator](https://abtestguide.com/abtestsize/)*"
   ]
  },
  {
   "cell_type": "markdown",
   "metadata": {},
   "source": [
    "*The amount of data that is needed to collect depends on all, the **significance level** and the **test power**, and the **MEI** we decide upon before running the A/B test. The smaller the difference between the two groups we aim to detect, the more data we need to collect.*"
   ]
  },
  {
   "cell_type": "markdown",
   "metadata": {},
   "source": [
    "### Which parameters affect the required sample size?"
   ]
  },
  {
   "cell_type": "markdown",
   "metadata": {},
   "source": [
    "#####   *1. relative MEI*\n",
    "\n",
    "`Answer: ...`\n",
    "\n",
    "#####   *2. test power*\n",
    "\n",
    "`Answer: ...`\n",
    "\n",
    "#####   *3. significance level*\n",
    "\n",
    "`Answer: ...`"
   ]
  },
  {
   "cell_type": "markdown",
   "metadata": {},
   "source": [
    "**In our scenario:**  \n",
    "*How can we estimate the number of weeks needed to run the experiment?*"
   ]
  },
  {
   "cell_type": "markdown",
   "metadata": {},
   "source": [
    "<details><summary><font size=4, color=\"skyblue\">more about T-Test (Student's t-Test):</font></summary>\n",
    "\n",
    "- **Purpose**: The t-test is used to compare **sample means** from two groups and determine if their differences are statistically significant.\n",
    "\n",
    "- **Scenarios**:\n",
    "  - When comparing means of two independent groups (e.g., treatment vs. control groups).\n",
    "  - When the population variance is **unknown**.\n",
    "  \n",
    "- **Steps**:\n",
    "  1. Calculate the sample means for both groups.\n",
    "  2. Compute the **t-statistic** using the formula:\n",
    "     # $ t = \\frac{{\\bar{x}_1 - \\bar{x}_2} - Δ}{{\\sqrt{\\frac{{s_1^2}}{{n_1}} + \\frac{{s_2^2}}{{n_2}}}}} $\n",
    "     \n",
    "     where:\n",
    "     \n",
    "     - $\\bar{x}_1$ and $\\bar{x}_2$ are the sample means\n",
    "     - Δ is the hypothesized difference between the population means (0 if testing for equal means)\n",
    "     - $s_1$ and $s_2$ are the sample standard deviations\n",
    "     - $n_1$ and $n_2$ are the sample sizes  \n",
    "    \n",
    "    \n",
    "  3. Determine the **degrees of freedom** (usually $n_1 + n_2 - 2$).\n",
    "  4. Compare the t-statistic to the critical t-value based on the desired significance level.\n",
    "  \n",
    "- **Output**: A p-value indicating whether the means are significantly different.\n",
    "\n",
    "</details>\n",
    "\n",
    "<details><summary><font size=4, color=\"skyblue\">more about Z-Test (Z-Score Test):</font></summary>\n",
    "\n",
    "- **Purpose**: The z-test is used to compare a **sample mean** to a known population mean or to compare proportions.\n",
    "- **Scenarios**:\n",
    "  - When the population variance is **known**.\n",
    "  - When dealing with large sample sizes.\n",
    "- **Steps**:\n",
    "  1. Calculate the sample mean.\n",
    "  2. Compute the **z-score** using the formula:\n",
    "    \n",
    "    # $ z = \\frac{{\\bar{x} - \\mu}}{{\\frac{{\\sigma}}{{\\sqrt{n}}}}} $\n",
    "\n",
    "     where:\n",
    "     - $\\bar{x}$ is the sample mean.\n",
    "     - $mu$ is the population mean.\n",
    "     - $sigma$ is the population standard deviation.\n",
    "     - $n$ is the sample size.\n",
    "  3. Compare the z-score to the critical z-value based on the desired significance level.\n",
    "- **Output**: A p-value indicating whether the sample mean is significantly different from the population mean.\n",
    "\n",
    "In summary, both tests help us make statistical inferences about means, but the choice depends on the available information and assumptions about the population. The t-test is more versatile, while the z-test assumes known population parameters. \n",
    "\n",
    "</details>\n",
    "\n"
   ]
  },
  {
   "cell_type": "code",
   "execution_count": null,
   "metadata": {},
   "outputs": [],
   "source": []
  }
 ],
 "metadata": {
  "kernelspec": {
   "display_name": "Python 3 (ipykernel)",
   "language": "python",
   "name": "python3"
  },
  "language_info": {
   "codemirror_mode": {
    "name": "ipython",
    "version": 3
   },
   "file_extension": ".py",
   "mimetype": "text/x-python",
   "name": "python",
   "nbconvert_exporter": "python",
   "pygments_lexer": "ipython3",
   "version": "3.12.4"
  }
 },
 "nbformat": 4,
 "nbformat_minor": 2
}
