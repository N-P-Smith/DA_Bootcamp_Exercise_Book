{
 "cells": [
  {
   "cell_type": "markdown",
   "id": "a660ffb6",
   "metadata": {},
   "source": [
    "## TASK 1"
   ]
  },
  {
   "cell_type": "markdown",
   "id": "be1c0e38",
   "metadata": {},
   "source": [
    "Write a function called is_valid_user that takes an username as an argument and returns True/False depending on whether it is a valid username:\n",
    "   - must contain at least 2 characters\n",
    "   - max 10 characters\n",
    "   - cannot have `@` `#` `&` characters\n",
    "<br> Hint: you can use a list and check if the character is there (if a in b)"
   ]
  },
  {
   "cell_type": "code",
   "execution_count": null,
   "id": "87a78e59",
   "metadata": {},
   "outputs": [],
   "source": [
    "is_valid_user()"
   ]
  },
  {
   "cell_type": "markdown",
   "id": "723b29c4",
   "metadata": {},
   "source": [
    "## TASK 2"
   ]
  },
  {
   "cell_type": "markdown",
   "id": "13462a2c",
   "metadata": {},
   "source": [
    "create a function \"fizz_buzz\" for multiple conditions\n",
    "- 1. read a number\n",
    "- 2. if the number is divisible by 3, print Fizz\n",
    "- 3. if the number is divisible by 5, print Buzz\n",
    "- 4. if the number is divisible by both, print FizzBuzz\n",
    "- 5. if not divisible by either print \"no Fizz no Buzz\"\n",
    "<br>#HINT: Use modulo operator\n"
   ]
  },
  {
   "cell_type": "code",
   "execution_count": null,
   "id": "f586ac19",
   "metadata": {},
   "outputs": [],
   "source": [
    "fizz_buzz()"
   ]
  },
  {
   "cell_type": "code",
   "execution_count": null,
   "id": "04363911",
   "metadata": {},
   "outputs": [],
   "source": []
  }
 ],
 "metadata": {
  "kernelspec": {
   "display_name": "Python 3 (ipykernel)",
   "language": "python",
   "name": "python3"
  },
  "language_info": {
   "codemirror_mode": {
    "name": "ipython",
    "version": 3
   },
   "file_extension": ".py",
   "mimetype": "text/x-python",
   "name": "python",
   "nbconvert_exporter": "python",
   "pygments_lexer": "ipython3",
   "version": "3.11.5"
  }
 },
 "nbformat": 4,
 "nbformat_minor": 5
}
