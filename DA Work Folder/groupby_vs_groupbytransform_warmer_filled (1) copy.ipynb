{
 "cells": [
  {
   "cell_type": "markdown",
   "id": "16747e73",
   "metadata": {},
   "source": [
    "## Pandas `groupby()` vs `groupby().transform()`"
   ]
  },
  {
   "cell_type": "markdown",
   "id": "0f9ab919",
   "metadata": {},
   "source": [
    "### warm-up\n",
    "\n",
    "- `groupby` is used to analyze different groups or categories on your data\n",
    "- When an aggregate statistic is performed on it the result is this statistic per group or category \n",
    "- In the following notebook look at other ways to structure the result of groupby during analysis\n",
    "- Run the code and answer the questions to be discussed as a class"
   ]
  },
  {
   "cell_type": "code",
   "execution_count": null,
   "id": "6c9dc1c2",
   "metadata": {},
   "outputs": [],
   "source": [
    "import pandas as pd\n",
    "import seaborn as sns"
   ]
  },
  {
   "cell_type": "code",
   "execution_count": null,
   "id": "0d00c70e",
   "metadata": {},
   "outputs": [],
   "source": [
    "penguins = sns.load_dataset('penguins')"
   ]
  },
  {
   "cell_type": "code",
   "execution_count": null,
   "id": "5244808b",
   "metadata": {},
   "outputs": [],
   "source": [
    "penguins.head()"
   ]
  },
  {
   "cell_type": "markdown",
   "id": "644d540c",
   "metadata": {},
   "source": [
    "### 1. Calculate the mean of the `bill_length_mm` in the dataset:"
   ]
  },
  {
   "cell_type": "code",
   "execution_count": null,
   "id": "dd789f5a",
   "metadata": {},
   "outputs": [],
   "source": [
    "penguins['bill_length_mm'].mean()"
   ]
  },
  {
   "cell_type": "markdown",
   "id": "0abbcc1a",
   "metadata": {},
   "source": [
    "### 2. Calculate the mean of the `bill_length_mm` per species"
   ]
  },
  {
   "cell_type": "code",
   "execution_count": null,
   "id": "66c9a404",
   "metadata": {},
   "outputs": [],
   "source": [
    "penguins.groupby('species')['bill_length_mm'].mean()"
   ]
  },
  {
   "cell_type": "markdown",
   "id": "dd9e5f8e",
   "metadata": {},
   "source": [
    "### 3. What is the difference between the result in 2. and the code snippet below?"
   ]
  },
  {
   "cell_type": "code",
   "execution_count": null,
   "id": "08d7f1b9",
   "metadata": {},
   "outputs": [],
   "source": [
    "penguins.groupby('species')['bill_length_mm'].transform('mean')"
   ]
  },
  {
   "cell_type": "markdown",
   "id": "e37305a7",
   "metadata": {},
   "source": [
    "### 4. How could we add this to the dataframe?"
   ]
  },
  {
   "cell_type": "code",
   "execution_count": null,
   "id": "9f83e9a2",
   "metadata": {},
   "outputs": [],
   "source": [
    "penguins['species_mean'] = penguins.groupby('species')['bill_length_mm'].transform('mean')\n",
    "penguins"
   ]
  },
  {
   "cell_type": "markdown",
   "id": "20c84a9a",
   "metadata": {},
   "source": [
    "### 5. What exactly does `.transform()` do?"
   ]
  },
  {
   "cell_type": "code",
   "execution_count": null,
   "id": "a13e4f17",
   "metadata": {},
   "outputs": [],
   "source": [
    "penguins['species_mean'] = penguins.groupby('species')['bill_depth_mm'].transform('mean')\n",
    "\n",
    "pd.set_option('display.max_rows', None)\n",
    "penguins\n"
   ]
  },
  {
   "cell_type": "code",
   "execution_count": null,
   "id": "ef07e8b1",
   "metadata": {},
   "outputs": [],
   "source": [
    "pd.reset_option('display.max_rows')"
   ]
  },
  {
   "cell_type": "markdown",
   "id": "14c29938",
   "metadata": {},
   "source": [
    "### 6. BONUS: Can `.transform()` be used without `groupby()`?"
   ]
  },
  {
   "cell_type": "code",
   "execution_count": null,
   "id": "9e2dfe17",
   "metadata": {},
   "outputs": [],
   "source": [
    "def mean_diff(value):\n",
    "    return value - value.mean()\n",
    "\n",
    "penguins['bill_length_mm'].transform(mean_diff)#(lambda x : x - x.mean())"
   ]
  },
  {
   "cell_type": "code",
   "execution_count": null,
   "id": "9c543da4",
   "metadata": {
    "scrolled": true
   },
   "outputs": [],
   "source": [
    "import numpy as np\n",
    "\n",
    "penguins['bill_length_mm'].transform(np.sqrt)"
   ]
  },
  {
   "cell_type": "code",
   "execution_count": null,
   "id": "c5744637",
   "metadata": {},
   "outputs": [],
   "source": [
    "df = pd.DataFrame({\n",
    "                   'age': [25, 30, 35, 40, 45],\n",
    "                   'score': [80, 85, 90, 95, 100]})"
   ]
  },
  {
   "cell_type": "code",
   "execution_count": null,
   "id": "c8fe158d",
   "metadata": {},
   "outputs": [],
   "source": [
    "df_transformed = df.transform(lambda x: x-x.mean())"
   ]
  },
  {
   "cell_type": "code",
   "execution_count": null,
   "id": "144a48ce",
   "metadata": {},
   "outputs": [],
   "source": [
    "df_transformed"
   ]
  },
  {
   "cell_type": "code",
   "execution_count": null,
   "id": "e46610ea",
   "metadata": {},
   "outputs": [],
   "source": [
    "df['age'].mean()"
   ]
  },
  {
   "cell_type": "code",
   "execution_count": null,
   "id": "cc990e8e",
   "metadata": {},
   "outputs": [],
   "source": []
  }
 ],
 "metadata": {
  "kernelspec": {
   "display_name": "base",
   "language": "python",
   "name": "python3"
  },
  "language_info": {
   "codemirror_mode": {
    "name": "ipython",
    "version": 3
   },
   "file_extension": ".py",
   "mimetype": "text/x-python",
   "name": "python",
   "nbconvert_exporter": "python",
   "pygments_lexer": "ipython3",
   "version": "3.9.12"
  }
 },
 "nbformat": 4,
 "nbformat_minor": 5
}
