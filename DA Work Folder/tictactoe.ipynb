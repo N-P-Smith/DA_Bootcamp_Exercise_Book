{
 "cells": [
  {
   "cell_type": "markdown",
   "id": "00159c74-7bb9-4da9-97f9-8ee632b9eca7",
   "metadata": {},
   "source": [
    "## Design a Tic-Tac-Toe Game in Python\n",
    "Tic-Tac-Toe, also known as noughts and crosses or Xs and Os, is a classic two-player board game that is often played on a 3x3 grid. The objective of the game is simple: players take turns marking a square on the grid with their symbol (either an \"X\" or an \"O\") with the goal of being the first to create a row, column, or diagonal of their symbols. The player who achieves this goal wins the game.\n",
    "\n",
    "**The basic rules of Tic-Tac-Toe:**\n",
    "\n",
    "- The game is played on a 3x3 grid, resulting in 9 squares in total.\n",
    "\n",
    "- Two players take turns, with one using \"X\" and the other using \"O.\"\n",
    "\n",
    "- Players must place their symbol in an empty square on their turn.\n",
    "\n",
    "- The game continues until one player successfully forms a row, column, or diagonal of their symbols, in which case they win.\n",
    "\n",
    "- If all the squares are filled and no player has achieved a winning combination, the game ends in a draw (also called a \"cat's game\").\n",
    "\n",
    "- In most versions of Tic-Tac-Toe, the first player to make a move is usually X.\n",
    "\n",
    "Tic-Tac-Toe is a game of strategy, and with perfect play from both players, it will always result in a draw. However, it is often used as a simple educational tool for teaching basic game theory and decision-making to children, and it can be enjoyed for its simplicity and quick gameplay. There are also variations of Tic-Tac-Toe that involve larger grids or additional rules to increase complexity and challenge."
   ]
  },
  {
   "cell_type": "markdown",
   "id": "6d349746-2c01-472a-aac0-ee337c59eef3",
   "metadata": {},
   "source": [
    "### Description:\n",
    "You are asked to design and implement a simple text-based Tic-Tac-Toe game in Python. Your task is writing pseudocodes, designing and implementing the functions, using loops and conditionals, and ensuring the game runs smoothly. The game will be played on the console, and two players will take turns making their moves.\n",
    "\n",
    "**Requirements:**\n",
    "\n",
    "1- *Pseudocode for Functions:* Write pseudocode (a step-by-step algorithm in plain language) for each task described below. Your pseudocode should clearly explain the purpose and logic of each function. The order and complexity of your code could be different to the below:\n",
    "\n",
    "- Display the current state of the Tic-Tac-Toe board.\n",
    "\n",
    "- Determine the currently active player.\n",
    "\n",
    "- Get the move input from the player\n",
    "\n",
    "- Check the validity of the user's input.\n",
    "\n",
    "- Quit the game by allowing a player to enter a word such as 'q.'\n",
    "\n",
    "- Convert a user's input into row and column coordinates on the game board.\n",
    "\n",
    "- Check if a specified position on the game board is already occupied.\n",
    "\n",
    "- Update the game board with the player's move.\n",
    "\n",
    "- Check if the current player has won the game by completing a row, a column, or a diagonal.\n",
    "\n",
    "- Display a message about the state of the game.\n",
    "\n",
    "- Describe your main function that controls the overall game and how the other functions are called.\n",
    "\n",
    "2 - *Complete the Code:* Based on the pseudocode you have written, code and implement the functions described above to complete the Tic-Tac-Toe game. Ensure that the game follows the rules of Tic-Tac-Toe and handles various scenarios correctly.\n",
    "\n",
    "3 - *Testing:* After completing the code, test the Tic-Tac-Toe game thoroughly to ensure it works as expected. Test scenarios, including wins, draws, and valid/invalid inputs.\n",
    "\n",
    "4- *Documentation:* Add comments to the code to explain complex logic, functions, or any parts needing clarification. Ensure that the code is well-documented and easy to understand. Your pseudocode can be the basis of this.\n",
    "\n",
    "5- *Enhancements:* If you want to challenge yourself further, consider adding enhancements to the game, such as displaying a visual representation of the board with numbered positions or improving the user interface. Be sure to document these well, explaining the purpose."
   ]
  },
  {
   "cell_type": "code",
   "execution_count": null,
   "id": "0f3d45dd-6fcd-45b1-b9b8-a95c8c071d2a",
   "metadata": {},
   "outputs": [],
   "source": []
  }
 ],
 "metadata": {
  "kernelspec": {
   "display_name": "Python 3 (ipykernel)",
   "language": "python",
   "name": "python3"
  },
  "language_info": {
   "codemirror_mode": {
    "name": "ipython",
    "version": 3
   },
   "file_extension": ".py",
   "mimetype": "text/x-python",
   "name": "python",
   "nbconvert_exporter": "python",
   "pygments_lexer": "ipython3",
   "version": "3.11.5"
  }
 },
 "nbformat": 4,
 "nbformat_minor": 5
}
