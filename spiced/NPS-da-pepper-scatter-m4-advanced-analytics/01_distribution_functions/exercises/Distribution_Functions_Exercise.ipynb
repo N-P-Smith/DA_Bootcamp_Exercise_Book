{
 "cells": [
  {
   "cell_type": "markdown",
   "id": "eaae7c2c",
   "metadata": {},
   "source": [
    "# Exercises"
   ]
  },
  {
   "cell_type": "markdown",
   "id": "548b5227-561a-402f-8213-50bb24727b94",
   "metadata": {},
   "source": [
    "### Considerations for Distribution Types\n",
    "\n",
    "| **Step** | **Binomial Distribution** | **Poisson Distribution** | **Negative Binomial Distribution** | **Normal Distribution** | **Exponential Distribution** | **Log-Normal Distribution** |\n",
    "|----------|---------------------------|--------------------------|-----------------------------------|--------------------------|------------------------------|------------------------------|\n",
    "| **1. Understand the Data Type** | **Discrete**: Number of successes in a fixed number of trials. | **Discrete**: Number of events in a fixed interval of time or space. | **Discrete**: Number of trials needed to achieve a fixed number of successes. | **Continuous**: Data is symmetrically distributed around the mean. | **Continuous**: Time between events in a Poisson process. | **Continuous**: Data that is normally distributed when logged. |\n",
    "| **2. Identify the Analytical Question** | What is the probability of a given number of successes in a fixed number of trials? | What is the probability of a given number of events occurring in a fixed interval? | What is the probability of achieving a certain number of successes after a given number of trials? | Does the data follow a Normal distribution? | Does the time between events fit an Exponential distribution? | Does the data follow a Log-Normal distribution? |\n",
    "| **3. Calculate Descriptive Statistics** | - **Mean**: \\( n \\times p \\)<br>- **Variance**: \\( n \\times p \\times (1 - p) \\)<br><br>**Parameters**:<br>`n`: Number of trials<br>`p`: Probability of success | - **Mean**: \\( \\lambda \\)<br>- **Variance**: \\( \\lambda \\)<br><br>**Parameters**:<br>`λ`: Rate parameter | - **Mean**: \\( r \\times p / (1 - p) \\)<br>- **Variance**: \\( r \\times p / (1 - p)^2 \\)<br><br>**Parameters**:<br>`r`: Number of successes<br>`p`: Probability of success | - **Mean**: Center of the distribution<br>- **Standard Deviation**: Spread of the distribution<br><br>**Parameters**:<br>`mean`: Mean of the distribution<br>`std`: Standard deviation | - **Mean**: \\( \\frac{1}{\\lambda} \\)<br>- **Standard Deviation**: \\( \\frac{1}{\\lambda} \\)<br><br>**Parameters**:<br>`λ`: Rate parameter | - **Mean of log-transformed data**<br>- **Standard Deviation of log-transformed data**<br><br>**Parameters**:<br>`mean`: Mean of the log-transformed data<br>`std`: Standard deviation of the log-transformed data |\n",
    "| **4. Interpret the Graph and Descriptive Statistics** | - Histogram should match the Binomial PMF.<br>- Mean and variance should align with \\( n \\times p \\) and \\( n \\times p \\times (1 - p) \\). | - Histogram should resemble the Poisson PMF.<br>- Mean and variance should be approximately equal. | - Histogram should fit the Negative Binomial PMF.<br>- Mean and variance should match the expected values from \\( r \\) and \\( p \\). | - Histogram should resemble the Normal curve.<br>- Mean and standard deviation should match the Normal distribution parameters. | - Histogram should fit the Exponential PDF.<br>- Mean and standard deviation should be consistent with \\( \\frac{1}{\\lambda} \\). | - Histogram should fit the Log-Normal PDF.<br>- The log-transformed data should be normally distributed. |\n",
    "| **5. Scipy.stats Code Syntax** | `scipy.stats.binom.pmf(k, n, p)`<br>`scipy.stats.binom.mean(n, p)`<br>`scipy.stats.binom.var(n, p)` | `scipy.stats.poisson.pmf(k, mu)`<br>`scipy.stats.poisson.mean(mu)`<br>`scipy.stats.poisson.var(mu)` | `scipy.stats.nbinom.pmf(k, n, p)`<br>`scipy.stats.nbinom.mean(n, p)`<br>`scipy.stats.nbinom.var(n, p)` | `scipy.stats.norm.pdf(x, loc, scale)`<br>`scipy.stats.norm.mean(loc, scale)`<br>`scipy.stats.norm.var(loc, scale)` | `scipy.stats.expon.pdf(x, scale)`<br>`scipy.stats.expon.mean(scale)`<br>`scipy.stats.expon.var(scale)` | `scipy.stats.lognorm.pdf(x, s, scale)`<br>`scipy.stats.lognorm.mean(s, scale)`<br>`scipy.stats.lognorm.var(s, scale)` |\n",
    "\n"
   ]
  },
  {
   "cell_type": "markdown",
   "id": "f1bc1977-1c86-4be8-b159-ed6e91c940d4",
   "metadata": {},
   "source": [
    "### Considerations for Additional Distributions\n",
    "\n",
    "| **Step** | **Uniform Distribution** | **Gamma Distribution** | **Beta Distribution** | **Chi-Square Distribution** | **Weibull Distribution** | **Student's t-Distribution** |\n",
    "|----------|---------------------------|------------------------|-----------------------|----------------------------|--------------------------|------------------------------|\n",
    "| **1. Understand the Data Type** | **Continuous**: All outcomes are equally likely within a given range. | **Continuous**: Used to model time until an event with two shape parameters. | **Continuous**: Models variables bounded between 0 and 1 with two shape parameters. | **Continuous**: Used in hypothesis testing with degrees of freedom. | **Continuous**: Used for modeling life data and reliability analysis. | **Continuous**: Used to estimate population parameters when sample size is small. |\n",
    "| **2. Identify the Analytical Question** | What is the probability of a value falling within a given range? | How does the time until an event follow a Gamma distribution with given shape and scale parameters? | How does a proportion or probability follow a Beta distribution with specified parameters? | How does the data fit a Chi-Square distribution, especially in goodness-of-fit tests? | How does the life duration or failure time follow a Weibull distribution? | How does the data fit a Student's t-distribution, especially with small sample sizes? |\n",
    "| **3. Calculate Descriptive Statistics** | - **Mean**: \\( \\frac{a + b}{2} \\)<br>- **Variance**: \\( \\frac{(b - a)^2}{12} \\)<br><br>**Parameters**:<br>`a`: Minimum value<br>`b`: Maximum value | - **Mean**: \\( k \\times \\theta \\)<br>- **Variance**: \\( k \\times \\theta^2 \\)<br><br>**Parameters**:<br>`k`: Shape parameter<br>`theta`: Scale parameter | - **Mean**: \\( \\frac{\\alpha}{\\alpha + \\beta} \\)<br>- **Variance**: \\( \\frac{\\alpha \\times \\beta}{(\\alpha + \\beta)^2 (\\alpha + \\beta + 1)} \\)<br><br>**Parameters**:<br>`α`: First shape parameter<br>`β`: Second shape parameter | - **Degrees of Freedom**: Determines the distribution shape.<br>- **Mean**: \\( df \\)<br>- **Variance**: \\( 2 \\times df \\)<br><br>**Parameters**:<br>`df`: Degrees of freedom | - **Shape Parameter (k)**: Determines the distribution shape.<br>- **Scale Parameter (λ)**: Scales the distribution.<br><br>**Parameters**:<br>`k`: Shape parameter<br>`λ`: Scale parameter | - **Degrees of Freedom (df)**: Affects the distribution shape.<br>- **Mean**: 0<br>- **Variance**: \\( \\frac{df}{df - 2} \\) for \\( df > 2 \\)<br><br>**Parameters**:<br>`df`: Degrees of freedom |\n",
    "| **4. Interpret the Graph and Descriptive Statistics** | - Histogram should be uniform across the range.<br>- Mean and variance should align with \\( \\frac{a + b}{2} \\) and \\( \\frac{(b - a)^2}{12} \\). | - Histogram should resemble the Gamma PDF.<br>- Mean and variance should match \\( k \\times \\theta \\) and \\( k \\times \\theta^2 \\). | - Histogram should fit the Beta PDF.<br>- Mean and variance should align with \\( \\frac{\\alpha}{\\alpha + \\beta} \\) and \\( \\frac{\\alpha \\times \\beta}{(\\alpha + \\beta)^2 (\\alpha + \\beta + 1)} \\). | - Histogram should resemble the Chi-Square PDF.<br>- Mean and variance should match \\( df \\) and \\( 2 \\times df \\). | - Histogram should fit the Weibull PDF.<br>- Shape and scale parameters should align with the distribution's parameters. | - Histogram should resemble the t-distribution PDF.<br>- Mean should be 0, and variance should be \\( \\frac{df}{df - 2} \\) for \\( df > 2 \\). |\n",
    "| **5. Scipy.stats Code Syntax** | `scipy.stats.uniform.pdf(x, loc=a, scale=b-a)`<br>`scipy.stats.uniform.mean(loc=a, scale=b-a)`<br>`scipy.stats.uniform.var(loc=a, scale=b-a)` | `scipy.stats.gamma.pdf(x, a=k, scale=theta)`<br>`scipy.stats.gamma.mean(a=k, scale=theta)`<br>`scipy.stats.gamma.var(a=k, scale=theta)` | `scipy.stats.beta.pdf(x, a=α, b=β)`<br>`scipy.stats.beta.mean(a=α, b=β)`<br>`scipy.stats.beta.var(a=α, b=β)` | `scipy.stats.chi2.pdf(x, df=df)`<br>`scipy.stats.chi2.mean(df=df)`<br>`scipy.stats.chi2.var(df=df)` | `scipy.stats.weibull_min.pdf(x, c=k, scale=λ)`<br>`scipy.stats.weibull_min.mean(c=k, scale=λ)`<br>`scipy.stats.weibull_min.var(c=k, scale=λ)` | `scipy.stats.t.pdf(x, df=df)`<br>`scipy.stats.t.mean(df=df)`<br>`scipy.stats.t.var(df=df)` |\n",
    "\n"
   ]
  },
  {
   "cell_type": "code",
   "execution_count": null,
   "id": "a1bf9f1b-b862-4e3c-b73f-f4e16727cfff",
   "metadata": {},
   "outputs": [],
   "source": []
  },
  {
   "cell_type": "markdown",
   "id": "1a3b9386",
   "metadata": {},
   "source": [
    "# Case Study: Analyzing Exam Scores with the Normal Distribution"
   ]
  },
  {
   "cell_type": "markdown",
   "id": "603165c6",
   "metadata": {},
   "source": [
    "You are given a list of exam scores representing students’ performance in a class. Solve the following tasks to analyze the distribution of these scores using normal distribution concepts. The list of exam scores is:"
   ]
  },
  {
   "cell_type": "code",
   "execution_count": null,
   "id": "b90f82af",
   "metadata": {},
   "outputs": [],
   "source": [
    "exam_score =  [85, 90, 78, 92, 88, 95, 70, 60, 82, 75, 80, 98, 88, 91, 83, 77, 89, 94, 86, 72]"
   ]
  },
  {
   "cell_type": "markdown",
   "id": "1b05fefb",
   "metadata": {},
   "source": [
    "#### 1. Calculate the mean and standard deviation of the scores.\n",
    "    - Hint: Use the numpy mean and std functions.\n",
    "\n",
    "#### 2. Plot the distribution of the score as a histogram.\n",
    "\n",
    "#### 3. Plot the normal distribution curve of the scores.\n",
    "\n",
    "    - Hint: To visualize the normal distribution curve, you can use the norm.pdf function from scipy.stats (more details [here](https://www.mathsisfun.com/data/random-variables.html)) You will need to specify the mean and standard deviation calculated in Task 1 and create spaced numbers over the range of the scores which can be done using:"
   ]
  },
  {
   "cell_type": "code",
   "execution_count": null,
   "id": "2b403e9b",
   "metadata": {},
   "outputs": [],
   "source": [
    "x_range = np.linspace(min(exam_scores), max(exam_scores), 100)"
   ]
  },
  {
   "cell_type": "markdown",
   "id": "8b241f1a",
   "metadata": {},
   "source": [
    "4. Calculate the percentage of students who scored above a certain threshold score (for example above 80)\n",
    "\n",
    "    - Hint: In this case, you can use norm.cdf from scipy.stats\n",
    "\n",
    "(more details [here](https://docs.scipy.org/doc/scipy/reference/generated/scipy.stats.norm.html)) as the following:"
   ]
  },
  {
   "cell_type": "code",
   "execution_count": null,
   "id": "7d33f8c7",
   "metadata": {},
   "outputs": [],
   "source": []
  },
  {
   "cell_type": "code",
   "execution_count": null,
   "id": "87a25b06",
   "metadata": {},
   "outputs": [],
   "source": []
  },
  {
   "cell_type": "code",
   "execution_count": null,
   "id": "eb683db1-77b8-4803-96c9-5a8b13e9837e",
   "metadata": {},
   "outputs": [],
   "source": []
  },
  {
   "cell_type": "markdown",
   "id": "2ef77672-9083-49ec-954c-359bbe88e1d5",
   "metadata": {},
   "source": [
    "# Case Study: Examining the Heights of Employees in a Company\n",
    "\n",
    "A human resources department wants to understand the distribution of employee heights in their company. They suspect that employee heights follow a normal distribution and want to use this information to make decisions about uniform sizes, ergonomic furniture, and health and wellness programs.\n"
   ]
  },
  {
   "cell_type": "markdown",
   "id": "38ff395c-6cb4-4eaf-8db5-469462274b5a",
   "metadata": {},
   "source": [
    "Hint: Follow the steps in the overview and also use the table above."
   ]
  },
  {
   "cell_type": "markdown",
   "id": "7e3fd0c2-e7ce-4de3-8771-d6d2cdc55c2f",
   "metadata": {},
   "source": [
    "## Data Generation"
   ]
  },
  {
   "cell_type": "code",
   "execution_count": null,
   "id": "28f436ad-de66-4b70-b7a8-bb6d7cbbbc81",
   "metadata": {},
   "outputs": [],
   "source": [
    "# Do not alter this code\n",
    "\n",
    "import numpy as np\n",
    "import seaborn as sns\n",
    "import matplotlib.pyplot as plt\n",
    "from scipy.stats import norm\n",
    "\n",
    "# Generating synthetic data for employee heights\n",
    "np.random.seed(42)\n",
    "data = np.random.normal(loc=170, scale=10, size=500)  # Mean height of 170 cm, std deviation of 10 cm"
   ]
  },
  {
   "cell_type": "markdown",
   "id": "0fa7a40f-cc01-4aef-9a70-8692b59e1328",
   "metadata": {},
   "source": [
    "# Your playground"
   ]
  },
  {
   "cell_type": "code",
   "execution_count": null,
   "id": "338723e0-5e48-4e97-8c56-f2527f86a392",
   "metadata": {},
   "outputs": [],
   "source": []
  },
  {
   "cell_type": "code",
   "execution_count": null,
   "id": "9cd03320-b7fb-4aa3-93d5-88b0178fdfc7",
   "metadata": {},
   "outputs": [],
   "source": []
  },
  {
   "cell_type": "code",
   "execution_count": null,
   "id": "a7cc8103-4656-4874-ac82-475aaf14d699",
   "metadata": {},
   "outputs": [],
   "source": []
  },
  {
   "cell_type": "code",
   "execution_count": null,
   "id": "ee9df64b-9518-440e-b981-1ae36c7aaea2",
   "metadata": {},
   "outputs": [],
   "source": []
  },
  {
   "cell_type": "markdown",
   "id": "d0c5a240-9464-4956-a888-9a9602c53fbc",
   "metadata": {},
   "source": [
    "# Case Study: Call Center Call Volume\n",
    "\n",
    "Scenario: A call center wants to analyze the number of calls received per hour during its busiest periods. They suspect that the number of calls per hour follows a Poisson distribution. \n"
   ]
  },
  {
   "cell_type": "markdown",
   "id": "045ef3ab-83b9-4bb2-9a6d-a4f5547e9aa8",
   "metadata": {},
   "source": [
    "Hint: Follow the steps in the overview and also use the discrete distribution md file."
   ]
  },
  {
   "cell_type": "markdown",
   "id": "86d3197f-a311-4bd8-b4e3-d870a81dbd23",
   "metadata": {},
   "source": [
    "## Data Generation"
   ]
  },
  {
   "cell_type": "code",
   "execution_count": null,
   "id": "fdfdbde0-7a8d-4440-8067-f08f68af717f",
   "metadata": {},
   "outputs": [],
   "source": [
    "# Do not alter this code\n",
    "\n",
    "import numpy as np\n",
    "import seaborn as sns\n",
    "import matplotlib.pyplot as plt\n",
    "from scipy.stats import poisson\n",
    "\n",
    "# Generating synthetic data for the number of calls per hour\n",
    "np.random.seed(2)\n",
    "lambda_ = 8  # Average number of calls per hour\n",
    "data = np.random.poisson(lam=lambda_, size=100)  # Simulated call volumes"
   ]
  },
  {
   "cell_type": "markdown",
   "id": "cbabeebf-9068-4e0b-b63c-8a4b0600745a",
   "metadata": {},
   "source": [
    "# Your playground"
   ]
  },
  {
   "cell_type": "code",
   "execution_count": null,
   "id": "945ffd01-6093-4d8e-9c4d-d3f18d7669c9",
   "metadata": {},
   "outputs": [],
   "source": []
  },
  {
   "cell_type": "code",
   "execution_count": null,
   "id": "3d055413-15f6-40ea-8d6f-6574c53cf1a2",
   "metadata": {},
   "outputs": [],
   "source": []
  },
  {
   "cell_type": "code",
   "execution_count": null,
   "id": "a07a2f15-3b7d-487c-8fa0-c2e5571872c5",
   "metadata": {},
   "outputs": [],
   "source": []
  },
  {
   "cell_type": "code",
   "execution_count": null,
   "id": "83778c60-3dc8-42e4-9211-9712eaf3feab",
   "metadata": {},
   "outputs": [],
   "source": []
  },
  {
   "cell_type": "code",
   "execution_count": null,
   "id": "10acd6f1-30b8-471e-838b-38634b766fc7",
   "metadata": {},
   "outputs": [],
   "source": []
  }
 ],
 "metadata": {
  "kernelspec": {
   "display_name": "Python 3 (ipykernel)",
   "language": "python",
   "name": "python3"
  },
  "language_info": {
   "codemirror_mode": {
    "name": "ipython",
    "version": 3
   },
   "file_extension": ".py",
   "mimetype": "text/x-python",
   "name": "python",
   "nbconvert_exporter": "python",
   "pygments_lexer": "ipython3",
   "version": "3.11.5"
  }
 },
 "nbformat": 4,
 "nbformat_minor": 5
}
