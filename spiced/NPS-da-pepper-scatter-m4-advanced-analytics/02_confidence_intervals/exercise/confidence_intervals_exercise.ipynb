{
 "cells": [
  {
   "cell_type": "markdown",
   "metadata": {},
   "source": [
    "# Confidence Intervals in Data Analytics\n"
   ]
  },
  {
   "cell_type": "markdown",
   "metadata": {},
   "source": [
    "Implement the 4 steps that we learnt regarding distributions namely:\n",
    "\n",
    "1. Understand the Data Type: Continuous or discrete.\n",
    "2. Identify the Analytical Question: Determine which distribution fits your question.\n",
    "3. Calculate Descriptive Statistics: Compute and visualize summary statistics.\n",
    "4. Interpret the Graph and Descriptive Statistics: Analyze the data’s distribution and patterns.\n",
    "\n",
    "To ultimately calculate the CI.\n",
    "\n",
    "Keep in mind to check the following when selecting the method to calculate CI:\n",
    "\n",
    "- Sample Size\n",
    "- Population Parameters are known or unknown"
   ]
  },
  {
   "cell_type": "markdown",
   "metadata": {},
   "source": [
    "---"
   ]
  },
  {
   "cell_type": "markdown",
   "metadata": {},
   "source": [
    "# Case Study 1:\n",
    "\n",
    "Scenario:\n",
    "A tech company has introduced a new smartphone model. The battery life (in hours) of the smartphone is a key feature, and the company conducted a test on a sample of 50 units. The battery life data from this test is normally distributed. However, since this is a new product, the population mean and standard deviation of battery life are unknown.\n",
    "\n",
    "Your task is to calculate the 95% confidence interval for the mean battery life of the smartphone.\n",
    "\n",
    "Dataset: battery_life"
   ]
  },
  {
   "cell_type": "markdown",
   "metadata": {},
   "source": [
    "---"
   ]
  },
  {
   "cell_type": "markdown",
   "metadata": {},
   "source": [
    "# Case Study 2:\n",
    "\n",
    "Scenario:\n",
    "A call center wants to estimate the average number of calls received per hour. A random sample of 40 hours is selected, and the number of calls received each hour is recorded. The number of calls follows a Poisson distribution, as it is a count of events within a fixed period. The population mean and variance are unknown.\n",
    "\n",
    "Your task is to calculate the 95% confidence interval for the mean number of calls received per hour.\n",
    "\n",
    "Dataset: calls_per_hour\n"
   ]
  },
  {
   "cell_type": "markdown",
   "metadata": {},
   "source": [
    "---\n",
    "\n",
    "# Case Study 3: Interpreting Confidence Interval for Customer Satisfaction\n",
    "Scenario:\n",
    "You are a data analyst at a retail company, and your team conducted a survey to measure customer satisfaction with your online shopping platform. \n",
    "\n",
    "The survey asked customers to rate their overall satisfaction on a scale from 1 to 10, where 1 means \"very dissatisfied\" and 10 means \"very satisfied.\"\n",
    "\n",
    "After analyzing the responses from a random sample of 150 customers, the team calculated a 95% confidence interval for the mean satisfaction score, which is (7.2, 8.1).\n",
    "\n",
    "```Task:\n",
    "Your task is to interpret this confidence interval in the context of the survey results. Specifically, answer the following questions:\n",
    "\n",
    "What does the confidence interval tell you about the average satisfaction score of all customers?\n",
    "\n",
    "Can you confidently say that customers are generally satisfied with the online shopping platform? Why or why not?\n",
    "\n",
    "How would you present these results to the company’s management team?\n",
    "```"
   ]
  },
  {
   "cell_type": "markdown",
   "metadata": {},
   "source": [
    "---"
   ]
  },
  {
   "cell_type": "markdown",
   "metadata": {},
   "source": [
    "# Case Study 4: Interpreting Confidence Interval for Product Defect Rate\n",
    "Scenario:\n",
    "You work as a quality control analyst at a manufacturing company. \n",
    "\n",
    "Your team has been monitoring the defect rate of a specific product. \n",
    "\n",
    "Over the past month, you randomly inspected 500 units and found that the defect rate was calculated along with a 95% confidence interval for the true defect rate, which is (3.5%, 6.5%).\n",
    "\n",
    "```Task:\n",
    "Interpret this confidence interval within the context of quality control. Address the following questions:\n",
    "\n",
    "What does the confidence interval tell you about the true defect rate of the product?\n",
    "\n",
    "Can you confidently say that the defect rate is below the company's acceptable threshold of 5%? Why or why not?\n",
    "\n",
    "How would you explain these results to the production team? \n",
    "```"
   ]
  },
  {
   "cell_type": "markdown",
   "metadata": {},
   "source": [
    "# Case Study 5: Iris Data set\n",
    "For the Iris data set, calculate the 95% confidence intervals for the mean of the Length of the petal of Iris Setosa feature using bootstrapping. Create a notebook in which following questions shall be solved:\n",
    "\n",
    "1. Initialize empty list called sample_means\n",
    "2. Create a for loop that will loop 10,000 times\n",
    "3. In each iteration using the pandas method .sample() sample 100 profits with replacement\n",
    "4. Also in that same iteration take the mean of these 100 samples and then append it to the sample_means list\n",
    "5. Using sns.displot plot the distribution of the sample_means list\n",
    "6. Convert sample_means list to pandas Series\n",
    "7. Using pandas .quantile() calculate the upper (0.975) and lower (0.025) limits of the confidence interval of the sample_means Series\n",
    "\n",
    "### Bonus\n",
    "\n",
    "8. Calculate using the z-value formula\n",
    "9. Compare to the results of the bootstrapping method"
   ]
  },
  {
   "cell_type": "code",
   "execution_count": null,
   "metadata": {},
   "outputs": [],
   "source": [
    "# Import necessary libraries\n",
    "import numpy as np\n",
    "import pandas as pd\n",
    "import seaborn as sns\n",
    "import matplotlib.pyplot as plt\n",
    "from sklearn.datasets import load_iris"
   ]
  },
  {
   "cell_type": "code",
   "execution_count": null,
   "metadata": {},
   "outputs": [],
   "source": [
    "# Load the Iris dataset\n",
    "iris = load_iris()\n",
    "iris_df = pd.DataFrame(data=iris.data, columns=iris.feature_names)\n"
   ]
  },
  {
   "cell_type": "code",
   "execution_count": null,
   "metadata": {},
   "outputs": [],
   "source": []
  }
 ],
 "metadata": {
  "kernelspec": {
   "display_name": "Python 3 (ipykernel)",
   "language": "python",
   "name": "python3"
  },
  "language_info": {
   "codemirror_mode": {
    "name": "ipython",
    "version": 3
   },
   "file_extension": ".py",
   "mimetype": "text/x-python",
   "name": "python",
   "nbconvert_exporter": "python",
   "pygments_lexer": "ipython3",
   "version": "3.11.5"
  }
 },
 "nbformat": 4,
 "nbformat_minor": 4
}
