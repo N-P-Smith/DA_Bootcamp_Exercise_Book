{
 "cells": [
  {
   "cell_type": "markdown",
   "metadata": {},
   "source": [
    "# Hypothesis Testing in Python: A Guided Tutorial\n",
    " ---\n",
    "\n",
    "This notebook is designed to provide a step-by-step guide to hypothesis testing\n",
    "using three different distributions: Normal, Binomial, and Poisson.\n",
    "\n",
    "The notebook will explain how hypothesis testing links to concepts of distributions and confidence intervals (CI).\n",
    "For each distribution, we'll walk through a case study example.\n"
   ]
  },
  {
   "cell_type": "code",
   "execution_count": 1,
   "metadata": {},
   "outputs": [],
   "source": [
    "\n",
    "# Import necessary libraries\n",
    "import numpy as np\n",
    "import scipy.stats as stats\n",
    "import matplotlib.pyplot as plt\n",
    "from statsmodels.stats.proportion import proportion_confint\n",
    "from statsmodels.stats.proportion import proportions_ztest\n",
    "from statsmodels.stats.weightstats import ztest\n",
    "from scipy.stats import poisson, norm, t, binom\n",
    "\n",
    "# Seed for reproducibility\n",
    "np.random.seed(42)\n"
   ]
  },
  {
   "cell_type": "markdown",
   "metadata": {},
   "source": [
    "---\n",
    "## 1. Introduction to Hypothesis Testing"
   ]
  },
  {
   "cell_type": "markdown",
   "metadata": {},
   "source": [
    "In this section, we introduce the general steps in hypothesis testing and link it with distributions and confidence intervals.\n",
    "\n",
    "Steps in Hypothesis Testing:\n",
    "1. State the null hypothesis (H0) and alternative hypothesis (H1).\n",
    "\n",
    "2. Choose a significance level (α).\n",
    "\n",
    "3. Collect and prepare the data.\n",
    "\n",
    "4. Choose the appropriate test based on the distribution and sample size.\n",
    "\n",
    "5. Conduct the test and calculate the test statistic.\n",
    "\n",
    "6. Determine the p-value.\n",
    "\n",
    "7. Make a decision: Reject or fail to reject the null hypothesis.\n",
    "\n",
    "8. Interpret the results.\n",
    "\n",
    "Key Concepts:\n",
    "\n",
    "- Distributions help determine the appropriate hypothesis test.\n",
    "\n",
    "- Confidence intervals can offer insights into hypothesis testing decisions."
   ]
  },
  {
   "cell_type": "markdown",
   "metadata": {},
   "source": [
    "---"
   ]
  },
  {
   "cell_type": "markdown",
   "metadata": {},
   "source": [
    "# 2. Case Study 1: Normal Distribution\n",
    "\n",
    "**Problem:**  \n",
    "You are a quality control analyst at a factory producing light bulbs. \n",
    "The average lifetime of the light bulbs is expected to be 1000 hours.  \n",
    "\n",
    "You take a sample of 50 bulbs and want to test if the mean lifetime is significantly different from 1000 hours.\n"
   ]
  },
  {
   "cell_type": "code",
   "execution_count": 2,
   "metadata": {},
   "outputs": [
    {
     "data": {
      "text/plain": [
       "array([1049.6714153 ,  986.17356988, 1064.76885381, 1152.30298564,\n",
       "        976.58466253,  976.58630431, 1157.92128155, 1076.74347292,\n",
       "        953.05256141, 1054.25600436,  953.65823072,  953.42702464,\n",
       "       1024.19622716,  808.67197553,  827.50821675,  943.77124708,\n",
       "        898.71688797, 1031.42473326,  909.19759245,  858.76962987,\n",
       "       1146.56487689,  977.42236995, 1006.75282047,  857.52518138,\n",
       "        945.56172755, 1011.09225897,  884.90064226, 1037.56980183,\n",
       "        939.93613101,  970.83062502,  939.82933878, 1185.22781845,\n",
       "        998.65027753,  894.2289071 , 1082.25449121,  877.915635  ,\n",
       "       1020.8863595 ,  804.03298761,  867.18139511, 1019.68612359,\n",
       "       1073.846658  , 1017.13682812,  988.43517176,  969.88963044,\n",
       "        852.14780096,  928.01557916,  953.9361229 , 1105.71222262,\n",
       "       1034.36182896,  823.69598446])"
      ]
     },
     "execution_count": 2,
     "metadata": {},
     "output_type": "execute_result"
    }
   ],
   "source": [
    "sample_size = 50\n",
    "population_mean = 1000  # Population mean\n",
    "population_std = 100    # Population standard deviation (known)\n",
    "\n",
    "# Simulate sample data (assuming a normal distribution)\n",
    "sample_data = np.random.normal(loc = population_mean, \n",
    "                               scale = population_std, \n",
    "                               size = sample_size)\n",
    "\n",
    "sample_data"
   ]
  },
  {
   "cell_type": "markdown",
   "metadata": {},
   "source": [
    "## Step 2: State Hypotheses\n",
    "- $H_{0}$: μ = 1000 (Null Hypothesis: Mean lifetime is 1000 hours)\n",
    "- $H_{1}$: μ ≠ 1000 (Alternative Hypothesis: Mean lifetime is different from 1000 hours)"
   ]
  },
  {
   "cell_type": "markdown",
   "metadata": {},
   "source": [
    "## Step 3: Significance Level (alpha)\n",
    "- The significance level, denoted as alpha (α), is set at 0.05 for this test. \n",
    "\n",
    "This means there is a 5% risk of rejecting the null hypothesis when it is actually true, which translates to a 95% confidence level in your results. If the p-value is below 0.05, you can conclude that the mean lifetime of the bulbs is significantly different from 1000 hours."
   ]
  },
  {
   "cell_type": "markdown",
   "metadata": {},
   "source": [
    "## Step 4: Calculate the sample mean and standard error"
   ]
  },
  {
   "cell_type": "code",
   "execution_count": 4,
   "metadata": {},
   "outputs": [
    {
     "name": "stdout",
     "output_type": "stream",
     "text": [
      "977.4526094743861 14.14213562373095\n",
      "1000 100\n"
     ]
    }
   ],
   "source": [
    "sample_mean = np.mean(sample_data)\n",
    "standard_error = population_std / np.sqrt(sample_size)\n",
    "\n",
    "print(sample_mean, standard_error)\n",
    "print(population_mean, population_std)"
   ]
  },
  {
   "cell_type": "markdown",
   "metadata": {},
   "source": [
    "## Step 4: Perform the Z-test (since the population std is known)"
   ]
  },
  {
   "cell_type": "markdown",
   "metadata": {},
   "source": [
    "<details><summary><font size=5, color=\"gold\">Z-Test (Z-Score Test)</font></summary>\n",
    "\n",
    "- **Purpose**: The z-test is used to compare a **sample mean** to a known population mean or to compare proportions.\n",
    "\n",
    "- **Scenarios**:\n",
    "\n",
    "  - When the population variance is **known**.\n",
    "  - When dealing with large sample sizes.\n",
    "\n",
    "- **Steps**:\n",
    "\n",
    "  1. Calculate the sample mean.\n",
    "\n",
    "  2. Compute the **z-score** using the formula:\n",
    "\n",
    "     # $z = \\frac{{\\bar{x} - \\mu}}{{\\frac{{\\sigma}}{{\\sqrt{n}}}}}$\n",
    "\n",
    "     \n",
    "\n",
    "     where:\n",
    "\n",
    "     - $\\bar{x}$ is the sample mean.\n",
    "     - $mu$ is the population mean.\n",
    "     - $sigma$ is the population standard deviation.\n",
    "     - $n$ is the sample size.\n",
    "\n",
    "  3. Compare the z-score to the critical z-value based on the desired significance level.\n",
    "\n",
    "- **Output**: A p-value indicating whether the sample mean is significantly different from the population mean\n",
    "</details>"
   ]
  },
  {
   "cell_type": "code",
   "execution_count": 5,
   "metadata": {},
   "outputs": [
    {
     "name": "stdout",
     "output_type": "stream",
     "text": [
      "Sample Mean: 977.4526094743861\n",
      "Z-Statistic: -1.5943412738722889\n",
      "P-Value: 0.11085961800021749\n"
     ]
    }
   ],
   "source": [
    "z_statistic = (sample_mean - population_mean) / standard_error\n",
    "p_value = 2 * (1 - norm.cdf(abs(z_statistic))) # we are calculating the \n",
    "\n",
    "print(f\"Sample Mean: {sample_mean}\")\n",
    "print(f\"Z-Statistic: {z_statistic}\")\n",
    "print(f\"P-Value: {p_value}\")\n",
    "\n",
    "#https://www.sjsu.edu/faculty/gerstman/StatPrimer/z-two-tails.pdf"
   ]
  },
  {
   "cell_type": "markdown",
   "metadata": {},
   "source": [
    "## Step 5: Decision Making"
   ]
  },
  {
   "cell_type": "code",
   "execution_count": 7,
   "metadata": {},
   "outputs": [
    {
     "name": "stdout",
     "output_type": "stream",
     "text": [
      "Fail to reject the null hypothesis.\n"
     ]
    }
   ],
   "source": [
    "alpha = 0.05\n",
    "if p_value < alpha:\n",
    "    print(\"Reject the null hypothesis.\")\n",
    "else:\n",
    "    print(\"Fail to reject the null hypothesis.\")"
   ]
  },
  {
   "cell_type": "markdown",
   "metadata": {},
   "source": [
    "### Interpretation:\n",
    "`If we reject the null hypothesis, it suggests that the mean lifetime of the bulbs differs significantly from 1000 hours.`\n",
    "        \n",
    "`If we fail to reject, we conclude that there is no significant difference from 1000 hours.`\n",
    "\n",
    "---"
   ]
  },
  {
   "cell_type": "markdown",
   "metadata": {},
   "source": [
    "# 3. Case Study 2: Binomial Distribution\n",
    "\n",
    "**Problem:**  \n",
    "You are testing a new drug. \n",
    "\n",
    "In clinical trials, the drug is expected to have a 60% success rate.  \n",
    "\n",
    "You test the drug on 20 patients and observe 15 successes. \n",
    "\n",
    "Test if the success rate is significantly different from 60%.\n",
    "\n"
   ]
  },
  {
   "cell_type": "markdown",
   "metadata": {},
   "source": [
    "## Step 1: Generate the sample data"
   ]
  },
  {
   "cell_type": "code",
   "execution_count": 9,
   "metadata": {},
   "outputs": [],
   "source": [
    "n_trials = 20  # Number of trials\n",
    "successes = 15  # Observed successes\n",
    "success_rate_hypothesis = 0.60  # Hypothesized success rate"
   ]
  },
  {
   "cell_type": "markdown",
   "metadata": {},
   "source": [
    "## Step 2: State Hypotheses\n",
    "- $H_{0}$: p = 0.60 (Null Hypothesis: Success rate is 60%)\n",
    "- $H_{1}$: p ≠ 0.60 (Alternative Hypothesis: Success rate is different from 60%)"
   ]
  },
  {
   "cell_type": "markdown",
   "metadata": {},
   "source": [
    "## Step 3: Perform the Z-test for proportion"
   ]
  },
  {
   "cell_type": "code",
   "execution_count": 10,
   "metadata": {},
   "outputs": [
    {
     "name": "stdout",
     "output_type": "stream",
     "text": [
      "Z-Statistic: 1.549193338482967\n",
      "P-Value: 0.12133525035848204\n"
     ]
    }
   ],
   "source": [
    "n_trials = 20  # Number of trials\n",
    "successes = 15  # Observed successes\n",
    "success_rate_hypothesis = 0.60  # Hypothesized success rate\n",
    "z_stat, p_value = proportions_ztest(successes, n_trials, value=success_rate_hypothesis)\n",
    "\n",
    "print(f\"Z-Statistic: {z_stat}\")\n",
    "print(f\"P-Value: {p_value}\")"
   ]
  },
  {
   "cell_type": "markdown",
   "metadata": {},
   "source": [
    "<details><summary><font size=5, color=\"gold\"><code>proportions_ztest()</code> function</font></summary>\n",
    "\n",
    "The proportions_ztest function calculates the z-statistic and p-value for a z-test comparing the proportion of successes in a sample to a hypothesized success rate. Here’s how it works:\n",
    "\n",
    "**Z-statistic formula:**   \n",
    "### $$ z = \\frac{\\hat{p} - p_0}{\\sqrt{\\frac{p_0 (1 - p_0)}{n}}} $$\n",
    "\n",
    "**Where:**\n",
    "\n",
    "$\\hat{p}$ is the sample proportion (successes/n_trials).\n",
    "\n",
    "$p_0$ is the hypothesized success rate.\n",
    "\n",
    "$n$ is the sample size.\n",
    "\n",
    "**P-value calculation:** The p-value is determined by finding the probability that the z-statistic falls within the distribution, adjusted for the type of test (two-tailed, one-tailed).\n",
    "</detail>\n"
   ]
  },
  {
   "cell_type": "code",
   "execution_count": 13,
   "metadata": {},
   "outputs": [
    {
     "data": {
      "text/plain": [
       "(1.3693063937629155, 0.17090352023079736)"
      ]
     },
     "execution_count": 13,
     "metadata": {},
     "output_type": "execute_result"
    }
   ],
   "source": [
    "# applying the formula and calculating the p_value\n",
    "z_calc = ((successes/n_trials)-success_rate_hypothesis) / (\n",
    "    (\n",
    "        np.sqrt(\n",
    "        (success_rate_hypothesis*(1-success_rate_hypothesis))/n_trials\n",
    "        )\n",
    "    )\n",
    ")\n",
    "p_value = 2 * (1 - norm.cdf(z_calc))\n",
    "\n",
    "z_calc, p_value"
   ]
  },
  {
   "cell_type": "markdown",
   "metadata": {},
   "source": [
    "## Step 4: Decision Making\n"
   ]
  },
  {
   "cell_type": "code",
   "execution_count": 14,
   "metadata": {},
   "outputs": [
    {
     "name": "stdout",
     "output_type": "stream",
     "text": [
      "Fail to reject the null hypothesis.\n"
     ]
    }
   ],
   "source": [
    "alpha = 0.05\n",
    "if p_value < alpha:\n",
    "    print(\"Reject the null hypothesis.\")\n",
    "else:\n",
    "    print(\"Fail to reject the null hypothesis.\")"
   ]
  },
  {
   "cell_type": "markdown",
   "metadata": {},
   "source": [
    "### Interpretation:\n",
    "`If we reject the null hypothesis, it suggests that the success rate of the drug differs significantly from 60%.`\n",
    "\n",
    "`If we fail to reject, we conclude that there is no significant difference from 60%.`"
   ]
  },
  {
   "cell_type": "markdown",
   "metadata": {},
   "source": [
    "---\n",
    "\n",
    "# 4. Case Study 3: Poisson Distribution\n",
    "\n",
    "**Problem:**  \n",
    "You work for a customer support center.  \n",
    "On average, 10 calls come in per hour.  \n",
    "You want to test if the average number of calls per hour has changed. \n",
    "You observe 8 calls in the last hour. \n",
    "\n"
   ]
  },
  {
   "cell_type": "markdown",
   "metadata": {},
   "source": [
    "## Step 1: State Hypotheses\n",
    "- $H_{0}$: λ = 10 (Null Hypothesis: Average number of calls is 10 per hour)\n",
    "- $H_{1}$: λ ≠ 10 (Alternative Hypothesis: Average number of calls is different from 10 per hour)"
   ]
  },
  {
   "cell_type": "markdown",
   "metadata": {},
   "source": [
    "## Step 2: Calculate the test statistic\n",
    "\n"
   ]
  },
  {
   "cell_type": "code",
   "execution_count": 15,
   "metadata": {},
   "outputs": [],
   "source": [
    "#For Poisson distribution, the test statistic is based on the observed count and the expected count.\n",
    "observed_calls = 8\n",
    "expected_calls = 10"
   ]
  },
  {
   "cell_type": "markdown",
   "metadata": {},
   "source": [
    "## Step 3: Calculate the p-value using the Poisson distribution"
   ]
  },
  {
   "cell_type": "code",
   "execution_count": null,
   "metadata": {},
   "outputs": [],
   "source": [
    "# Since it's a two-tailed test, we calculate the cumulative probability on both sides of the observed value\n",
    "p_value = 2 * min(poisson.cdf(expected_calls, observed_calls), 1 - poisson.cdf(observed_calls - 1, expected_calls))\n",
    "\n",
    "print(f\"Observed Calls: {observed_calls}\")\n",
    "print(f\"Expected Calls: {expected_calls}\")\n",
    "print(f\"P-Value: {p_value}\")\n",
    "\n"
   ]
  },
  {
   "cell_type": "markdown",
   "metadata": {},
   "source": [
    "## Step 4: Decision Making"
   ]
  },
  {
   "cell_type": "code",
   "execution_count": null,
   "metadata": {},
   "outputs": [],
   "source": [
    "alpha = 0.05\n",
    "if p_value < alpha:\n",
    "    print(\"Reject the null hypothesis.\")\n",
    "else:\n",
    "    print(\"Fail to reject the null hypothesis.\")"
   ]
  },
  {
   "cell_type": "markdown",
   "metadata": {},
   "source": [
    "### Interpretation:\n",
    "`If we reject the null hypothesis, it suggests that the average number of calls per hour has changed significantly from 10.`\n",
    "\n",
    "`If we fail to reject, we conclude that there is no significant difference from 10 calls per hour.`"
   ]
  },
  {
   "cell_type": "markdown",
   "metadata": {},
   "source": [
    "---\n",
    "# Conclusion\n",
    "\n",
    "In this notebook, we've explored hypothesis testing using three different distributions: Normal, Binomial, and Poisson.\n",
    "\n",
    "We've linked these tests to the concepts of distributions and confidence intervals.\n",
    "\n",
    "Remember that hypothesis testing is a powerful tool for making decisions based on sample data,\n",
    "and it's essential to choose the appropriate test based on your data's distribution and characteristics.\n",
    "\n",
    "\n"
   ]
  },
  {
   "cell_type": "code",
   "execution_count": null,
   "metadata": {},
   "outputs": [],
   "source": []
  }
 ],
 "metadata": {
  "kernelspec": {
   "display_name": "base",
   "language": "python",
   "name": "python3"
  },
  "language_info": {
   "codemirror_mode": {
    "name": "ipython",
    "version": 3
   },
   "file_extension": ".py",
   "mimetype": "text/x-python",
   "name": "python",
   "nbconvert_exporter": "python",
   "pygments_lexer": "ipython3",
   "version": "3.9.12"
  }
 },
 "nbformat": 4,
 "nbformat_minor": 4
}
