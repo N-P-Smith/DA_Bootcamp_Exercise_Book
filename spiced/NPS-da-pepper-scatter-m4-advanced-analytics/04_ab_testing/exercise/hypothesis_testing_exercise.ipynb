{
 "cells": [
  {
   "cell_type": "markdown",
   "metadata": {},
   "source": [
    "# The Final Boss\n",
    "\n",
    "In this notebook we aim to bring all the concepts together i.e. Distributions, CI and Hypothesis Testing.\n",
    "\n",
    "Your framework in solving the case studies should follow the 7 steps:\n",
    "\n",
    "1. Understand the Data Type: Continuous or discrete.\n",
    "\n",
    "2. Identify the Analytical Question: Determine which distribution fits your question.\n",
    "\n",
    "3. Calculate Descriptive Statistics: Compute and visualize summary statistics.\n",
    "\n",
    "4. Interpret the Graph and Descriptive Statistics: Analyze the data’s distribution and patterns.\n",
    "\n",
    "5. Check for Normality: Assess if the data fits a Normal distribution.\n",
    "\n",
    "6. Apply Transformations or Non-Parametric Tests: Adjust or select methods based on Normality.\n",
    "\n",
    "7. Formulate and Test Hypotheses: Conduct hypothesis testing to address your research question.\n",
    "\n",
    "\n",
    "Utilize the Cheatsheets from previous sessions as a reference for selecting appropriate CI methods and tests.\n",
    "\n"
   ]
  },
  {
   "cell_type": "markdown",
   "metadata": {},
   "source": [
    "--- \n",
    "\n",
    "# Case Study 1: Evaluating Employee Training Effectiveness\n",
    "\n",
    "\n",
    "Business Context\n",
    "A company implemented a new training program to enhance employee skills. \n",
    "\n",
    "After the training, they tested 20 randomly selected employees. \n",
    "\n",
    "The company wants to evaluate whether the new training program led to a significant increase in the average test scores compared to the historical average score of 70."
   ]
  },
  {
   "cell_type": "code",
   "execution_count": 2,
   "metadata": {},
   "outputs": [],
   "source": [
    "import pandas as pd\n",
    "\n",
    "data = {\n",
    "    'Test_Score': [75, 80, 78, 72, 85, 77, 70, 88, 90, 73, 82, 74, 76, 79, 83, 81, 69, 71, 87, 84]\n",
    "}\n",
    "df_e_t = pd.DataFrame(data)"
   ]
  },
  {
   "cell_type": "markdown",
   "metadata": {},
   "source": []
  },
  {
   "cell_type": "markdown",
   "metadata": {},
   "source": [
    "---\n",
    "\n",
    "# Case Study 2: Employee Work Hours - Analyzing Average Weekly Hours Worked\n",
    "\n",
    "\n",
    "Business Context\n",
    "A company wants to assess whether employees are working more or fewer hours than the standard 40 hours per week. \n",
    "\n",
    "The HR department has collected data on the number of hours worked by a random sample of 25 employees during a typical week. \n",
    "\n",
    "The company is interested in determining if the average number of hours worked deviates significantly from the standard."
   ]
  },
  {
   "cell_type": "code",
   "execution_count": 4,
   "metadata": {},
   "outputs": [],
   "source": [
    "import pandas as pd\n",
    "\n",
    "# Data\n",
    "data = {\n",
    "    'Hours_Worked': [42, 38, 40, 41, 39, 45, 43, 37, 40, 44, 39, 40, 42, 41, 38, 40, 39, 43, 38, 40, 42, 37, 39, 40, 41]\n",
    "}\n",
    "df = pd.DataFrame(data)"
   ]
  },
  {
   "cell_type": "code",
   "execution_count": null,
   "metadata": {},
   "outputs": [],
   "source": []
  }
 ],
 "metadata": {
  "kernelspec": {
   "display_name": "Python 3 (ipykernel)",
   "language": "python",
   "name": "python3"
  },
  "language_info": {
   "codemirror_mode": {
    "name": "ipython",
    "version": 3
   },
   "file_extension": ".py",
   "mimetype": "text/x-python",
   "name": "python",
   "nbconvert_exporter": "python",
   "pygments_lexer": "ipython3",
   "version": "3.11.5"
  }
 },
 "nbformat": 4,
 "nbformat_minor": 4
}
