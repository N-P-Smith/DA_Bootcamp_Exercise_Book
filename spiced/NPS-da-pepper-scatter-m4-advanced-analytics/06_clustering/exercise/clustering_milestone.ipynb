{
 "cells": [
  {
   "cell_type": "code",
   "execution_count": 7,
   "id": "f99d2916-0ca2-4af1-9cf9-4fa099b5c383",
   "metadata": {},
   "outputs": [],
   "source": [
    "# import needed libraries\n",
    "\n",
    "import pandas as pd\n",
    "import numpy as np\n",
    "import seaborn as sns\n",
    "from sklearn.preprocessing import StandardScaler\n",
    "from sklearn.cluster import KMeans\n",
    "import matplotlib.pyplot as plt\n"
   ]
  },
  {
   "cell_type": "markdown",
   "id": "eea67d6e-523a-4c07-ad16-865cdf71f787",
   "metadata": {},
   "source": [
    "#### 1. Read the car dataset"
   ]
  },
  {
   "cell_type": "code",
   "execution_count": 1,
   "id": "2dc03c45-173f-4515-bc71-42cf3ed62c9c",
   "metadata": {},
   "outputs": [],
   "source": [
    "# read the clean data\n"
   ]
  },
  {
   "cell_type": "markdown",
   "id": "47100c4e-a28c-4ac7-875d-f425f8abec88",
   "metadata": {},
   "source": [
    "#### 2. Subset the price and fuel consumption related information  "
   ]
  },
  {
   "cell_type": "code",
   "execution_count": 2,
   "id": "96fe0ae3-f82e-4aa8-a360-b09a0b9e1c90",
   "metadata": {},
   "outputs": [],
   "source": [
    "# Create a new dataframe with fuel consumption and price columns\n"
   ]
  },
  {
   "cell_type": "markdown",
   "id": "3b0ff03d-b6cc-46ea-845b-a31f7c0c3254",
   "metadata": {},
   "source": [
    "#### 3. Check the distribution of data and standardize it if necessary"
   ]
  },
  {
   "cell_type": "code",
   "execution_count": 3,
   "id": "5d5c9b02-52d2-454c-8aa2-9b2a7316c926",
   "metadata": {},
   "outputs": [],
   "source": [
    "# Check the data distribution\n"
   ]
  },
  {
   "cell_type": "code",
   "execution_count": 4,
   "id": "4997663f-93b4-48ff-85f3-60ba084830c9",
   "metadata": {},
   "outputs": [],
   "source": [
    "# Standardize the data\n"
   ]
  },
  {
   "cell_type": "code",
   "execution_count": 5,
   "id": "d005e3d8-0fb6-4f3b-9acb-6d3b504c1903",
   "metadata": {},
   "outputs": [],
   "source": [
    "# Make a dataframe from the scaled data\n"
   ]
  },
  {
   "cell_type": "markdown",
   "id": "883f215c-28a9-4ecc-8656-7e906be462b9",
   "metadata": {},
   "source": [
    "#### 4. Use the elbow method to determine the number of clusters"
   ]
  },
  {
   "cell_type": "code",
   "execution_count": 6,
   "id": "deb9f709-9374-43c2-9879-e3d6e20536f9",
   "metadata": {},
   "outputs": [],
   "source": [
    "# Use the code from the encounter and adapt it to implement the elbow method\n",
    "\n",
    "# K = range(1, 10) \n"
   ]
  },
  {
   "cell_type": "markdown",
   "id": "951f549f-bbd6-47dc-8b51-848a7ce3faa7",
   "metadata": {},
   "source": [
    "We can see a light elbow for k = 4 which fits our knowledge of the dataset."
   ]
  },
  {
   "cell_type": "markdown",
   "id": "c98988e6-9f45-407b-80d8-9b40151bccd0",
   "metadata": {},
   "source": [
    "#### 5. Repeat k-means clustering using the appropriate number of clusters selected from the elbow method. Visualize the results with a scatter plot."
   ]
  },
  {
   "cell_type": "code",
   "execution_count": null,
   "id": "c1a50fc8-aa32-44ea-8ac1-f69196de07fd",
   "metadata": {},
   "outputs": [],
   "source": []
  },
  {
   "cell_type": "markdown",
   "id": "1074cbb6-d51e-4673-93d6-abea2736585d",
   "metadata": {},
   "source": [
    "#### 6. What information can you provide regarding the various clusters?"
   ]
  },
  {
   "cell_type": "markdown",
   "id": "a3b383eb-e8db-4a42-8ee0-928f40b0eacb",
   "metadata": {},
   "source": []
  },
  {
   "cell_type": "code",
   "execution_count": null,
   "id": "7503fe54-13f9-4e10-a22f-076ad4afb1f3",
   "metadata": {},
   "outputs": [],
   "source": []
  }
 ],
 "metadata": {
  "kernelspec": {
   "display_name": "Python 3 (ipykernel)",
   "language": "python",
   "name": "python3"
  },
  "language_info": {
   "codemirror_mode": {
    "name": "ipython",
    "version": 3
   },
   "file_extension": ".py",
   "mimetype": "text/x-python",
   "name": "python",
   "nbconvert_exporter": "python",
   "pygments_lexer": "ipython3",
   "version": "3.11.5"
  }
 },
 "nbformat": 4,
 "nbformat_minor": 5
}
