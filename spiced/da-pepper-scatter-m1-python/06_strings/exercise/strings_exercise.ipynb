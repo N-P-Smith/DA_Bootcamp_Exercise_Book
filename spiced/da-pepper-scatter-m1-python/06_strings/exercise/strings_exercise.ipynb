{
 "cells": [
  {
   "cell_type": "markdown",
   "metadata": {},
   "source": [
    "## Check your understanding\n",
    "**String Operation Questions**\n",
    "\n",
    "1. When does the distinction between using single and double quotes to build a string matter?\n",
    "2. Fix the following string to be considered valid and not throw an error when run.\n",
    "    * `'They told me not to do this, but I didn't listen.'`\n",
    "3. Create a variable that holds a string of your name.\n",
    "4. Create another variable that holds a string of your best friend's name.\n",
    "5. Now, use string concatenation (e.g. addition) to add 'Hello, ' before your name. \n",
    "6. Given the string 'Hello, Sean', replace each of the letter 'e''s with a 't'.\n",
    "7. Use the `.split()` method on the string 'Hello, Sean' to split it by the comma (`','`).\n",
    "    * What happens if you split by a comma and a space (`', '`)?"
   ]
  },
  {
   "cell_type": "markdown",
   "metadata": {},
   "source": [
    "**Clean Customer Names**"
   ]
  },
  {
   "cell_type": "markdown",
   "metadata": {},
   "source": [
    "Exercise 1: \n",
    "\n",
    "You have given two customer names assigned to two variables `customer_name_1` and `customer_name_2`. As a data analyst you want to work with these customers, but first you have to bring them into a consistent format. Please create two new variables called `customer_name_clean_1` and `customer_name_clean_2` that hold the respective customer name in lower case."
   ]
  },
  {
   "cell_type": "code",
   "execution_count": null,
   "metadata": {},
   "outputs": [],
   "source": [
    "customer_name_1 = 'KUBIKOM Company GmbH'\n",
    "customer_name_2 = 'Hauser Company'"
   ]
  },
  {
   "cell_type": "markdown",
   "metadata": {},
   "source": [
    "Exercise 2: \n",
    "\n",
    "There are two more customer names assigned to two variables `customer_name_3` and `customer_name_4`. They both have the special character `'&'`. Please replace `'&'` with `'and'` and save the result in two new variables called `customer_name_clean_3` and `customer_name_clean_4`."
   ]
  },
  {
   "cell_type": "code",
   "execution_count": null,
   "metadata": {},
   "outputs": [],
   "source": [
    "customer_name_3 = 'Mills & Mills Lda Quinta Properties'\n",
    "customer_name_4 = 'Rosenhof Company & Capital Vermittlung GmbH'"
   ]
  },
  {
   "cell_type": "markdown",
   "metadata": {},
   "source": [
    "Exercise 3: \n",
    "\n",
    "We would like to store the email provider in a seperate column. Please extract the email provider from the email addresses and store it in a new variable called `'email_provider'`."
   ]
  },
  {
   "cell_type": "code",
   "execution_count": null,
   "metadata": {},
   "outputs": [],
   "source": [
    "email_1 = 'jame4685@reallyfast.biz'\n",
    "email_2 = 'colin_huber2882@mailhaven.com'"
   ]
  }
 ],
 "metadata": {
  "kernelspec": {
   "display_name": "Python 3 (ipykernel)",
   "language": "python",
   "name": "python3"
  },
  "language_info": {
   "codemirror_mode": {
    "name": "ipython",
    "version": 3
   },
   "file_extension": ".py",
   "mimetype": "text/x-python",
   "name": "python",
   "nbconvert_exporter": "python",
   "pygments_lexer": "ipython3",
   "version": "3.12.4"
  }
 },
 "nbformat": 4,
 "nbformat_minor": 4
}
