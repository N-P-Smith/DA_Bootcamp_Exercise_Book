{
 "cells": [
  {
   "cell_type": "markdown",
   "id": "ba59bf3e",
   "metadata": {},
   "source": [
    "# COMPARISON OPERATORS"
   ]
  },
  {
   "cell_type": "markdown",
   "id": "bc1a0abe",
   "metadata": {},
   "source": [
    "### EQUAL TO"
   ]
  },
  {
   "cell_type": "code",
   "execution_count": null,
   "id": "f729f862",
   "metadata": {},
   "outputs": [],
   "source": [
    "variable = \"bootcamp\""
   ]
  },
  {
   "cell_type": "code",
   "execution_count": null,
   "id": "43898258",
   "metadata": {},
   "outputs": [],
   "source": [
    "variable"
   ]
  },
  {
   "cell_type": "code",
   "execution_count": null,
   "id": "9772db71",
   "metadata": {},
   "outputs": [],
   "source": [
    "variable == \"spiced\""
   ]
  },
  {
   "cell_type": "code",
   "execution_count": null,
   "id": "bf4da723",
   "metadata": {},
   "outputs": [],
   "source": [
    "a = 3\n",
    "b = 3\n",
    "b == a"
   ]
  },
  {
   "cell_type": "markdown",
   "id": "973d1e26",
   "metadata": {},
   "source": [
    "### NOT EQUAL TO"
   ]
  },
  {
   "cell_type": "code",
   "execution_count": null,
   "id": "1325623e",
   "metadata": {},
   "outputs": [],
   "source": [
    "6*7 != 42"
   ]
  },
  {
   "cell_type": "code",
   "execution_count": null,
   "id": "24b4c5ae",
   "metadata": {},
   "outputs": [],
   "source": [
    "\"A\" != \"a\""
   ]
  },
  {
   "cell_type": "markdown",
   "id": "e70d80b7",
   "metadata": {},
   "source": [
    "### LESS THAN"
   ]
  },
  {
   "cell_type": "code",
   "execution_count": null,
   "id": "008c49e5",
   "metadata": {},
   "outputs": [],
   "source": [
    "# 10 to the power of 10\n",
    "10*10  < 1000 "
   ]
  },
  {
   "cell_type": "code",
   "execution_count": null,
   "id": "8cd5f9ce",
   "metadata": {},
   "outputs": [],
   "source": [
    "trees = 983\n",
    "trees < 1000"
   ]
  },
  {
   "cell_type": "markdown",
   "id": "6f975cca",
   "metadata": {},
   "source": [
    "### GREATER THAN"
   ]
  },
  {
   "cell_type": "code",
   "execution_count": null,
   "id": "6fd3dced",
   "metadata": {},
   "outputs": [],
   "source": [
    "12**4 > 1000"
   ]
  },
  {
   "cell_type": "code",
   "execution_count": null,
   "id": "da7301d8",
   "metadata": {},
   "outputs": [],
   "source": [
    "\"AAAA\" > \"AA\""
   ]
  },
  {
   "cell_type": "markdown",
   "id": "fc221595",
   "metadata": {},
   "source": [
    "### LESS THAN  or EQUAL TO"
   ]
  },
  {
   "cell_type": "code",
   "execution_count": null,
   "id": "295bc124",
   "metadata": {},
   "outputs": [],
   "source": [
    "\"A\" <= \"B\""
   ]
  },
  {
   "cell_type": "code",
   "execution_count": null,
   "id": "ee53d713",
   "metadata": {},
   "outputs": [],
   "source": [
    "value_1 = int(input(\"Please enter 1st value: \"))\n",
    "value_2 = int(input(\"Please enter 2nd value: \"))\n",
    "value_1 <= value_2 "
   ]
  },
  {
   "cell_type": "markdown",
   "id": "139fedcd",
   "metadata": {},
   "source": [
    "### GREATER THAN or EQUAL TO"
   ]
  },
  {
   "cell_type": "code",
   "execution_count": null,
   "id": "4672a1c3",
   "metadata": {},
   "outputs": [],
   "source": [
    "\"Mario\" >= \"MARIO\""
   ]
  },
  {
   "cell_type": "code",
   "execution_count": null,
   "id": "40d3647d",
   "metadata": {},
   "outputs": [],
   "source": [
    "\"Z\" >= \"X\""
   ]
  }
 ],
 "metadata": {
  "hide_input": false,
  "kernelspec": {
   "display_name": "Python 3 (ipykernel)",
   "language": "python",
   "name": "python3"
  },
  "language_info": {
   "codemirror_mode": {
    "name": "ipython",
    "version": 3
   },
   "file_extension": ".py",
   "mimetype": "text/x-python",
   "name": "python",
   "nbconvert_exporter": "python",
   "pygments_lexer": "ipython3",
   "version": "3.9.7"
  }
 },
 "nbformat": 4,
 "nbformat_minor": 5
}
