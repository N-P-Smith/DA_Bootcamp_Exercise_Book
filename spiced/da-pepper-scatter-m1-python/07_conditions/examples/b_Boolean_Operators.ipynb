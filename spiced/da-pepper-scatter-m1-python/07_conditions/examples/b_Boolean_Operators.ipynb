{
 "cells": [
  {
   "cell_type": "markdown",
   "id": "3d3c5676",
   "metadata": {},
   "source": [
    "# Boolean Operators"
   ]
  },
  {
   "cell_type": "code",
   "execution_count": null,
   "id": "835e92a2",
   "metadata": {},
   "outputs": [],
   "source": [
    "weather = \"sunny\"\n",
    "temp_c = 32\n",
    "wind = False"
   ]
  },
  {
   "cell_type": "markdown",
   "id": "02b8e353",
   "metadata": {},
   "source": [
    "### ``and`` - True ONLY IF BOTH VALUES ARE True"
   ]
  },
  {
   "cell_type": "code",
   "execution_count": null,
   "id": "5b73b62f",
   "metadata": {},
   "outputs": [],
   "source": [
    "weather == \"sunny\" and temp_c > 15"
   ]
  },
  {
   "cell_type": "markdown",
   "id": "b5cf38b2",
   "metadata": {},
   "source": [
    "### ``or`` - True ONLY IF AT LEAST ONE VALUE IS True"
   ]
  },
  {
   "cell_type": "code",
   "execution_count": null,
   "id": "2bff1028",
   "metadata": {},
   "outputs": [],
   "source": [
    "weather == \"rain\" or temp_c > 30"
   ]
  },
  {
   "cell_type": "markdown",
   "id": "5ce424da",
   "metadata": {},
   "source": [
    "### ``not`` - CONVERTS True to False (AND THE OTHER WAY AROUND)"
   ]
  },
  {
   "cell_type": "code",
   "execution_count": null,
   "id": "11f48d0c",
   "metadata": {},
   "outputs": [],
   "source": [
    "not True\n",
    "not False\n",
    "\n",
    "not weather == \"sunny\"\n",
    "not weather == \"rain\" or temp_c > 30\n",
    "not (weather == \"cloudy\" and temp_c > 15) or (weather == \"sunny\" and wind != True)"
   ]
  }
 ],
 "metadata": {
  "hide_input": false,
  "kernelspec": {
   "display_name": "Python 3 (ipykernel)",
   "language": "python",
   "name": "python3"
  },
  "language_info": {
   "codemirror_mode": {
    "name": "ipython",
    "version": 3
   },
   "file_extension": ".py",
   "mimetype": "text/x-python",
   "name": "python",
   "nbconvert_exporter": "python",
   "pygments_lexer": "ipython3",
   "version": "3.9.7"
  }
 },
 "nbformat": 4,
 "nbformat_minor": 5
}
