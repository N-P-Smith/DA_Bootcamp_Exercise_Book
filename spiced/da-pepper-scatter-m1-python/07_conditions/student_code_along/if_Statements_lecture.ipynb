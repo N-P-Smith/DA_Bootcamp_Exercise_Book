{
 "cells": [
  {
   "cell_type": "markdown",
   "id": "5d5bc390",
   "metadata": {},
   "source": [
    "# Python `if` Statements"
   ]
  },
  {
   "cell_type": "markdown",
   "id": "4d7f69b3",
   "metadata": {},
   "source": [
    "### 1. Introduction"
   ]
  },
  {
   "cell_type": "markdown",
   "id": "5f17f2cd",
   "metadata": {},
   "source": [
    "#### Importance of `if` Statements in Controlling the Flow of a Program\n",
    "If statements are one of the fundamental concepts in most programming languages. They define the logic of a program by evaluating certain conditions. Based on these conditions, If statements help in making decisions, handling errors, and responding to user inputs."
   ]
  },
  {
   "cell_type": "markdown",
   "id": "7d640246",
   "metadata": {},
   "source": [
    "### 2. Comparison Operators and Conditions"
   ]
  },
  {
   "cell_type": "markdown",
   "id": "afe390b1",
   "metadata": {},
   "source": [
    "**Comparison operators** are used to compare two values. They return a Boolean value (`True` or `False`) based on the comparison. \n",
    "\n",
    "The main comparison operators in Python are:\n",
    "\n",
    "`==` (equal to)  \n",
    "`!=` (not equal to)  \n",
    "`>` (greater than)  \n",
    "`<` (less than)  \n",
    "`>=` (greater than or equal to)  \n",
    "`<=` (less than or equal to)  "
   ]
  },
  {
   "cell_type": "markdown",
   "id": "ab2f0af3",
   "metadata": {},
   "source": [
    "A **condition** is an expression that evaluates to either `True` or `False`. "
   ]
  },
  {
   "cell_type": "markdown",
   "id": "5a645aa3",
   "metadata": {},
   "source": [
    "Examples:"
   ]
  },
  {
   "cell_type": "code",
   "execution_count": 1,
   "id": "215bcf44",
   "metadata": {},
   "outputs": [],
   "source": [
    "# defining variables\n",
    "a = 5\n",
    "b = 10"
   ]
  },
  {
   "cell_type": "code",
   "execution_count": 8,
   "id": "9b709a71-d160-4a71-a86e-38517e81b078",
   "metadata": {},
   "outputs": [
    {
     "data": {
      "text/plain": [
       "int"
      ]
     },
     "execution_count": 8,
     "metadata": {},
     "output_type": "execute_result"
    }
   ],
   "source": [
    "type(a)"
   ]
  },
  {
   "cell_type": "code",
   "execution_count": 2,
   "id": "e6399f3c",
   "metadata": {},
   "outputs": [
    {
     "data": {
      "text/plain": [
       "False"
      ]
     },
     "execution_count": 2,
     "metadata": {},
     "output_type": "execute_result"
    }
   ],
   "source": [
    "a == b"
   ]
  },
  {
   "cell_type": "code",
   "execution_count": 3,
   "id": "f4383fbc",
   "metadata": {},
   "outputs": [
    {
     "data": {
      "text/plain": [
       "True"
      ]
     },
     "execution_count": 3,
     "metadata": {},
     "output_type": "execute_result"
    }
   ],
   "source": [
    "a != b"
   ]
  },
  {
   "cell_type": "code",
   "execution_count": 4,
   "id": "0efe6257",
   "metadata": {},
   "outputs": [
    {
     "data": {
      "text/plain": [
       "False"
      ]
     },
     "execution_count": 4,
     "metadata": {},
     "output_type": "execute_result"
    }
   ],
   "source": [
    "a > b"
   ]
  },
  {
   "cell_type": "code",
   "execution_count": 5,
   "id": "53e97aae",
   "metadata": {},
   "outputs": [
    {
     "data": {
      "text/plain": [
       "True"
      ]
     },
     "execution_count": 5,
     "metadata": {},
     "output_type": "execute_result"
    }
   ],
   "source": [
    "a < b"
   ]
  },
  {
   "cell_type": "code",
   "execution_count": 6,
   "id": "0c6df4a8",
   "metadata": {},
   "outputs": [
    {
     "data": {
      "text/plain": [
       "False"
      ]
     },
     "execution_count": 6,
     "metadata": {},
     "output_type": "execute_result"
    }
   ],
   "source": [
    "a >= b"
   ]
  },
  {
   "cell_type": "code",
   "execution_count": 7,
   "id": "ed61e9a3",
   "metadata": {},
   "outputs": [
    {
     "data": {
      "text/plain": [
       "True"
      ]
     },
     "execution_count": 7,
     "metadata": {},
     "output_type": "execute_result"
    }
   ],
   "source": [
    "a <= b"
   ]
  },
  {
   "cell_type": "markdown",
   "id": "1e06e8d8",
   "metadata": {},
   "source": [
    "`True` and `False` are what we call booleans in logic, and Python refers to them as bool (short for boolean). They are a special variable type with many potential uses, primarily serving as a way to label the truth of a statement. \n",
    "\n",
    "In Python, there are two specifically reserved words for booleans: `True` and `False`. \n",
    "\n",
    "Note that these begin with capital letters."
   ]
  },
  {
   "cell_type": "code",
   "execution_count": 9,
   "id": "b7bccde9",
   "metadata": {
    "ExecuteTime": {
     "end_time": "2020-02-03T11:53:01.372095Z",
     "start_time": "2020-02-03T11:53:01.362664Z"
    }
   },
   "outputs": [
    {
     "data": {
      "text/plain": [
       "bool"
      ]
     },
     "execution_count": 9,
     "metadata": {},
     "output_type": "execute_result"
    }
   ],
   "source": [
    "type(True)"
   ]
  },
  {
   "cell_type": "code",
   "execution_count": 10,
   "id": "dc67ce0a",
   "metadata": {
    "ExecuteTime": {
     "end_time": "2020-02-03T11:53:01.377605Z",
     "start_time": "2020-02-03T11:53:01.373799Z"
    }
   },
   "outputs": [
    {
     "data": {
      "text/plain": [
       "bool"
      ]
     },
     "execution_count": 10,
     "metadata": {},
     "output_type": "execute_result"
    }
   ],
   "source": [
    "type(False)"
   ]
  },
  {
   "cell_type": "markdown",
   "id": "15f236eb",
   "metadata": {},
   "source": [
    "### 3. Syntax of `if` Statements"
   ]
  },
  {
   "cell_type": "markdown",
   "id": "280697c9",
   "metadata": {},
   "source": [
    "The general syntax of an `if` statement in Python is:\n",
    "```python\n",
    "if condition:\n",
    "    if_block_statement\n",
    "```"
   ]
  },
  {
   "cell_type": "code",
   "execution_count": null,
   "id": "1c9116c9-76df-414c-8ddc-7a34d3ae76c2",
   "metadata": {},
   "outputs": [],
   "source": []
  },
  {
   "cell_type": "code",
   "execution_count": 11,
   "id": "da377a06",
   "metadata": {},
   "outputs": [
    {
     "name": "stdout",
     "output_type": "stream",
     "text": [
      "Number is greater than 5\n"
     ]
    }
   ],
   "source": [
    "# Syntax of if statement\n",
    "x = 10\n",
    "\n",
    "if x > 5:\n",
    "    print(\"Number is greater than 5\")"
   ]
  },
  {
   "cell_type": "code",
   "execution_count": 13,
   "id": "b62cd54c-9cd8-42ee-b54a-a31bef7c705f",
   "metadata": {},
   "outputs": [],
   "source": [
    "x = 3\n",
    "\n",
    "if x > 5:\n",
    "    print(\"Number is greater than 5\")"
   ]
  },
  {
   "cell_type": "markdown",
   "id": "376232dc",
   "metadata": {},
   "source": [
    "The syntax of an if statement in detail:\n",
    "\n",
    "- **Logical Test:** The condition to be evaluated. A condition is an expression that evaluates to either `True` or `False`. \n",
    "    * If the condition is `True`, the block of code following the if statement is executed. \n",
    "    * If the condition is `False`, the block of code is skipped.\n",
    "\n",
    "- **Colon:** The colon (**:**) indicates the start of the block of code to execute if the condition is `True`.\n",
    "\n",
    "- **Indentation:** The block of code to execute must be indented. This indentation is crucial in Python as it defines the scope of the if statement.\n",
    "\n"
   ]
  },
  {
   "cell_type": "markdown",
   "id": "133e1b8a",
   "metadata": {},
   "source": [
    "#### Let's add user input\n",
    "Python has a built-in way to accept input from the user of a program."
   ]
  },
  {
   "cell_type": "code",
   "execution_count": 16,
   "id": "f8c76bd4-dc5e-475b-ab86-f2ecaa2eb04d",
   "metadata": {},
   "outputs": [
    {
     "name": "stdin",
     "output_type": "stream",
     "text": [
      "Please enter a number:  11\n"
     ]
    },
    {
     "data": {
      "text/plain": [
       "str"
      ]
     },
     "execution_count": 16,
     "metadata": {},
     "output_type": "execute_result"
    }
   ],
   "source": [
    "x = input('Please enter a number: ')\n",
    "type(x)"
   ]
  },
  {
   "cell_type": "code",
   "execution_count": 15,
   "id": "c3dc6e84",
   "metadata": {},
   "outputs": [
    {
     "name": "stdin",
     "output_type": "stream",
     "text": [
      "Please enter a number:  35\n"
     ]
    },
    {
     "ename": "TypeError",
     "evalue": "'>' not supported between instances of 'str' and 'int'",
     "output_type": "error",
     "traceback": [
      "\u001b[0;31m---------------------------------------------------------------------------\u001b[0m",
      "\u001b[0;31mTypeError\u001b[0m                                 Traceback (most recent call last)",
      "Cell \u001b[0;32mIn[15], line 2\u001b[0m\n\u001b[1;32m      1\u001b[0m x \u001b[38;5;241m=\u001b[39m \u001b[38;5;28minput\u001b[39m(\u001b[38;5;124m'\u001b[39m\u001b[38;5;124mPlease enter a number: \u001b[39m\u001b[38;5;124m'\u001b[39m)\n\u001b[0;32m----> 2\u001b[0m \u001b[38;5;28;01mif\u001b[39;00m x\u001b[38;5;241m>\u001b[39m \u001b[38;5;241m18\u001b[39m:\n\u001b[1;32m      3\u001b[0m     \u001b[38;5;28mprint\u001b[39m(\u001b[38;5;124m\"\u001b[39m\u001b[38;5;124myou are in\u001b[39m\u001b[38;5;124m\"\u001b[39m)\n",
      "\u001b[0;31mTypeError\u001b[0m: '>' not supported between instances of 'str' and 'int'"
     ]
    }
   ],
   "source": [
    "x = input('Please enter a number: ')\n",
    "if x> 18:\n",
    "    print(\"you are in\")"
   ]
  },
  {
   "cell_type": "code",
   "execution_count": 19,
   "id": "01836964-0e0d-4297-a9c4-eb84035d776e",
   "metadata": {},
   "outputs": [
    {
     "name": "stdin",
     "output_type": "stream",
     "text": [
      "Please enter a number:  35\n"
     ]
    },
    {
     "name": "stdout",
     "output_type": "stream",
     "text": [
      "you are in\n"
     ]
    }
   ],
   "source": [
    "#input returns to str, we need to use int() function to change the data type\n",
    "x = int(input('Please enter a number: '))\n",
    "if x> 18:\n",
    "    print(\"you are in\")"
   ]
  },
  {
   "cell_type": "code",
   "execution_count": null,
   "id": "cc6fc24a-78f5-4a7e-a148-d02bd12bf9f3",
   "metadata": {},
   "outputs": [],
   "source": []
  },
  {
   "cell_type": "code",
   "execution_count": null,
   "id": "41a48369-c490-410f-a990-dbf17d9ab8ef",
   "metadata": {},
   "outputs": [],
   "source": []
  },
  {
   "cell_type": "code",
   "execution_count": null,
   "id": "6b5f75d6-3f8d-4fcb-91a7-f0b70680fd85",
   "metadata": {},
   "outputs": [],
   "source": []
  },
  {
   "cell_type": "code",
   "execution_count": null,
   "id": "666019e2-2caa-4323-9525-911fb1831e2b",
   "metadata": {},
   "outputs": [],
   "source": []
  },
  {
   "cell_type": "code",
   "execution_count": null,
   "id": "221c7902-35e2-4355-93e3-c55aa83ef4f0",
   "metadata": {},
   "outputs": [],
   "source": []
  },
  {
   "cell_type": "code",
   "execution_count": null,
   "id": "ad5a53cb-9f5a-4046-8c52-c1bdcc493eb1",
   "metadata": {},
   "outputs": [],
   "source": []
  },
  {
   "cell_type": "markdown",
   "id": "1c4a3aae",
   "metadata": {},
   "source": [
    "**Note:** the `input()` function interprets the input as a string. If we want to treat the input as a number, we need to convert it using `int()` or `float()`, depending on the type of number we need."
   ]
  },
  {
   "cell_type": "code",
   "execution_count": 17,
   "id": "e5f5703f",
   "metadata": {},
   "outputs": [
    {
     "data": {
      "text/plain": [
       "str"
      ]
     },
     "execution_count": 17,
     "metadata": {},
     "output_type": "execute_result"
    }
   ],
   "source": [
    "type(x)"
   ]
  },
  {
   "cell_type": "code",
   "execution_count": 20,
   "id": "e276fd18",
   "metadata": {
    "scrolled": true
   },
   "outputs": [
    {
     "name": "stdin",
     "output_type": "stream",
     "text": [
      "Please enter a number:  hh\n"
     ]
    },
    {
     "ename": "ValueError",
     "evalue": "invalid literal for int() with base 10: 'hh'",
     "output_type": "error",
     "traceback": [
      "\u001b[0;31m---------------------------------------------------------------------------\u001b[0m",
      "\u001b[0;31mValueError\u001b[0m                                Traceback (most recent call last)",
      "Cell \u001b[0;32mIn[20], line 1\u001b[0m\n\u001b[0;32m----> 1\u001b[0m x \u001b[38;5;241m=\u001b[39m \u001b[38;5;28mint\u001b[39m(\u001b[38;5;28minput\u001b[39m(\u001b[38;5;124m'\u001b[39m\u001b[38;5;124mPlease enter a number: \u001b[39m\u001b[38;5;124m'\u001b[39m))\n\u001b[1;32m      2\u001b[0m x \u001b[38;5;241m>\u001b[39m \u001b[38;5;241m4\u001b[39m\n",
      "\u001b[0;31mValueError\u001b[0m: invalid literal for int() with base 10: 'hh'"
     ]
    }
   ],
   "source": [
    "x = int(input('Please enter a number: '))\n",
    "x > 4"
   ]
  },
  {
   "cell_type": "code",
   "execution_count": 21,
   "id": "0be387d7-a797-43b2-a684-d98232a09874",
   "metadata": {},
   "outputs": [
    {
     "name": "stdin",
     "output_type": "stream",
     "text": [
      "Please enter a number:  22\n"
     ]
    },
    {
     "data": {
      "text/plain": [
       "True"
      ]
     },
     "execution_count": 21,
     "metadata": {},
     "output_type": "execute_result"
    }
   ],
   "source": [
    "x = float(input('Please enter a number: '))\n",
    "x > 4"
   ]
  },
  {
   "cell_type": "code",
   "execution_count": 22,
   "id": "06d8f523-7dde-4e76-b4f3-a0428a005850",
   "metadata": {},
   "outputs": [
    {
     "data": {
      "text/plain": [
       "22.0"
      ]
     },
     "execution_count": 22,
     "metadata": {},
     "output_type": "execute_result"
    }
   ],
   "source": [
    "x"
   ]
  },
  {
   "cell_type": "markdown",
   "id": "870169c9-1133-48c4-99a3-d498859ab566",
   "metadata": {},
   "source": [
    "### changing data type functions\n",
    "- float()\n",
    "- int()\n",
    "- str()"
   ]
  },
  {
   "cell_type": "code",
   "execution_count": null,
   "id": "8b98dff6-e594-4185-ab58-809a51db6ee5",
   "metadata": {},
   "outputs": [],
   "source": []
  },
  {
   "cell_type": "code",
   "execution_count": 25,
   "id": "77e1df5b",
   "metadata": {},
   "outputs": [
    {
     "name": "stdin",
     "output_type": "stream",
     "text": [
      "Please enter a number:  10\n"
     ]
    },
    {
     "name": "stdout",
     "output_type": "stream",
     "text": [
      "20\n"
     ]
    }
   ],
   "source": [
    "# user entry, casted as integer\n",
    "x = int(input('Please enter a number: '))\n",
    "\n",
    "# Add 10 to x when x is greater than 5 \n",
    "if x > 5:\n",
    "    x += 10 # x=x+10\n",
    "print(x)"
   ]
  },
  {
   "cell_type": "markdown",
   "id": "094d9678",
   "metadata": {},
   "source": [
    "### 4. The if Statement Chain `if, elif, else`"
   ]
  },
  {
   "cell_type": "markdown",
   "id": "b8a33a43",
   "metadata": {},
   "source": [
    "What if we wanted to check more than one thing? What if we have more conditions?\n",
    "\n",
    "In addition to the `if`, Python provides us with two other statements to build out a logical chain of conditions, the `elif` and the `else`."
   ]
  },
  {
   "cell_type": "code",
   "execution_count": 29,
   "id": "234c3a7f",
   "metadata": {},
   "outputs": [
    {
     "name": "stdout",
     "output_type": "stream",
     "text": [
      "Grade: B\n",
      "inside\n"
     ]
    }
   ],
   "source": [
    "# if, elif, else chain\n",
    "\n",
    "score = 85\n",
    "\n",
    "if score >= 90:\n",
    "    print(\"Grade: A\")\n",
    "elif score >= 80:\n",
    "    print(\"Grade: B\")\n",
    "    print(\"inside\")\n",
    "elif score >= 70:\n",
    "    print(\"Grade: C\")\n",
    "else:\n",
    "    print(\"Grade: F\")\n",
    "    print(\"outside\")"
   ]
  },
  {
   "cell_type": "markdown",
   "id": "5406e275",
   "metadata": {},
   "source": [
    "**Explanation:**\n",
    "\n",
    "- The **if statement** tests a condition and executes the following block of code if the condition is `True`.  \n",
    "- The **elif (short for \"else if\") statement** tests another condition if the previous `if` or `elif` condition was `False`.  \n",
    "- The **else statement** executes a block of code if none of the previous conditions were `True`.  The `else` statement is optional. If there's no `else` statement, the program simply continues executing the next lines of code after the `if` block.\n",
    "\n",
    "In an `if, elif, else` structure, the program checks each condition in order. Once it finds a condition that is true, it executes the corresponding block of code and then exits the entire structure. This means it won’t check any further conditions. "
   ]
  },
  {
   "cell_type": "markdown",
   "id": "8ccce851",
   "metadata": {},
   "source": [
    "<img src=if_flowchart.png width=400>"
   ]
  },
  {
   "cell_type": "markdown",
   "id": "ee4501ae",
   "metadata": {},
   "source": [
    "### 5. Boolean Operators"
   ]
  },
  {
   "cell_type": "markdown",
   "id": "a48e4383",
   "metadata": {},
   "source": [
    "Boolean operators are used to combine multiple conditions. \n",
    "\n",
    "The main Boolean operators in Python are:  \n",
    "- `and`: Returns True if both conditions are True  \n",
    "- `or`: Returns True if at least one condition is True  \n",
    "- `not`: Returns True if the condition is False  \n",
    "\n",
    "Examples:"
   ]
  },
  {
   "cell_type": "code",
   "execution_count": 30,
   "id": "bd3b8406",
   "metadata": {},
   "outputs": [],
   "source": [
    "# Boolean Operators: or\n",
    "x = 7\n",
    "if x > 10 or x < 5:\n",
    "    print(x)"
   ]
  },
  {
   "cell_type": "code",
   "execution_count": 31,
   "id": "4f44011e",
   "metadata": {},
   "outputs": [],
   "source": [
    "# Boolean Operators: and & not\n",
    "x = 6\n",
    "if not (x <= 10 and x >= 5):\n",
    "    print(x)"
   ]
  },
  {
   "cell_type": "markdown",
   "id": "5849a4fd",
   "metadata": {},
   "source": [
    "You can also combine several conditions with boolean operators:"
   ]
  },
  {
   "cell_type": "code",
   "execution_count": 32,
   "id": "a66fc7d4",
   "metadata": {},
   "outputs": [
    {
     "name": "stdout",
     "output_type": "stream",
     "text": [
      "You are either too young or in the wrong country!\n"
     ]
    }
   ],
   "source": [
    "country = \"US\"\n",
    "age = 18\n",
    "\n",
    "if (country == \"US\" and age>=21) or (country != \"US\" and age >= 18):\n",
    "    print(\"This person can legally drink alcohol!\")\n",
    "else:\n",
    "    print(\"You are either too young or in the wrong country!\")"
   ]
  },
  {
   "cell_type": "markdown",
   "id": "d0ad1239",
   "metadata": {},
   "source": [
    "### 6. Membership Operator `in`"
   ]
  },
  {
   "cell_type": "markdown",
   "id": "197b1a7d",
   "metadata": {},
   "source": [
    "The `in` operator in Python is called a membership operator. It is used to check if a value exists within a sequence (such as a string or list).  \n",
    "The output of this check is a boolean value (**`True`** or **`False`**)."
   ]
  },
  {
   "cell_type": "code",
   "execution_count": 33,
   "id": "49799ca4",
   "metadata": {},
   "outputs": [
    {
     "data": {
      "text/plain": [
       "False"
      ]
     },
     "execution_count": 33,
     "metadata": {},
     "output_type": "execute_result"
    }
   ],
   "source": [
    "# membership test returns True or False\n",
    "\n",
    "'I' in 'Team'"
   ]
  },
  {
   "cell_type": "code",
   "execution_count": 34,
   "id": "5f3d2d68-bd76-45be-a84c-8b3c656e92fe",
   "metadata": {},
   "outputs": [
    {
     "data": {
      "text/plain": [
       "True"
      ]
     },
     "execution_count": 34,
     "metadata": {},
     "output_type": "execute_result"
    }
   ],
   "source": [
    "'a' in 'Team'"
   ]
  },
  {
   "cell_type": "code",
   "execution_count": 35,
   "id": "9412b760",
   "metadata": {},
   "outputs": [
    {
     "name": "stdout",
     "output_type": "stream",
     "text": [
      "\"Boot\" is a member of \"Data Analytics Bootcamp\".\n"
     ]
    }
   ],
   "source": [
    "t = \"Data Analytics Bootcamp\"\n",
    "w = \"Boot\"\n",
    "\n",
    "if w in t:\n",
    "    print(f'\"{w}\" is a member of \"{t}\".')\n",
    "# f string"
   ]
  },
  {
   "cell_type": "markdown",
   "id": "5e97c7ed",
   "metadata": {},
   "source": [
    "`not in` is a negation of `in`"
   ]
  },
  {
   "cell_type": "code",
   "execution_count": 36,
   "id": "915776f4",
   "metadata": {},
   "outputs": [
    {
     "name": "stdout",
     "output_type": "stream",
     "text": [
      "\"Code\" is not in \"Data Analytics Bootcamp\".\n"
     ]
    }
   ],
   "source": [
    "t = \"Data Analytics Bootcamp\"\n",
    "w = \"Code\"\n",
    "\n",
    "if w not in t:\n",
    "    print(f'\"{w}\" is not in \"{t}\".')"
   ]
  },
  {
   "cell_type": "code",
   "execution_count": 41,
   "id": "75df879d-066e-4720-a3a3-37fcde28c4b6",
   "metadata": {},
   "outputs": [
    {
     "ename": "TypeError",
     "evalue": "'in <string>' requires string as left operand, not int",
     "output_type": "error",
     "traceback": [
      "\u001b[0;31m---------------------------------------------------------------------------\u001b[0m",
      "\u001b[0;31mTypeError\u001b[0m                                 Traceback (most recent call last)",
      "Cell \u001b[0;32mIn[41], line 4\u001b[0m\n\u001b[1;32m      1\u001b[0m t \u001b[38;5;241m=\u001b[39m \u001b[38;5;124m\"\u001b[39m\u001b[38;5;124mData Analytics Bootcamp\u001b[39m\u001b[38;5;124m\"\u001b[39m\n\u001b[1;32m      2\u001b[0m n \u001b[38;5;241m=\u001b[39m \u001b[38;5;241m3\u001b[39m\n\u001b[0;32m----> 4\u001b[0m \u001b[38;5;28;01mif\u001b[39;00m n \u001b[38;5;129;01mnot\u001b[39;00m \u001b[38;5;129;01min\u001b[39;00m t:\n\u001b[1;32m      5\u001b[0m     \u001b[38;5;28mprint\u001b[39m(\u001b[38;5;124mf\u001b[39m\u001b[38;5;124m'\u001b[39m\u001b[38;5;124m\"\u001b[39m\u001b[38;5;132;01m{\u001b[39;00mn\u001b[38;5;132;01m}\u001b[39;00m\u001b[38;5;124m\"\u001b[39m\u001b[38;5;124m is not in \u001b[39m\u001b[38;5;124m\"\u001b[39m\u001b[38;5;132;01m{\u001b[39;00mt\u001b[38;5;132;01m}\u001b[39;00m\u001b[38;5;124m\"\u001b[39m\u001b[38;5;124m.\u001b[39m\u001b[38;5;124m'\u001b[39m)\n",
      "\u001b[0;31mTypeError\u001b[0m: 'in <string>' requires string as left operand, not int"
     ]
    }
   ],
   "source": [
    "t = \"Data Analytics Bootcamp\"\n",
    "n = 3\n",
    "\n",
    "if n not in t:\n",
    "    print(f'\"{n}\" is not in \"{t}\".')"
   ]
  },
  {
   "cell_type": "markdown",
   "id": "f54b878b",
   "metadata": {},
   "source": [
    "### 7. Nested `if` Statements"
   ]
  },
  {
   "cell_type": "markdown",
   "id": "b64bf69e",
   "metadata": {},
   "source": [
    "Nested if statements are `if` statements placed inside another `if` statement. They allow for more complex decision-making by testing multiple conditions in a hierarchical manner."
   ]
  },
  {
   "cell_type": "code",
   "execution_count": 37,
   "id": "23cd3783",
   "metadata": {},
   "outputs": [
    {
     "name": "stdout",
     "output_type": "stream",
     "text": [
      "Number is between 5 and 15\n"
     ]
    }
   ],
   "source": [
    "# Nested if statements\n",
    "num = 10\n",
    "if num > 5:\n",
    "    if num < 15:\n",
    "        print(\"Number is between 5 and 15\")"
   ]
  },
  {
   "cell_type": "code",
   "execution_count": 42,
   "id": "94a9dfab-9e2a-42a1-bc76-946b8b7c3c6b",
   "metadata": {},
   "outputs": [
    {
     "name": "stdin",
     "output_type": "stream",
     "text": [
      " give me a number 3\n"
     ]
    },
    {
     "name": "stdout",
     "output_type": "stream",
     "text": [
      "condition is not fullfilled\n",
      "done\n"
     ]
    }
   ],
   "source": [
    "# Nested if statements\n",
    "num = int(input( \" give me a number\"))\n",
    "if num > 5:\n",
    "    if num < 15:\n",
    "        print(\"Number is between 5 and 15\")\n",
    "else:\n",
    "    print(\"condition is not fullfilled\")\n",
    "print(\"done\")"
   ]
  },
  {
   "cell_type": "markdown",
   "id": "db745e9d",
   "metadata": {},
   "source": [
    "### 8. State Variables"
   ]
  },
  {
   "cell_type": "markdown",
   "id": "d0f0cf7d",
   "metadata": {},
   "source": [
    "Explanation of state variables: State variables are variables that store the state of an object or system. They are used to keep track of information that can change over time and affect the flow of the program.   "
   ]
  },
  {
   "cell_type": "code",
   "execution_count": 43,
   "id": "4f9d7ddb",
   "metadata": {},
   "outputs": [
    {
     "name": "stdout",
     "output_type": "stream",
     "text": [
      "Welcome back!\n"
     ]
    }
   ],
   "source": [
    "# State Variables\n",
    "is_logged_in = True\n",
    "\n",
    "if is_logged_in:\n",
    "    print(\"Welcome back!\")\n",
    "else:\n",
    "    print(\"Please log in.\")"
   ]
  },
  {
   "cell_type": "markdown",
   "id": "d91a53b3",
   "metadata": {},
   "source": [
    "### 8. Conclusion and Q&A"
   ]
  },
  {
   "cell_type": "markdown",
   "id": "802aca78",
   "metadata": {},
   "source": [
    "Recap of the key points covered in the lecture.  \n",
    "Open the floor for questions and discussion."
   ]
  },
  {
   "cell_type": "code",
   "execution_count": 44,
   "id": "c779af03-fffe-4204-af21-f090fe174d37",
   "metadata": {},
   "outputs": [
    {
     "name": "stdin",
     "output_type": "stream",
     "text": [
      "please enter your age:  13\n"
     ]
    },
    {
     "name": "stdout",
     "output_type": "stream",
     "text": [
      "13\n",
      "number!\n"
     ]
    }
   ],
   "source": [
    "x= input(\"please enter your age: \")\n",
    "print(x)\n",
    "if type(x)==int and x>18:\n",
    "    print(\"welcome\")\n",
    "if type(x)==str:\n",
    "    print(\"number!\")"
   ]
  },
  {
   "cell_type": "code",
   "execution_count": null,
   "id": "028d82bf-171a-46f8-88a2-17e2d5444a58",
   "metadata": {},
   "outputs": [],
   "source": []
  }
 ],
 "metadata": {
  "kernelspec": {
   "display_name": "Python 3 (ipykernel)",
   "language": "python",
   "name": "python3"
  },
  "language_info": {
   "codemirror_mode": {
    "name": "ipython",
    "version": 3
   },
   "file_extension": ".py",
   "mimetype": "text/x-python",
   "name": "python",
   "nbconvert_exporter": "python",
   "pygments_lexer": "ipython3",
   "version": "3.11.5"
  }
 },
 "nbformat": 4,
 "nbformat_minor": 5
}
