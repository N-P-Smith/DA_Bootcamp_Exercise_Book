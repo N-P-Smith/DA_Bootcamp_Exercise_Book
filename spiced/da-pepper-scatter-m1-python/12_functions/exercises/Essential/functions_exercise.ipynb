{
 "cells": [
  {
   "cell_type": "markdown",
   "metadata": {},
   "source": [
    "# Instructions \n",
    "\n",
    "For these exercises you'll be working through solving more problems, but this time by building functions from scratch. \n",
    "\n",
    "\n",
    "For each problem, you should build a function into your solution. We will build each function into it's own cell, and then call it with some arguments in the next cell right after you define it. \n",
    "\n",
    "\n",
    "For example, pretend all of the following is the solution to one of the problems, written in a function first and then called (for testing purposes) below. \n",
    "\n",
    "```python \n",
    "def my_func(param1, param2, param3): \n",
    "    # Function code to solve the problem\n",
    "\n",
    "print(my_func(param11, param21, param31))\n",
    "print(my_func(param12, param22, param32))\n",
    "print(my_func(param13, param23, param33))\n",
    "print(my_func(param14, param24, param34))\n",
    "```\n",
    "\n",
    "Note above that `my_func` is called five times after it's definition. \n",
    "\n",
    "These tests should check that `my_func` works correctly with different sets of arguments. You should aim to test your functions at least 5 times after you write them. It's good to try to think of tests that your function might not solve correctly (we call these **edge cases**). Not only does thinking like this help you solve the problem, but it also gives you more faith in your solution.\n"
   ]
  },
  {
   "cell_type": "markdown",
   "metadata": {},
   "source": [
    "## Check your understanding"
   ]
  },
  {
   "cell_type": "markdown",
   "metadata": {},
   "source": []
  },
  {
   "cell_type": "markdown",
   "metadata": {},
   "source": [
    "### Task 1"
   ]
  },
  {
   "cell_type": "markdown",
   "metadata": {},
   "source": [
    "\n",
    "**Business Context:**\n",
    "> You work in a realestate agency. a common request your team receives is to calculate the bond for a new rental contract.   \n",
    "> In the hottest realestate market Berlin the bond is 4 times the value of the montlhy rent. \n",
    "> Everwhere else in germany the bond is 3 times the value of the monthly rent.\n",
    "\n",
    "**Your Task:**\n",
    "> Write a python function that calculcates the bond based on the monthly rent and the city the person lives in."
   ]
  },
  {
   "cell_type": "code",
   "execution_count": 20,
   "metadata": {},
   "outputs": [],
   "source": [
    "def rental_bond(monthly_rent):\n",
    "    return monthly_rent * 3\n",
    "\n",
    "def berlin_bond(monthly_rent):\n",
    "    return monthly_rent * 4"
   ]
  },
  {
   "cell_type": "code",
   "execution_count": 25,
   "metadata": {},
   "outputs": [
    {
     "name": "stdout",
     "output_type": "stream",
     "text": [
      "Bond $ 1600\n"
     ]
    }
   ],
   "source": [
    "# Test your function with\n",
    "monthly_rent = int(input(\"How much is rent?\"))\n",
    "city = input(\"In which City\")\n",
    "\n",
    "if city == \"Berlin\":\n",
    "    print(\"Bond $\",berlin_bond(monthly_rent))\n",
    "else:\n",
    "    print(\"Bond $\",rental_bond(monthly_rent))\n",
    "\n",
    "\n"
   ]
  },
  {
   "cell_type": "markdown",
   "metadata": {},
   "source": [
    "### Task 2\n",
    "\n",
    "For the first part of the assignment, we're going to get some practice taking something we've already written and translating it to a function. In continuation of prior assignments, \n",
    "\n",
    "1. Write a function that return the given input number multiplied by 4.  \n",
    "2. Write a function that determines whether or not an inputted number is bigger than 5. Based on what your input is, the function prints either a sentence like \"Input number X is bigger than 5\" or \"..smaller than 5\".\n",
    "3. Write a function that determines whether or not an inputted number is between 10 and 100 or smaller or bigger, and then prints the answer depending on what your script finds."
   ]
  },
  {
   "cell_type": "code",
   "execution_count": 34,
   "metadata": {},
   "outputs": [],
   "source": [
    "def times_four(x):\n",
    "    x = x * 4\n",
    "    return x"
   ]
  },
  {
   "cell_type": "code",
   "execution_count": 36,
   "metadata": {},
   "outputs": [
    {
     "name": "stdout",
     "output_type": "stream",
     "text": [
      "Input number is 5.\n",
      "20\n"
     ]
    }
   ],
   "source": [
    "x = int(input(\"Pick a number.\"))\n",
    "\n",
    "if x < 5:\n",
    "    print(\"Input number\",x,\"is smaller than 5.\" )\n",
    "    print(times_four(x))\n",
    "elif x > 5:\n",
    "    print(\"Input number\",x,\"is larger than 5.\")\n",
    "    print(times_four(x))\n",
    "else:\n",
    "    print(\"Input number is 5.\")\n",
    "    print(times_four(x))\n",
    "\n",
    "\n"
   ]
  },
  {
   "cell_type": "code",
   "execution_count": 40,
   "metadata": {},
   "outputs": [],
   "source": [
    "def number(x):\n",
    "    if x < 10:\n",
    "        print(\"Input number\",x,\"is smaller than 10.\" )\n",
    "    elif x > 100:\n",
    "        print(\"Input number\",x,\"is larger than 100.\")\n",
    "    else:\n",
    "        print(\"Input number is between 10 and 100.\")"
   ]
  },
  {
   "cell_type": "code",
   "execution_count": 44,
   "metadata": {},
   "outputs": [
    {
     "name": "stdout",
     "output_type": "stream",
     "text": [
      "Input number 786 is larger than 100.\n"
     ]
    }
   ],
   "source": [
    "number(int(input(\"Pick a number.\")))\n"
   ]
  },
  {
   "cell_type": "markdown",
   "metadata": {},
   "source": [
    "### Task 3\n",
    "\n",
    "Put the if-else block below into a function. Give the function a reasonable name and think about what input parameters make sense."
   ]
  },
  {
   "cell_type": "code",
   "execution_count": 37,
   "metadata": {},
   "outputs": [
    {
     "name": "stdout",
     "output_type": "stream",
     "text": [
      "Hello, Fish\n"
     ]
    }
   ],
   "source": [
    "name = \"Fish\"\n",
    "\n",
    "if name == \"Fish\":  \n",
    "    print (\"Hello,\", name)\n",
    "else:  \n",
    "    print (\"Oh, well, what is your name then?\")"
   ]
  },
  {
   "cell_type": "code",
   "execution_count": 68,
   "metadata": {},
   "outputs": [],
   "source": [
    "# please write your solution here\n",
    "def greeting(x):\n",
    "    if x == \"Yes\" or x == \"yes\":\n",
    "        return \"Hello, Fish!\"\n",
    "    else:\n",
    "        return \"Oh...  Well, what's your name, then?\"\n"
   ]
  },
  {
   "cell_type": "code",
   "execution_count": 70,
   "metadata": {},
   "outputs": [
    {
     "data": {
      "text/plain": [
       "'Hello, Fish!'"
      ]
     },
     "execution_count": 70,
     "metadata": {},
     "output_type": "execute_result"
    }
   ],
   "source": [
    "greeting(input(\"Is your name 'Fish?'\"))"
   ]
  },
  {
   "cell_type": "markdown",
   "metadata": {},
   "source": [
    "### Task 4"
   ]
  },
  {
   "cell_type": "markdown",
   "metadata": {},
   "source": [
    "Revisit Task 3 from `list_exercises`. Rewrite your solution with the help of functions! \n",
    "Ask yourself:\n",
    "- How can you make your code more readable with functions?\n",
    "- How can you structure your solution with functions?\n",
    "- what are input and output of your functions?"
   ]
  },
  {
   "cell_type": "code",
   "execution_count": null,
   "metadata": {},
   "outputs": [],
   "source": []
  },
  {
   "cell_type": "markdown",
   "metadata": {},
   "source": []
  }
 ],
 "metadata": {
  "kernelspec": {
   "display_name": "nf_base",
   "language": "python",
   "name": "python3"
  },
  "language_info": {
   "codemirror_mode": {
    "name": "ipython",
    "version": 3
   },
   "file_extension": ".py",
   "mimetype": "text/x-python",
   "name": "python",
   "nbconvert_exporter": "python",
   "pygments_lexer": "ipython3",
   "version": "3.12.4"
  }
 },
 "nbformat": 4,
 "nbformat_minor": 2
}
