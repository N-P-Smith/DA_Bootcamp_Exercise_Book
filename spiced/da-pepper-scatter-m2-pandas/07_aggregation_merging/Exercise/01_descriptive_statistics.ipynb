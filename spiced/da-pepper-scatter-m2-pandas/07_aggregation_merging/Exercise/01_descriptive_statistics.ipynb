{
 "cells": [
  {
   "cell_type": "markdown",
   "id": "e9d66dbe-7b77-4bf3-9f7f-e2dba8ecccee",
   "metadata": {},
   "source": [
    "### Q1.\n",
    "Read the life expectancy clean dataset into your notebook \n",
    "- If you want to use country as the index you may use the `index_col` parameter while reading it from the file:\n",
    "\n",
    "```\n",
    "life_df = pd.read_csv('life_clean.csv', index_col=0)\n",
    "```\n"
   ]
  },
  {
   "cell_type": "code",
   "execution_count": null,
   "id": "abacdc91-9a73-494b-9e90-648c99e2ff7c",
   "metadata": {},
   "outputs": [],
   "source": []
  },
  {
   "cell_type": "markdown",
   "id": "38ff51a1-4759-4bfc-ba10-828bc68de8a5",
   "metadata": {},
   "source": [
    "### Q2. \n",
    "calculate the mean life expectancy\n"
   ]
  },
  {
   "cell_type": "code",
   "execution_count": null,
   "id": "058201a0-e57d-4139-b44d-bffef81632fb",
   "metadata": {},
   "outputs": [],
   "source": []
  },
  {
   "cell_type": "markdown",
   "id": "1bd1d141-0994-4910-9475-da7a42a20ca2",
   "metadata": {},
   "source": [
    "### Q3.\n",
    "calculate the mean life expectancy for the year 2000"
   ]
  },
  {
   "cell_type": "code",
   "execution_count": null,
   "id": "ed5ad4af-6982-483f-ab79-2b2131321763",
   "metadata": {},
   "outputs": [],
   "source": []
  },
  {
   "cell_type": "code",
   "execution_count": null,
   "id": "40cfb8de-931b-4a9b-9656-266bbec3c419",
   "metadata": {},
   "outputs": [],
   "source": []
  },
  {
   "cell_type": "markdown",
   "id": "a5706ea7-d9e3-4051-a517-9c3884bc467d",
   "metadata": {},
   "source": [
    "### Q4. \n",
    "calculate the median for 1995"
   ]
  },
  {
   "cell_type": "code",
   "execution_count": null,
   "id": "dcbaeb3d-59ad-4c99-a001-8495a2183061",
   "metadata": {},
   "outputs": [],
   "source": []
  },
  {
   "cell_type": "markdown",
   "id": "ec71c611-a953-4160-a3b7-1f287ac05bf4",
   "metadata": {},
   "source": [
    "### Q5.\n",
    "calculate the standard deviation"
   ]
  },
  {
   "cell_type": "code",
   "execution_count": null,
   "id": "c0b08615-75c0-4783-a90a-5339f50d0793",
   "metadata": {},
   "outputs": [],
   "source": []
  },
  {
   "cell_type": "markdown",
   "id": "83e72f3b-85e8-490d-b517-957f945e478f",
   "metadata": {},
   "source": [
    "### Q6.\n",
    "find the highest life expectancy"
   ]
  },
  {
   "cell_type": "code",
   "execution_count": null,
   "id": "69673141-ca23-43d8-aed2-1ded94d68d1e",
   "metadata": {},
   "outputs": [],
   "source": []
  },
  {
   "cell_type": "markdown",
   "id": "d1fed7ba-b1f9-464f-b7bd-b7b9484f55cd",
   "metadata": {},
   "source": [
    "### Q7.\n",
    "find the country and year for the highest life expectancy"
   ]
  },
  {
   "cell_type": "code",
   "execution_count": null,
   "id": "7ed4b74a-0577-4f6a-b417-826e687cdab3",
   "metadata": {},
   "outputs": [],
   "source": []
  },
  {
   "cell_type": "markdown",
   "id": "3f5674e0-4b76-4fbc-89e8-dbca72e282e6",
   "metadata": {},
   "source": [
    "### Q8.\n",
    "find the lowest life expectancy"
   ]
  },
  {
   "cell_type": "code",
   "execution_count": null,
   "id": "714366f7-1e27-4209-acaa-260afabc8175",
   "metadata": {},
   "outputs": [],
   "source": []
  },
  {
   "cell_type": "markdown",
   "id": "e659e9c1-28fd-4b23-9e28-86a196b43053",
   "metadata": {},
   "source": [
    "### Q9. \n",
    "find the country and year was the lowest life expectancy"
   ]
  },
  {
   "cell_type": "code",
   "execution_count": null,
   "id": "1768a06e-88fb-4c9c-bb71-292103868539",
   "metadata": {},
   "outputs": [],
   "source": []
  },
  {
   "cell_type": "markdown",
   "id": "7452f62d-a0a4-4998-b9a9-1890279531f5",
   "metadata": {},
   "source": [
    "### Q10. \n",
    "find the 90% quantile of the life expectancy"
   ]
  },
  {
   "cell_type": "code",
   "execution_count": null,
   "id": "0ab5ad51-d0d9-491c-86ae-8dc6f9dd8806",
   "metadata": {},
   "outputs": [],
   "source": []
  },
  {
   "cell_type": "markdown",
   "id": "2feda035-f310-47dd-a1d1-02738b5add84",
   "metadata": {},
   "source": [
    "### Q11.\n",
    "calculate min, max, mean and possibly other descriptors with a single line"
   ]
  },
  {
   "cell_type": "code",
   "execution_count": null,
   "id": "13517268-9c30-459e-a837-430d26b19c6f",
   "metadata": {},
   "outputs": [],
   "source": []
  }
 ],
 "metadata": {
  "kernelspec": {
   "display_name": "Python 3 (ipykernel)",
   "language": "python",
   "name": "python3"
  },
  "language_info": {
   "codemirror_mode": {
    "name": "ipython",
    "version": 3
   },
   "file_extension": ".py",
   "mimetype": "text/x-python",
   "name": "python",
   "nbconvert_exporter": "python",
   "pygments_lexer": "ipython3",
   "version": "3.11.5"
  }
 },
 "nbformat": 4,
 "nbformat_minor": 5
}
